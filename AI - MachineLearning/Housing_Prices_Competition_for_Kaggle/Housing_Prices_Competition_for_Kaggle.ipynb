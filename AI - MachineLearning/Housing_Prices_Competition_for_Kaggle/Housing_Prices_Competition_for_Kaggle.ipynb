{
  "nbformat": 4,
  "nbformat_minor": 0,
  "metadata": {
    "colab": {
      "name": "Housing Prices Competition for Kaggle.ipynb",
      "provenance": [],
      "collapsed_sections": [
        "LfywDoNzMvwM",
        "7PK677T5N0_c",
        "rLwsKNkbPzf0",
        "7wytbuo5kaOC",
        "8xz4gtQekjga",
        "SByYck5SHcE9",
        "0oRnsJdHIduy",
        "7SsX62a9KbG-",
        "iY1qyP8rIwSo",
        "AmRwW6hnIwSu",
        "umn-HPpqIwSu",
        "4UvS6zj1K7_t",
        "e1iNlgaEMB3B",
        "CO170XPmNbPN",
        "JFVNfgvwL69_",
        "ty1CD6-bDaGN",
        "DNHTo8NrG3bI",
        "yAySTm0EIl8m",
        "iknb42_TmEku",
        "BKvI-BoX5-ey",
        "-JFbm1y26HfX",
        "Bxn2vQxe7F4g",
        "crB233of7lep",
        "cidqh0xT8IYz",
        "Eqw2TfwF_jhD",
        "p2l5ygcFD3Kk",
        "EAo1eSOtEB-7",
        "Dvl5wU7aEUtm",
        "1xTU1WCUE936",
        "28sEp7NtKHBG",
        "IA6_Zs_XLOw9",
        "ZMwWvHWiLddo",
        "MLaaOYC3Ll2Z",
        "ZaW5pTWqLrdH",
        "z37YPZ-Lt9kq"
      ]
    },
    "kernelspec": {
      "name": "python3",
      "display_name": "Python 3"
    },
    "language_info": {
      "name": "python"
    }
  },
  "cells": [
    {
      "cell_type": "markdown",
      "source": [
        "#Importing Libraries"
      ],
      "metadata": {
        "id": "LfywDoNzMvwM"
      }
    },
    {
      "cell_type": "code",
      "execution_count": null,
      "metadata": {
        "colab": {
          "base_uri": "https://localhost:8080/"
        },
        "id": "VZDRfDvrMSKH",
        "outputId": "0902d541-e44c-4be4-f89e-62ff73bb2188"
      },
      "outputs": [
        {
          "output_type": "stream",
          "name": "stdout",
          "text": [
            "Collecting facets-overview==1.0.0\n",
            "  Downloading facets_overview-1.0.0-py2.py3-none-any.whl (24 kB)\n",
            "Requirement already satisfied: protobuf>=3.7.0 in /usr/local/lib/python3.7/dist-packages (from facets-overview==1.0.0) (3.17.3)\n",
            "Requirement already satisfied: numpy>=1.16.0 in /usr/local/lib/python3.7/dist-packages (from facets-overview==1.0.0) (1.21.6)\n",
            "Requirement already satisfied: pandas>=0.22.0 in /usr/local/lib/python3.7/dist-packages (from facets-overview==1.0.0) (1.3.5)\n",
            "Requirement already satisfied: python-dateutil>=2.7.3 in /usr/local/lib/python3.7/dist-packages (from pandas>=0.22.0->facets-overview==1.0.0) (2.8.2)\n",
            "Requirement already satisfied: pytz>=2017.3 in /usr/local/lib/python3.7/dist-packages (from pandas>=0.22.0->facets-overview==1.0.0) (2022.1)\n",
            "Requirement already satisfied: six>=1.9 in /usr/local/lib/python3.7/dist-packages (from protobuf>=3.7.0->facets-overview==1.0.0) (1.15.0)\n",
            "Installing collected packages: facets-overview\n",
            "Successfully installed facets-overview-1.0.0\n"
          ]
        }
      ],
      "source": [
        "import pandas as pd\n",
        "from google.colab import drive\n",
        "from sklearn.model_selection import train_test_split\n",
        "from sklearn.neighbors import KNeighborsClassifier\n",
        "import numpy as np\n",
        "import matplotlib.pyplot as plt\n",
        "import cv2\n",
        "import seaborn as sns\n",
        "from sklearn.linear_model import LogisticRegression\n",
        "\n",
        "\n",
        "\n",
        "import tensorflow as tf\n",
        "from tensorflow.keras import layers\n",
        "from matplotlib import pyplot as plt\n",
        "from matplotlib import rcParams\n",
        "import seaborn as sns\n",
        "\n",
        "# The following lines adjust the granularity of reporting. \n",
        "pd.options.display.max_rows = 10\n",
        "pd.options.display.float_format = \"{:.1f}\".format\n",
        "\n",
        "from google.colab import widgets\n",
        "# For facets\n",
        "from IPython.core.display import display, HTML\n",
        "import base64\n",
        "!pip install facets-overview==1.0.0\n",
        "from facets_overview.feature_statistics_generator import FeatureStatisticsGenerator"
      ]
    },
    {
      "cell_type": "markdown",
      "source": [
        "# Loading Dataset"
      ],
      "metadata": {
        "id": "7PK677T5N0_c"
      }
    },
    {
      "cell_type": "code",
      "source": [
        "drive.mount('/content/drive')\n",
        "train_df = pd.read_csv(\"/content/drive/MyDrive/Colab Notebooks/MachineLearning/HousePricesCompetition/data/train.csv\")\n",
        "test_df = pd.read_csv(\"/content/drive/MyDrive/Colab Notebooks/MachineLearning/HousePricesCompetition/data/test.csv\")\n",
        "#test_df = pd.read_csv(\"/content/drive/MyDrive/Colab Notebooks/MachineLearning/HousePricesCompetition/data/test.csv\")\n",
        "\n",
        "display(train_df.head())"
      ],
      "metadata": {
        "colab": {
          "base_uri": "https://localhost:8080/"
        },
        "id": "BtrsnVUEN0K4",
        "outputId": "bf8954cf-311d-4475-e0be-c461c157feba"
      },
      "execution_count": null,
      "outputs": [
        {
          "output_type": "stream",
          "name": "stdout",
          "text": [
            "Mounted at /content/drive\n"
          ]
        },
        {
          "output_type": "display_data",
          "data": {
            "text/plain": [
              "   Id  MSSubClass MSZoning  LotFrontage  LotArea Street Alley LotShape  \\\n",
              "0   1          60       RL         65.0     8450   Pave   NaN      Reg   \n",
              "1   2          20       RL         80.0     9600   Pave   NaN      Reg   \n",
              "2   3          60       RL         68.0    11250   Pave   NaN      IR1   \n",
              "3   4          70       RL         60.0     9550   Pave   NaN      IR1   \n",
              "4   5          60       RL         84.0    14260   Pave   NaN      IR1   \n",
              "\n",
              "  LandContour Utilities  ... PoolArea PoolQC Fence MiscFeature MiscVal MoSold  \\\n",
              "0         Lvl    AllPub  ...        0    NaN   NaN         NaN       0      2   \n",
              "1         Lvl    AllPub  ...        0    NaN   NaN         NaN       0      5   \n",
              "2         Lvl    AllPub  ...        0    NaN   NaN         NaN       0      9   \n",
              "3         Lvl    AllPub  ...        0    NaN   NaN         NaN       0      2   \n",
              "4         Lvl    AllPub  ...        0    NaN   NaN         NaN       0     12   \n",
              "\n",
              "  YrSold  SaleType  SaleCondition  SalePrice  \n",
              "0   2008        WD         Normal     208500  \n",
              "1   2007        WD         Normal     181500  \n",
              "2   2008        WD         Normal     223500  \n",
              "3   2006        WD        Abnorml     140000  \n",
              "4   2008        WD         Normal     250000  \n",
              "\n",
              "[5 rows x 81 columns]"
            ],
            "text/html": [
              "\n",
              "  <div id=\"df-42b67270-7256-4f4c-85f5-16671d793423\">\n",
              "    <div class=\"colab-df-container\">\n",
              "      <div>\n",
              "<style scoped>\n",
              "    .dataframe tbody tr th:only-of-type {\n",
              "        vertical-align: middle;\n",
              "    }\n",
              "\n",
              "    .dataframe tbody tr th {\n",
              "        vertical-align: top;\n",
              "    }\n",
              "\n",
              "    .dataframe thead th {\n",
              "        text-align: right;\n",
              "    }\n",
              "</style>\n",
              "<table border=\"1\" class=\"dataframe\">\n",
              "  <thead>\n",
              "    <tr style=\"text-align: right;\">\n",
              "      <th></th>\n",
              "      <th>Id</th>\n",
              "      <th>MSSubClass</th>\n",
              "      <th>MSZoning</th>\n",
              "      <th>LotFrontage</th>\n",
              "      <th>LotArea</th>\n",
              "      <th>Street</th>\n",
              "      <th>Alley</th>\n",
              "      <th>LotShape</th>\n",
              "      <th>LandContour</th>\n",
              "      <th>Utilities</th>\n",
              "      <th>...</th>\n",
              "      <th>PoolArea</th>\n",
              "      <th>PoolQC</th>\n",
              "      <th>Fence</th>\n",
              "      <th>MiscFeature</th>\n",
              "      <th>MiscVal</th>\n",
              "      <th>MoSold</th>\n",
              "      <th>YrSold</th>\n",
              "      <th>SaleType</th>\n",
              "      <th>SaleCondition</th>\n",
              "      <th>SalePrice</th>\n",
              "    </tr>\n",
              "  </thead>\n",
              "  <tbody>\n",
              "    <tr>\n",
              "      <th>0</th>\n",
              "      <td>1</td>\n",
              "      <td>60</td>\n",
              "      <td>RL</td>\n",
              "      <td>65.0</td>\n",
              "      <td>8450</td>\n",
              "      <td>Pave</td>\n",
              "      <td>NaN</td>\n",
              "      <td>Reg</td>\n",
              "      <td>Lvl</td>\n",
              "      <td>AllPub</td>\n",
              "      <td>...</td>\n",
              "      <td>0</td>\n",
              "      <td>NaN</td>\n",
              "      <td>NaN</td>\n",
              "      <td>NaN</td>\n",
              "      <td>0</td>\n",
              "      <td>2</td>\n",
              "      <td>2008</td>\n",
              "      <td>WD</td>\n",
              "      <td>Normal</td>\n",
              "      <td>208500</td>\n",
              "    </tr>\n",
              "    <tr>\n",
              "      <th>1</th>\n",
              "      <td>2</td>\n",
              "      <td>20</td>\n",
              "      <td>RL</td>\n",
              "      <td>80.0</td>\n",
              "      <td>9600</td>\n",
              "      <td>Pave</td>\n",
              "      <td>NaN</td>\n",
              "      <td>Reg</td>\n",
              "      <td>Lvl</td>\n",
              "      <td>AllPub</td>\n",
              "      <td>...</td>\n",
              "      <td>0</td>\n",
              "      <td>NaN</td>\n",
              "      <td>NaN</td>\n",
              "      <td>NaN</td>\n",
              "      <td>0</td>\n",
              "      <td>5</td>\n",
              "      <td>2007</td>\n",
              "      <td>WD</td>\n",
              "      <td>Normal</td>\n",
              "      <td>181500</td>\n",
              "    </tr>\n",
              "    <tr>\n",
              "      <th>2</th>\n",
              "      <td>3</td>\n",
              "      <td>60</td>\n",
              "      <td>RL</td>\n",
              "      <td>68.0</td>\n",
              "      <td>11250</td>\n",
              "      <td>Pave</td>\n",
              "      <td>NaN</td>\n",
              "      <td>IR1</td>\n",
              "      <td>Lvl</td>\n",
              "      <td>AllPub</td>\n",
              "      <td>...</td>\n",
              "      <td>0</td>\n",
              "      <td>NaN</td>\n",
              "      <td>NaN</td>\n",
              "      <td>NaN</td>\n",
              "      <td>0</td>\n",
              "      <td>9</td>\n",
              "      <td>2008</td>\n",
              "      <td>WD</td>\n",
              "      <td>Normal</td>\n",
              "      <td>223500</td>\n",
              "    </tr>\n",
              "    <tr>\n",
              "      <th>3</th>\n",
              "      <td>4</td>\n",
              "      <td>70</td>\n",
              "      <td>RL</td>\n",
              "      <td>60.0</td>\n",
              "      <td>9550</td>\n",
              "      <td>Pave</td>\n",
              "      <td>NaN</td>\n",
              "      <td>IR1</td>\n",
              "      <td>Lvl</td>\n",
              "      <td>AllPub</td>\n",
              "      <td>...</td>\n",
              "      <td>0</td>\n",
              "      <td>NaN</td>\n",
              "      <td>NaN</td>\n",
              "      <td>NaN</td>\n",
              "      <td>0</td>\n",
              "      <td>2</td>\n",
              "      <td>2006</td>\n",
              "      <td>WD</td>\n",
              "      <td>Abnorml</td>\n",
              "      <td>140000</td>\n",
              "    </tr>\n",
              "    <tr>\n",
              "      <th>4</th>\n",
              "      <td>5</td>\n",
              "      <td>60</td>\n",
              "      <td>RL</td>\n",
              "      <td>84.0</td>\n",
              "      <td>14260</td>\n",
              "      <td>Pave</td>\n",
              "      <td>NaN</td>\n",
              "      <td>IR1</td>\n",
              "      <td>Lvl</td>\n",
              "      <td>AllPub</td>\n",
              "      <td>...</td>\n",
              "      <td>0</td>\n",
              "      <td>NaN</td>\n",
              "      <td>NaN</td>\n",
              "      <td>NaN</td>\n",
              "      <td>0</td>\n",
              "      <td>12</td>\n",
              "      <td>2008</td>\n",
              "      <td>WD</td>\n",
              "      <td>Normal</td>\n",
              "      <td>250000</td>\n",
              "    </tr>\n",
              "  </tbody>\n",
              "</table>\n",
              "<p>5 rows × 81 columns</p>\n",
              "</div>\n",
              "      <button class=\"colab-df-convert\" onclick=\"convertToInteractive('df-42b67270-7256-4f4c-85f5-16671d793423')\"\n",
              "              title=\"Convert this dataframe to an interactive table.\"\n",
              "              style=\"display:none;\">\n",
              "        \n",
              "  <svg xmlns=\"http://www.w3.org/2000/svg\" height=\"24px\"viewBox=\"0 0 24 24\"\n",
              "       width=\"24px\">\n",
              "    <path d=\"M0 0h24v24H0V0z\" fill=\"none\"/>\n",
              "    <path d=\"M18.56 5.44l.94 2.06.94-2.06 2.06-.94-2.06-.94-.94-2.06-.94 2.06-2.06.94zm-11 1L8.5 8.5l.94-2.06 2.06-.94-2.06-.94L8.5 2.5l-.94 2.06-2.06.94zm10 10l.94 2.06.94-2.06 2.06-.94-2.06-.94-.94-2.06-.94 2.06-2.06.94z\"/><path d=\"M17.41 7.96l-1.37-1.37c-.4-.4-.92-.59-1.43-.59-.52 0-1.04.2-1.43.59L10.3 9.45l-7.72 7.72c-.78.78-.78 2.05 0 2.83L4 21.41c.39.39.9.59 1.41.59.51 0 1.02-.2 1.41-.59l7.78-7.78 2.81-2.81c.8-.78.8-2.07 0-2.86zM5.41 20L4 18.59l7.72-7.72 1.47 1.35L5.41 20z\"/>\n",
              "  </svg>\n",
              "      </button>\n",
              "      \n",
              "  <style>\n",
              "    .colab-df-container {\n",
              "      display:flex;\n",
              "      flex-wrap:wrap;\n",
              "      gap: 12px;\n",
              "    }\n",
              "\n",
              "    .colab-df-convert {\n",
              "      background-color: #E8F0FE;\n",
              "      border: none;\n",
              "      border-radius: 50%;\n",
              "      cursor: pointer;\n",
              "      display: none;\n",
              "      fill: #1967D2;\n",
              "      height: 32px;\n",
              "      padding: 0 0 0 0;\n",
              "      width: 32px;\n",
              "    }\n",
              "\n",
              "    .colab-df-convert:hover {\n",
              "      background-color: #E2EBFA;\n",
              "      box-shadow: 0px 1px 2px rgba(60, 64, 67, 0.3), 0px 1px 3px 1px rgba(60, 64, 67, 0.15);\n",
              "      fill: #174EA6;\n",
              "    }\n",
              "\n",
              "    [theme=dark] .colab-df-convert {\n",
              "      background-color: #3B4455;\n",
              "      fill: #D2E3FC;\n",
              "    }\n",
              "\n",
              "    [theme=dark] .colab-df-convert:hover {\n",
              "      background-color: #434B5C;\n",
              "      box-shadow: 0px 1px 3px 1px rgba(0, 0, 0, 0.15);\n",
              "      filter: drop-shadow(0px 1px 2px rgba(0, 0, 0, 0.3));\n",
              "      fill: #FFFFFF;\n",
              "    }\n",
              "  </style>\n",
              "\n",
              "      <script>\n",
              "        const buttonEl =\n",
              "          document.querySelector('#df-42b67270-7256-4f4c-85f5-16671d793423 button.colab-df-convert');\n",
              "        buttonEl.style.display =\n",
              "          google.colab.kernel.accessAllowed ? 'block' : 'none';\n",
              "\n",
              "        async function convertToInteractive(key) {\n",
              "          const element = document.querySelector('#df-42b67270-7256-4f4c-85f5-16671d793423');\n",
              "          const dataTable =\n",
              "            await google.colab.kernel.invokeFunction('convertToInteractive',\n",
              "                                                     [key], {});\n",
              "          if (!dataTable) return;\n",
              "\n",
              "          const docLinkHtml = 'Like what you see? Visit the ' +\n",
              "            '<a target=\"_blank\" href=https://colab.research.google.com/notebooks/data_table.ipynb>data table notebook</a>'\n",
              "            + ' to learn more about interactive tables.';\n",
              "          element.innerHTML = '';\n",
              "          dataTable['output_type'] = 'display_data';\n",
              "          await google.colab.output.renderOutput(dataTable, element);\n",
              "          const docLink = document.createElement('div');\n",
              "          docLink.innerHTML = docLinkHtml;\n",
              "          element.appendChild(docLink);\n",
              "        }\n",
              "      </script>\n",
              "    </div>\n",
              "  </div>\n",
              "  "
            ]
          },
          "metadata": {}
        }
      ]
    },
    {
      "cell_type": "code",
      "source": [
        "sample_submission = pd.read_csv(\"/content/drive/MyDrive/Colab Notebooks/MachineLearning/HousePricesCompetition/data/sample_submission.csv\")\n",
        "display(sample_submission.shape)"
      ],
      "metadata": {
        "colab": {
          "base_uri": "https://localhost:8080/"
        },
        "id": "Y7-KvBCtXvr9",
        "outputId": "6618f2e5-1d14-4abe-fcf7-cc9313f6b94c"
      },
      "execution_count": null,
      "outputs": [
        {
          "output_type": "display_data",
          "data": {
            "text/plain": [
              "(1459, 2)"
            ]
          },
          "metadata": {}
        }
      ]
    },
    {
      "cell_type": "code",
      "source": [
        "print(\"Train dataset shape\", train_df.shape)\n",
        "print(\"Test dataset shape\", test_df.shape)"
      ],
      "metadata": {
        "colab": {
          "base_uri": "https://localhost:8080/"
        },
        "id": "qOd-SNyVV6kL",
        "outputId": "c6a2d8c1-fc42-48c7-fe34-6871b8a3c504"
      },
      "execution_count": null,
      "outputs": [
        {
          "output_type": "stream",
          "name": "stdout",
          "text": [
            "Train dataset shape (1460, 81)\n",
            "Test dataset shape (1459, 80)\n"
          ]
        }
      ]
    },
    {
      "cell_type": "code",
      "source": [
        "# Explore the data\n",
        "print(\"Keys of iris_dataset:\\n\", train_df.keys())\n"
      ],
      "metadata": {
        "colab": {
          "base_uri": "https://localhost:8080/"
        },
        "id": "EYkD2GfASrDl",
        "outputId": "ed5dc2b8-1e77-407f-cb00-949b85684bec"
      },
      "execution_count": null,
      "outputs": [
        {
          "output_type": "stream",
          "name": "stdout",
          "text": [
            "Keys of iris_dataset:\n",
            " Index(['Id', 'MSSubClass', 'MSZoning', 'LotFrontage', 'LotArea', 'Street',\n",
            "       'Alley', 'LotShape', 'LandContour', 'Utilities', 'LotConfig',\n",
            "       'LandSlope', 'Neighborhood', 'Condition1', 'Condition2', 'BldgType',\n",
            "       'HouseStyle', 'OverallQual', 'OverallCond', 'YearBuilt', 'YearRemodAdd',\n",
            "       'RoofStyle', 'RoofMatl', 'Exterior1st', 'Exterior2nd', 'MasVnrType',\n",
            "       'MasVnrArea', 'ExterQual', 'ExterCond', 'Foundation', 'BsmtQual',\n",
            "       'BsmtCond', 'BsmtExposure', 'BsmtFinType1', 'BsmtFinSF1',\n",
            "       'BsmtFinType2', 'BsmtFinSF2', 'BsmtUnfSF', 'TotalBsmtSF', 'Heating',\n",
            "       'HeatingQC', 'CentralAir', 'Electrical', '1stFlrSF', '2ndFlrSF',\n",
            "       'LowQualFinSF', 'GrLivArea', 'BsmtFullBath', 'BsmtHalfBath', 'FullBath',\n",
            "       'HalfBath', 'BedroomAbvGr', 'KitchenAbvGr', 'KitchenQual',\n",
            "       'TotRmsAbvGrd', 'Functional', 'Fireplaces', 'FireplaceQu', 'GarageType',\n",
            "       'GarageYrBlt', 'GarageFinish', 'GarageCars', 'GarageArea', 'GarageQual',\n",
            "       'GarageCond', 'PavedDrive', 'WoodDeckSF', 'OpenPorchSF',\n",
            "       'EnclosedPorch', '3SsnPorch', 'ScreenPorch', 'PoolArea', 'PoolQC',\n",
            "       'Fence', 'MiscFeature', 'MiscVal', 'MoSold', 'YrSold', 'SaleType',\n",
            "       'SaleCondition', 'SalePrice'],\n",
            "      dtype='object')\n"
          ]
        }
      ]
    },
    {
      "cell_type": "code",
      "source": [
        "print(\"Target names:\\n\",train_df['SalePrice'].shape)\n",
        "\n"
      ],
      "metadata": {
        "colab": {
          "base_uri": "https://localhost:8080/"
        },
        "id": "xxkO-djTVTvJ",
        "outputId": "296ef35e-19a2-4ae4-e6f8-777f56f66619"
      },
      "execution_count": null,
      "outputs": [
        {
          "output_type": "stream",
          "name": "stdout",
          "text": [
            "Target names:\n",
            " (1460,)\n"
          ]
        }
      ]
    },
    {
      "cell_type": "markdown",
      "source": [
        "# Visualization"
      ],
      "metadata": {
        "id": "rLwsKNkbPzf0"
      }
    },
    {
      "cell_type": "markdown",
      "source": [
        "Se utilizará facets para análizar las características del dataset en su totalidad debido a la dimensionalidad del mismo.\n",
        "Se prentende, buscar datos, nulos, perdidos con el fin de realizar un filtro de las características que no aportan al alagoritmo de aprendizaje."
      ],
      "metadata": {
        "id": "LWKc9gzo2S6t"
      }
    },
    {
      "cell_type": "code",
      "source": [
        "#@title Visualize the Data in Facets\n",
        "fsg = FeatureStatisticsGenerator()\n",
        "dataframes = [\n",
        "    {'table': train_df, 'name': 'trainData'}]\n",
        "censusProto = fsg.ProtoFromDataFrames(dataframes)\n",
        "protostr = base64.b64encode(censusProto.SerializeToString()).decode(\"utf-8\")\n",
        "\n",
        "\n",
        "HTML_TEMPLATE = \"\"\"<script src=\"https://cdnjs.cloudflare.com/ajax/libs/webcomponentsjs/1.3.3/webcomponents-lite.js\"></script>\n",
        "        <link rel=\"import\" href=\"https://raw.githubusercontent.com/PAIR-code/facets/1.0.0/facets-dist/facets-jupyter.html\">\n",
        "        <facets-overview id=\"elem\"></facets-overview>\n",
        "        <script>\n",
        "          document.querySelector(\"#elem\").protoInput = \"{protostr}\";\n",
        "        </script>\"\"\"\n",
        "html = HTML_TEMPLATE.format(protostr=protostr)\n",
        "display(HTML(html))"
      ],
      "metadata": {
        "colab": {
          "base_uri": "https://localhost:8080/"
        },
        "id": "GIg7pVaRP26Y",
        "outputId": "3aee4e2e-a798-4d50-90ae-2f0d9eb703fb"
      },
      "execution_count": null,
      "outputs": [
        {
          "output_type": "display_data",
          "data": {
            "text/plain": [
              "<IPython.core.display.HTML object>"
            ],
            "text/html": [
              "<script src=\"https://cdnjs.cloudflare.com/ajax/libs/webcomponentsjs/1.3.3/webcomponents-lite.js\"></script>\n",
              "        <link rel=\"import\" href=\"https://raw.githubusercontent.com/PAIR-code/facets/1.0.0/facets-dist/facets-jupyter.html\">\n",
              "        <facets-overview id=\"elem\"></facets-overview>\n",
              "        <script>\n",
              "          document.querySelector(\"#elem\").protoInput = \"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\";\n",
              "        </script>"
            ]
          },
          "metadata": {}
        }
      ]
    },
    {
      "cell_type": "markdown",
      "source": [
        "# Cleaning Train Data"
      ],
      "metadata": {
        "id": "cj2VEVd7dpEk"
      }
    },
    {
      "cell_type": "markdown",
      "source": [
        "## Numerical Features"
      ],
      "metadata": {
        "id": "7wytbuo5kaOC"
      }
    },
    {
      "cell_type": "code",
      "source": [
        "#Eliminaremos el porcentaje de filas pequeños cuyos valores estén perdidos o ceros\n",
        "#pandas.DataFrame.dropna(how=\"any\", axis=0, inplace=True)\n",
        "\n",
        "#train_df = train_df.dropna(['GarageYrBlt'], axis=0)\n",
        "#train_df = train_df.dropna(how=\"any\", axis=0)\n",
        "indexNames = train_df[ train_df['GarageYrBlt'] == 'NA' ].index\n",
        "# Delete these row indexes from dataFrame\n",
        "train_df.drop(indexNames , inplace=True)"
      ],
      "metadata": {
        "id": "rPLoMGZDdr2U"
      },
      "execution_count": null,
      "outputs": []
    },
    {
      "cell_type": "code",
      "source": [
        "# LotFrontage: Linear feet of street connected to property missing value\n",
        "# MasVnrArea: Masonry veneer area in square \n",
        "# BsmtFinSF1: Type 1 finished square feet\n",
        "# BsmtFinSF2: Type 2 finished square feet\n",
        "# 2ndFlrSF: Second floor square feet\n",
        "# LowQualFinSF: Low quality finished square feet (all floors)\n",
        "# Basement full bathrooms\n",
        "# BsmtHalfBath: Basement half bathrooms\n",
        "# HalfBath: Half baths above grade\n",
        "# Fireplaces: Number of fireplaces\n",
        "# WoodDeckSF: Wood deck area in square feet\n",
        "# OpenPorchSF: Open porch area in square feet\n",
        "# EnclosedPorch: Enclosed porch area in square feet\n",
        "# 3SsnPorch: Three season porch area in square feet\n",
        "# ScreenPorch: Screen porch area in square feet\n",
        "# PoolArea: Pool area in square feet\n",
        "# MiscVal: $Value of miscellaneous feature\n",
        "train_df = train_df.drop(['LotFrontage','MasVnrArea', 'BsmtFinSF1','BsmtFinSF2','2ndFlrSF','LowQualFinSF',\n",
        "                          'BsmtFullBath','BsmtHalfBath','HalfBath','Fireplaces', 'WoodDeckSF', 'OpenPorchSF',\n",
        "                          'EnclosedPorch', '3SsnPorch', 'ScreenPorch','PoolArea','MiscVal'], axis=1)\n"
      ],
      "metadata": {
        "id": "WMMn2eGHfWtL"
      },
      "execution_count": null,
      "outputs": []
    },
    {
      "cell_type": "markdown",
      "source": [
        "##Categorical Features"
      ],
      "metadata": {
        "id": "8xz4gtQekjga"
      }
    },
    {
      "cell_type": "code",
      "source": [
        "#Eliminaremos el porcentaje de filas pequeños cuyos valores estén perdidos o ceros\n",
        "# BsmtQual: Evaluates the height of the basement\n",
        "# BsmtCond: Evaluates the general condition of the basement\n",
        "# BsmtExposure: Refers to walkout or garden level walls\n",
        "# BsmtFinType1: Rating of basement finished area\n",
        "# BsmtFinType2: Rating of basement finished area (if multiple types)\n",
        "# GarageType: Garage location\n",
        "# GarageFinish: Interior finish of the garage\n",
        "# GarageQual: Garage quality\n",
        "# GarageCond: Garage condition\n",
        "columns = ['BsmtQual', 'BsmtCond','BsmtExposure', 'BsmtFinType1','BsmtFinType2','GarageType','GarageFinish','GarageQual','GarageCond' ]\n",
        "for feature in columns:\n",
        "  train_df = train_df[train_df[feature].notna()]\n",
        "\n"
      ],
      "metadata": {
        "id": "Myp2u3A8ko5B"
      },
      "execution_count": null,
      "outputs": []
    },
    {
      "cell_type": "code",
      "source": [
        "# Alley: Type of alley access to property\n",
        "# FireplaceQu: Fireplace quality\n",
        "# PoolQC: Pool quality\n",
        "# Fence: Fence quality\n",
        "# MiscFeature: Miscellaneous feature not covered in other categories\n",
        "train_df = train_df.drop(['Alley','FireplaceQu','PoolQC','Fence','MiscFeature','MasVnrType'], axis=1)"
      ],
      "metadata": {
        "id": "_K-p1KPwszfM"
      },
      "execution_count": null,
      "outputs": []
    },
    {
      "cell_type": "markdown",
      "source": [
        "## Train after cleaning"
      ],
      "metadata": {
        "id": "SByYck5SHcE9"
      }
    },
    {
      "cell_type": "code",
      "source": [
        "fsg = FeatureStatisticsGenerator()\n",
        "dataframes = [\n",
        "    {'table': train_df, 'name': 'trainData'}]\n",
        "censusProto = fsg.ProtoFromDataFrames(dataframes)\n",
        "protostr = base64.b64encode(censusProto.SerializeToString()).decode(\"utf-8\")\n",
        "\n",
        "\n",
        "HTML_TEMPLATE = \"\"\"<script src=\"https://cdnjs.cloudflare.com/ajax/libs/webcomponentsjs/1.3.3/webcomponents-lite.js\"></script>\n",
        "        <link rel=\"import\" href=\"https://raw.githubusercontent.com/PAIR-code/facets/1.0.0/facets-dist/facets-jupyter.html\">\n",
        "        <facets-overview id=\"elem\"></facets-overview>\n",
        "        <script>\n",
        "          document.querySelector(\"#elem\").protoInput = \"{protostr}\";\n",
        "        </script>\"\"\"\n",
        "html = HTML_TEMPLATE.format(protostr=protostr)\n",
        "display(HTML(html))"
      ],
      "metadata": {
        "colab": {
          "base_uri": "https://localhost:8080/"
        },
        "id": "L6PvzfQFqjCg",
        "outputId": "d7c30618-eb80-4def-f80c-c62c17bb76d0"
      },
      "execution_count": null,
      "outputs": [
        {
          "output_type": "display_data",
          "data": {
            "text/plain": [
              "<IPython.core.display.HTML object>"
            ],
            "text/html": [
              "<script src=\"https://cdnjs.cloudflare.com/ajax/libs/webcomponentsjs/1.3.3/webcomponents-lite.js\"></script>\n",
              "        <link rel=\"import\" href=\"https://raw.githubusercontent.com/PAIR-code/facets/1.0.0/facets-dist/facets-jupyter.html\">\n",
              "        <facets-overview id=\"elem\"></facets-overview>\n",
              "        <script>\n",
              "          document.querySelector(\"#elem\").protoInput = \"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\";\n",
              "        </script>"
            ]
          },
          "metadata": {}
        }
      ]
    },
    {
      "cell_type": "markdown",
      "source": [
        "# Cleaning Test data"
      ],
      "metadata": {
        "id": "0oRnsJdHIduy"
      }
    },
    {
      "cell_type": "markdown",
      "source": [
        "##visualization without cleaning"
      ],
      "metadata": {
        "id": "7SsX62a9KbG-"
      }
    },
    {
      "cell_type": "code",
      "source": [
        "#@title Visualize the Data in Facets\n",
        "fsg = FeatureStatisticsGenerator()\n",
        "dataframes = [\n",
        "    {'table': test_df, 'name': 'testData'}]\n",
        "censusProto = fsg.ProtoFromDataFrames(dataframes)\n",
        "protostr = base64.b64encode(censusProto.SerializeToString()).decode(\"utf-8\")\n",
        "\n",
        "\n",
        "HTML_TEMPLATE = \"\"\"<script src=\"https://cdnjs.cloudflare.com/ajax/libs/webcomponentsjs/1.3.3/webcomponents-lite.js\"></script>\n",
        "        <link rel=\"import\" href=\"https://raw.githubusercontent.com/PAIR-code/facets/1.0.0/facets-dist/facets-jupyter.html\">\n",
        "        <facets-overview id=\"elem\"></facets-overview>\n",
        "        <script>\n",
        "          document.querySelector(\"#elem\").protoInput = \"{protostr}\";\n",
        "        </script>\"\"\"\n",
        "html = HTML_TEMPLATE.format(protostr=protostr)\n",
        "display(HTML(html))"
      ],
      "metadata": {
        "colab": {
          "base_uri": "https://localhost:8080/"
        },
        "id": "NUsdeDgVIh_V",
        "outputId": "c29c9f84-3967-4823-a161-0f218f08de42"
      },
      "execution_count": null,
      "outputs": [
        {
          "output_type": "display_data",
          "data": {
            "text/plain": [
              "<IPython.core.display.HTML object>"
            ],
            "text/html": [
              "<script src=\"https://cdnjs.cloudflare.com/ajax/libs/webcomponentsjs/1.3.3/webcomponents-lite.js\"></script>\n",
              "        <link rel=\"import\" href=\"https://raw.githubusercontent.com/PAIR-code/facets/1.0.0/facets-dist/facets-jupyter.html\">\n",
              "        <facets-overview id=\"elem\"></facets-overview>\n",
              "        <script>\n",
              "          document.querySelector(\"#elem\").protoInput = \"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\";\n",
              "        </script>"
            ]
          },
          "metadata": {}
        }
      ]
    },
    {
      "cell_type": "markdown",
      "source": [
        "## Numerical Features"
      ],
      "metadata": {
        "id": "iY1qyP8rIwSo"
      }
    },
    {
      "cell_type": "code",
      "source": [
        "#Eliminaremos el porcentaje de filas pequeños cuyos valores estén perdidos o ceros\n",
        "#pandas.DataFrame.dropna(how=\"any\", axis=0, inplace=True)\n",
        "\n",
        "#test_df = test_df.dropna(['GarageYrBlt'], axis=0)\n",
        "#test_df = test_df.dropna(how=\"any\", axis=0)\n",
        "indexNames = test_df[ test_df['GarageYrBlt'] == 'NA' ].index\n",
        "# Delete these row indexes from dataFrame\n",
        "test_df.drop(indexNames , inplace=True)"
      ],
      "metadata": {
        "id": "ZV54m8fNIwSt"
      },
      "execution_count": null,
      "outputs": []
    },
    {
      "cell_type": "code",
      "source": [
        "# LotFrontage: Linear feet of street connected to property missing value\n",
        "# MasVnrArea: Masonry veneer area in square \n",
        "# BsmtFinSF1: Type 1 finished square feet\n",
        "# BsmtFinSF2: Type 2 finished square feet\n",
        "# 2ndFlrSF: Second floor square feet\n",
        "# LowQualFinSF: Low quality finished square feet (all floors)\n",
        "# Basement full bathrooms\n",
        "# BsmtHalfBath: Basement half bathrooms\n",
        "# HalfBath: Half baths above grade\n",
        "# Fireplaces: Number of fireplaces\n",
        "# WoodDeckSF: Wood deck area in square feet\n",
        "# OpenPorchSF: Open porch area in square feet\n",
        "# EnclosedPorch: Enclosed porch area in square feet\n",
        "# 3SsnPorch: Three season porch area in square feet\n",
        "# ScreenPorch: Screen porch area in square feet\n",
        "# PoolArea: Pool area in square feet\n",
        "# MiscVal: $Value of miscellaneous feature\n",
        "test_df = test_df.drop(['LotFrontage','MasVnrArea', 'BsmtFinSF1','BsmtFinSF2','2ndFlrSF','LowQualFinSF',\n",
        "                          'BsmtFullBath','BsmtHalfBath','HalfBath','Fireplaces', 'WoodDeckSF', 'OpenPorchSF',\n",
        "                          'EnclosedPorch', '3SsnPorch', 'ScreenPorch','PoolArea','MiscVal'], axis=1)\n"
      ],
      "metadata": {
        "id": "dlrk13nFIwSu"
      },
      "execution_count": null,
      "outputs": []
    },
    {
      "cell_type": "markdown",
      "source": [
        "##Categorical Features"
      ],
      "metadata": {
        "id": "AmRwW6hnIwSu"
      }
    },
    {
      "cell_type": "code",
      "source": [
        "#Eliminaremos el porcentaje de filas pequeños cuyos valores estén perdidos o ceros\n",
        "# BsmtQual: Evaluates the height of the basement\n",
        "# BsmtCond: Evaluates the general condition of the basement\n",
        "# BsmtExposure: Refers to walkout or garden level walls\n",
        "# BsmtFinType1: Rating of basement finished area\n",
        "# BsmtFinType2: Rating of basement finished area (if multiple types)\n",
        "# GarageType: Garage location\n",
        "# GarageFinish: Interior finish of the garage\n",
        "# GarageQual: Garage quality\n",
        "# GarageCond: Garage condition\n",
        "columns = ['BsmtQual', 'BsmtCond','BsmtExposure', 'BsmtFinType1','BsmtFinType2','GarageType','GarageFinish','GarageQual','GarageCond' ]\n",
        "for feature in columns:\n",
        "  test_df = test_df[test_df[feature].notna()]\n",
        "\n"
      ],
      "metadata": {
        "id": "sU67-CANIwSu"
      },
      "execution_count": null,
      "outputs": []
    },
    {
      "cell_type": "code",
      "source": [
        "# Alley: Type of alley access to property\n",
        "# FireplaceQu: Fireplace quality\n",
        "# PoolQC: Pool quality\n",
        "# Fence: Fence quality\n",
        "# MiscFeature: Miscellaneous feature not covered in other categories\n",
        "test_df = test_df.drop(['Alley','FireplaceQu','PoolQC','Fence','MiscFeature','MasVnrType'], axis=1)"
      ],
      "metadata": {
        "id": "yaLgrKEyIwSu"
      },
      "execution_count": null,
      "outputs": []
    },
    {
      "cell_type": "markdown",
      "source": [
        "## Test after cleaning"
      ],
      "metadata": {
        "id": "umn-HPpqIwSu"
      }
    },
    {
      "cell_type": "code",
      "source": [
        "fsg = FeatureStatisticsGenerator()\n",
        "dataframes = [\n",
        "    {'table': test_df, 'name': 'testData'}]\n",
        "censusProto = fsg.ProtoFromDataFrames(dataframes)\n",
        "protostr = base64.b64encode(censusProto.SerializeToString()).decode(\"utf-8\")\n",
        "\n",
        "\n",
        "HTML_TEMPLATE = \"\"\"<script src=\"https://cdnjs.cloudflare.com/ajax/libs/webcomponentsjs/1.3.3/webcomponents-lite.js\"></script>\n",
        "        <link rel=\"import\" href=\"https://raw.githubusercontent.com/PAIR-code/facets/1.0.0/facets-dist/facets-jupyter.html\">\n",
        "        <facets-overview id=\"elem\"></facets-overview>\n",
        "        <script>\n",
        "          document.querySelector(\"#elem\").protoInput = \"{protostr}\";\n",
        "        </script>\"\"\"\n",
        "html = HTML_TEMPLATE.format(protostr=protostr)\n",
        "display(HTML(html))"
      ],
      "metadata": {
        "colab": {
          "base_uri": "https://localhost:8080/"
        },
        "outputId": "472c6fb6-2d31-499f-9059-d24a5ad2f039",
        "id": "k1Y0UCj0IwSu"
      },
      "execution_count": null,
      "outputs": [
        {
          "output_type": "display_data",
          "data": {
            "text/plain": [
              "<IPython.core.display.HTML object>"
            ],
            "text/html": [
              "<script src=\"https://cdnjs.cloudflare.com/ajax/libs/webcomponentsjs/1.3.3/webcomponents-lite.js\"></script>\n",
              "        <link rel=\"import\" href=\"https://raw.githubusercontent.com/PAIR-code/facets/1.0.0/facets-dist/facets-jupyter.html\">\n",
              "        <facets-overview id=\"elem\"></facets-overview>\n",
              "        <script>\n",
              "          document.querySelector(\"#elem\").protoInput = \"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\";\n",
              "        </script>"
            ]
          },
          "metadata": {}
        }
      ]
    },
    {
      "cell_type": "markdown",
      "source": [
        "#Original Features training and selecting features : Training"
      ],
      "metadata": {
        "id": "4UvS6zj1K7_t"
      }
    },
    {
      "cell_type": "code",
      "source": [
        "print(\"Train dataset shape\", train_df.shape)\n",
        "print(\"Test dataset shape\", test_df.shape)"
      ],
      "metadata": {
        "colab": {
          "base_uri": "https://localhost:8080/"
        },
        "id": "Bh3UCoJoK_Vi",
        "outputId": "ded6eaa4-f037-4bca-8bfa-6de9e9b70041"
      },
      "execution_count": null,
      "outputs": [
        {
          "output_type": "stream",
          "name": "stdout",
          "text": [
            "Train dataset shape (1347, 58)\n",
            "Test dataset shape (1339, 57)\n"
          ]
        }
      ]
    },
    {
      "cell_type": "code",
      "source": [
        "print(\"Keys of iris_dataset:\\n\", train_df.keys())\n",
        "train_one_hot = train_df.copy()"
      ],
      "metadata": {
        "colab": {
          "base_uri": "https://localhost:8080/"
        },
        "id": "fGBK1HZVMYdv",
        "outputId": "32af6764-1ec9-4d01-c49d-2d84943d979c"
      },
      "execution_count": null,
      "outputs": [
        {
          "output_type": "stream",
          "name": "stdout",
          "text": [
            "Keys of iris_dataset:\n",
            " Index(['Id', 'MSSubClass', 'MSZoning', 'LotArea', 'Street', 'LotShape',\n",
            "       'LandContour', 'Utilities', 'LotConfig', 'LandSlope', 'Neighborhood',\n",
            "       'Condition1', 'Condition2', 'BldgType', 'HouseStyle', 'OverallQual',\n",
            "       'OverallCond', 'YearBuilt', 'YearRemodAdd', 'RoofStyle', 'RoofMatl',\n",
            "       'Exterior1st', 'Exterior2nd', 'ExterQual', 'ExterCond', 'Foundation',\n",
            "       'BsmtQual', 'BsmtCond', 'BsmtExposure', 'BsmtFinType1', 'BsmtFinType2',\n",
            "       'BsmtUnfSF', 'TotalBsmtSF', 'Heating', 'HeatingQC', 'CentralAir',\n",
            "       'Electrical', '1stFlrSF', 'GrLivArea', 'FullBath', 'BedroomAbvGr',\n",
            "       'KitchenAbvGr', 'KitchenQual', 'TotRmsAbvGrd', 'Functional',\n",
            "       'GarageType', 'GarageYrBlt', 'GarageFinish', 'GarageCars', 'GarageArea',\n",
            "       'GarageQual', 'GarageCond', 'PavedDrive', 'MoSold', 'YrSold',\n",
            "       'SaleType', 'SaleCondition', 'SalePrice'],\n",
            "      dtype='object')\n"
          ]
        }
      ]
    },
    {
      "cell_type": "code",
      "source": [
        "print(\"Keys of iris_dataset:\\n\", test_df.keys())\n",
        "test_one_hot = test_df.copy()"
      ],
      "metadata": {
        "colab": {
          "base_uri": "https://localhost:8080/"
        },
        "id": "PmJm228YM42h",
        "outputId": "1728c104-60cf-4788-d4d4-72bd0137d6d9"
      },
      "execution_count": null,
      "outputs": [
        {
          "output_type": "stream",
          "name": "stdout",
          "text": [
            "Keys of iris_dataset:\n",
            " Index(['Id', 'MSSubClass', 'MSZoning', 'LotArea', 'Street', 'LotShape',\n",
            "       'LandContour', 'Utilities', 'LotConfig', 'LandSlope', 'Neighborhood',\n",
            "       'Condition1', 'Condition2', 'BldgType', 'HouseStyle', 'OverallQual',\n",
            "       'OverallCond', 'YearBuilt', 'YearRemodAdd', 'RoofStyle', 'RoofMatl',\n",
            "       'Exterior1st', 'Exterior2nd', 'ExterQual', 'ExterCond', 'Foundation',\n",
            "       'BsmtQual', 'BsmtCond', 'BsmtExposure', 'BsmtFinType1', 'BsmtFinType2',\n",
            "       'BsmtUnfSF', 'TotalBsmtSF', 'Heating', 'HeatingQC', 'CentralAir',\n",
            "       'Electrical', '1stFlrSF', 'GrLivArea', 'FullBath', 'BedroomAbvGr',\n",
            "       'KitchenAbvGr', 'KitchenQual', 'TotRmsAbvGrd', 'Functional',\n",
            "       'GarageType', 'GarageYrBlt', 'GarageFinish', 'GarageCars', 'GarageArea',\n",
            "       'GarageQual', 'GarageCond', 'PavedDrive', 'MoSold', 'YrSold',\n",
            "       'SaleType', 'SaleCondition'],\n",
            "      dtype='object')\n"
          ]
        }
      ]
    },
    {
      "cell_type": "markdown",
      "source": [
        "### Linear Models\n",
        "\n",
        "\n",
        "\n",
        "\n"
      ],
      "metadata": {
        "id": "e1iNlgaEMB3B"
      }
    },
    {
      "cell_type": "markdown",
      "source": [
        "###Definiendo mi X_train, test_df y Y-targets\n",
        "Para observar la linealidad de mis características\n",
        "y valor objetivo"
      ],
      "metadata": {
        "id": "CO170XPmNbPN"
      }
    },
    {
      "cell_type": "code",
      "source": [
        "Y = train_df['SalePrice']\n",
        "\n",
        "print(Y)\n"
      ],
      "metadata": {
        "colab": {
          "base_uri": "https://localhost:8080/"
        },
        "id": "mE-FQWYLOpoX",
        "outputId": "fa9b7ce5-f66f-41c9-fa96-33f3bfd835c6"
      },
      "execution_count": null,
      "outputs": [
        {
          "output_type": "stream",
          "name": "stdout",
          "text": [
            "0       208500\n",
            "1       181500\n",
            "2       223500\n",
            "3       140000\n",
            "4       250000\n",
            "         ...  \n",
            "1455    175000\n",
            "1456    210000\n",
            "1457    266500\n",
            "1458    142125\n",
            "1459    147500\n",
            "Name: SalePrice, Length: 1347, dtype: int64\n"
          ]
        }
      ]
    },
    {
      "cell_type": "code",
      "source": [
        "colsTest = ['MSSubClass','LotArea','OverallQual','OverallCond',\n",
        "             'YearBuilt','YearRemodAdd','BsmtUnfSF','TotalBsmtSF','1stFlrSF',\n",
        "             'GrLivArea','FullBath','BedroomAbvGr','KitchenAbvGr','TotRmsAbvGrd',\n",
        "             'GarageYrBlt','GarageCars','GarageArea','MoSold','YrSold']\n",
        "\n",
        "test_df = test_df[colsTest]\n"
      ],
      "metadata": {
        "id": "CN3aRs9ANAcu"
      },
      "execution_count": null,
      "outputs": []
    },
    {
      "cell_type": "code",
      "source": [
        "\n",
        "colsTrain = ['MSSubClass','LotArea','OverallQual','OverallCond',\n",
        "             'YearBuilt','YearRemodAdd','BsmtUnfSF','TotalBsmtSF','1stFlrSF',\n",
        "             'GrLivArea','FullBath','BedroomAbvGr','KitchenAbvGr','TotRmsAbvGrd',\n",
        "             'GarageYrBlt','GarageCars','GarageArea','MoSold','YrSold','SalePrice']\n",
        "\n",
        "X_train = train_df[colsTrain]\n",
        "X_train.head(10)"
      ],
      "metadata": {
        "colab": {
          "base_uri": "https://localhost:8080/",
          "height": 427
        },
        "id": "nogTkmQzMKGs",
        "outputId": "d6d307ee-044e-430c-cecb-b418102d57ff"
      },
      "execution_count": null,
      "outputs": [
        {
          "output_type": "execute_result",
          "data": {
            "text/plain": [
              "   MSSubClass  LotArea  OverallQual  OverallCond  YearBuilt  YearRemodAdd  \\\n",
              "0          60     8450            7            5       2003          2003   \n",
              "1          20     9600            6            8       1976          1976   \n",
              "2          60    11250            7            5       2001          2002   \n",
              "3          70     9550            7            5       1915          1970   \n",
              "4          60    14260            8            5       2000          2000   \n",
              "5          50    14115            5            5       1993          1995   \n",
              "6          20    10084            8            5       2004          2005   \n",
              "7          60    10382            7            6       1973          1973   \n",
              "8          50     6120            7            5       1931          1950   \n",
              "9         190     7420            5            6       1939          1950   \n",
              "\n",
              "   BsmtUnfSF  TotalBsmtSF  1stFlrSF  GrLivArea  FullBath  BedroomAbvGr  \\\n",
              "0        150          856       856       1710         2             3   \n",
              "1        284         1262      1262       1262         2             3   \n",
              "2        434          920       920       1786         2             3   \n",
              "3        540          756       961       1717         1             3   \n",
              "4        490         1145      1145       2198         2             4   \n",
              "5         64          796       796       1362         1             1   \n",
              "6        317         1686      1694       1694         2             3   \n",
              "7        216         1107      1107       2090         2             3   \n",
              "8        952          952      1022       1774         2             2   \n",
              "9        140          991      1077       1077         1             2   \n",
              "\n",
              "   KitchenAbvGr  TotRmsAbvGrd  GarageYrBlt  GarageCars  GarageArea  MoSold  \\\n",
              "0             1             8       2003.0           2         548       2   \n",
              "1             1             6       1976.0           2         460       5   \n",
              "2             1             6       2001.0           2         608       9   \n",
              "3             1             7       1998.0           3         642       2   \n",
              "4             1             9       2000.0           3         836      12   \n",
              "5             1             5       1993.0           2         480      10   \n",
              "6             1             7       2004.0           2         636       8   \n",
              "7             1             7       1973.0           2         484      11   \n",
              "8             2             8       1931.0           2         468       4   \n",
              "9             2             5       1939.0           1         205       1   \n",
              "\n",
              "   YrSold  SalePrice  \n",
              "0    2008     208500  \n",
              "1    2007     181500  \n",
              "2    2008     223500  \n",
              "3    2006     140000  \n",
              "4    2008     250000  \n",
              "5    2009     143000  \n",
              "6    2007     307000  \n",
              "7    2009     200000  \n",
              "8    2008     129900  \n",
              "9    2008     118000  "
            ],
            "text/html": [
              "\n",
              "  <div id=\"df-4d062bf8-1cd4-4fd4-9940-9963f87a2a4b\">\n",
              "    <div class=\"colab-df-container\">\n",
              "      <div>\n",
              "<style scoped>\n",
              "    .dataframe tbody tr th:only-of-type {\n",
              "        vertical-align: middle;\n",
              "    }\n",
              "\n",
              "    .dataframe tbody tr th {\n",
              "        vertical-align: top;\n",
              "    }\n",
              "\n",
              "    .dataframe thead th {\n",
              "        text-align: right;\n",
              "    }\n",
              "</style>\n",
              "<table border=\"1\" class=\"dataframe\">\n",
              "  <thead>\n",
              "    <tr style=\"text-align: right;\">\n",
              "      <th></th>\n",
              "      <th>MSSubClass</th>\n",
              "      <th>LotArea</th>\n",
              "      <th>OverallQual</th>\n",
              "      <th>OverallCond</th>\n",
              "      <th>YearBuilt</th>\n",
              "      <th>YearRemodAdd</th>\n",
              "      <th>BsmtUnfSF</th>\n",
              "      <th>TotalBsmtSF</th>\n",
              "      <th>1stFlrSF</th>\n",
              "      <th>GrLivArea</th>\n",
              "      <th>FullBath</th>\n",
              "      <th>BedroomAbvGr</th>\n",
              "      <th>KitchenAbvGr</th>\n",
              "      <th>TotRmsAbvGrd</th>\n",
              "      <th>GarageYrBlt</th>\n",
              "      <th>GarageCars</th>\n",
              "      <th>GarageArea</th>\n",
              "      <th>MoSold</th>\n",
              "      <th>YrSold</th>\n",
              "      <th>SalePrice</th>\n",
              "    </tr>\n",
              "  </thead>\n",
              "  <tbody>\n",
              "    <tr>\n",
              "      <th>0</th>\n",
              "      <td>60</td>\n",
              "      <td>8450</td>\n",
              "      <td>7</td>\n",
              "      <td>5</td>\n",
              "      <td>2003</td>\n",
              "      <td>2003</td>\n",
              "      <td>150</td>\n",
              "      <td>856</td>\n",
              "      <td>856</td>\n",
              "      <td>1710</td>\n",
              "      <td>2</td>\n",
              "      <td>3</td>\n",
              "      <td>1</td>\n",
              "      <td>8</td>\n",
              "      <td>2003.0</td>\n",
              "      <td>2</td>\n",
              "      <td>548</td>\n",
              "      <td>2</td>\n",
              "      <td>2008</td>\n",
              "      <td>208500</td>\n",
              "    </tr>\n",
              "    <tr>\n",
              "      <th>1</th>\n",
              "      <td>20</td>\n",
              "      <td>9600</td>\n",
              "      <td>6</td>\n",
              "      <td>8</td>\n",
              "      <td>1976</td>\n",
              "      <td>1976</td>\n",
              "      <td>284</td>\n",
              "      <td>1262</td>\n",
              "      <td>1262</td>\n",
              "      <td>1262</td>\n",
              "      <td>2</td>\n",
              "      <td>3</td>\n",
              "      <td>1</td>\n",
              "      <td>6</td>\n",
              "      <td>1976.0</td>\n",
              "      <td>2</td>\n",
              "      <td>460</td>\n",
              "      <td>5</td>\n",
              "      <td>2007</td>\n",
              "      <td>181500</td>\n",
              "    </tr>\n",
              "    <tr>\n",
              "      <th>2</th>\n",
              "      <td>60</td>\n",
              "      <td>11250</td>\n",
              "      <td>7</td>\n",
              "      <td>5</td>\n",
              "      <td>2001</td>\n",
              "      <td>2002</td>\n",
              "      <td>434</td>\n",
              "      <td>920</td>\n",
              "      <td>920</td>\n",
              "      <td>1786</td>\n",
              "      <td>2</td>\n",
              "      <td>3</td>\n",
              "      <td>1</td>\n",
              "      <td>6</td>\n",
              "      <td>2001.0</td>\n",
              "      <td>2</td>\n",
              "      <td>608</td>\n",
              "      <td>9</td>\n",
              "      <td>2008</td>\n",
              "      <td>223500</td>\n",
              "    </tr>\n",
              "    <tr>\n",
              "      <th>3</th>\n",
              "      <td>70</td>\n",
              "      <td>9550</td>\n",
              "      <td>7</td>\n",
              "      <td>5</td>\n",
              "      <td>1915</td>\n",
              "      <td>1970</td>\n",
              "      <td>540</td>\n",
              "      <td>756</td>\n",
              "      <td>961</td>\n",
              "      <td>1717</td>\n",
              "      <td>1</td>\n",
              "      <td>3</td>\n",
              "      <td>1</td>\n",
              "      <td>7</td>\n",
              "      <td>1998.0</td>\n",
              "      <td>3</td>\n",
              "      <td>642</td>\n",
              "      <td>2</td>\n",
              "      <td>2006</td>\n",
              "      <td>140000</td>\n",
              "    </tr>\n",
              "    <tr>\n",
              "      <th>4</th>\n",
              "      <td>60</td>\n",
              "      <td>14260</td>\n",
              "      <td>8</td>\n",
              "      <td>5</td>\n",
              "      <td>2000</td>\n",
              "      <td>2000</td>\n",
              "      <td>490</td>\n",
              "      <td>1145</td>\n",
              "      <td>1145</td>\n",
              "      <td>2198</td>\n",
              "      <td>2</td>\n",
              "      <td>4</td>\n",
              "      <td>1</td>\n",
              "      <td>9</td>\n",
              "      <td>2000.0</td>\n",
              "      <td>3</td>\n",
              "      <td>836</td>\n",
              "      <td>12</td>\n",
              "      <td>2008</td>\n",
              "      <td>250000</td>\n",
              "    </tr>\n",
              "    <tr>\n",
              "      <th>5</th>\n",
              "      <td>50</td>\n",
              "      <td>14115</td>\n",
              "      <td>5</td>\n",
              "      <td>5</td>\n",
              "      <td>1993</td>\n",
              "      <td>1995</td>\n",
              "      <td>64</td>\n",
              "      <td>796</td>\n",
              "      <td>796</td>\n",
              "      <td>1362</td>\n",
              "      <td>1</td>\n",
              "      <td>1</td>\n",
              "      <td>1</td>\n",
              "      <td>5</td>\n",
              "      <td>1993.0</td>\n",
              "      <td>2</td>\n",
              "      <td>480</td>\n",
              "      <td>10</td>\n",
              "      <td>2009</td>\n",
              "      <td>143000</td>\n",
              "    </tr>\n",
              "    <tr>\n",
              "      <th>6</th>\n",
              "      <td>20</td>\n",
              "      <td>10084</td>\n",
              "      <td>8</td>\n",
              "      <td>5</td>\n",
              "      <td>2004</td>\n",
              "      <td>2005</td>\n",
              "      <td>317</td>\n",
              "      <td>1686</td>\n",
              "      <td>1694</td>\n",
              "      <td>1694</td>\n",
              "      <td>2</td>\n",
              "      <td>3</td>\n",
              "      <td>1</td>\n",
              "      <td>7</td>\n",
              "      <td>2004.0</td>\n",
              "      <td>2</td>\n",
              "      <td>636</td>\n",
              "      <td>8</td>\n",
              "      <td>2007</td>\n",
              "      <td>307000</td>\n",
              "    </tr>\n",
              "    <tr>\n",
              "      <th>7</th>\n",
              "      <td>60</td>\n",
              "      <td>10382</td>\n",
              "      <td>7</td>\n",
              "      <td>6</td>\n",
              "      <td>1973</td>\n",
              "      <td>1973</td>\n",
              "      <td>216</td>\n",
              "      <td>1107</td>\n",
              "      <td>1107</td>\n",
              "      <td>2090</td>\n",
              "      <td>2</td>\n",
              "      <td>3</td>\n",
              "      <td>1</td>\n",
              "      <td>7</td>\n",
              "      <td>1973.0</td>\n",
              "      <td>2</td>\n",
              "      <td>484</td>\n",
              "      <td>11</td>\n",
              "      <td>2009</td>\n",
              "      <td>200000</td>\n",
              "    </tr>\n",
              "    <tr>\n",
              "      <th>8</th>\n",
              "      <td>50</td>\n",
              "      <td>6120</td>\n",
              "      <td>7</td>\n",
              "      <td>5</td>\n",
              "      <td>1931</td>\n",
              "      <td>1950</td>\n",
              "      <td>952</td>\n",
              "      <td>952</td>\n",
              "      <td>1022</td>\n",
              "      <td>1774</td>\n",
              "      <td>2</td>\n",
              "      <td>2</td>\n",
              "      <td>2</td>\n",
              "      <td>8</td>\n",
              "      <td>1931.0</td>\n",
              "      <td>2</td>\n",
              "      <td>468</td>\n",
              "      <td>4</td>\n",
              "      <td>2008</td>\n",
              "      <td>129900</td>\n",
              "    </tr>\n",
              "    <tr>\n",
              "      <th>9</th>\n",
              "      <td>190</td>\n",
              "      <td>7420</td>\n",
              "      <td>5</td>\n",
              "      <td>6</td>\n",
              "      <td>1939</td>\n",
              "      <td>1950</td>\n",
              "      <td>140</td>\n",
              "      <td>991</td>\n",
              "      <td>1077</td>\n",
              "      <td>1077</td>\n",
              "      <td>1</td>\n",
              "      <td>2</td>\n",
              "      <td>2</td>\n",
              "      <td>5</td>\n",
              "      <td>1939.0</td>\n",
              "      <td>1</td>\n",
              "      <td>205</td>\n",
              "      <td>1</td>\n",
              "      <td>2008</td>\n",
              "      <td>118000</td>\n",
              "    </tr>\n",
              "  </tbody>\n",
              "</table>\n",
              "</div>\n",
              "      <button class=\"colab-df-convert\" onclick=\"convertToInteractive('df-4d062bf8-1cd4-4fd4-9940-9963f87a2a4b')\"\n",
              "              title=\"Convert this dataframe to an interactive table.\"\n",
              "              style=\"display:none;\">\n",
              "        \n",
              "  <svg xmlns=\"http://www.w3.org/2000/svg\" height=\"24px\"viewBox=\"0 0 24 24\"\n",
              "       width=\"24px\">\n",
              "    <path d=\"M0 0h24v24H0V0z\" fill=\"none\"/>\n",
              "    <path d=\"M18.56 5.44l.94 2.06.94-2.06 2.06-.94-2.06-.94-.94-2.06-.94 2.06-2.06.94zm-11 1L8.5 8.5l.94-2.06 2.06-.94-2.06-.94L8.5 2.5l-.94 2.06-2.06.94zm10 10l.94 2.06.94-2.06 2.06-.94-2.06-.94-.94-2.06-.94 2.06-2.06.94z\"/><path d=\"M17.41 7.96l-1.37-1.37c-.4-.4-.92-.59-1.43-.59-.52 0-1.04.2-1.43.59L10.3 9.45l-7.72 7.72c-.78.78-.78 2.05 0 2.83L4 21.41c.39.39.9.59 1.41.59.51 0 1.02-.2 1.41-.59l7.78-7.78 2.81-2.81c.8-.78.8-2.07 0-2.86zM5.41 20L4 18.59l7.72-7.72 1.47 1.35L5.41 20z\"/>\n",
              "  </svg>\n",
              "      </button>\n",
              "      \n",
              "  <style>\n",
              "    .colab-df-container {\n",
              "      display:flex;\n",
              "      flex-wrap:wrap;\n",
              "      gap: 12px;\n",
              "    }\n",
              "\n",
              "    .colab-df-convert {\n",
              "      background-color: #E8F0FE;\n",
              "      border: none;\n",
              "      border-radius: 50%;\n",
              "      cursor: pointer;\n",
              "      display: none;\n",
              "      fill: #1967D2;\n",
              "      height: 32px;\n",
              "      padding: 0 0 0 0;\n",
              "      width: 32px;\n",
              "    }\n",
              "\n",
              "    .colab-df-convert:hover {\n",
              "      background-color: #E2EBFA;\n",
              "      box-shadow: 0px 1px 2px rgba(60, 64, 67, 0.3), 0px 1px 3px 1px rgba(60, 64, 67, 0.15);\n",
              "      fill: #174EA6;\n",
              "    }\n",
              "\n",
              "    [theme=dark] .colab-df-convert {\n",
              "      background-color: #3B4455;\n",
              "      fill: #D2E3FC;\n",
              "    }\n",
              "\n",
              "    [theme=dark] .colab-df-convert:hover {\n",
              "      background-color: #434B5C;\n",
              "      box-shadow: 0px 1px 3px 1px rgba(0, 0, 0, 0.15);\n",
              "      filter: drop-shadow(0px 1px 2px rgba(0, 0, 0, 0.3));\n",
              "      fill: #FFFFFF;\n",
              "    }\n",
              "  </style>\n",
              "\n",
              "      <script>\n",
              "        const buttonEl =\n",
              "          document.querySelector('#df-4d062bf8-1cd4-4fd4-9940-9963f87a2a4b button.colab-df-convert');\n",
              "        buttonEl.style.display =\n",
              "          google.colab.kernel.accessAllowed ? 'block' : 'none';\n",
              "\n",
              "        async function convertToInteractive(key) {\n",
              "          const element = document.querySelector('#df-4d062bf8-1cd4-4fd4-9940-9963f87a2a4b');\n",
              "          const dataTable =\n",
              "            await google.colab.kernel.invokeFunction('convertToInteractive',\n",
              "                                                     [key], {});\n",
              "          if (!dataTable) return;\n",
              "\n",
              "          const docLinkHtml = 'Like what you see? Visit the ' +\n",
              "            '<a target=\"_blank\" href=https://colab.research.google.com/notebooks/data_table.ipynb>data table notebook</a>'\n",
              "            + ' to learn more about interactive tables.';\n",
              "          element.innerHTML = '';\n",
              "          dataTable['output_type'] = 'display_data';\n",
              "          await google.colab.output.renderOutput(dataTable, element);\n",
              "          const docLink = document.createElement('div');\n",
              "          docLink.innerHTML = docLinkHtml;\n",
              "          element.appendChild(docLink);\n",
              "        }\n",
              "      </script>\n",
              "    </div>\n",
              "  </div>\n",
              "  "
            ]
          },
          "metadata": {},
          "execution_count": 24
        }
      ]
    },
    {
      "cell_type": "code",
      "source": [
        "\"\"\"fig = plt.figure(figsize=(15,16))\n",
        "df = pd.DataFrame(X_train, columns = colsTrain)\n",
        "\n",
        "cm = np.corrcoef(df[colsTrain].values.T)\n",
        "sns.set(font_scale=1.5)\n",
        "hm = sns.heatmap(cm, cbar=True, annot=True, square=True, fmt='.2f',\n",
        "                 annot_kws={'size': 15},yticklabels=colsTrain, xticklabels=colsTrain)\n",
        "plt.show()\"\"\""
      ],
      "metadata": {
        "colab": {
          "base_uri": "https://localhost:8080/",
          "height": 70
        },
        "id": "strsVEjTNAbK",
        "outputId": "e6645f3d-cc8a-458a-cdd1-111c801048b7"
      },
      "execution_count": null,
      "outputs": [
        {
          "output_type": "execute_result",
          "data": {
            "text/plain": [
              "\"fig = plt.figure(figsize=(15,16))\\ndf = pd.DataFrame(X_train, columns = colsTrain)\\n\\ncm = np.corrcoef(df[colsTrain].values.T)\\nsns.set(font_scale=1.5)\\nhm = sns.heatmap(cm, cbar=True, annot=True, square=True, fmt='.2f',\\n                 annot_kws={'size': 15},yticklabels=colsTrain, xticklabels=colsTrain)\\nplt.show()\""
            ],
            "application/vnd.google.colaboratory.intrinsic+json": {
              "type": "string"
            }
          },
          "metadata": {},
          "execution_count": 25
        }
      ]
    },
    {
      "cell_type": "markdown",
      "source": [
        "Con el mapa de calor visto anteriormente se seleccionaran las siguientes características que poseen una linealidad directamente proporcional con el valor de la compra arriba de un 59%\n",
        "\n",
        "OverallQual\n",
        "\n",
        "\n",
        "\n",
        "\n",
        "*   TotalBsmtSF\n",
        "*   1stFlrSF\n",
        "\n",
        "*   GrLivArea\n",
        "*   GarageCars\n",
        "*   GarageArea\n",
        "\n",
        "\n",
        "\n",
        "\n",
        "\n",
        "\n",
        "\n",
        "\n",
        "\n",
        "\n",
        "\n",
        "\n",
        "\n",
        "\n",
        "\n",
        "\n",
        "\n",
        "\n",
        "\n",
        "\n",
        "\n"
      ],
      "metadata": {
        "id": "eWqivKF1Xu4f"
      }
    },
    {
      "cell_type": "code",
      "source": [
        "colsTest = ['OverallQual','TotalBsmtSF','1stFlrSF','GrLivArea',\n",
        "             'GarageCars','GarageArea']\n",
        "\n",
        "test_df = test_df[colsTest]\n",
        "\n",
        "\n",
        "colsTrain = ['OverallQual','TotalBsmtSF','1stFlrSF','GrLivArea',\n",
        "             'GarageCars','GarageArea','SalePrice']\n",
        "X_train = train_df[colsTrain]\n",
        "df = pd.DataFrame(X_train, columns = colsTrain)\n",
        "print(\"X_train shape:\", X_train.shape)"
      ],
      "metadata": {
        "id": "autJdB1bWu4F",
        "colab": {
          "base_uri": "https://localhost:8080/"
        },
        "outputId": "4ac4b2b6-4b56-46e5-b07d-af94402dba82"
      },
      "execution_count": null,
      "outputs": [
        {
          "output_type": "stream",
          "name": "stdout",
          "text": [
            "X_train shape: (1347, 7)\n"
          ]
        }
      ]
    },
    {
      "cell_type": "code",
      "source": [
        "\"\"\"sns.set_theme(style=\"ticks\")\n",
        "sns.pairplot(df, hue=\"SalePrice\")\"\"\""
      ],
      "metadata": {
        "colab": {
          "base_uri": "https://localhost:8080/",
          "height": 35
        },
        "id": "Rd_dfK3ZRt_L",
        "outputId": "9ba1c3a3-19f1-4092-dbbb-9a0074d89609"
      },
      "execution_count": null,
      "outputs": [
        {
          "output_type": "execute_result",
          "data": {
            "text/plain": [
              "'sns.set_theme(style=\"ticks\")\\nsns.pairplot(df, hue=\"SalePrice\")'"
            ],
            "application/vnd.google.colaboratory.intrinsic+json": {
              "type": "string"
            }
          },
          "metadata": {},
          "execution_count": 27
        }
      ]
    },
    {
      "cell_type": "markdown",
      "source": [
        " **Definiendo los valores de x_train y validación**\n"
      ],
      "metadata": {
        "id": "voqADT15dJwy"
      }
    },
    {
      "cell_type": "code",
      "source": [
        "X_train = X_train.iloc[:, :-1]\n",
        "X_train.head(10)"
      ],
      "metadata": {
        "colab": {
          "base_uri": "https://localhost:8080/",
          "height": 363
        },
        "id": "ZCAQb1e9hx8B",
        "outputId": "7c980348-c3c7-4ab4-a227-1fa2487f5292"
      },
      "execution_count": null,
      "outputs": [
        {
          "output_type": "execute_result",
          "data": {
            "text/plain": [
              "   OverallQual  TotalBsmtSF  1stFlrSF  GrLivArea  GarageCars  GarageArea\n",
              "0            7          856       856       1710           2         548\n",
              "1            6         1262      1262       1262           2         460\n",
              "2            7          920       920       1786           2         608\n",
              "3            7          756       961       1717           3         642\n",
              "4            8         1145      1145       2198           3         836\n",
              "5            5          796       796       1362           2         480\n",
              "6            8         1686      1694       1694           2         636\n",
              "7            7         1107      1107       2090           2         484\n",
              "8            7          952      1022       1774           2         468\n",
              "9            5          991      1077       1077           1         205"
            ],
            "text/html": [
              "\n",
              "  <div id=\"df-7df47390-1956-419c-9c1a-27719985e6b0\">\n",
              "    <div class=\"colab-df-container\">\n",
              "      <div>\n",
              "<style scoped>\n",
              "    .dataframe tbody tr th:only-of-type {\n",
              "        vertical-align: middle;\n",
              "    }\n",
              "\n",
              "    .dataframe tbody tr th {\n",
              "        vertical-align: top;\n",
              "    }\n",
              "\n",
              "    .dataframe thead th {\n",
              "        text-align: right;\n",
              "    }\n",
              "</style>\n",
              "<table border=\"1\" class=\"dataframe\">\n",
              "  <thead>\n",
              "    <tr style=\"text-align: right;\">\n",
              "      <th></th>\n",
              "      <th>OverallQual</th>\n",
              "      <th>TotalBsmtSF</th>\n",
              "      <th>1stFlrSF</th>\n",
              "      <th>GrLivArea</th>\n",
              "      <th>GarageCars</th>\n",
              "      <th>GarageArea</th>\n",
              "    </tr>\n",
              "  </thead>\n",
              "  <tbody>\n",
              "    <tr>\n",
              "      <th>0</th>\n",
              "      <td>7</td>\n",
              "      <td>856</td>\n",
              "      <td>856</td>\n",
              "      <td>1710</td>\n",
              "      <td>2</td>\n",
              "      <td>548</td>\n",
              "    </tr>\n",
              "    <tr>\n",
              "      <th>1</th>\n",
              "      <td>6</td>\n",
              "      <td>1262</td>\n",
              "      <td>1262</td>\n",
              "      <td>1262</td>\n",
              "      <td>2</td>\n",
              "      <td>460</td>\n",
              "    </tr>\n",
              "    <tr>\n",
              "      <th>2</th>\n",
              "      <td>7</td>\n",
              "      <td>920</td>\n",
              "      <td>920</td>\n",
              "      <td>1786</td>\n",
              "      <td>2</td>\n",
              "      <td>608</td>\n",
              "    </tr>\n",
              "    <tr>\n",
              "      <th>3</th>\n",
              "      <td>7</td>\n",
              "      <td>756</td>\n",
              "      <td>961</td>\n",
              "      <td>1717</td>\n",
              "      <td>3</td>\n",
              "      <td>642</td>\n",
              "    </tr>\n",
              "    <tr>\n",
              "      <th>4</th>\n",
              "      <td>8</td>\n",
              "      <td>1145</td>\n",
              "      <td>1145</td>\n",
              "      <td>2198</td>\n",
              "      <td>3</td>\n",
              "      <td>836</td>\n",
              "    </tr>\n",
              "    <tr>\n",
              "      <th>5</th>\n",
              "      <td>5</td>\n",
              "      <td>796</td>\n",
              "      <td>796</td>\n",
              "      <td>1362</td>\n",
              "      <td>2</td>\n",
              "      <td>480</td>\n",
              "    </tr>\n",
              "    <tr>\n",
              "      <th>6</th>\n",
              "      <td>8</td>\n",
              "      <td>1686</td>\n",
              "      <td>1694</td>\n",
              "      <td>1694</td>\n",
              "      <td>2</td>\n",
              "      <td>636</td>\n",
              "    </tr>\n",
              "    <tr>\n",
              "      <th>7</th>\n",
              "      <td>7</td>\n",
              "      <td>1107</td>\n",
              "      <td>1107</td>\n",
              "      <td>2090</td>\n",
              "      <td>2</td>\n",
              "      <td>484</td>\n",
              "    </tr>\n",
              "    <tr>\n",
              "      <th>8</th>\n",
              "      <td>7</td>\n",
              "      <td>952</td>\n",
              "      <td>1022</td>\n",
              "      <td>1774</td>\n",
              "      <td>2</td>\n",
              "      <td>468</td>\n",
              "    </tr>\n",
              "    <tr>\n",
              "      <th>9</th>\n",
              "      <td>5</td>\n",
              "      <td>991</td>\n",
              "      <td>1077</td>\n",
              "      <td>1077</td>\n",
              "      <td>1</td>\n",
              "      <td>205</td>\n",
              "    </tr>\n",
              "  </tbody>\n",
              "</table>\n",
              "</div>\n",
              "      <button class=\"colab-df-convert\" onclick=\"convertToInteractive('df-7df47390-1956-419c-9c1a-27719985e6b0')\"\n",
              "              title=\"Convert this dataframe to an interactive table.\"\n",
              "              style=\"display:none;\">\n",
              "        \n",
              "  <svg xmlns=\"http://www.w3.org/2000/svg\" height=\"24px\"viewBox=\"0 0 24 24\"\n",
              "       width=\"24px\">\n",
              "    <path d=\"M0 0h24v24H0V0z\" fill=\"none\"/>\n",
              "    <path d=\"M18.56 5.44l.94 2.06.94-2.06 2.06-.94-2.06-.94-.94-2.06-.94 2.06-2.06.94zm-11 1L8.5 8.5l.94-2.06 2.06-.94-2.06-.94L8.5 2.5l-.94 2.06-2.06.94zm10 10l.94 2.06.94-2.06 2.06-.94-2.06-.94-.94-2.06-.94 2.06-2.06.94z\"/><path d=\"M17.41 7.96l-1.37-1.37c-.4-.4-.92-.59-1.43-.59-.52 0-1.04.2-1.43.59L10.3 9.45l-7.72 7.72c-.78.78-.78 2.05 0 2.83L4 21.41c.39.39.9.59 1.41.59.51 0 1.02-.2 1.41-.59l7.78-7.78 2.81-2.81c.8-.78.8-2.07 0-2.86zM5.41 20L4 18.59l7.72-7.72 1.47 1.35L5.41 20z\"/>\n",
              "  </svg>\n",
              "      </button>\n",
              "      \n",
              "  <style>\n",
              "    .colab-df-container {\n",
              "      display:flex;\n",
              "      flex-wrap:wrap;\n",
              "      gap: 12px;\n",
              "    }\n",
              "\n",
              "    .colab-df-convert {\n",
              "      background-color: #E8F0FE;\n",
              "      border: none;\n",
              "      border-radius: 50%;\n",
              "      cursor: pointer;\n",
              "      display: none;\n",
              "      fill: #1967D2;\n",
              "      height: 32px;\n",
              "      padding: 0 0 0 0;\n",
              "      width: 32px;\n",
              "    }\n",
              "\n",
              "    .colab-df-convert:hover {\n",
              "      background-color: #E2EBFA;\n",
              "      box-shadow: 0px 1px 2px rgba(60, 64, 67, 0.3), 0px 1px 3px 1px rgba(60, 64, 67, 0.15);\n",
              "      fill: #174EA6;\n",
              "    }\n",
              "\n",
              "    [theme=dark] .colab-df-convert {\n",
              "      background-color: #3B4455;\n",
              "      fill: #D2E3FC;\n",
              "    }\n",
              "\n",
              "    [theme=dark] .colab-df-convert:hover {\n",
              "      background-color: #434B5C;\n",
              "      box-shadow: 0px 1px 3px 1px rgba(0, 0, 0, 0.15);\n",
              "      filter: drop-shadow(0px 1px 2px rgba(0, 0, 0, 0.3));\n",
              "      fill: #FFFFFF;\n",
              "    }\n",
              "  </style>\n",
              "\n",
              "      <script>\n",
              "        const buttonEl =\n",
              "          document.querySelector('#df-7df47390-1956-419c-9c1a-27719985e6b0 button.colab-df-convert');\n",
              "        buttonEl.style.display =\n",
              "          google.colab.kernel.accessAllowed ? 'block' : 'none';\n",
              "\n",
              "        async function convertToInteractive(key) {\n",
              "          const element = document.querySelector('#df-7df47390-1956-419c-9c1a-27719985e6b0');\n",
              "          const dataTable =\n",
              "            await google.colab.kernel.invokeFunction('convertToInteractive',\n",
              "                                                     [key], {});\n",
              "          if (!dataTable) return;\n",
              "\n",
              "          const docLinkHtml = 'Like what you see? Visit the ' +\n",
              "            '<a target=\"_blank\" href=https://colab.research.google.com/notebooks/data_table.ipynb>data table notebook</a>'\n",
              "            + ' to learn more about interactive tables.';\n",
              "          element.innerHTML = '';\n",
              "          dataTable['output_type'] = 'display_data';\n",
              "          await google.colab.output.renderOutput(dataTable, element);\n",
              "          const docLink = document.createElement('div');\n",
              "          docLink.innerHTML = docLinkHtml;\n",
              "          element.appendChild(docLink);\n",
              "        }\n",
              "      </script>\n",
              "    </div>\n",
              "  </div>\n",
              "  "
            ]
          },
          "metadata": {},
          "execution_count": 28
        }
      ]
    },
    {
      "cell_type": "code",
      "source": [
        "X_train, X_test, y_train, y_test = train_test_split(X_train, Y, test_size= 0.30, random_state = 0)"
      ],
      "metadata": {
        "id": "JCAGi84ddOkQ"
      },
      "execution_count": null,
      "outputs": []
    },
    {
      "cell_type": "markdown",
      "source": [
        "###Lineal Ridge Regresion"
      ],
      "metadata": {
        "id": "JFVNfgvwL69_"
      }
    },
    {
      "cell_type": "code",
      "source": [
        "#fila 8\n",
        "X_new = np.array([7,952,1022,1774,2,468], ndmin=2)"
      ],
      "metadata": {
        "id": "TBl1TuYBgOrB"
      },
      "execution_count": null,
      "outputs": []
    },
    {
      "cell_type": "code",
      "source": [
        "from sklearn.linear_model import Ridge\n",
        "\n",
        "ridge = Ridge().fit(X_train, y_train)\n",
        "print(\"Training set score: {:.2f}\".format(ridge.score(X_train, y_train)))\n",
        "print(\"Test set score: {:.2f}\".format(ridge.score(X_test, y_test)))"
      ],
      "metadata": {
        "colab": {
          "base_uri": "https://localhost:8080/"
        },
        "id": "Ga78Vl5DMGcf",
        "outputId": "983bf205-652f-4fc4-ceab-8d97e8ddb3a7"
      },
      "execution_count": null,
      "outputs": [
        {
          "output_type": "stream",
          "name": "stdout",
          "text": [
            "Training set score: 0.75\n",
            "Test set score: 0.77\n"
          ]
        }
      ]
    },
    {
      "cell_type": "code",
      "source": [
        "ridge = Ridge(alpha=30).fit(X_train, y_train)\n",
        "print(\"Training set score: {:.2f}\".format(ridge.score(X_train, y_train)))\n",
        "print(\"Test set score: {:.2f}\".format(ridge.score(X_test, y_test)))\n",
        "y_pred_test = ridge.predict(X_test)\n",
        "y_pred_new = ridge.predict(X_new)\n",
        "print(\"Predicción de X_new %s\", y_pred_new) \n"
      ],
      "metadata": {
        "colab": {
          "base_uri": "https://localhost:8080/"
        },
        "id": "a7X-IVBgecQU",
        "outputId": "84f20c48-4bbd-40bd-e6c6-5790e9a7db67"
      },
      "execution_count": null,
      "outputs": [
        {
          "output_type": "stream",
          "name": "stdout",
          "text": [
            "Training set score: 0.75\n",
            "Test set score: 0.77\n",
            "Predicción de X_new %s [214092.94569249]\n"
          ]
        },
        {
          "output_type": "stream",
          "name": "stderr",
          "text": [
            "/usr/local/lib/python3.7/dist-packages/sklearn/base.py:451: UserWarning: X does not have valid feature names, but Ridge was fitted with feature names\n",
            "  \"X does not have valid feature names, but\"\n"
          ]
        }
      ]
    },
    {
      "cell_type": "code",
      "source": [
        "!pip install mglearn"
      ],
      "metadata": {
        "colab": {
          "base_uri": "https://localhost:8080/"
        },
        "id": "7tEdPkMBnUzi",
        "outputId": "2f6b8920-ef46-456e-e5ee-b22669ee4e15"
      },
      "execution_count": null,
      "outputs": [
        {
          "output_type": "stream",
          "name": "stdout",
          "text": [
            "Collecting mglearn\n",
            "  Downloading mglearn-0.1.9.tar.gz (540 kB)\n",
            "\u001b[K     |████████████████████████████████| 540 kB 5.1 MB/s \n",
            "\u001b[?25hRequirement already satisfied: numpy in /usr/local/lib/python3.7/dist-packages (from mglearn) (1.21.6)\n",
            "Requirement already satisfied: matplotlib in /usr/local/lib/python3.7/dist-packages (from mglearn) (3.2.2)\n",
            "Requirement already satisfied: scikit-learn in /usr/local/lib/python3.7/dist-packages (from mglearn) (1.0.2)\n",
            "Requirement already satisfied: pandas in /usr/local/lib/python3.7/dist-packages (from mglearn) (1.3.5)\n",
            "Requirement already satisfied: pillow in /usr/local/lib/python3.7/dist-packages (from mglearn) (7.1.2)\n",
            "Requirement already satisfied: cycler in /usr/local/lib/python3.7/dist-packages (from mglearn) (0.11.0)\n",
            "Requirement already satisfied: imageio in /usr/local/lib/python3.7/dist-packages (from mglearn) (2.4.1)\n",
            "Requirement already satisfied: joblib in /usr/local/lib/python3.7/dist-packages (from mglearn) (1.1.0)\n",
            "Requirement already satisfied: python-dateutil>=2.1 in /usr/local/lib/python3.7/dist-packages (from matplotlib->mglearn) (2.8.2)\n",
            "Requirement already satisfied: pyparsing!=2.0.4,!=2.1.2,!=2.1.6,>=2.0.1 in /usr/local/lib/python3.7/dist-packages (from matplotlib->mglearn) (3.0.8)\n",
            "Requirement already satisfied: kiwisolver>=1.0.1 in /usr/local/lib/python3.7/dist-packages (from matplotlib->mglearn) (1.4.2)\n",
            "Requirement already satisfied: typing-extensions in /usr/local/lib/python3.7/dist-packages (from kiwisolver>=1.0.1->matplotlib->mglearn) (4.2.0)\n",
            "Requirement already satisfied: six>=1.5 in /usr/local/lib/python3.7/dist-packages (from python-dateutil>=2.1->matplotlib->mglearn) (1.15.0)\n",
            "Requirement already satisfied: pytz>=2017.3 in /usr/local/lib/python3.7/dist-packages (from pandas->mglearn) (2022.1)\n",
            "Requirement already satisfied: scipy>=1.1.0 in /usr/local/lib/python3.7/dist-packages (from scikit-learn->mglearn) (1.4.1)\n",
            "Requirement already satisfied: threadpoolctl>=2.0.0 in /usr/local/lib/python3.7/dist-packages (from scikit-learn->mglearn) (3.1.0)\n",
            "Building wheels for collected packages: mglearn\n",
            "  Building wheel for mglearn (setup.py) ... \u001b[?25l\u001b[?25hdone\n",
            "  Created wheel for mglearn: filename=mglearn-0.1.9-py2.py3-none-any.whl size=582639 sha256=a6da82e2f0fd1395ba6f1d978ec7393019f056b317b20b6ff4848d776e891f28\n",
            "  Stored in directory: /root/.cache/pip/wheels/f1/17/e1/1720d6dcd70187b6b6c3750cb3508798f2b1d57c9d3214b08b\n",
            "Successfully built mglearn\n",
            "Installing collected packages: mglearn\n",
            "Successfully installed mglearn-0.1.9\n"
          ]
        }
      ]
    },
    {
      "cell_type": "code",
      "source": [
        "ridge_training_accuracy = []\n",
        "ridge_test_accuracy = []\n",
        "# try n_neighbors from 1 to 10\n",
        "alpha_ridge_settings =np.arange(0.01, 200)\n",
        "#vector = [x for x in np.arange(5, 200)]\n",
        "#print(vector)\n",
        "for alpha_ridge in alpha_ridge_settings:\n",
        "    #print(n_neighbors)\n",
        "    # build the model\n",
        "    ridge = Ridge(alpha=alpha_ridge)\n",
        "    ridge.fit(X_train, y_train)\n",
        "    # record training set accuracy\n",
        "    ridge_training_accuracy.append(ridge.score(X_train, y_train))\n",
        "    # record generalization accuracy\n",
        "    ridge_test_accuracy.append(ridge.score(X_test, y_test))\n",
        "\n",
        "#print('training_accuracy: ', training_accuracy)\n",
        "#print('test_accuracy: ', test_accuracy)\n",
        "plt.plot(alpha_ridge_settings, ridge_training_accuracy, label=\"training accuracy\")\n",
        "plt.plot(alpha_ridge_settings, ridge_test_accuracy, label=\"test accuracy\")\n",
        "plt.ylabel(\"Accuracy\")\n",
        "plt.xlabel(\"alpha_ridge\")\n",
        "plt.xlim(0, 200)\n",
        "plt.legend()"
      ],
      "metadata": {
        "colab": {
          "base_uri": "https://localhost:8080/"
        },
        "id": "KkmHEY17emv5",
        "outputId": "7f682b2e-eb88-4eba-8212-fcca2c717695"
      },
      "execution_count": null,
      "outputs": [
        {
          "output_type": "execute_result",
          "data": {
            "text/plain": [
              "<matplotlib.legend.Legend at 0x7fa3e3fa9c50>"
            ]
          },
          "metadata": {},
          "execution_count": 34
        },
        {
          "output_type": "display_data",
          "data": {
            "text/plain": [
              "<Figure size 432x288 with 1 Axes>"
            ],
            "image/png": "[encoded data removed]"
          },
          "metadata": {
            "needs_background": "light"
          }
        }
      ]
    },
    {
      "cell_type": "markdown",
      "source": [
        "## Linear Lasso Regresion"
      ],
      "metadata": {
        "id": "ty1CD6-bDaGN"
      }
    },
    {
      "cell_type": "code",
      "source": [
        "from sklearn.linear_model import Lasso\n",
        "\n",
        "# we increase the default setting of \"max_iter\",\n",
        "# otherwise the model would warn us that we should increase max_iter.\n",
        "lasso001 = Lasso(alpha=0.01, max_iter=100000).fit(X_train, y_train)\n",
        "print(\"Training set score: {:.2f}\".format(lasso001.score(X_train, y_train)))\n",
        "print(\"Test set score: {:.2f}\".format(lasso001.score(X_test, y_test)))\n",
        "print(\"Number of features used:\", np.sum(lasso001.coef_ != 0))\n",
        "print(\"features diferentes de cero:\",lasso001.coef_ != 0)\n",
        "print(\"Feature names:\\n\", X_train.keys()[1:-1])"
      ],
      "metadata": {
        "colab": {
          "base_uri": "https://localhost:8080/"
        },
        "id": "U0n-VUbIDeZV",
        "outputId": "bf746b1d-394d-4e84-f789-d161a9e51090"
      },
      "execution_count": null,
      "outputs": [
        {
          "output_type": "stream",
          "name": "stdout",
          "text": [
            "Training set score: 0.75\n",
            "Test set score: 0.77\n",
            "Number of features used: 6\n",
            "features diferentes de cero: [ True  True  True  True  True  True]\n",
            "Feature names:\n",
            " Index(['TotalBsmtSF', '1stFlrSF', 'GrLivArea', 'GarageCars'], dtype='object')\n"
          ]
        }
      ]
    },
    {
      "cell_type": "code",
      "source": [
        "lasso_training_accuracy = []\n",
        "lasso_test_accuracy = []\n",
        "# try n_neighbors from 1 to 10\n",
        "alpha_laso_settings =np.arange(0.01, 10, 0.5)\n",
        "vector = [x for x in np.arange(0.01, 10, 0.5)]\n",
        "#print(vector)\n",
        "for alpha_lasso in alpha_laso_settings:\n",
        "    #print(alpha_lasso)\n",
        "    # build the model\n",
        "    lasso001 = Lasso(alpha=alpha_lasso, max_iter=100000)\n",
        "    lasso001.fit(X_train, y_train)\n",
        "    # record training set accuracy\n",
        "    lasso_training_accuracy.append(lasso001.score(X_train, y_train))\n",
        "    # record generalization accuracy\n",
        "    lasso_test_accuracy.append(lasso001.score(X_test, y_test))\n",
        "\n",
        "#print('training_accuracy: ', training_accuracy)\n",
        "#print('test_accuracy: ', test_accuracy)\n",
        "plt.plot(alpha_laso_settings, lasso_training_accuracy, label=\"training accuracy\")\n",
        "plt.plot(alpha_laso_settings, lasso_test_accuracy, label=\"test accuracy\")\n",
        "plt.ylabel(\"Accuracy\")\n",
        "plt.xlabel(\"alpha_lasso\")\n",
        "plt.xlim(0, 10)\n",
        "plt.legend()"
      ],
      "metadata": {
        "colab": {
          "base_uri": "https://localhost:8080/"
        },
        "id": "ImQZCnZKDv4p",
        "outputId": "26aff062-9450-47fa-a625-fbe1f3864f65"
      },
      "execution_count": null,
      "outputs": [
        {
          "output_type": "execute_result",
          "data": {
            "text/plain": [
              "<matplotlib.legend.Legend at 0x7fa3e2704790>"
            ]
          },
          "metadata": {},
          "execution_count": 36
        },
        {
          "output_type": "display_data",
          "data": {
            "text/plain": [
              "<Figure size 432x288 with 1 Axes>"
            ],
            "image/png": "[encoded data removed]"
          },
          "metadata": {
            "needs_background": "light"
          }
        }
      ]
    },
    {
      "cell_type": "markdown",
      "source": [
        "##k-neighbors regression"
      ],
      "metadata": {
        "id": "DNHTo8NrG3bI"
      }
    },
    {
      "cell_type": "code",
      "source": [
        "from sklearn.neighbors import KNeighborsRegressor\n",
        "\n",
        "# instantiate the model and set the number of neighbors to consider to 3\n",
        "reg = KNeighborsRegressor(n_neighbors=3)\n",
        "# fit the model using the training data and training targets\n",
        "reg.fit(X_train, y_train)"
      ],
      "metadata": {
        "colab": {
          "base_uri": "https://localhost:8080/"
        },
        "id": "kTYfHvcXG5ou",
        "outputId": "e875b310-c082-4f80-ee73-b17f842e4f26"
      },
      "execution_count": null,
      "outputs": [
        {
          "output_type": "execute_result",
          "data": {
            "text/plain": [
              "KNeighborsRegressor(n_neighbors=3)"
            ]
          },
          "metadata": {},
          "execution_count": 37
        }
      ]
    },
    {
      "cell_type": "code",
      "source": [
        "print(\"Test set R^2: {:.2f}\".format(reg.score(X_test, y_test)))"
      ],
      "metadata": {
        "colab": {
          "base_uri": "https://localhost:8080/"
        },
        "id": "izumZin9HTFi",
        "outputId": "6f540613-5c74-4260-8cc5-4260f1dc2453"
      },
      "execution_count": null,
      "outputs": [
        {
          "output_type": "stream",
          "name": "stdout",
          "text": [
            "Test set R^2: 0.66\n"
          ]
        }
      ]
    },
    {
      "cell_type": "markdown",
      "source": [
        "##Suport Vector Regresion"
      ],
      "metadata": {
        "id": "yAySTm0EIl8m"
      }
    },
    {
      "cell_type": "code",
      "source": [
        "from sklearn import svm\n",
        "\n",
        "regr = svm.SVR(C=1000000, epsilon=0.05)\n",
        "regr.fit(X_train, y_train)\n",
        "regr.predict(X_test)"
      ],
      "metadata": {
        "colab": {
          "base_uri": "https://localhost:8080/"
        },
        "id": "D7sXDac4Iv4U",
        "outputId": "2bca544d-5df6-4014-8ed7-deea33fdc571"
      },
      "execution_count": null,
      "outputs": [
        {
          "output_type": "execute_result",
          "data": {
            "text/plain": [
              "array([188579.35227138, 226083.40896128, 204998.38484766, 420585.14148781,\n",
              "       242518.39418373, 235537.057351  , 130853.93346834, 131485.29955149,\n",
              "       139657.82226683, 201107.33394776, 116991.77127879, 277240.01824311,\n",
              "       181718.61383238, 146446.07586523, 172733.3677484 , 106185.44674984,\n",
              "       148930.57987006, 165674.93250955, 138846.83348551, 390460.52663984,\n",
              "       122562.38236098, 125958.22009324, 146940.36513936, 156110.39990291,\n",
              "       211260.6711455 , 165310.00456062, 175271.69475756, 190174.19531207,\n",
              "       125155.5236002 , 251790.59146771, 167496.25046152, 179625.87083734,\n",
              "       146960.4835839 , 164056.83791933, 139533.60497679, 222465.39823084,\n",
              "       132710.46832191, 226423.39761563, 117347.78117236, 266324.9662558 ,\n",
              "       144227.1657313 , 369497.23170848, 131690.17009903, 143789.96290568,\n",
              "       171792.61771363, 138452.66016322, 230240.1066066 , 163298.24457402,\n",
              "       572383.32915111, 191878.81230224, 312325.93024852, 201657.15564284,\n",
              "       242553.31202044, 226347.52162393, 125539.60411448, 152056.45527842,\n",
              "       131898.45599192,  93031.51891826, 149495.06859112, 246085.80196613,\n",
              "       212097.61479032, 166621.62600135, 128802.45367349, 276872.3252893 ,\n",
              "       274897.79008267, 183995.20092462, 309973.03599565, 188703.90714233,\n",
              "       182088.11251128, 118625.32533582, 158087.64152259, 199482.00557154,\n",
              "       184699.01908101, 136003.8313521 , 334011.82968495, 155479.23192464,\n",
              "       237825.6915333 , 290879.25873669, 122109.88072144, 155682.11738736,\n",
              "       131544.531014  , 286340.84380939, 201216.41126638, 159994.63093654,\n",
              "       156343.57658111, 160947.78313876, 374236.47949034, 209553.16202711,\n",
              "       143094.28714699, 204662.13323902, 215010.66215149, 266621.4618466 ,\n",
              "       206612.88570077, 238374.01432906, 130994.82913882, 127902.8734672 ,\n",
              "       122369.00094415, 183257.40409404, 173231.89378166, 114378.03343259,\n",
              "       268484.12888181, 220413.52202751, 207411.79405632, 198953.22486992,\n",
              "       184181.61656137, 192687.26511334, 125737.37250317, 298847.37253421,\n",
              "       125932.59482494, 134899.89013054, 119197.17904558, 151872.26981768,\n",
              "       139668.71331962, 225486.63016847, 195275.82789279, 175962.06944692,\n",
              "       169182.2724095 , 144192.25618688, 162503.94921111, 113834.42772857,\n",
              "       201815.40336286, 190379.49477417, 196906.72089581, 239922.52025495,\n",
              "       360226.31201938, 154180.21737   , 211948.17844646, 156724.24374109,\n",
              "       125263.58640577, 124412.75414313, 138277.40249233, 262968.561995  ,\n",
              "       303713.38007182, 147391.22147492, 190846.41834444, 234107.65434312,\n",
              "       158593.71628516, 160623.56539794, 356913.63150385, 152486.17594558,\n",
              "       166992.98901796, 186194.84285696, 144780.85974928, 180368.02696094,\n",
              "       167197.10148028, 130684.6677789 , 153470.09058175, 105529.71339571,\n",
              "       166697.58167102, 162097.46208531, 202634.57726441, 156812.49005747,\n",
              "       187664.70704934, 166440.42746818, 210662.57111661, 124330.66868198,\n",
              "       162466.04721674, 187181.1170576 , 121937.02816464, 191275.95038372,\n",
              "       280216.99742307, 157209.39527783, 149646.37513747, 220477.11037476,\n",
              "       132611.28826707, 129749.29637844, 147230.07182798, 139426.83199433,\n",
              "       232759.11249136, 189492.41749289, 150502.29979496, 219511.4572694 ,\n",
              "       168437.37316045, 126187.47164104, 102693.67060459, 125737.37250317,\n",
              "       298832.73701911, 197532.23842526, 216147.36311758, 147240.90065928,\n",
              "       304129.06409039, 135793.19341418, 178761.62829737, 167157.19848981,\n",
              "       129440.12566109, 343161.87688875, 131346.8923096 , 242750.90241912,\n",
              "       206667.37674483, 128174.50186307, 218152.52071765, 185293.10526901,\n",
              "       126623.26067393, 129676.61400653, 133192.51937689, 205423.18280667,\n",
              "       149022.83169048, 184136.24431187, 157302.91530569, 148441.92397484,\n",
              "       226674.81731692, 165316.19550723, 146673.70577868, 172207.10064899,\n",
              "       191677.56781054, 241708.74088814, 130442.44151309, 115581.54609473,\n",
              "       188633.1453044 , 157091.26717957, 136959.38187787, 110268.97426031,\n",
              "       233280.99523307, 416179.34203412, 178186.64347239, 133131.98285061,\n",
              "       241200.1653091 , 245434.82395332, 237543.12430112, 318060.17453921,\n",
              "       144838.16583383, 112798.33283433, 189975.02980484, 177002.79330212,\n",
              "       147230.07182798, 273033.25186231, 162145.74725495, 182267.63673854,\n",
              "       131962.84024234, 173500.9197306 , 147621.98165254, 131217.30515799,\n",
              "       156282.79836023, 126952.62252236, 217019.14943691, 131045.56169584,\n",
              "       129268.96828829, 150929.22315557, 192779.6432899 , 165940.94170055,\n",
              "       157994.26412937, 168688.18358361, 149754.5702769 , 175287.6088048 ,\n",
              "       142593.90169852, 190232.11358025, 231794.33786918, 141172.10084288,\n",
              "       113090.35487414, 318661.64616231, 172170.97462417, 148593.38390136,\n",
              "       131612.26850222, 154000.21212878, 167121.19990434, 134428.83689254,\n",
              "       140516.05243946, 141693.09078628, 326986.30331508, 428380.80677341,\n",
              "       136065.92440104, 184204.59400018, 170896.66224849, 168888.42586109,\n",
              "       280053.96685817, 152800.90728058, 185127.35336794, 200514.10403738,\n",
              "       141106.61530721, 149657.39570277, 185293.10526901, 139845.84121108,\n",
              "       129489.99170374, 164905.08114096, 321445.9563912 , 131203.92349908,\n",
              "       180136.25457236, 151849.35874041, 116269.90758828, 201561.23337166,\n",
              "       132354.53687543, 267437.09067901, 126178.16518303, 233212.58897589,\n",
              "       153727.82324164, 157574.38206656, 128646.73558624, 359498.9494097 ,\n",
              "       129078.68983499, 140813.00285807, 187581.0715356 , 147704.21845   ,\n",
              "       284627.54962489, 158693.73914066, 136141.73823996, 180470.81858766,\n",
              "       165678.77001363, 107892.32331933, 242867.52475041, 177650.36842568,\n",
              "       144011.48008348, 100599.83158948, 118403.98987193, 166966.95816425,\n",
              "       212624.40856112, 128986.42204671, 195843.35099101, 164281.64740897,\n",
              "       148546.88612629, 192419.16079742, 138880.65009532, 145347.65579246,\n",
              "       149796.64547417, 105489.00297934, 140874.73076875, 154476.02547423,\n",
              "       133697.22476411, 125737.37250317, 163116.5115677 , 276115.18042282,\n",
              "       134855.72444277, 198865.78774327, 204536.35087774, 173557.56885838,\n",
              "       156571.09068209, 251588.44476424, 210739.04123129, 158326.93203044,\n",
              "       165377.04912322, 156650.75948357, 131802.23715908, 304669.45581142,\n",
              "        89500.6692873 , 135824.08740847, 142348.28315006, 170722.47932212,\n",
              "       189983.74354513, 153976.88532606, 138048.99127106, 133666.85176941,\n",
              "       219511.15342201, 275058.70768048, 175446.2404815 , 123810.79336566,\n",
              "       255064.65074758, 147864.10824816, 122644.82014855, 131791.99702271,\n",
              "       323049.78662698, 240672.92852499, 130032.06586261, 138883.5052297 ,\n",
              "       164423.8295605 , 242065.82553294, 155247.74708749, 281232.96336238,\n",
              "       175424.83720093, 119752.25260818, 140784.62625404, 219234.43508487,\n",
              "       235109.67825016, 381855.12725643, 173853.95182636, 285565.54848289,\n",
              "       112651.72311563, 313778.84703679, 245494.54995801, 244802.76991339,\n",
              "       137218.89802943, 140873.7062007 , 244291.05761566, 173015.28469048,\n",
              "       213840.10898322, 335933.99626682, 178255.62372465, 115869.33202359,\n",
              "       170607.26882938, 163304.49686634, 164714.39183338, 224121.88462667,\n",
              "       146524.82180968, 148817.18226163, 176058.8976611 , 249843.11334154,\n",
              "       163357.61509694, 124442.61790573, 170409.70479777, 231542.09418361,\n",
              "       197451.90467178, 121055.80578298, 150715.8063543 , 101247.39735287,\n",
              "       311812.62766086, 143362.55943699, 225855.05388519, 203670.13328675,\n",
              "       129529.764234  , 255869.92504339, 201856.90375759, 144528.19136725,\n",
              "       132470.78048779, 202181.2732514 , 142202.26884326, 135459.22563131,\n",
              "       157453.51712443])"
            ]
          },
          "metadata": {},
          "execution_count": 39
        }
      ]
    },
    {
      "cell_type": "code",
      "source": [
        "print(\"Test set SVD {:.2f}\".format(regr.score(X_test, y_test)))"
      ],
      "metadata": {
        "colab": {
          "base_uri": "https://localhost:8080/"
        },
        "id": "GCpEXjH5I87r",
        "outputId": "39a25e4d-ffda-4cf1-8883-cd108e37a5e0"
      },
      "execution_count": null,
      "outputs": [
        {
          "output_type": "stream",
          "name": "stdout",
          "text": [
            "Test set SVD 0.73\n"
          ]
        }
      ]
    },
    {
      "cell_type": "markdown",
      "source": [
        "#Scaled Features and PCA : Training"
      ],
      "metadata": {
        "id": "iknb42_TmEku"
      }
    },
    {
      "cell_type": "markdown",
      "source": [
        "Ahora realizaremos el escalado de los datos, observando la visualización\n",
        "de facets, se tiene que cada características tiene rangos muy altos. Por ende aplicaremos tranformaciones para ver el desempeño nuestros modelos lineal"
      ],
      "metadata": {
        "id": "HJmVekX26VoW"
      }
    },
    {
      "cell_type": "code",
      "source": [
        "#PCA"
      ],
      "metadata": {
        "id": "dnuaxOHqN9zv"
      },
      "execution_count": null,
      "outputs": []
    },
    {
      "cell_type": "markdown",
      "source": [
        "##Standar Scaler"
      ],
      "metadata": {
        "id": "BKvI-BoX5-ey"
      }
    },
    {
      "cell_type": "markdown",
      "source": [
        "###Linear Ridge Model Standar Scaler"
      ],
      "metadata": {
        "id": "-JFbm1y26HfX"
      }
    },
    {
      "cell_type": "code",
      "source": [
        "from sklearn.preprocessing import StandardScaler\n",
        "scaler = StandardScaler()\n",
        "scaler.fit(X_train)\n",
        "X_train_scaled = scaler.transform(X_train)\n",
        "X_test_scaled = scaler.transform(X_test)\n"
      ],
      "metadata": {
        "id": "YpHXSPhh64HI"
      },
      "execution_count": null,
      "outputs": []
    },
    {
      "cell_type": "code",
      "source": [
        "ridge = Ridge(alpha=50)\n",
        "\n",
        "ridge.fit(X_train_scaled, y_train)\n",
        "\n",
        "print(\"Scaled Training set score: {:.2f}\".format(ridge.score(X_train_scaled, y_train)))\n",
        "print(\"Scaled Test set score: {:.2f}\".format(ridge.score(X_test_scaled, y_test)))"
      ],
      "metadata": {
        "colab": {
          "base_uri": "https://localhost:8080/"
        },
        "id": "BFG_CJLjmJ2t",
        "outputId": "daef278c-d657-41df-a9a5-a3a1a4392f40"
      },
      "execution_count": null,
      "outputs": [
        {
          "output_type": "stream",
          "name": "stdout",
          "text": [
            "Scaled Training set score: 0.75\n",
            "Scaled Test set score: 0.76\n"
          ]
        }
      ]
    },
    {
      "cell_type": "markdown",
      "source": [
        "PCA standar scaler - Ridge linear regression"
      ],
      "metadata": {
        "id": "XSwz5tj5Zj4p"
      }
    },
    {
      "cell_type": "code",
      "source": [
        "from sklearn.decomposition import PCA\n",
        "pca = PCA(n_components=3, whiten=True, random_state=0)\n",
        "#PCA\n",
        "pca.fit(X_train_scaled) # Obtain the principal components\n",
        "# transform/project dataset\n",
        "X_pca_train = pca.transform(X_train_scaled)\n",
        "X_pca_test = pca.transform(X_test_scaled)\n",
        "\n",
        "pca.explained_variance_ratio_.sum()"
      ],
      "metadata": {
        "colab": {
          "base_uri": "https://localhost:8080/"
        },
        "id": "uyuetcHvZN-w",
        "outputId": "b38986fc-fbb7-4331-c618-54082a749113"
      },
      "execution_count": null,
      "outputs": [
        {
          "output_type": "execute_result",
          "data": {
            "text/plain": [
              "0.8916159754416612"
            ]
          },
          "metadata": {},
          "execution_count": 44
        }
      ]
    },
    {
      "cell_type": "code",
      "source": [
        "ridge = Ridge(alpha=50)\n",
        "\n",
        "ridge.fit(X_pca_train, y_train)\n",
        "print(\"Scaled PCA Training set score: {:.2f}\".format(ridge.score(X_pca_train, y_train)))\n",
        "print(\"Scaled PCA Test set score: {:.2f}\".format(ridge.score(X_pca_test, y_test)))"
      ],
      "metadata": {
        "colab": {
          "base_uri": "https://localhost:8080/"
        },
        "id": "ur-HA6e6ZUpj",
        "outputId": "19cefb6a-7eec-4b5a-87fb-830bf5829b98"
      },
      "execution_count": null,
      "outputs": [
        {
          "output_type": "stream",
          "name": "stdout",
          "text": [
            "Scaled PCA Training set score: 0.74\n",
            "Scaled PCA Test set score: 0.75\n"
          ]
        }
      ]
    },
    {
      "cell_type": "markdown",
      "source": [
        "###Linear Lasso regresion model Standar Scaler"
      ],
      "metadata": {
        "id": "Bxn2vQxe7F4g"
      }
    },
    {
      "cell_type": "code",
      "source": [
        "from sklearn.linear_model import Lasso\n",
        "\n",
        "# we increase the default setting of \"max_iter\",\n",
        "# otherwise the model would warn us that we should increase max_iter.\n",
        "lasso001 = Lasso(alpha=0.0001, max_iter=100000).fit(X_train_scaled, y_train)\n",
        "print(\"Training set score: {:.2f}\".format(lasso001.score(X_train_scaled, y_train)))\n",
        "print(\"Test set score: {:.2f}\".format(lasso001.score(X_test_scaled, y_test)))\n",
        "print(\"Number of features used:\", np.sum(lasso001.coef_ != 0))\n",
        "print(\"features diferentes de cero:\",lasso001.coef_ != 0)\n",
        "print(\"Feature names:\\n\", X_train.keys()[1:-1])"
      ],
      "metadata": {
        "colab": {
          "base_uri": "https://localhost:8080/"
        },
        "id": "yAA5ofxG6uDo",
        "outputId": "05aa28fc-cab6-4d40-b262-24e728237939"
      },
      "execution_count": null,
      "outputs": [
        {
          "output_type": "stream",
          "name": "stdout",
          "text": [
            "Training set score: 0.75\n",
            "Test set score: 0.77\n",
            "Number of features used: 6\n",
            "features diferentes de cero: [ True  True  True  True  True  True]\n",
            "Feature names:\n",
            " Index(['TotalBsmtSF', '1stFlrSF', 'GrLivArea', 'GarageCars'], dtype='object')\n"
          ]
        }
      ]
    },
    {
      "cell_type": "markdown",
      "source": [
        "PCA - Linear Lasso regresion model Standar Scaler"
      ],
      "metadata": {
        "id": "0rvwns94c9wi"
      }
    },
    {
      "cell_type": "code",
      "source": [
        "pca_lasso_standar = PCA(n_components=3, whiten=True, random_state=0)\n",
        "#PCA\n",
        "pca_lasso_standar.fit(X_train_scaled) # Obtain the principal components\n",
        "# transform/project dataset\n",
        "X_pca_train_lasso_standar = pca_lasso_standar.transform(X_train_scaled)\n",
        "X_pca_test_lasso_standar = pca_lasso_standar.transform(X_test_scaled)\n",
        "\n",
        "pca_lasso_standar.explained_variance_ratio_.sum()"
      ],
      "metadata": {
        "colab": {
          "base_uri": "https://localhost:8080/"
        },
        "id": "gSDg-5BWbTfV",
        "outputId": "1caa353e-fe33-4281-d570-25e6ff34c538"
      },
      "execution_count": null,
      "outputs": [
        {
          "output_type": "execute_result",
          "data": {
            "text/plain": [
              "0.8916159754416612"
            ]
          },
          "metadata": {},
          "execution_count": 47
        }
      ]
    },
    {
      "cell_type": "code",
      "source": [
        "lasso001 = Lasso(alpha=0.01, max_iter=1000).fit(X_pca_train_lasso_standar, y_train)\n",
        "print(\"Training set score: {:.2f}\".format(lasso001.score(X_pca_train_lasso_standar, y_train)))\n",
        "print(\"Test set score: {:.2f}\".format(lasso001.score(X_pca_test_lasso_standar, y_test)))\n",
        "print(\"Number of features used:\", np.sum(lasso001.coef_ != 0))\n",
        "print(\"features diferentes de cero:\",lasso001.coef_ != 0)\n",
        "print(\"Feature names:\\n\", X_train.keys()[1:-1])"
      ],
      "metadata": {
        "colab": {
          "base_uri": "https://localhost:8080/"
        },
        "id": "lZn0361gbUsP",
        "outputId": "43d67237-e789-48c9-ecf3-06420dfd6a59"
      },
      "execution_count": null,
      "outputs": [
        {
          "output_type": "stream",
          "name": "stdout",
          "text": [
            "Training set score: 0.74\n",
            "Test set score: 0.75\n",
            "Number of features used: 3\n",
            "features diferentes de cero: [ True  True  True]\n",
            "Feature names:\n",
            " Index(['TotalBsmtSF', '1stFlrSF', 'GrLivArea', 'GarageCars'], dtype='object')\n"
          ]
        }
      ]
    },
    {
      "cell_type": "markdown",
      "source": [
        "### Kneighbors regresion model Standar Scaler"
      ],
      "metadata": {
        "id": "crB233of7lep"
      }
    },
    {
      "cell_type": "code",
      "source": [
        "# instantiate the model and set the number of neighbors to consider to 3\n",
        "reg = KNeighborsRegressor(n_neighbors=4)\n",
        "# fit the model using the training data and training targets\n",
        "reg.fit(X_train_scaled, y_train)\n",
        "print(\"Train set R^2: {:.2f}\".format(reg.score(X_train_scaled, y_train)))\n",
        "print(\"Test set R^2: {:.2f}\".format(reg.score(X_test_scaled, y_test)))"
      ],
      "metadata": {
        "colab": {
          "base_uri": "https://localhost:8080/"
        },
        "id": "lxfqPOBo7peF",
        "outputId": "f982f18d-44c3-4669-c1b2-ba21503c8098"
      },
      "execution_count": null,
      "outputs": [
        {
          "output_type": "stream",
          "name": "stdout",
          "text": [
            "Train set R^2: 0.85\n",
            "Test set R^2: 0.81\n"
          ]
        }
      ]
    },
    {
      "cell_type": "markdown",
      "source": [
        "PCA - Kneighbors regresion model Standar Scaler"
      ],
      "metadata": {
        "id": "owGkZDLCekkL"
      }
    },
    {
      "cell_type": "code",
      "source": [
        "pca_Kneighbors_standar = PCA(n_components=3, whiten=True, random_state=0)\n",
        "#PCA\n",
        "pca_Kneighbors_standar.fit(X_train_scaled) # Obtain the principal components\n",
        "# transform/project dataset\n",
        "X_pca_train_Kneighbors_standar = pca_Kneighbors_standar.transform(X_train_scaled)\n",
        "X_pca_test_Kneighbors_standar = pca_Kneighbors_standar.transform(X_test_scaled)\n",
        "\n",
        "pca_Kneighbors_standar.explained_variance_ratio_.sum()"
      ],
      "metadata": {
        "colab": {
          "base_uri": "https://localhost:8080/"
        },
        "id": "j4aq9Z4XdFaC",
        "outputId": "e494329d-e965-4f63-b318-631aa24af380"
      },
      "execution_count": null,
      "outputs": [
        {
          "output_type": "execute_result",
          "data": {
            "text/plain": [
              "0.8916159754416612"
            ]
          },
          "metadata": {},
          "execution_count": 50
        }
      ]
    },
    {
      "cell_type": "code",
      "source": [
        "# instantiate the model and set the number of neighbors to consider to 3\n",
        "reg = KNeighborsRegressor(n_neighbors=7)\n",
        "# fit the model using the training data and training targets\n",
        "reg.fit(X_pca_train_Kneighbors_standar, y_train)\n",
        "print(\"Train set R^2: {:.2f}\".format(reg.score(X_pca_train_Kneighbors_standar, y_train)))\n",
        "print(\"Test set R^2: {:.2f}\".format(reg.score(X_pca_test_Kneighbors_standar, y_test)))"
      ],
      "metadata": {
        "colab": {
          "base_uri": "https://localhost:8080/"
        },
        "id": "42rzFTIcdQVF",
        "outputId": "8ea74053-6ba0-4124-ca83-df18d92f4840"
      },
      "execution_count": null,
      "outputs": [
        {
          "output_type": "stream",
          "name": "stdout",
          "text": [
            "Train set R^2: 0.82\n",
            "Test set R^2: 0.77\n"
          ]
        }
      ]
    },
    {
      "cell_type": "markdown",
      "source": [
        "Hasta el momento kneighbors regresor nos da el mayor desempeño con los datos de validación."
      ],
      "metadata": {
        "id": "IUUPub0Z74tO"
      }
    },
    {
      "cell_type": "markdown",
      "source": [
        "### Support Vector Regresion Standar Scaler"
      ],
      "metadata": {
        "id": "cidqh0xT8IYz"
      }
    },
    {
      "cell_type": "code",
      "source": [
        "SVMregr = svm.SVR(C=1000000, epsilon=0.05)\n",
        "SVMregr.fit(X_train_scaled, y_train)\n",
        "\n",
        "print(\"Train set SVD {:.2f}\".format(SVMregr.score(X_train_scaled, y_train)))\n",
        "print(\"Test set SVD {:.2f}\".format(SVMregr.score(X_test_scaled, y_test)))"
      ],
      "metadata": {
        "colab": {
          "base_uri": "https://localhost:8080/"
        },
        "id": "__Gjwx-h8Mjv",
        "outputId": "abc94861-6079-4f8e-a467-646e37d51224"
      },
      "execution_count": null,
      "outputs": [
        {
          "output_type": "stream",
          "name": "stdout",
          "text": [
            "Train set SVD 0.91\n",
            "Test set SVD 0.84\n"
          ]
        }
      ]
    },
    {
      "cell_type": "code",
      "source": [
        "pca_SVMregr_standar = PCA(n_components=3, whiten=True, random_state=0)\n",
        "#PCA\n",
        "pca_SVMregr_standar.fit(X_train_scaled) # Obtain the principal components\n",
        "# transform/project dataset\n",
        "X_pca_train_SVMregr_standar = pca_SVMregr_standar.transform(X_train_scaled)\n",
        "X_pca_test_SVMregr_standar = pca_SVMregr_standar.transform(X_test_scaled)\n",
        "\n",
        "pca_SVMregr_standar.explained_variance_ratio_.sum()"
      ],
      "metadata": {
        "colab": {
          "base_uri": "https://localhost:8080/"
        },
        "id": "4g7-1Hi1euX6",
        "outputId": "3065b491-1567-45ce-af53-b14f83eea869"
      },
      "execution_count": null,
      "outputs": [
        {
          "output_type": "execute_result",
          "data": {
            "text/plain": [
              "0.8916159754416612"
            ]
          },
          "metadata": {},
          "execution_count": 53
        }
      ]
    },
    {
      "cell_type": "code",
      "source": [
        "SVMregr = svm.SVR(C=1000000, epsilon=0.05)\n",
        "SVMregr.fit(X_pca_train_SVMregr_standar, y_train)\n",
        "\n",
        "print(\"Train set SVD {:.2f}\".format(SVMregr.score(X_pca_train_SVMregr_standar, y_train)))\n",
        "print(\"Test set SVD {:.2f}\".format(SVMregr.score(X_pca_test_SVMregr_standar, y_test)))"
      ],
      "metadata": {
        "colab": {
          "base_uri": "https://localhost:8080/"
        },
        "id": "1_6sq3HWevXO",
        "outputId": "0b069de7-1fda-4212-da4c-cd18abbfb1ab"
      },
      "execution_count": null,
      "outputs": [
        {
          "output_type": "stream",
          "name": "stdout",
          "text": [
            "Train set SVD 0.88\n",
            "Test set SVD 0.79\n"
          ]
        }
      ]
    },
    {
      "cell_type": "markdown",
      "source": [
        "El segundo mejor desempeño ahora lo tenemos con las máquinas de soporte vectorial."
      ],
      "metadata": {
        "id": "XbJV0US_81Wt"
      }
    },
    {
      "cell_type": "markdown",
      "source": [
        "## Robust Scaler"
      ],
      "metadata": {
        "id": "Eqw2TfwF_jhD"
      }
    },
    {
      "cell_type": "markdown",
      "source": [
        "Puesto que el dataset tiene datos altamente variables, observemos como se comporta con un escalamiento robusto, para evitar caer en outliners"
      ],
      "metadata": {
        "id": "0CXSrslcBiZq"
      }
    },
    {
      "cell_type": "markdown",
      "source": [
        "###Linear Ridge Model Robust Scaler"
      ],
      "metadata": {
        "id": "p2l5ygcFD3Kk"
      }
    },
    {
      "cell_type": "code",
      "source": [
        "from sklearn.preprocessing import RobustScaler\n",
        "scaler = RobustScaler()\n",
        "scaler.fit(X_train)\n",
        "X_train_scaled = scaler.transform(X_train)\n",
        "X_test_scaled = scaler.transform(X_test)"
      ],
      "metadata": {
        "id": "GmjidB3n_nkU"
      },
      "execution_count": null,
      "outputs": []
    },
    {
      "cell_type": "code",
      "source": [
        "ridge = Ridge(alpha=30)\n",
        "ridge.fit(X_train_scaled, y_train)\n",
        "\n",
        "print(\"Scaled Training set score: {:.2f}\".format(ridge.score(X_train_scaled, y_train)))\n",
        "print(\"Scaled Test set score: {:.2f}\".format(ridge.score(X_test_scaled, y_test)))"
      ],
      "metadata": {
        "colab": {
          "base_uri": "https://localhost:8080/"
        },
        "id": "zafdUc1BCnZq",
        "outputId": "6ac61bfd-bec5-4e5e-df17-dfd7e861dfc9"
      },
      "execution_count": null,
      "outputs": [
        {
          "output_type": "stream",
          "name": "stdout",
          "text": [
            "Scaled Training set score: 0.75\n",
            "Scaled Test set score: 0.76\n"
          ]
        }
      ]
    },
    {
      "cell_type": "markdown",
      "source": [
        "PCA - Linear Ridge Model Robust Scaler"
      ],
      "metadata": {
        "id": "fEmlhF0pmRcj"
      }
    },
    {
      "cell_type": "code",
      "source": [
        "pca_ridge_Robust = PCA(n_components=3, whiten=True, random_state=0)\n",
        "#PCA\n",
        "pca_ridge_Robust.fit(X_train_scaled) # Obtain the principal components\n",
        "# transform/project dataset\n",
        "X_pca_train_ridge_Robust = pca_ridge_Robust.transform(X_train_scaled)\n",
        "X_pca_test_ridge_Robust = pca_ridge_Robust.transform(X_test_scaled)\n",
        "\n",
        "pca_ridge_Robust.explained_variance_ratio_.sum()"
      ],
      "metadata": {
        "colab": {
          "base_uri": "https://localhost:8080/"
        },
        "id": "cTTDSRNLjSYt",
        "outputId": "40bc7039-b315-4f50-9c5f-93e992d23e3f"
      },
      "execution_count": null,
      "outputs": [
        {
          "output_type": "execute_result",
          "data": {
            "text/plain": [
              "0.9027930050518143"
            ]
          },
          "metadata": {},
          "execution_count": 57
        }
      ]
    },
    {
      "cell_type": "code",
      "source": [
        "ridge = Ridge(alpha=50)\n",
        "ridge.fit(X_pca_train_ridge_Robust, y_train)\n",
        "\n",
        "print(\"Scaled Training set score: {:.2f}\".format(ridge.score(X_pca_train_ridge_Robust, y_train)))\n",
        "print(\"Scaled Test set score: {:.2f}\".format(ridge.score(X_pca_test_ridge_Robust, y_test)))"
      ],
      "metadata": {
        "colab": {
          "base_uri": "https://localhost:8080/"
        },
        "id": "KSSQCFb0jrM0",
        "outputId": "f94f850a-1aa7-4eb7-9436-6c50c13367c8"
      },
      "execution_count": null,
      "outputs": [
        {
          "output_type": "stream",
          "name": "stdout",
          "text": [
            "Scaled Training set score: 0.71\n",
            "Scaled Test set score: 0.71\n"
          ]
        }
      ]
    },
    {
      "cell_type": "markdown",
      "source": [
        "###Linear Lasso Model Robust Scaler"
      ],
      "metadata": {
        "id": "EAo1eSOtEB-7"
      }
    },
    {
      "cell_type": "code",
      "source": [
        "# we increase the default setting of \"max_iter\",\n",
        "# otherwise the model would warn us that we should increase max_iter.\n",
        "lasso001 = Lasso(alpha=0.01, max_iter=100000).fit(X_train_scaled, y_train)\n",
        "print(\"Training set score: {:.2f}\".format(lasso001.score(X_train_scaled, y_train)))\n",
        "print(\"Test set score: {:.2f}\".format(lasso001.score(X_test_scaled, y_test)))\n",
        "print(\"Number of features used:\", np.sum(lasso001.coef_ != 0))\n",
        "print(\"features diferentes de cero:\",lasso001.coef_ != 0)\n",
        "print(\"Feature names:\\n\", X_train.keys()[1:-1])"
      ],
      "metadata": {
        "colab": {
          "base_uri": "https://localhost:8080/"
        },
        "id": "Ap7O76AsEH3E",
        "outputId": "21124837-5975-42c3-c9df-549af0e0da67"
      },
      "execution_count": null,
      "outputs": [
        {
          "output_type": "stream",
          "name": "stdout",
          "text": [
            "Training set score: 0.75\n",
            "Test set score: 0.77\n",
            "Number of features used: 6\n",
            "features diferentes de cero: [ True  True  True  True  True  True]\n",
            "Feature names:\n",
            " Index(['TotalBsmtSF', '1stFlrSF', 'GrLivArea', 'GarageCars'], dtype='object')\n"
          ]
        }
      ]
    },
    {
      "cell_type": "markdown",
      "source": [
        "PCA - Linear Lasso Model Robust Scaler"
      ],
      "metadata": {
        "id": "f4fk4q_Rm76V"
      }
    },
    {
      "cell_type": "code",
      "source": [
        "pca_lasso_Robust = PCA(n_components=3, whiten=True, random_state=0)\n",
        "#PCA\n",
        "pca_lasso_Robust.fit(X_train_scaled) # Obtain the principal components\n",
        "# transform/project dataset\n",
        "X_pca_train_lasso_Robust = pca_lasso_Robust.transform(X_train_scaled)\n",
        "X_pca_test_lasso_Robust = pca_lasso_Robust.transform(X_test_scaled)\n",
        "\n",
        "pca_lasso_Robust.explained_variance_ratio_.sum()"
      ],
      "metadata": {
        "colab": {
          "base_uri": "https://localhost:8080/"
        },
        "id": "xu7Y9OHYmZOD",
        "outputId": "83c82619-3bb8-441b-d3be-26c64cec688c"
      },
      "execution_count": null,
      "outputs": [
        {
          "output_type": "execute_result",
          "data": {
            "text/plain": [
              "0.9027930050518143"
            ]
          },
          "metadata": {},
          "execution_count": 60
        }
      ]
    },
    {
      "cell_type": "code",
      "source": [
        "# we increase the default setting of \"max_iter\",\n",
        "# otherwise the model would warn us that we should increase max_iter.\n",
        "lasso001 = Lasso(alpha=0.001, max_iter=100000).fit(X_pca_train_lasso_Robust, y_train)\n",
        "print(\"Training set score: {:.2f}\".format(lasso001.score(X_pca_train_lasso_Robust, y_train)))\n",
        "print(\"Test set score: {:.2f}\".format(lasso001.score(X_pca_test_lasso_Robust, y_test)))\n",
        "print(\"Number of features used:\", np.sum(lasso001.coef_ != 0))\n",
        "print(\"features diferentes de cero:\",lasso001.coef_ != 0)\n",
        "print(\"Feature names:\\n\", X_train.keys()[1:-1])"
      ],
      "metadata": {
        "colab": {
          "base_uri": "https://localhost:8080/"
        },
        "id": "0kp6fXkTmi_s",
        "outputId": "eea8728c-c353-4203-d793-dfb96b3f8e1a"
      },
      "execution_count": null,
      "outputs": [
        {
          "output_type": "stream",
          "name": "stdout",
          "text": [
            "Training set score: 0.71\n",
            "Test set score: 0.72\n",
            "Number of features used: 3\n",
            "features diferentes de cero: [ True  True  True]\n",
            "Feature names:\n",
            " Index(['TotalBsmtSF', '1stFlrSF', 'GrLivArea', 'GarageCars'], dtype='object')\n"
          ]
        }
      ]
    },
    {
      "cell_type": "markdown",
      "source": [
        "### Kneighbors regresion model Robust Scaler"
      ],
      "metadata": {
        "id": "Dvl5wU7aEUtm"
      }
    },
    {
      "cell_type": "code",
      "source": [
        "# instantiate the model and set the number of neighbors to consider to 3\n",
        "reg = KNeighborsRegressor(n_neighbors=4)\n",
        "# fit the model using the training data and training targets\n",
        "reg.fit(X_train_scaled, y_train)\n",
        "print(\"Train set R^2: {:.2f}\".format(reg.score(X_train_scaled, y_train)))\n",
        "print(\"Test set R^2: {:.2f}\".format(reg.score(X_test_scaled, y_test)))"
      ],
      "metadata": {
        "colab": {
          "base_uri": "https://localhost:8080/"
        },
        "id": "ZOjUAmwkEXOp",
        "outputId": "98073926-eca5-4063-ff9a-77992d86f321"
      },
      "execution_count": null,
      "outputs": [
        {
          "output_type": "stream",
          "name": "stdout",
          "text": [
            "Train set R^2: 0.85\n",
            "Test set R^2: 0.81\n"
          ]
        }
      ]
    },
    {
      "cell_type": "markdown",
      "source": [
        "PCA - Kneighbors regresion model Robust Scaler"
      ],
      "metadata": {
        "id": "sE5EZf8doM3-"
      }
    },
    {
      "cell_type": "code",
      "source": [
        "pca_reg_Robust = PCA(n_components=3, whiten=True, random_state=0)\n",
        "#PCA\n",
        "pca_reg_Robust.fit(X_train_scaled) # Obtain the principal components\n",
        "# transform/project dataset\n",
        "X_pca_train_reg_Robust = pca_reg_Robust.transform(X_train_scaled)\n",
        "X_pca_test_reg_Robust = pca_reg_Robust.transform(X_test_scaled)\n",
        "\n",
        "pca_reg_Robust.explained_variance_ratio_.sum()"
      ],
      "metadata": {
        "colab": {
          "base_uri": "https://localhost:8080/"
        },
        "id": "bOXZoF4Jn4-C",
        "outputId": "df547747-2566-4c08-c40b-e0d605f2e3e7"
      },
      "execution_count": null,
      "outputs": [
        {
          "output_type": "execute_result",
          "data": {
            "text/plain": [
              "0.9027930050518143"
            ]
          },
          "metadata": {},
          "execution_count": 63
        }
      ]
    },
    {
      "cell_type": "code",
      "source": [
        "# instantiate the model and set the number of neighbors to consider to 3\n",
        "reg = KNeighborsRegressor(n_neighbors=4)\n",
        "# fit the model using the training data and training targets\n",
        "reg.fit(X_pca_train_reg_Robust, y_train)\n",
        "print(\"Train set R^2: {:.2f}\".format(reg.score(X_pca_train_reg_Robust, y_train)))\n",
        "print(\"Test set R^2: {:.2f}\".format(reg.score(X_pca_test_reg_Robust, y_test)))"
      ],
      "metadata": {
        "colab": {
          "base_uri": "https://localhost:8080/"
        },
        "id": "LnFMiM5ZoF3B",
        "outputId": "27c71d5b-20c1-442b-ae45-bf83b55807cc"
      },
      "execution_count": null,
      "outputs": [
        {
          "output_type": "stream",
          "name": "stdout",
          "text": [
            "Train set R^2: 0.83\n",
            "Test set R^2: 0.75\n"
          ]
        }
      ]
    },
    {
      "cell_type": "markdown",
      "source": [
        "### Support Vector Regresion Robust Scaler"
      ],
      "metadata": {
        "id": "1xTU1WCUE936"
      }
    },
    {
      "cell_type": "code",
      "source": [
        "regr = svm.SVR(C=1000000, epsilon=0.05)\n",
        "regr.fit(X_train_scaled, y_train)\n",
        "regr.predict(X_test)\n",
        "print(\"Train set SVD {:.2f}\".format(regr.score(X_train_scaled, y_train)))\n",
        "print(\"Test set SVD {:.2f}\".format(regr.score(X_test_scaled, y_test)))"
      ],
      "metadata": {
        "colab": {
          "base_uri": "https://localhost:8080/"
        },
        "id": "oEYF8-37E--L",
        "outputId": "a260b937-13c0-42fb-bedb-236630e3058d"
      },
      "execution_count": null,
      "outputs": [
        {
          "output_type": "stream",
          "name": "stdout",
          "text": [
            "Train set SVD 0.91\n",
            "Test set SVD 0.84\n"
          ]
        },
        {
          "output_type": "stream",
          "name": "stderr",
          "text": [
            "/usr/local/lib/python3.7/dist-packages/sklearn/base.py:444: UserWarning: X has feature names, but SVR was fitted without feature names\n",
            "  f\"X has feature names, but {self.__class__.__name__} was fitted without\"\n"
          ]
        }
      ]
    },
    {
      "cell_type": "code",
      "source": [
        "pca_SVM_Robust = PCA(n_components=3, whiten=True, random_state=0)\n",
        "#PCA\n",
        "pca_SVM_Robust.fit(X_train_scaled) # Obtain the principal components\n",
        "# transform/project dataset\n",
        "X_pca_train_SVM_Robust = pca_SVM_Robust.transform(X_train_scaled)\n",
        "X_pca_test_SVM_Robust = pca_SVM_Robust.transform(X_test_scaled)\n",
        "\n",
        "pca_SVM_Robust.explained_variance_ratio_.sum()"
      ],
      "metadata": {
        "colab": {
          "base_uri": "https://localhost:8080/"
        },
        "id": "uQxxYqMpoUSU",
        "outputId": "f23cb0b0-473b-4407-fc74-48ba76bf9ecb"
      },
      "execution_count": null,
      "outputs": [
        {
          "output_type": "execute_result",
          "data": {
            "text/plain": [
              "0.9027930050518143"
            ]
          },
          "metadata": {},
          "execution_count": 66
        }
      ]
    },
    {
      "cell_type": "code",
      "source": [
        "regr = svm.SVR(C=1000000, epsilon=0.5)\n",
        "regr.fit(X_pca_train_SVM_Robust, y_train)\n",
        "print(\"Train set SVD {:.2f}\".format(regr.score(X_pca_train_SVM_Robust, y_train)))\n",
        "print(\"Test set SVD {:.2f}\".format(regr.score(X_pca_test_SVM_Robust, y_test)))"
      ],
      "metadata": {
        "colab": {
          "base_uri": "https://localhost:8080/"
        },
        "id": "Hh5KALCTokCQ",
        "outputId": "00d07541-e4cd-4d5f-d7c2-34b7c179406f"
      },
      "execution_count": null,
      "outputs": [
        {
          "output_type": "stream",
          "name": "stdout",
          "text": [
            "Train set SVD 0.88\n",
            "Test set SVD 0.75\n"
          ]
        }
      ]
    },
    {
      "cell_type": "markdown",
      "source": [
        "Puede observarse que los valores fueron muy similares con la tranformación estandar. Eso muestra que los outliners **almenos con las características** escogidas no representa un problema en entrenamiento del modelo."
      ],
      "metadata": {
        "id": "oUTQB-Z7FEAb"
      }
    },
    {
      "cell_type": "markdown",
      "source": [
        "##MinMaxScaler"
      ],
      "metadata": {
        "id": "28sEp7NtKHBG"
      }
    },
    {
      "cell_type": "markdown",
      "source": [
        "Probemos el MinMaxScaler considerando los máximos y mínmos por característica viendo como varía respecto al robustScaler"
      ],
      "metadata": {
        "id": "nf5QUzlVKKmA"
      }
    },
    {
      "cell_type": "code",
      "source": [
        "from sklearn.preprocessing import MinMaxScaler\n",
        "scaler = MinMaxScaler()\n",
        "scaler.fit(X_train)\n",
        "X_train_scaled = scaler.transform(X_train)\n",
        "X_test_scaled = scaler.transform(X_test)"
      ],
      "metadata": {
        "id": "w3gC0FnOK95h"
      },
      "execution_count": null,
      "outputs": []
    },
    {
      "cell_type": "markdown",
      "source": [
        "### Linear Ridge Model MinMaxScaler"
      ],
      "metadata": {
        "id": "IA6_Zs_XLOw9"
      }
    },
    {
      "cell_type": "code",
      "source": [
        "ridge = Ridge(alpha=5)\n",
        "ridge.fit(X_train_scaled, y_train)\n",
        "\n",
        "print(\"Scaled Training set score: {:.2f}\".format(ridge.score(X_train_scaled, y_train)))\n",
        "print(\"Scaled Test set score: {:.2f}\".format(ridge.score(X_test_scaled, y_test)))"
      ],
      "metadata": {
        "colab": {
          "base_uri": "https://localhost:8080/"
        },
        "id": "_Ne6oMNaLTwq",
        "outputId": "008415d7-1b70-4650-888f-7120f544d94c"
      },
      "execution_count": null,
      "outputs": [
        {
          "output_type": "stream",
          "name": "stdout",
          "text": [
            "Scaled Training set score: 0.74\n",
            "Scaled Test set score: 0.74\n"
          ]
        }
      ]
    },
    {
      "cell_type": "markdown",
      "source": [
        "PCA - Linear Ridge Model MinMaxScaler"
      ],
      "metadata": {
        "id": "oXgQnEdEqItJ"
      }
    },
    {
      "cell_type": "code",
      "source": [
        "pca_ridge_MinMax = PCA(n_components=3, whiten=True, random_state=0)\n",
        "#PCA\n",
        "pca_ridge_MinMax.fit(X_train_scaled) # Obtain the principal components\n",
        "# transform/project dataset\n",
        "X_pca_train_ridge_MinMax = pca_ridge_MinMax.transform(X_train_scaled)\n",
        "X_pca_test_ridge_MinMax = pca_ridge_MinMax.transform(X_test_scaled)\n",
        "\n",
        "pca_ridge_MinMax.explained_variance_ratio_.sum()"
      ],
      "metadata": {
        "colab": {
          "base_uri": "https://localhost:8080/"
        },
        "id": "S_94a0lGplg8",
        "outputId": "f6089f0f-8bfa-4e90-8f0f-644f7f034969"
      },
      "execution_count": null,
      "outputs": [
        {
          "output_type": "execute_result",
          "data": {
            "text/plain": [
              "0.9167123191734909"
            ]
          },
          "metadata": {},
          "execution_count": 70
        }
      ]
    },
    {
      "cell_type": "code",
      "source": [
        "ridge = Ridge(alpha=50)\n",
        "ridge.fit(X_pca_train_ridge_MinMax, y_train)\n",
        "\n",
        "print(\"Scaled Training set score: {:.2f}\".format(ridge.score(X_pca_train_ridge_MinMax, y_train)))\n",
        "print(\"Scaled Test set score: {:.2f}\".format(ridge.score(X_pca_test_ridge_MinMax, y_test)))"
      ],
      "metadata": {
        "colab": {
          "base_uri": "https://localhost:8080/"
        },
        "id": "b3dz136op1tz",
        "outputId": "13616544-3f32-42bc-f074-355738b2328b"
      },
      "execution_count": null,
      "outputs": [
        {
          "output_type": "stream",
          "name": "stdout",
          "text": [
            "Scaled Training set score: 0.73\n",
            "Scaled Test set score: 0.76\n"
          ]
        }
      ]
    },
    {
      "cell_type": "markdown",
      "source": [
        "### Linear Lasso Model MinMaxScaler"
      ],
      "metadata": {
        "id": "ZMwWvHWiLddo"
      }
    },
    {
      "cell_type": "code",
      "source": [
        "lasso001 = Lasso(alpha=0.01, max_iter=1000).fit(X_train_scaled, y_train)\n",
        "print(\"Training set score: {:.2f}\".format(lasso001.score(X_train_scaled, y_train)))\n",
        "print(\"Test set score: {:.2f}\".format(lasso001.score(X_test_scaled, y_test)))\n",
        "print(\"Number of features used:\", np.sum(lasso001.coef_ != 0))\n",
        "print(\"features diferentes de cero:\",lasso001.coef_ != 0)\n",
        "print(\"Feature names:\\n\", X_train.keys()[1:-1])"
      ],
      "metadata": {
        "colab": {
          "base_uri": "https://localhost:8080/"
        },
        "id": "p-zua84yLfBy",
        "outputId": "42cc0132-8675-4101-bcf8-b34183c1fc00"
      },
      "execution_count": null,
      "outputs": [
        {
          "output_type": "stream",
          "name": "stdout",
          "text": [
            "Training set score: 0.75\n",
            "Test set score: 0.77\n",
            "Number of features used: 6\n",
            "features diferentes de cero: [ True  True  True  True  True  True]\n",
            "Feature names:\n",
            " Index(['TotalBsmtSF', '1stFlrSF', 'GrLivArea', 'GarageCars'], dtype='object')\n"
          ]
        }
      ]
    },
    {
      "cell_type": "code",
      "source": [
        "pca_Lasso_MinMax = PCA(n_components=3, whiten=True, random_state=0)\n",
        "#PCA\n",
        "pca_Lasso_MinMax.fit(X_train_scaled) # Obtain the principal components\n",
        "# transform/project dataset\n",
        "X_pca_train_Lasso_MinMax = pca_Lasso_MinMax.transform(X_train_scaled)\n",
        "X_pca_test_Lasso_MinMax = pca_Lasso_MinMax.transform(X_test_scaled)\n",
        "\n",
        "pca_Lasso_MinMax.explained_variance_ratio_.sum()"
      ],
      "metadata": {
        "colab": {
          "base_uri": "https://localhost:8080/"
        },
        "id": "E01WxpO6q8Ns",
        "outputId": "e4bc88fe-f0ef-45fc-9bbc-a20bae0f9ede"
      },
      "execution_count": null,
      "outputs": [
        {
          "output_type": "execute_result",
          "data": {
            "text/plain": [
              "0.9167123191734909"
            ]
          },
          "metadata": {},
          "execution_count": 73
        }
      ]
    },
    {
      "cell_type": "code",
      "source": [
        "lasso001 = Lasso(alpha=0.01, max_iter=1000).fit(X_pca_train_Lasso_MinMax, y_train)\n",
        "print(\"Training set score: {:.2f}\".format(lasso001.score(X_pca_train_Lasso_MinMax, y_train)))\n",
        "print(\"Test set score: {:.2f}\".format(lasso001.score(X_pca_test_Lasso_MinMax, y_test)))\n",
        "print(\"Number of features used:\", np.sum(lasso001.coef_ != 0))\n",
        "print(\"features diferentes de cero:\",lasso001.coef_ != 0)\n",
        "print(\"Feature names:\\n\", X_train.keys()[1:-1])"
      ],
      "metadata": {
        "colab": {
          "base_uri": "https://localhost:8080/"
        },
        "id": "cHgas7o-rIDG",
        "outputId": "3b7fc7f7-3d79-4cb4-dd3a-083556ffcd55"
      },
      "execution_count": null,
      "outputs": [
        {
          "output_type": "stream",
          "name": "stdout",
          "text": [
            "Training set score: 0.74\n",
            "Test set score: 0.76\n",
            "Number of features used: 3\n",
            "features diferentes de cero: [ True  True  True]\n",
            "Feature names:\n",
            " Index(['TotalBsmtSF', '1stFlrSF', 'GrLivArea', 'GarageCars'], dtype='object')\n"
          ]
        }
      ]
    },
    {
      "cell_type": "markdown",
      "source": [
        "### Kneighbors regresion model MinMaxScaler"
      ],
      "metadata": {
        "id": "MLaaOYC3Ll2Z"
      }
    },
    {
      "cell_type": "code",
      "source": [
        "# instantiate the model and set the number of neighbors to consider to 3\n",
        "reg = KNeighborsRegressor(n_neighbors=8)\n",
        "# fit the model using the training data and training targets\n",
        "reg.fit(X_train_scaled, y_train)\n",
        "print(\"Train set R^2: {:.2f}\".format(reg.score(X_train_scaled, y_train)))\n",
        "print(\"Test set R^2: {:.2f}\".format(reg.score(X_test_scaled, y_test)))"
      ],
      "metadata": {
        "colab": {
          "base_uri": "https://localhost:8080/"
        },
        "id": "noCzQ5leLnla",
        "outputId": "9441eb48-3954-4dd7-9556-7132b77a1d71"
      },
      "execution_count": null,
      "outputs": [
        {
          "output_type": "stream",
          "name": "stdout",
          "text": [
            "Train set R^2: 0.82\n",
            "Test set R^2: 0.83\n"
          ]
        }
      ]
    },
    {
      "cell_type": "code",
      "source": [
        "pca_reg_MinMax = PCA(n_components=3, whiten=True, random_state=0)\n",
        "#PCA\n",
        "pca_reg_MinMax.fit(X_train_scaled) # Obtain the principal components\n",
        "# transform/project dataset\n",
        "X_pca_train_reg_MinMax = pca_reg_MinMax.transform(X_train_scaled)\n",
        "X_pca_test_reg_MinMax = pca_reg_MinMax.transform(X_test_scaled)\n",
        "\n",
        "pca_reg_MinMax.explained_variance_ratio_.sum()"
      ],
      "metadata": {
        "colab": {
          "base_uri": "https://localhost:8080/"
        },
        "id": "mSVICeX6rkT6",
        "outputId": "8e12c5f6-a4ca-4b59-aa5e-464c204f1218"
      },
      "execution_count": null,
      "outputs": [
        {
          "output_type": "execute_result",
          "data": {
            "text/plain": [
              "0.9167123191734909"
            ]
          },
          "metadata": {},
          "execution_count": 76
        }
      ]
    },
    {
      "cell_type": "code",
      "source": [
        "# instantiate the model and set the number of neighbors to consider to 3\n",
        "reg = KNeighborsRegressor(n_neighbors=8)\n",
        "# fit the model using the training data and training targets\n",
        "reg.fit(X_pca_train_reg_MinMax, y_train)\n",
        "print(\"Train set R^2: {:.2f}\".format(reg.score(X_pca_train_reg_MinMax, y_train)))\n",
        "print(\"Test set R^2: {:.2f}\".format(reg.score(X_pca_test_reg_MinMax, y_test)))"
      ],
      "metadata": {
        "colab": {
          "base_uri": "https://localhost:8080/"
        },
        "id": "qSnlbsXXruxK",
        "outputId": "6ade5ffd-9eaa-4fed-87fc-c2c6157d55d1"
      },
      "execution_count": null,
      "outputs": [
        {
          "output_type": "stream",
          "name": "stdout",
          "text": [
            "Train set R^2: 0.82\n",
            "Test set R^2: 0.82\n"
          ]
        }
      ]
    },
    {
      "cell_type": "markdown",
      "source": [
        "### Support Vector Regresion MinMaxScaler"
      ],
      "metadata": {
        "id": "ZaW5pTWqLrdH"
      }
    },
    {
      "cell_type": "code",
      "source": [
        "regr = svm.SVR(C=1000000, epsilon=0.5)\n",
        "regr.fit(X_train_scaled, y_train)\n",
        "regr.predict(X_test)\n",
        "print(\"Train set SVD {:.2f}\".format(regr.score(X_train_scaled, y_train)))\n",
        "print(\"Test set SVD {:.2f}\".format(regr.score(X_test_scaled, y_test)))"
      ],
      "metadata": {
        "colab": {
          "base_uri": "https://localhost:8080/"
        },
        "id": "JK4zh6CgLuaM",
        "outputId": "a7eeefcb-8fb6-4721-a3ec-b6993833fdb1"
      },
      "execution_count": null,
      "outputs": [
        {
          "output_type": "stream",
          "name": "stdout",
          "text": [
            "Train set SVD 0.89\n",
            "Test set SVD 0.86\n"
          ]
        },
        {
          "output_type": "stream",
          "name": "stderr",
          "text": [
            "/usr/local/lib/python3.7/dist-packages/sklearn/base.py:444: UserWarning: X has feature names, but SVR was fitted without feature names\n",
            "  f\"X has feature names, but {self.__class__.__name__} was fitted without\"\n"
          ]
        }
      ]
    },
    {
      "cell_type": "code",
      "source": [
        "pca_SVM_MinMax = PCA(n_components=3, whiten=True, random_state=0)\n",
        "#PCA\n",
        "pca_SVM_MinMax.fit(X_train_scaled) # Obtain the principal components\n",
        "# transform/project dataset\n",
        "X_pca_train_SVM_MinMax = pca_SVM_MinMax.transform(X_train_scaled)\n",
        "X_pca_test_SVM_MinMax = pca_SVM_MinMax.transform(X_test_scaled)\n",
        "\n",
        "pca_SVM_MinMax.explained_variance_ratio_.sum()"
      ],
      "metadata": {
        "colab": {
          "base_uri": "https://localhost:8080/"
        },
        "id": "7Irw7rHCsf-4",
        "outputId": "8a1815cd-e9eb-45a3-bee9-65873c67104e"
      },
      "execution_count": null,
      "outputs": [
        {
          "output_type": "execute_result",
          "data": {
            "text/plain": [
              "0.9167123191734909"
            ]
          },
          "metadata": {},
          "execution_count": 79
        }
      ]
    },
    {
      "cell_type": "code",
      "source": [
        "regr = svm.SVR(C=1000000, epsilon=0.05)\n",
        "regr.fit(X_pca_train_SVM_MinMax, y_train)\n",
        "print(\"Train set SVD {:.2f}\".format(regr.score(X_pca_train_SVM_MinMax, y_train)))\n",
        "print(\"Test set SVD {:.2f}\".format(regr.score(X_pca_test_SVM_MinMax, y_test)))"
      ],
      "metadata": {
        "colab": {
          "base_uri": "https://localhost:8080/"
        },
        "id": "Fl4zKH3dsrh8",
        "outputId": "384003bd-2f78-4173-ab58-28d95bc9a418"
      },
      "execution_count": null,
      "outputs": [
        {
          "output_type": "stream",
          "name": "stdout",
          "text": [
            "Train set SVD 0.87\n",
            "Test set SVD 0.82\n"
          ]
        }
      ]
    },
    {
      "cell_type": "markdown",
      "source": [
        "Hasta el momento las máquinas de soporte vectorial y knegbors para regresión han mostrado un mayor despeño con los datos de test."
      ],
      "metadata": {
        "id": "59v_K9UwtDcr"
      }
    },
    {
      "cell_type": "markdown",
      "source": [
        "#Linear Model Polinomial Regresion"
      ],
      "metadata": {
        "id": "z37YPZ-Lt9kq"
      }
    },
    {
      "cell_type": "code",
      "source": [
        "X_train = train_df[colsTrain]\n",
        "print(X_train.shape)"
      ],
      "metadata": {
        "colab": {
          "base_uri": "https://localhost:8080/"
        },
        "id": "rARrHlYZL70o",
        "outputId": "f5c7c8fa-0488-4a9c-ee4e-4e7309a09de2"
      },
      "execution_count": null,
      "outputs": [
        {
          "output_type": "stream",
          "name": "stdout",
          "text": [
            "(1347, 7)\n"
          ]
        }
      ]
    },
    {
      "cell_type": "code",
      "source": [
        "X_train = X_train.iloc[:, :-1]\n",
        "X_train.head(10)"
      ],
      "metadata": {
        "colab": {
          "base_uri": "https://localhost:8080/"
        },
        "id": "W0F5EdBqOCWU",
        "outputId": "9669a151-3d8a-4702-879d-d096de877079"
      },
      "execution_count": null,
      "outputs": [
        {
          "output_type": "execute_result",
          "data": {
            "text/plain": [
              "   OverallQual  TotalBsmtSF  1stFlrSF  GrLivArea  GarageCars  GarageArea\n",
              "0            7          856       856       1710           2         548\n",
              "1            6         1262      1262       1262           2         460\n",
              "2            7          920       920       1786           2         608\n",
              "3            7          756       961       1717           3         642\n",
              "4            8         1145      1145       2198           3         836\n",
              "5            5          796       796       1362           2         480\n",
              "6            8         1686      1694       1694           2         636\n",
              "7            7         1107      1107       2090           2         484\n",
              "8            7          952      1022       1774           2         468\n",
              "9            5          991      1077       1077           1         205"
            ],
            "text/html": [
              "\n",
              "  <div id=\"df-c41a3d34-8b05-486b-b5f9-8634eb75b577\">\n",
              "    <div class=\"colab-df-container\">\n",
              "      <div>\n",
              "<style scoped>\n",
              "    .dataframe tbody tr th:only-of-type {\n",
              "        vertical-align: middle;\n",
              "    }\n",
              "\n",
              "    .dataframe tbody tr th {\n",
              "        vertical-align: top;\n",
              "    }\n",
              "\n",
              "    .dataframe thead th {\n",
              "        text-align: right;\n",
              "    }\n",
              "</style>\n",
              "<table border=\"1\" class=\"dataframe\">\n",
              "  <thead>\n",
              "    <tr style=\"text-align: right;\">\n",
              "      <th></th>\n",
              "      <th>OverallQual</th>\n",
              "      <th>TotalBsmtSF</th>\n",
              "      <th>1stFlrSF</th>\n",
              "      <th>GrLivArea</th>\n",
              "      <th>GarageCars</th>\n",
              "      <th>GarageArea</th>\n",
              "    </tr>\n",
              "  </thead>\n",
              "  <tbody>\n",
              "    <tr>\n",
              "      <th>0</th>\n",
              "      <td>7</td>\n",
              "      <td>856</td>\n",
              "      <td>856</td>\n",
              "      <td>1710</td>\n",
              "      <td>2</td>\n",
              "      <td>548</td>\n",
              "    </tr>\n",
              "    <tr>\n",
              "      <th>1</th>\n",
              "      <td>6</td>\n",
              "      <td>1262</td>\n",
              "      <td>1262</td>\n",
              "      <td>1262</td>\n",
              "      <td>2</td>\n",
              "      <td>460</td>\n",
              "    </tr>\n",
              "    <tr>\n",
              "      <th>2</th>\n",
              "      <td>7</td>\n",
              "      <td>920</td>\n",
              "      <td>920</td>\n",
              "      <td>1786</td>\n",
              "      <td>2</td>\n",
              "      <td>608</td>\n",
              "    </tr>\n",
              "    <tr>\n",
              "      <th>3</th>\n",
              "      <td>7</td>\n",
              "      <td>756</td>\n",
              "      <td>961</td>\n",
              "      <td>1717</td>\n",
              "      <td>3</td>\n",
              "      <td>642</td>\n",
              "    </tr>\n",
              "    <tr>\n",
              "      <th>4</th>\n",
              "      <td>8</td>\n",
              "      <td>1145</td>\n",
              "      <td>1145</td>\n",
              "      <td>2198</td>\n",
              "      <td>3</td>\n",
              "      <td>836</td>\n",
              "    </tr>\n",
              "    <tr>\n",
              "      <th>5</th>\n",
              "      <td>5</td>\n",
              "      <td>796</td>\n",
              "      <td>796</td>\n",
              "      <td>1362</td>\n",
              "      <td>2</td>\n",
              "      <td>480</td>\n",
              "    </tr>\n",
              "    <tr>\n",
              "      <th>6</th>\n",
              "      <td>8</td>\n",
              "      <td>1686</td>\n",
              "      <td>1694</td>\n",
              "      <td>1694</td>\n",
              "      <td>2</td>\n",
              "      <td>636</td>\n",
              "    </tr>\n",
              "    <tr>\n",
              "      <th>7</th>\n",
              "      <td>7</td>\n",
              "      <td>1107</td>\n",
              "      <td>1107</td>\n",
              "      <td>2090</td>\n",
              "      <td>2</td>\n",
              "      <td>484</td>\n",
              "    </tr>\n",
              "    <tr>\n",
              "      <th>8</th>\n",
              "      <td>7</td>\n",
              "      <td>952</td>\n",
              "      <td>1022</td>\n",
              "      <td>1774</td>\n",
              "      <td>2</td>\n",
              "      <td>468</td>\n",
              "    </tr>\n",
              "    <tr>\n",
              "      <th>9</th>\n",
              "      <td>5</td>\n",
              "      <td>991</td>\n",
              "      <td>1077</td>\n",
              "      <td>1077</td>\n",
              "      <td>1</td>\n",
              "      <td>205</td>\n",
              "    </tr>\n",
              "  </tbody>\n",
              "</table>\n",
              "</div>\n",
              "      <button class=\"colab-df-convert\" onclick=\"convertToInteractive('df-c41a3d34-8b05-486b-b5f9-8634eb75b577')\"\n",
              "              title=\"Convert this dataframe to an interactive table.\"\n",
              "              style=\"display:none;\">\n",
              "        \n",
              "  <svg xmlns=\"http://www.w3.org/2000/svg\" height=\"24px\"viewBox=\"0 0 24 24\"\n",
              "       width=\"24px\">\n",
              "    <path d=\"M0 0h24v24H0V0z\" fill=\"none\"/>\n",
              "    <path d=\"M18.56 5.44l.94 2.06.94-2.06 2.06-.94-2.06-.94-.94-2.06-.94 2.06-2.06.94zm-11 1L8.5 8.5l.94-2.06 2.06-.94-2.06-.94L8.5 2.5l-.94 2.06-2.06.94zm10 10l.94 2.06.94-2.06 2.06-.94-2.06-.94-.94-2.06-.94 2.06-2.06.94z\"/><path d=\"M17.41 7.96l-1.37-1.37c-.4-.4-.92-.59-1.43-.59-.52 0-1.04.2-1.43.59L10.3 9.45l-7.72 7.72c-.78.78-.78 2.05 0 2.83L4 21.41c.39.39.9.59 1.41.59.51 0 1.02-.2 1.41-.59l7.78-7.78 2.81-2.81c.8-.78.8-2.07 0-2.86zM5.41 20L4 18.59l7.72-7.72 1.47 1.35L5.41 20z\"/>\n",
              "  </svg>\n",
              "      </button>\n",
              "      \n",
              "  <style>\n",
              "    .colab-df-container {\n",
              "      display:flex;\n",
              "      flex-wrap:wrap;\n",
              "      gap: 12px;\n",
              "    }\n",
              "\n",
              "    .colab-df-convert {\n",
              "      background-color: #E8F0FE;\n",
              "      border: none;\n",
              "      border-radius: 50%;\n",
              "      cursor: pointer;\n",
              "      display: none;\n",
              "      fill: #1967D2;\n",
              "      height: 32px;\n",
              "      padding: 0 0 0 0;\n",
              "      width: 32px;\n",
              "    }\n",
              "\n",
              "    .colab-df-convert:hover {\n",
              "      background-color: #E2EBFA;\n",
              "      box-shadow: 0px 1px 2px rgba(60, 64, 67, 0.3), 0px 1px 3px 1px rgba(60, 64, 67, 0.15);\n",
              "      fill: #174EA6;\n",
              "    }\n",
              "\n",
              "    [theme=dark] .colab-df-convert {\n",
              "      background-color: #3B4455;\n",
              "      fill: #D2E3FC;\n",
              "    }\n",
              "\n",
              "    [theme=dark] .colab-df-convert:hover {\n",
              "      background-color: #434B5C;\n",
              "      box-shadow: 0px 1px 3px 1px rgba(0, 0, 0, 0.15);\n",
              "      filter: drop-shadow(0px 1px 2px rgba(0, 0, 0, 0.3));\n",
              "      fill: #FFFFFF;\n",
              "    }\n",
              "  </style>\n",
              "\n",
              "      <script>\n",
              "        const buttonEl =\n",
              "          document.querySelector('#df-c41a3d34-8b05-486b-b5f9-8634eb75b577 button.colab-df-convert');\n",
              "        buttonEl.style.display =\n",
              "          google.colab.kernel.accessAllowed ? 'block' : 'none';\n",
              "\n",
              "        async function convertToInteractive(key) {\n",
              "          const element = document.querySelector('#df-c41a3d34-8b05-486b-b5f9-8634eb75b577');\n",
              "          const dataTable =\n",
              "            await google.colab.kernel.invokeFunction('convertToInteractive',\n",
              "                                                     [key], {});\n",
              "          if (!dataTable) return;\n",
              "\n",
              "          const docLinkHtml = 'Like what you see? Visit the ' +\n",
              "            '<a target=\"_blank\" href=https://colab.research.google.com/notebooks/data_table.ipynb>data table notebook</a>'\n",
              "            + ' to learn more about interactive tables.';\n",
              "          element.innerHTML = '';\n",
              "          dataTable['output_type'] = 'display_data';\n",
              "          await google.colab.output.renderOutput(dataTable, element);\n",
              "          const docLink = document.createElement('div');\n",
              "          docLink.innerHTML = docLinkHtml;\n",
              "          element.appendChild(docLink);\n",
              "        }\n",
              "      </script>\n",
              "    </div>\n",
              "  </div>\n",
              "  "
            ]
          },
          "metadata": {},
          "execution_count": 82
        }
      ]
    },
    {
      "cell_type": "code",
      "source": [
        "from sklearn.preprocessing import PolynomialFeatures\n",
        "from sklearn.linear_model import LinearRegression\n",
        "poly = PolynomialFeatures(degree=10, include_bias=False)\n",
        "poly.fit(X_train)\n",
        "X_poly = poly.transform(X_train)\n"
      ],
      "metadata": {
        "id": "3-pdw2PTuQjp"
      },
      "execution_count": null,
      "outputs": []
    },
    {
      "cell_type": "code",
      "source": [
        "X_train, X_test, y_train, y_test = train_test_split(X_poly, Y, test_size= 0.30, random_state = 0)"
      ],
      "metadata": {
        "id": "jwoiDSkJOjX6"
      },
      "execution_count": null,
      "outputs": []
    },
    {
      "cell_type": "code",
      "source": [
        "print(\"Polynomial feature names: \\n {} \".format(poly.get_feature_names()))"
      ],
      "metadata": {
        "colab": {
          "base_uri": "https://localhost:8080/"
        },
        "id": "JbPUjz4lu-BU",
        "outputId": "4546e986-807a-4d7d-bf9a-644e70b5ee54"
      },
      "execution_count": null,
      "outputs": [
        {
          "output_type": "stream",
          "name": "stderr",
          "text": [
            "/usr/local/lib/python3.7/dist-packages/sklearn/utils/deprecation.py:87: FutureWarning: Function get_feature_names is deprecated; get_feature_names is deprecated in 1.0 and will be removed in 1.2. Please use get_feature_names_out instead.\n",
            "  warnings.warn(msg, category=FutureWarning)\n"
          ]
        },
        {
          "output_type": "stream",
          "name": "stdout",
          "text": [
            "Polynomial feature names: \n",
            " ['x0', 'x1', 'x2', 'x3', 'x4', 'x5', 'x0^2', 'x0 x1', 'x0 x2', 'x0 x3', 'x0 x4', 'x0 x5', 'x1^2', 'x1 x2', 'x1 x3', 'x1 x4', 'x1 x5', 'x2^2', 'x2 x3', 'x2 x4', 'x2 x5', 'x3^2', 'x3 x4', 'x3 x5', 'x4^2', 'x4 x5', 'x5^2', 'x0^3', 'x0^2 x1', 'x0^2 x2', 'x0^2 x3', 'x0^2 x4', 'x0^2 x5', 'x0 x1^2', 'x0 x1 x2', 'x0 x1 x3', 'x0 x1 x4', 'x0 x1 x5', 'x0 x2^2', 'x0 x2 x3', 'x0 x2 x4', 'x0 x2 x5', 'x0 x3^2', 'x0 x3 x4', 'x0 x3 x5', 'x0 x4^2', 'x0 x4 x5', 'x0 x5^2', 'x1^3', 'x1^2 x2', 'x1^2 x3', 'x1^2 x4', 'x1^2 x5', 'x1 x2^2', 'x1 x2 x3', 'x1 x2 x4', 'x1 x2 x5', 'x1 x3^2', 'x1 x3 x4', 'x1 x3 x5', 'x1 x4^2', 'x1 x4 x5', 'x1 x5^2', 'x2^3', 'x2^2 x3', 'x2^2 x4', 'x2^2 x5', 'x2 x3^2', 'x2 x3 x4', 'x2 x3 x5', 'x2 x4^2', 'x2 x4 x5', 'x2 x5^2', 'x3^3', 'x3^2 x4', 'x3^2 x5', 'x3 x4^2', 'x3 x4 x5', 'x3 x5^2', 'x4^3', 'x4^2 x5', 'x4 x5^2', 'x5^3', 'x0^4', 'x0^3 x1', 'x0^3 x2', 'x0^3 x3', 'x0^3 x4', 'x0^3 x5', 'x0^2 x1^2', 'x0^2 x1 x2', 'x0^2 x1 x3', 'x0^2 x1 x4', 'x0^2 x1 x5', 'x0^2 x2^2', 'x0^2 x2 x3', 'x0^2 x2 x4', 'x0^2 x2 x5', 'x0^2 x3^2', 'x0^2 x3 x4', 'x0^2 x3 x5', 'x0^2 x4^2', 'x0^2 x4 x5', 'x0^2 x5^2', 'x0 x1^3', 'x0 x1^2 x2', 'x0 x1^2 x3', 'x0 x1^2 x4', 'x0 x1^2 x5', 'x0 x1 x2^2', 'x0 x1 x2 x3', 'x0 x1 x2 x4', 'x0 x1 x2 x5', 'x0 x1 x3^2', 'x0 x1 x3 x4', 'x0 x1 x3 x5', 'x0 x1 x4^2', 'x0 x1 x4 x5', 'x0 x1 x5^2', 'x0 x2^3', 'x0 x2^2 x3', 'x0 x2^2 x4', 'x0 x2^2 x5', 'x0 x2 x3^2', 'x0 x2 x3 x4', 'x0 x2 x3 x5', 'x0 x2 x4^2', 'x0 x2 x4 x5', 'x0 x2 x5^2', 'x0 x3^3', 'x0 x3^2 x4', 'x0 x3^2 x5', 'x0 x3 x4^2', 'x0 x3 x4 x5', 'x0 x3 x5^2', 'x0 x4^3', 'x0 x4^2 x5', 'x0 x4 x5^2', 'x0 x5^3', 'x1^4', 'x1^3 x2', 'x1^3 x3', 'x1^3 x4', 'x1^3 x5', 'x1^2 x2^2', 'x1^2 x2 x3', 'x1^2 x2 x4', 'x1^2 x2 x5', 'x1^2 x3^2', 'x1^2 x3 x4', 'x1^2 x3 x5', 'x1^2 x4^2', 'x1^2 x4 x5', 'x1^2 x5^2', 'x1 x2^3', 'x1 x2^2 x3', 'x1 x2^2 x4', 'x1 x2^2 x5', 'x1 x2 x3^2', 'x1 x2 x3 x4', 'x1 x2 x3 x5', 'x1 x2 x4^2', 'x1 x2 x4 x5', 'x1 x2 x5^2', 'x1 x3^3', 'x1 x3^2 x4', 'x1 x3^2 x5', 'x1 x3 x4^2', 'x1 x3 x4 x5', 'x1 x3 x5^2', 'x1 x4^3', 'x1 x4^2 x5', 'x1 x4 x5^2', 'x1 x5^3', 'x2^4', 'x2^3 x3', 'x2^3 x4', 'x2^3 x5', 'x2^2 x3^2', 'x2^2 x3 x4', 'x2^2 x3 x5', 'x2^2 x4^2', 'x2^2 x4 x5', 'x2^2 x5^2', 'x2 x3^3', 'x2 x3^2 x4', 'x2 x3^2 x5', 'x2 x3 x4^2', 'x2 x3 x4 x5', 'x2 x3 x5^2', 'x2 x4^3', 'x2 x4^2 x5', 'x2 x4 x5^2', 'x2 x5^3', 'x3^4', 'x3^3 x4', 'x3^3 x5', 'x3^2 x4^2', 'x3^2 x4 x5', 'x3^2 x5^2', 'x3 x4^3', 'x3 x4^2 x5', 'x3 x4 x5^2', 'x3 x5^3', 'x4^4', 'x4^3 x5', 'x4^2 x5^2', 'x4 x5^3', 'x5^4', 'x0^5', 'x0^4 x1', 'x0^4 x2', 'x0^4 x3', 'x0^4 x4', 'x0^4 x5', 'x0^3 x1^2', 'x0^3 x1 x2', 'x0^3 x1 x3', 'x0^3 x1 x4', 'x0^3 x1 x5', 'x0^3 x2^2', 'x0^3 x2 x3', 'x0^3 x2 x4', 'x0^3 x2 x5', 'x0^3 x3^2', 'x0^3 x3 x4', 'x0^3 x3 x5', 'x0^3 x4^2', 'x0^3 x4 x5', 'x0^3 x5^2', 'x0^2 x1^3', 'x0^2 x1^2 x2', 'x0^2 x1^2 x3', 'x0^2 x1^2 x4', 'x0^2 x1^2 x5', 'x0^2 x1 x2^2', 'x0^2 x1 x2 x3', 'x0^2 x1 x2 x4', 'x0^2 x1 x2 x5', 'x0^2 x1 x3^2', 'x0^2 x1 x3 x4', 'x0^2 x1 x3 x5', 'x0^2 x1 x4^2', 'x0^2 x1 x4 x5', 'x0^2 x1 x5^2', 'x0^2 x2^3', 'x0^2 x2^2 x3', 'x0^2 x2^2 x4', 'x0^2 x2^2 x5', 'x0^2 x2 x3^2', 'x0^2 x2 x3 x4', 'x0^2 x2 x3 x5', 'x0^2 x2 x4^2', 'x0^2 x2 x4 x5', 'x0^2 x2 x5^2', 'x0^2 x3^3', 'x0^2 x3^2 x4', 'x0^2 x3^2 x5', 'x0^2 x3 x4^2', 'x0^2 x3 x4 x5', 'x0^2 x3 x5^2', 'x0^2 x4^3', 'x0^2 x4^2 x5', 'x0^2 x4 x5^2', 'x0^2 x5^3', 'x0 x1^4', 'x0 x1^3 x2', 'x0 x1^3 x3', 'x0 x1^3 x4', 'x0 x1^3 x5', 'x0 x1^2 x2^2', 'x0 x1^2 x2 x3', 'x0 x1^2 x2 x4', 'x0 x1^2 x2 x5', 'x0 x1^2 x3^2', 'x0 x1^2 x3 x4', 'x0 x1^2 x3 x5', 'x0 x1^2 x4^2', 'x0 x1^2 x4 x5', 'x0 x1^2 x5^2', 'x0 x1 x2^3', 'x0 x1 x2^2 x3', 'x0 x1 x2^2 x4', 'x0 x1 x2^2 x5', 'x0 x1 x2 x3^2', 'x0 x1 x2 x3 x4', 'x0 x1 x2 x3 x5', 'x0 x1 x2 x4^2', 'x0 x1 x2 x4 x5', 'x0 x1 x2 x5^2', 'x0 x1 x3^3', 'x0 x1 x3^2 x4', 'x0 x1 x3^2 x5', 'x0 x1 x3 x4^2', 'x0 x1 x3 x4 x5', 'x0 x1 x3 x5^2', 'x0 x1 x4^3', 'x0 x1 x4^2 x5', 'x0 x1 x4 x5^2', 'x0 x1 x5^3', 'x0 x2^4', 'x0 x2^3 x3', 'x0 x2^3 x4', 'x0 x2^3 x5', 'x0 x2^2 x3^2', 'x0 x2^2 x3 x4', 'x0 x2^2 x3 x5', 'x0 x2^2 x4^2', 'x0 x2^2 x4 x5', 'x0 x2^2 x5^2', 'x0 x2 x3^3', 'x0 x2 x3^2 x4', 'x0 x2 x3^2 x5', 'x0 x2 x3 x4^2', 'x0 x2 x3 x4 x5', 'x0 x2 x3 x5^2', 'x0 x2 x4^3', 'x0 x2 x4^2 x5', 'x0 x2 x4 x5^2', 'x0 x2 x5^3', 'x0 x3^4', 'x0 x3^3 x4', 'x0 x3^3 x5', 'x0 x3^2 x4^2', 'x0 x3^2 x4 x5', 'x0 x3^2 x5^2', 'x0 x3 x4^3', 'x0 x3 x4^2 x5', 'x0 x3 x4 x5^2', 'x0 x3 x5^3', 'x0 x4^4', 'x0 x4^3 x5', 'x0 x4^2 x5^2', 'x0 x4 x5^3', 'x0 x5^4', 'x1^5', 'x1^4 x2', 'x1^4 x3', 'x1^4 x4', 'x1^4 x5', 'x1^3 x2^2', 'x1^3 x2 x3', 'x1^3 x2 x4', 'x1^3 x2 x5', 'x1^3 x3^2', 'x1^3 x3 x4', 'x1^3 x3 x5', 'x1^3 x4^2', 'x1^3 x4 x5', 'x1^3 x5^2', 'x1^2 x2^3', 'x1^2 x2^2 x3', 'x1^2 x2^2 x4', 'x1^2 x2^2 x5', 'x1^2 x2 x3^2', 'x1^2 x2 x3 x4', 'x1^2 x2 x3 x5', 'x1^2 x2 x4^2', 'x1^2 x2 x4 x5', 'x1^2 x2 x5^2', 'x1^2 x3^3', 'x1^2 x3^2 x4', 'x1^2 x3^2 x5', 'x1^2 x3 x4^2', 'x1^2 x3 x4 x5', 'x1^2 x3 x5^2', 'x1^2 x4^3', 'x1^2 x4^2 x5', 'x1^2 x4 x5^2', 'x1^2 x5^3', 'x1 x2^4', 'x1 x2^3 x3', 'x1 x2^3 x4', 'x1 x2^3 x5', 'x1 x2^2 x3^2', 'x1 x2^2 x3 x4', 'x1 x2^2 x3 x5', 'x1 x2^2 x4^2', 'x1 x2^2 x4 x5', 'x1 x2^2 x5^2', 'x1 x2 x3^3', 'x1 x2 x3^2 x4', 'x1 x2 x3^2 x5', 'x1 x2 x3 x4^2', 'x1 x2 x3 x4 x5', 'x1 x2 x3 x5^2', 'x1 x2 x4^3', 'x1 x2 x4^2 x5', 'x1 x2 x4 x5^2', 'x1 x2 x5^3', 'x1 x3^4', 'x1 x3^3 x4', 'x1 x3^3 x5', 'x1 x3^2 x4^2', 'x1 x3^2 x4 x5', 'x1 x3^2 x5^2', 'x1 x3 x4^3', 'x1 x3 x4^2 x5', 'x1 x3 x4 x5^2', 'x1 x3 x5^3', 'x1 x4^4', 'x1 x4^3 x5', 'x1 x4^2 x5^2', 'x1 x4 x5^3', 'x1 x5^4', 'x2^5', 'x2^4 x3', 'x2^4 x4', 'x2^4 x5', 'x2^3 x3^2', 'x2^3 x3 x4', 'x2^3 x3 x5', 'x2^3 x4^2', 'x2^3 x4 x5', 'x2^3 x5^2', 'x2^2 x3^3', 'x2^2 x3^2 x4', 'x2^2 x3^2 x5', 'x2^2 x3 x4^2', 'x2^2 x3 x4 x5', 'x2^2 x3 x5^2', 'x2^2 x4^3', 'x2^2 x4^2 x5', 'x2^2 x4 x5^2', 'x2^2 x5^3', 'x2 x3^4', 'x2 x3^3 x4', 'x2 x3^3 x5', 'x2 x3^2 x4^2', 'x2 x3^2 x4 x5', 'x2 x3^2 x5^2', 'x2 x3 x4^3', 'x2 x3 x4^2 x5', 'x2 x3 x4 x5^2', 'x2 x3 x5^3', 'x2 x4^4', 'x2 x4^3 x5', 'x2 x4^2 x5^2', 'x2 x4 x5^3', 'x2 x5^4', 'x3^5', 'x3^4 x4', 'x3^4 x5', 'x3^3 x4^2', 'x3^3 x4 x5', 'x3^3 x5^2', 'x3^2 x4^3', 'x3^2 x4^2 x5', 'x3^2 x4 x5^2', 'x3^2 x5^3', 'x3 x4^4', 'x3 x4^3 x5', 'x3 x4^2 x5^2', 'x3 x4 x5^3', 'x3 x5^4', 'x4^5', 'x4^4 x5', 'x4^3 x5^2', 'x4^2 x5^3', 'x4 x5^4', 'x5^5', 'x0^6', 'x0^5 x1', 'x0^5 x2', 'x0^5 x3', 'x0^5 x4', 'x0^5 x5', 'x0^4 x1^2', 'x0^4 x1 x2', 'x0^4 x1 x3', 'x0^4 x1 x4', 'x0^4 x1 x5', 'x0^4 x2^2', 'x0^4 x2 x3', 'x0^4 x2 x4', 'x0^4 x2 x5', 'x0^4 x3^2', 'x0^4 x3 x4', 'x0^4 x3 x5', 'x0^4 x4^2', 'x0^4 x4 x5', 'x0^4 x5^2', 'x0^3 x1^3', 'x0^3 x1^2 x2', 'x0^3 x1^2 x3', 'x0^3 x1^2 x4', 'x0^3 x1^2 x5', 'x0^3 x1 x2^2', 'x0^3 x1 x2 x3', 'x0^3 x1 x2 x4', 'x0^3 x1 x2 x5', 'x0^3 x1 x3^2', 'x0^3 x1 x3 x4', 'x0^3 x1 x3 x5', 'x0^3 x1 x4^2', 'x0^3 x1 x4 x5', 'x0^3 x1 x5^2', 'x0^3 x2^3', 'x0^3 x2^2 x3', 'x0^3 x2^2 x4', 'x0^3 x2^2 x5', 'x0^3 x2 x3^2', 'x0^3 x2 x3 x4', 'x0^3 x2 x3 x5', 'x0^3 x2 x4^2', 'x0^3 x2 x4 x5', 'x0^3 x2 x5^2', 'x0^3 x3^3', 'x0^3 x3^2 x4', 'x0^3 x3^2 x5', 'x0^3 x3 x4^2', 'x0^3 x3 x4 x5', 'x0^3 x3 x5^2', 'x0^3 x4^3', 'x0^3 x4^2 x5', 'x0^3 x4 x5^2', 'x0^3 x5^3', 'x0^2 x1^4', 'x0^2 x1^3 x2', 'x0^2 x1^3 x3', 'x0^2 x1^3 x4', 'x0^2 x1^3 x5', 'x0^2 x1^2 x2^2', 'x0^2 x1^2 x2 x3', 'x0^2 x1^2 x2 x4', 'x0^2 x1^2 x2 x5', 'x0^2 x1^2 x3^2', 'x0^2 x1^2 x3 x4', 'x0^2 x1^2 x3 x5', 'x0^2 x1^2 x4^2', 'x0^2 x1^2 x4 x5', 'x0^2 x1^2 x5^2', 'x0^2 x1 x2^3', 'x0^2 x1 x2^2 x3', 'x0^2 x1 x2^2 x4', 'x0^2 x1 x2^2 x5', 'x0^2 x1 x2 x3^2', 'x0^2 x1 x2 x3 x4', 'x0^2 x1 x2 x3 x5', 'x0^2 x1 x2 x4^2', 'x0^2 x1 x2 x4 x5', 'x0^2 x1 x2 x5^2', 'x0^2 x1 x3^3', 'x0^2 x1 x3^2 x4', 'x0^2 x1 x3^2 x5', 'x0^2 x1 x3 x4^2', 'x0^2 x1 x3 x4 x5', 'x0^2 x1 x3 x5^2', 'x0^2 x1 x4^3', 'x0^2 x1 x4^2 x5', 'x0^2 x1 x4 x5^2', 'x0^2 x1 x5^3', 'x0^2 x2^4', 'x0^2 x2^3 x3', 'x0^2 x2^3 x4', 'x0^2 x2^3 x5', 'x0^2 x2^2 x3^2', 'x0^2 x2^2 x3 x4', 'x0^2 x2^2 x3 x5', 'x0^2 x2^2 x4^2', 'x0^2 x2^2 x4 x5', 'x0^2 x2^2 x5^2', 'x0^2 x2 x3^3', 'x0^2 x2 x3^2 x4', 'x0^2 x2 x3^2 x5', 'x0^2 x2 x3 x4^2', 'x0^2 x2 x3 x4 x5', 'x0^2 x2 x3 x5^2', 'x0^2 x2 x4^3', 'x0^2 x2 x4^2 x5', 'x0^2 x2 x4 x5^2', 'x0^2 x2 x5^3', 'x0^2 x3^4', 'x0^2 x3^3 x4', 'x0^2 x3^3 x5', 'x0^2 x3^2 x4^2', 'x0^2 x3^2 x4 x5', 'x0^2 x3^2 x5^2', 'x0^2 x3 x4^3', 'x0^2 x3 x4^2 x5', 'x0^2 x3 x4 x5^2', 'x0^2 x3 x5^3', 'x0^2 x4^4', 'x0^2 x4^3 x5', 'x0^2 x4^2 x5^2', 'x0^2 x4 x5^3', 'x0^2 x5^4', 'x0 x1^5', 'x0 x1^4 x2', 'x0 x1^4 x3', 'x0 x1^4 x4', 'x0 x1^4 x5', 'x0 x1^3 x2^2', 'x0 x1^3 x2 x3', 'x0 x1^3 x2 x4', 'x0 x1^3 x2 x5', 'x0 x1^3 x3^2', 'x0 x1^3 x3 x4', 'x0 x1^3 x3 x5', 'x0 x1^3 x4^2', 'x0 x1^3 x4 x5', 'x0 x1^3 x5^2', 'x0 x1^2 x2^3', 'x0 x1^2 x2^2 x3', 'x0 x1^2 x2^2 x4', 'x0 x1^2 x2^2 x5', 'x0 x1^2 x2 x3^2', 'x0 x1^2 x2 x3 x4', 'x0 x1^2 x2 x3 x5', 'x0 x1^2 x2 x4^2', 'x0 x1^2 x2 x4 x5', 'x0 x1^2 x2 x5^2', 'x0 x1^2 x3^3', 'x0 x1^2 x3^2 x4', 'x0 x1^2 x3^2 x5', 'x0 x1^2 x3 x4^2', 'x0 x1^2 x3 x4 x5', 'x0 x1^2 x3 x5^2', 'x0 x1^2 x4^3', 'x0 x1^2 x4^2 x5', 'x0 x1^2 x4 x5^2', 'x0 x1^2 x5^3', 'x0 x1 x2^4', 'x0 x1 x2^3 x3', 'x0 x1 x2^3 x4', 'x0 x1 x2^3 x5', 'x0 x1 x2^2 x3^2', 'x0 x1 x2^2 x3 x4', 'x0 x1 x2^2 x3 x5', 'x0 x1 x2^2 x4^2', 'x0 x1 x2^2 x4 x5', 'x0 x1 x2^2 x5^2', 'x0 x1 x2 x3^3', 'x0 x1 x2 x3^2 x4', 'x0 x1 x2 x3^2 x5', 'x0 x1 x2 x3 x4^2', 'x0 x1 x2 x3 x4 x5', 'x0 x1 x2 x3 x5^2', 'x0 x1 x2 x4^3', 'x0 x1 x2 x4^2 x5', 'x0 x1 x2 x4 x5^2', 'x0 x1 x2 x5^3', 'x0 x1 x3^4', 'x0 x1 x3^3 x4', 'x0 x1 x3^3 x5', 'x0 x1 x3^2 x4^2', 'x0 x1 x3^2 x4 x5', 'x0 x1 x3^2 x5^2', 'x0 x1 x3 x4^3', 'x0 x1 x3 x4^2 x5', 'x0 x1 x3 x4 x5^2', 'x0 x1 x3 x5^3', 'x0 x1 x4^4', 'x0 x1 x4^3 x5', 'x0 x1 x4^2 x5^2', 'x0 x1 x4 x5^3', 'x0 x1 x5^4', 'x0 x2^5', 'x0 x2^4 x3', 'x0 x2^4 x4', 'x0 x2^4 x5', 'x0 x2^3 x3^2', 'x0 x2^3 x3 x4', 'x0 x2^3 x3 x5', 'x0 x2^3 x4^2', 'x0 x2^3 x4 x5', 'x0 x2^3 x5^2', 'x0 x2^2 x3^3', 'x0 x2^2 x3^2 x4', 'x0 x2^2 x3^2 x5', 'x0 x2^2 x3 x4^2', 'x0 x2^2 x3 x4 x5', 'x0 x2^2 x3 x5^2', 'x0 x2^2 x4^3', 'x0 x2^2 x4^2 x5', 'x0 x2^2 x4 x5^2', 'x0 x2^2 x5^3', 'x0 x2 x3^4', 'x0 x2 x3^3 x4', 'x0 x2 x3^3 x5', 'x0 x2 x3^2 x4^2', 'x0 x2 x3^2 x4 x5', 'x0 x2 x3^2 x5^2', 'x0 x2 x3 x4^3', 'x0 x2 x3 x4^2 x5', 'x0 x2 x3 x4 x5^2', 'x0 x2 x3 x5^3', 'x0 x2 x4^4', 'x0 x2 x4^3 x5', 'x0 x2 x4^2 x5^2', 'x0 x2 x4 x5^3', 'x0 x2 x5^4', 'x0 x3^5', 'x0 x3^4 x4', 'x0 x3^4 x5', 'x0 x3^3 x4^2', 'x0 x3^3 x4 x5', 'x0 x3^3 x5^2', 'x0 x3^2 x4^3', 'x0 x3^2 x4^2 x5', 'x0 x3^2 x4 x5^2', 'x0 x3^2 x5^3', 'x0 x3 x4^4', 'x0 x3 x4^3 x5', 'x0 x3 x4^2 x5^2', 'x0 x3 x4 x5^3', 'x0 x3 x5^4', 'x0 x4^5', 'x0 x4^4 x5', 'x0 x4^3 x5^2', 'x0 x4^2 x5^3', 'x0 x4 x5^4', 'x0 x5^5', 'x1^6', 'x1^5 x2', 'x1^5 x3', 'x1^5 x4', 'x1^5 x5', 'x1^4 x2^2', 'x1^4 x2 x3', 'x1^4 x2 x4', 'x1^4 x2 x5', 'x1^4 x3^2', 'x1^4 x3 x4', 'x1^4 x3 x5', 'x1^4 x4^2', 'x1^4 x4 x5', 'x1^4 x5^2', 'x1^3 x2^3', 'x1^3 x2^2 x3', 'x1^3 x2^2 x4', 'x1^3 x2^2 x5', 'x1^3 x2 x3^2', 'x1^3 x2 x3 x4', 'x1^3 x2 x3 x5', 'x1^3 x2 x4^2', 'x1^3 x2 x4 x5', 'x1^3 x2 x5^2', 'x1^3 x3^3', 'x1^3 x3^2 x4', 'x1^3 x3^2 x5', 'x1^3 x3 x4^2', 'x1^3 x3 x4 x5', 'x1^3 x3 x5^2', 'x1^3 x4^3', 'x1^3 x4^2 x5', 'x1^3 x4 x5^2', 'x1^3 x5^3', 'x1^2 x2^4', 'x1^2 x2^3 x3', 'x1^2 x2^3 x4', 'x1^2 x2^3 x5', 'x1^2 x2^2 x3^2', 'x1^2 x2^2 x3 x4', 'x1^2 x2^2 x3 x5', 'x1^2 x2^2 x4^2', 'x1^2 x2^2 x4 x5', 'x1^2 x2^2 x5^2', 'x1^2 x2 x3^3', 'x1^2 x2 x3^2 x4', 'x1^2 x2 x3^2 x5', 'x1^2 x2 x3 x4^2', 'x1^2 x2 x3 x4 x5', 'x1^2 x2 x3 x5^2', 'x1^2 x2 x4^3', 'x1^2 x2 x4^2 x5', 'x1^2 x2 x4 x5^2', 'x1^2 x2 x5^3', 'x1^2 x3^4', 'x1^2 x3^3 x4', 'x1^2 x3^3 x5', 'x1^2 x3^2 x4^2', 'x1^2 x3^2 x4 x5', 'x1^2 x3^2 x5^2', 'x1^2 x3 x4^3', 'x1^2 x3 x4^2 x5', 'x1^2 x3 x4 x5^2', 'x1^2 x3 x5^3', 'x1^2 x4^4', 'x1^2 x4^3 x5', 'x1^2 x4^2 x5^2', 'x1^2 x4 x5^3', 'x1^2 x5^4', 'x1 x2^5', 'x1 x2^4 x3', 'x1 x2^4 x4', 'x1 x2^4 x5', 'x1 x2^3 x3^2', 'x1 x2^3 x3 x4', 'x1 x2^3 x3 x5', 'x1 x2^3 x4^2', 'x1 x2^3 x4 x5', 'x1 x2^3 x5^2', 'x1 x2^2 x3^3', 'x1 x2^2 x3^2 x4', 'x1 x2^2 x3^2 x5', 'x1 x2^2 x3 x4^2', 'x1 x2^2 x3 x4 x5', 'x1 x2^2 x3 x5^2', 'x1 x2^2 x4^3', 'x1 x2^2 x4^2 x5', 'x1 x2^2 x4 x5^2', 'x1 x2^2 x5^3', 'x1 x2 x3^4', 'x1 x2 x3^3 x4', 'x1 x2 x3^3 x5', 'x1 x2 x3^2 x4^2', 'x1 x2 x3^2 x4 x5', 'x1 x2 x3^2 x5^2', 'x1 x2 x3 x4^3', 'x1 x2 x3 x4^2 x5', 'x1 x2 x3 x4 x5^2', 'x1 x2 x3 x5^3', 'x1 x2 x4^4', 'x1 x2 x4^3 x5', 'x1 x2 x4^2 x5^2', 'x1 x2 x4 x5^3', 'x1 x2 x5^4', 'x1 x3^5', 'x1 x3^4 x4', 'x1 x3^4 x5', 'x1 x3^3 x4^2', 'x1 x3^3 x4 x5', 'x1 x3^3 x5^2', 'x1 x3^2 x4^3', 'x1 x3^2 x4^2 x5', 'x1 x3^2 x4 x5^2', 'x1 x3^2 x5^3', 'x1 x3 x4^4', 'x1 x3 x4^3 x5', 'x1 x3 x4^2 x5^2', 'x1 x3 x4 x5^3', 'x1 x3 x5^4', 'x1 x4^5', 'x1 x4^4 x5', 'x1 x4^3 x5^2', 'x1 x4^2 x5^3', 'x1 x4 x5^4', 'x1 x5^5', 'x2^6', 'x2^5 x3', 'x2^5 x4', 'x2^5 x5', 'x2^4 x3^2', 'x2^4 x3 x4', 'x2^4 x3 x5', 'x2^4 x4^2', 'x2^4 x4 x5', 'x2^4 x5^2', 'x2^3 x3^3', 'x2^3 x3^2 x4', 'x2^3 x3^2 x5', 'x2^3 x3 x4^2', 'x2^3 x3 x4 x5', 'x2^3 x3 x5^2', 'x2^3 x4^3', 'x2^3 x4^2 x5', 'x2^3 x4 x5^2', 'x2^3 x5^3', 'x2^2 x3^4', 'x2^2 x3^3 x4', 'x2^2 x3^3 x5', 'x2^2 x3^2 x4^2', 'x2^2 x3^2 x4 x5', 'x2^2 x3^2 x5^2', 'x2^2 x3 x4^3', 'x2^2 x3 x4^2 x5', 'x2^2 x3 x4 x5^2', 'x2^2 x3 x5^3', 'x2^2 x4^4', 'x2^2 x4^3 x5', 'x2^2 x4^2 x5^2', 'x2^2 x4 x5^3', 'x2^2 x5^4', 'x2 x3^5', 'x2 x3^4 x4', 'x2 x3^4 x5', 'x2 x3^3 x4^2', 'x2 x3^3 x4 x5', 'x2 x3^3 x5^2', 'x2 x3^2 x4^3', 'x2 x3^2 x4^2 x5', 'x2 x3^2 x4 x5^2', 'x2 x3^2 x5^3', 'x2 x3 x4^4', 'x2 x3 x4^3 x5', 'x2 x3 x4^2 x5^2', 'x2 x3 x4 x5^3', 'x2 x3 x5^4', 'x2 x4^5', 'x2 x4^4 x5', 'x2 x4^3 x5^2', 'x2 x4^2 x5^3', 'x2 x4 x5^4', 'x2 x5^5', 'x3^6', 'x3^5 x4', 'x3^5 x5', 'x3^4 x4^2', 'x3^4 x4 x5', 'x3^4 x5^2', 'x3^3 x4^3', 'x3^3 x4^2 x5', 'x3^3 x4 x5^2', 'x3^3 x5^3', 'x3^2 x4^4', 'x3^2 x4^3 x5', 'x3^2 x4^2 x5^2', 'x3^2 x4 x5^3', 'x3^2 x5^4', 'x3 x4^5', 'x3 x4^4 x5', 'x3 x4^3 x5^2', 'x3 x4^2 x5^3', 'x3 x4 x5^4', 'x3 x5^5', 'x4^6', 'x4^5 x5', 'x4^4 x5^2', 'x4^3 x5^3', 'x4^2 x5^4', 'x4 x5^5', 'x5^6', 'x0^7', 'x0^6 x1', 'x0^6 x2', 'x0^6 x3', 'x0^6 x4', 'x0^6 x5', 'x0^5 x1^2', 'x0^5 x1 x2', 'x0^5 x1 x3', 'x0^5 x1 x4', 'x0^5 x1 x5', 'x0^5 x2^2', 'x0^5 x2 x3', 'x0^5 x2 x4', 'x0^5 x2 x5', 'x0^5 x3^2', 'x0^5 x3 x4', 'x0^5 x3 x5', 'x0^5 x4^2', 'x0^5 x4 x5', 'x0^5 x5^2', 'x0^4 x1^3', 'x0^4 x1^2 x2', 'x0^4 x1^2 x3', 'x0^4 x1^2 x4', 'x0^4 x1^2 x5', 'x0^4 x1 x2^2', 'x0^4 x1 x2 x3', 'x0^4 x1 x2 x4', 'x0^4 x1 x2 x5', 'x0^4 x1 x3^2', 'x0^4 x1 x3 x4', 'x0^4 x1 x3 x5', 'x0^4 x1 x4^2', 'x0^4 x1 x4 x5', 'x0^4 x1 x5^2', 'x0^4 x2^3', 'x0^4 x2^2 x3', 'x0^4 x2^2 x4', 'x0^4 x2^2 x5', 'x0^4 x2 x3^2', 'x0^4 x2 x3 x4', 'x0^4 x2 x3 x5', 'x0^4 x2 x4^2', 'x0^4 x2 x4 x5', 'x0^4 x2 x5^2', 'x0^4 x3^3', 'x0^4 x3^2 x4', 'x0^4 x3^2 x5', 'x0^4 x3 x4^2', 'x0^4 x3 x4 x5', 'x0^4 x3 x5^2', 'x0^4 x4^3', 'x0^4 x4^2 x5', 'x0^4 x4 x5^2', 'x0^4 x5^3', 'x0^3 x1^4', 'x0^3 x1^3 x2', 'x0^3 x1^3 x3', 'x0^3 x1^3 x4', 'x0^3 x1^3 x5', 'x0^3 x1^2 x2^2', 'x0^3 x1^2 x2 x3', 'x0^3 x1^2 x2 x4', 'x0^3 x1^2 x2 x5', 'x0^3 x1^2 x3^2', 'x0^3 x1^2 x3 x4', 'x0^3 x1^2 x3 x5', 'x0^3 x1^2 x4^2', 'x0^3 x1^2 x4 x5', 'x0^3 x1^2 x5^2', 'x0^3 x1 x2^3', 'x0^3 x1 x2^2 x3', 'x0^3 x1 x2^2 x4', 'x0^3 x1 x2^2 x5', 'x0^3 x1 x2 x3^2', 'x0^3 x1 x2 x3 x4', 'x0^3 x1 x2 x3 x5', 'x0^3 x1 x2 x4^2', 'x0^3 x1 x2 x4 x5', 'x0^3 x1 x2 x5^2', 'x0^3 x1 x3^3', 'x0^3 x1 x3^2 x4', 'x0^3 x1 x3^2 x5', 'x0^3 x1 x3 x4^2', 'x0^3 x1 x3 x4 x5', 'x0^3 x1 x3 x5^2', 'x0^3 x1 x4^3', 'x0^3 x1 x4^2 x5', 'x0^3 x1 x4 x5^2', 'x0^3 x1 x5^3', 'x0^3 x2^4', 'x0^3 x2^3 x3', 'x0^3 x2^3 x4', 'x0^3 x2^3 x5', 'x0^3 x2^2 x3^2', 'x0^3 x2^2 x3 x4', 'x0^3 x2^2 x3 x5', 'x0^3 x2^2 x4^2', 'x0^3 x2^2 x4 x5', 'x0^3 x2^2 x5^2', 'x0^3 x2 x3^3', 'x0^3 x2 x3^2 x4', 'x0^3 x2 x3^2 x5', 'x0^3 x2 x3 x4^2', 'x0^3 x2 x3 x4 x5', 'x0^3 x2 x3 x5^2', 'x0^3 x2 x4^3', 'x0^3 x2 x4^2 x5', 'x0^3 x2 x4 x5^2', 'x0^3 x2 x5^3', 'x0^3 x3^4', 'x0^3 x3^3 x4', 'x0^3 x3^3 x5', 'x0^3 x3^2 x4^2', 'x0^3 x3^2 x4 x5', 'x0^3 x3^2 x5^2', 'x0^3 x3 x4^3', 'x0^3 x3 x4^2 x5', 'x0^3 x3 x4 x5^2', 'x0^3 x3 x5^3', 'x0^3 x4^4', 'x0^3 x4^3 x5', 'x0^3 x4^2 x5^2', 'x0^3 x4 x5^3', 'x0^3 x5^4', 'x0^2 x1^5', 'x0^2 x1^4 x2', 'x0^2 x1^4 x3', 'x0^2 x1^4 x4', 'x0^2 x1^4 x5', 'x0^2 x1^3 x2^2', 'x0^2 x1^3 x2 x3', 'x0^2 x1^3 x2 x4', 'x0^2 x1^3 x2 x5', 'x0^2 x1^3 x3^2', 'x0^2 x1^3 x3 x4', 'x0^2 x1^3 x3 x5', 'x0^2 x1^3 x4^2', 'x0^2 x1^3 x4 x5', 'x0^2 x1^3 x5^2', 'x0^2 x1^2 x2^3', 'x0^2 x1^2 x2^2 x3', 'x0^2 x1^2 x2^2 x4', 'x0^2 x1^2 x2^2 x5', 'x0^2 x1^2 x2 x3^2', 'x0^2 x1^2 x2 x3 x4', 'x0^2 x1^2 x2 x3 x5', 'x0^2 x1^2 x2 x4^2', 'x0^2 x1^2 x2 x4 x5', 'x0^2 x1^2 x2 x5^2', 'x0^2 x1^2 x3^3', 'x0^2 x1^2 x3^2 x4', 'x0^2 x1^2 x3^2 x5', 'x0^2 x1^2 x3 x4^2', 'x0^2 x1^2 x3 x4 x5', 'x0^2 x1^2 x3 x5^2', 'x0^2 x1^2 x4^3', 'x0^2 x1^2 x4^2 x5', 'x0^2 x1^2 x4 x5^2', 'x0^2 x1^2 x5^3', 'x0^2 x1 x2^4', 'x0^2 x1 x2^3 x3', 'x0^2 x1 x2^3 x4', 'x0^2 x1 x2^3 x5', 'x0^2 x1 x2^2 x3^2', 'x0^2 x1 x2^2 x3 x4', 'x0^2 x1 x2^2 x3 x5', 'x0^2 x1 x2^2 x4^2', 'x0^2 x1 x2^2 x4 x5', 'x0^2 x1 x2^2 x5^2', 'x0^2 x1 x2 x3^3', 'x0^2 x1 x2 x3^2 x4', 'x0^2 x1 x2 x3^2 x5', 'x0^2 x1 x2 x3 x4^2', 'x0^2 x1 x2 x3 x4 x5', 'x0^2 x1 x2 x3 x5^2', 'x0^2 x1 x2 x4^3', 'x0^2 x1 x2 x4^2 x5', 'x0^2 x1 x2 x4 x5^2', 'x0^2 x1 x2 x5^3', 'x0^2 x1 x3^4', 'x0^2 x1 x3^3 x4', 'x0^2 x1 x3^3 x5', 'x0^2 x1 x3^2 x4^2', 'x0^2 x1 x3^2 x4 x5', 'x0^2 x1 x3^2 x5^2', 'x0^2 x1 x3 x4^3', 'x0^2 x1 x3 x4^2 x5', 'x0^2 x1 x3 x4 x5^2', 'x0^2 x1 x3 x5^3', 'x0^2 x1 x4^4', 'x0^2 x1 x4^3 x5', 'x0^2 x1 x4^2 x5^2', 'x0^2 x1 x4 x5^3', 'x0^2 x1 x5^4', 'x0^2 x2^5', 'x0^2 x2^4 x3', 'x0^2 x2^4 x4', 'x0^2 x2^4 x5', 'x0^2 x2^3 x3^2', 'x0^2 x2^3 x3 x4', 'x0^2 x2^3 x3 x5', 'x0^2 x2^3 x4^2', 'x0^2 x2^3 x4 x5', 'x0^2 x2^3 x5^2', 'x0^2 x2^2 x3^3', 'x0^2 x2^2 x3^2 x4', 'x0^2 x2^2 x3^2 x5', 'x0^2 x2^2 x3 x4^2', 'x0^2 x2^2 x3 x4 x5', 'x0^2 x2^2 x3 x5^2', 'x0^2 x2^2 x4^3', 'x0^2 x2^2 x4^2 x5', 'x0^2 x2^2 x4 x5^2', 'x0^2 x2^2 x5^3', 'x0^2 x2 x3^4', 'x0^2 x2 x3^3 x4', 'x0^2 x2 x3^3 x5', 'x0^2 x2 x3^2 x4^2', 'x0^2 x2 x3^2 x4 x5', 'x0^2 x2 x3^2 x5^2', 'x0^2 x2 x3 x4^3', 'x0^2 x2 x3 x4^2 x5', 'x0^2 x2 x3 x4 x5^2', 'x0^2 x2 x3 x5^3', 'x0^2 x2 x4^4', 'x0^2 x2 x4^3 x5', 'x0^2 x2 x4^2 x5^2', 'x0^2 x2 x4 x5^3', 'x0^2 x2 x5^4', 'x0^2 x3^5', 'x0^2 x3^4 x4', 'x0^2 x3^4 x5', 'x0^2 x3^3 x4^2', 'x0^2 x3^3 x4 x5', 'x0^2 x3^3 x5^2', 'x0^2 x3^2 x4^3', 'x0^2 x3^2 x4^2 x5', 'x0^2 x3^2 x4 x5^2', 'x0^2 x3^2 x5^3', 'x0^2 x3 x4^4', 'x0^2 x3 x4^3 x5', 'x0^2 x3 x4^2 x5^2', 'x0^2 x3 x4 x5^3', 'x0^2 x3 x5^4', 'x0^2 x4^5', 'x0^2 x4^4 x5', 'x0^2 x4^3 x5^2', 'x0^2 x4^2 x5^3', 'x0^2 x4 x5^4', 'x0^2 x5^5', 'x0 x1^6', 'x0 x1^5 x2', 'x0 x1^5 x3', 'x0 x1^5 x4', 'x0 x1^5 x5', 'x0 x1^4 x2^2', 'x0 x1^4 x2 x3', 'x0 x1^4 x2 x4', 'x0 x1^4 x2 x5', 'x0 x1^4 x3^2', 'x0 x1^4 x3 x4', 'x0 x1^4 x3 x5', 'x0 x1^4 x4^2', 'x0 x1^4 x4 x5', 'x0 x1^4 x5^2', 'x0 x1^3 x2^3', 'x0 x1^3 x2^2 x3', 'x0 x1^3 x2^2 x4', 'x0 x1^3 x2^2 x5', 'x0 x1^3 x2 x3^2', 'x0 x1^3 x2 x3 x4', 'x0 x1^3 x2 x3 x5', 'x0 x1^3 x2 x4^2', 'x0 x1^3 x2 x4 x5', 'x0 x1^3 x2 x5^2', 'x0 x1^3 x3^3', 'x0 x1^3 x3^2 x4', 'x0 x1^3 x3^2 x5', 'x0 x1^3 x3 x4^2', 'x0 x1^3 x3 x4 x5', 'x0 x1^3 x3 x5^2', 'x0 x1^3 x4^3', 'x0 x1^3 x4^2 x5', 'x0 x1^3 x4 x5^2', 'x0 x1^3 x5^3', 'x0 x1^2 x2^4', 'x0 x1^2 x2^3 x3', 'x0 x1^2 x2^3 x4', 'x0 x1^2 x2^3 x5', 'x0 x1^2 x2^2 x3^2', 'x0 x1^2 x2^2 x3 x4', 'x0 x1^2 x2^2 x3 x5', 'x0 x1^2 x2^2 x4^2', 'x0 x1^2 x2^2 x4 x5', 'x0 x1^2 x2^2 x5^2', 'x0 x1^2 x2 x3^3', 'x0 x1^2 x2 x3^2 x4', 'x0 x1^2 x2 x3^2 x5', 'x0 x1^2 x2 x3 x4^2', 'x0 x1^2 x2 x3 x4 x5', 'x0 x1^2 x2 x3 x5^2', 'x0 x1^2 x2 x4^3', 'x0 x1^2 x2 x4^2 x5', 'x0 x1^2 x2 x4 x5^2', 'x0 x1^2 x2 x5^3', 'x0 x1^2 x3^4', 'x0 x1^2 x3^3 x4', 'x0 x1^2 x3^3 x5', 'x0 x1^2 x3^2 x4^2', 'x0 x1^2 x3^2 x4 x5', 'x0 x1^2 x3^2 x5^2', 'x0 x1^2 x3 x4^3', 'x0 x1^2 x3 x4^2 x5', 'x0 x1^2 x3 x4 x5^2', 'x0 x1^2 x3 x5^3', 'x0 x1^2 x4^4', 'x0 x1^2 x4^3 x5', 'x0 x1^2 x4^2 x5^2', 'x0 x1^2 x4 x5^3', 'x0 x1^2 x5^4', 'x0 x1 x2^5', 'x0 x1 x2^4 x3', 'x0 x1 x2^4 x4', 'x0 x1 x2^4 x5', 'x0 x1 x2^3 x3^2', 'x0 x1 x2^3 x3 x4', 'x0 x1 x2^3 x3 x5', 'x0 x1 x2^3 x4^2', 'x0 x1 x2^3 x4 x5', 'x0 x1 x2^3 x5^2', 'x0 x1 x2^2 x3^3', 'x0 x1 x2^2 x3^2 x4', 'x0 x1 x2^2 x3^2 x5', 'x0 x1 x2^2 x3 x4^2', 'x0 x1 x2^2 x3 x4 x5', 'x0 x1 x2^2 x3 x5^2', 'x0 x1 x2^2 x4^3', 'x0 x1 x2^2 x4^2 x5', 'x0 x1 x2^2 x4 x5^2', 'x0 x1 x2^2 x5^3', 'x0 x1 x2 x3^4', 'x0 x1 x2 x3^3 x4', 'x0 x1 x2 x3^3 x5', 'x0 x1 x2 x3^2 x4^2', 'x0 x1 x2 x3^2 x4 x5', 'x0 x1 x2 x3^2 x5^2', 'x0 x1 x2 x3 x4^3', 'x0 x1 x2 x3 x4^2 x5', 'x0 x1 x2 x3 x4 x5^2', 'x0 x1 x2 x3 x5^3', 'x0 x1 x2 x4^4', 'x0 x1 x2 x4^3 x5', 'x0 x1 x2 x4^2 x5^2', 'x0 x1 x2 x4 x5^3', 'x0 x1 x2 x5^4', 'x0 x1 x3^5', 'x0 x1 x3^4 x4', 'x0 x1 x3^4 x5', 'x0 x1 x3^3 x4^2', 'x0 x1 x3^3 x4 x5', 'x0 x1 x3^3 x5^2', 'x0 x1 x3^2 x4^3', 'x0 x1 x3^2 x4^2 x5', 'x0 x1 x3^2 x4 x5^2', 'x0 x1 x3^2 x5^3', 'x0 x1 x3 x4^4', 'x0 x1 x3 x4^3 x5', 'x0 x1 x3 x4^2 x5^2', 'x0 x1 x3 x4 x5^3', 'x0 x1 x3 x5^4', 'x0 x1 x4^5', 'x0 x1 x4^4 x5', 'x0 x1 x4^3 x5^2', 'x0 x1 x4^2 x5^3', 'x0 x1 x4 x5^4', 'x0 x1 x5^5', 'x0 x2^6', 'x0 x2^5 x3', 'x0 x2^5 x4', 'x0 x2^5 x5', 'x0 x2^4 x3^2', 'x0 x2^4 x3 x4', 'x0 x2^4 x3 x5', 'x0 x2^4 x4^2', 'x0 x2^4 x4 x5', 'x0 x2^4 x5^2', 'x0 x2^3 x3^3', 'x0 x2^3 x3^2 x4', 'x0 x2^3 x3^2 x5', 'x0 x2^3 x3 x4^2', 'x0 x2^3 x3 x4 x5', 'x0 x2^3 x3 x5^2', 'x0 x2^3 x4^3', 'x0 x2^3 x4^2 x5', 'x0 x2^3 x4 x5^2', 'x0 x2^3 x5^3', 'x0 x2^2 x3^4', 'x0 x2^2 x3^3 x4', 'x0 x2^2 x3^3 x5', 'x0 x2^2 x3^2 x4^2', 'x0 x2^2 x3^2 x4 x5', 'x0 x2^2 x3^2 x5^2', 'x0 x2^2 x3 x4^3', 'x0 x2^2 x3 x4^2 x5', 'x0 x2^2 x3 x4 x5^2', 'x0 x2^2 x3 x5^3', 'x0 x2^2 x4^4', 'x0 x2^2 x4^3 x5', 'x0 x2^2 x4^2 x5^2', 'x0 x2^2 x4 x5^3', 'x0 x2^2 x5^4', 'x0 x2 x3^5', 'x0 x2 x3^4 x4', 'x0 x2 x3^4 x5', 'x0 x2 x3^3 x4^2', 'x0 x2 x3^3 x4 x5', 'x0 x2 x3^3 x5^2', 'x0 x2 x3^2 x4^3', 'x0 x2 x3^2 x4^2 x5', 'x0 x2 x3^2 x4 x5^2', 'x0 x2 x3^2 x5^3', 'x0 x2 x3 x4^4', 'x0 x2 x3 x4^3 x5', 'x0 x2 x3 x4^2 x5^2', 'x0 x2 x3 x4 x5^3', 'x0 x2 x3 x5^4', 'x0 x2 x4^5', 'x0 x2 x4^4 x5', 'x0 x2 x4^3 x5^2', 'x0 x2 x4^2 x5^3', 'x0 x2 x4 x5^4', 'x0 x2 x5^5', 'x0 x3^6', 'x0 x3^5 x4', 'x0 x3^5 x5', 'x0 x3^4 x4^2', 'x0 x3^4 x4 x5', 'x0 x3^4 x5^2', 'x0 x3^3 x4^3', 'x0 x3^3 x4^2 x5', 'x0 x3^3 x4 x5^2', 'x0 x3^3 x5^3', 'x0 x3^2 x4^4', 'x0 x3^2 x4^3 x5', 'x0 x3^2 x4^2 x5^2', 'x0 x3^2 x4 x5^3', 'x0 x3^2 x5^4', 'x0 x3 x4^5', 'x0 x3 x4^4 x5', 'x0 x3 x4^3 x5^2', 'x0 x3 x4^2 x5^3', 'x0 x3 x4 x5^4', 'x0 x3 x5^5', 'x0 x4^6', 'x0 x4^5 x5', 'x0 x4^4 x5^2', 'x0 x4^3 x5^3', 'x0 x4^2 x5^4', 'x0 x4 x5^5', 'x0 x5^6', 'x1^7', 'x1^6 x2', 'x1^6 x3', 'x1^6 x4', 'x1^6 x5', 'x1^5 x2^2', 'x1^5 x2 x3', 'x1^5 x2 x4', 'x1^5 x2 x5', 'x1^5 x3^2', 'x1^5 x3 x4', 'x1^5 x3 x5', 'x1^5 x4^2', 'x1^5 x4 x5', 'x1^5 x5^2', 'x1^4 x2^3', 'x1^4 x2^2 x3', 'x1^4 x2^2 x4', 'x1^4 x2^2 x5', 'x1^4 x2 x3^2', 'x1^4 x2 x3 x4', 'x1^4 x2 x3 x5', 'x1^4 x2 x4^2', 'x1^4 x2 x4 x5', 'x1^4 x2 x5^2', 'x1^4 x3^3', 'x1^4 x3^2 x4', 'x1^4 x3^2 x5', 'x1^4 x3 x4^2', 'x1^4 x3 x4 x5', 'x1^4 x3 x5^2', 'x1^4 x4^3', 'x1^4 x4^2 x5', 'x1^4 x4 x5^2', 'x1^4 x5^3', 'x1^3 x2^4', 'x1^3 x2^3 x3', 'x1^3 x2^3 x4', 'x1^3 x2^3 x5', 'x1^3 x2^2 x3^2', 'x1^3 x2^2 x3 x4', 'x1^3 x2^2 x3 x5', 'x1^3 x2^2 x4^2', 'x1^3 x2^2 x4 x5', 'x1^3 x2^2 x5^2', 'x1^3 x2 x3^3', 'x1^3 x2 x3^2 x4', 'x1^3 x2 x3^2 x5', 'x1^3 x2 x3 x4^2', 'x1^3 x2 x3 x4 x5', 'x1^3 x2 x3 x5^2', 'x1^3 x2 x4^3', 'x1^3 x2 x4^2 x5', 'x1^3 x2 x4 x5^2', 'x1^3 x2 x5^3', 'x1^3 x3^4', 'x1^3 x3^3 x4', 'x1^3 x3^3 x5', 'x1^3 x3^2 x4^2', 'x1^3 x3^2 x4 x5', 'x1^3 x3^2 x5^2', 'x1^3 x3 x4^3', 'x1^3 x3 x4^2 x5', 'x1^3 x3 x4 x5^2', 'x1^3 x3 x5^3', 'x1^3 x4^4', 'x1^3 x4^3 x5', 'x1^3 x4^2 x5^2', 'x1^3 x4 x5^3', 'x1^3 x5^4', 'x1^2 x2^5', 'x1^2 x2^4 x3', 'x1^2 x2^4 x4', 'x1^2 x2^4 x5', 'x1^2 x2^3 x3^2', 'x1^2 x2^3 x3 x4', 'x1^2 x2^3 x3 x5', 'x1^2 x2^3 x4^2', 'x1^2 x2^3 x4 x5', 'x1^2 x2^3 x5^2', 'x1^2 x2^2 x3^3', 'x1^2 x2^2 x3^2 x4', 'x1^2 x2^2 x3^2 x5', 'x1^2 x2^2 x3 x4^2', 'x1^2 x2^2 x3 x4 x5', 'x1^2 x2^2 x3 x5^2', 'x1^2 x2^2 x4^3', 'x1^2 x2^2 x4^2 x5', 'x1^2 x2^2 x4 x5^2', 'x1^2 x2^2 x5^3', 'x1^2 x2 x3^4', 'x1^2 x2 x3^3 x4', 'x1^2 x2 x3^3 x5', 'x1^2 x2 x3^2 x4^2', 'x1^2 x2 x3^2 x4 x5', 'x1^2 x2 x3^2 x5^2', 'x1^2 x2 x3 x4^3', 'x1^2 x2 x3 x4^2 x5', 'x1^2 x2 x3 x4 x5^2', 'x1^2 x2 x3 x5^3', 'x1^2 x2 x4^4', 'x1^2 x2 x4^3 x5', 'x1^2 x2 x4^2 x5^2', 'x1^2 x2 x4 x5^3', 'x1^2 x2 x5^4', 'x1^2 x3^5', 'x1^2 x3^4 x4', 'x1^2 x3^4 x5', 'x1^2 x3^3 x4^2', 'x1^2 x3^3 x4 x5', 'x1^2 x3^3 x5^2', 'x1^2 x3^2 x4^3', 'x1^2 x3^2 x4^2 x5', 'x1^2 x3^2 x4 x5^2', 'x1^2 x3^2 x5^3', 'x1^2 x3 x4^4', 'x1^2 x3 x4^3 x5', 'x1^2 x3 x4^2 x5^2', 'x1^2 x3 x4 x5^3', 'x1^2 x3 x5^4', 'x1^2 x4^5', 'x1^2 x4^4 x5', 'x1^2 x4^3 x5^2', 'x1^2 x4^2 x5^3', 'x1^2 x4 x5^4', 'x1^2 x5^5', 'x1 x2^6', 'x1 x2^5 x3', 'x1 x2^5 x4', 'x1 x2^5 x5', 'x1 x2^4 x3^2', 'x1 x2^4 x3 x4', 'x1 x2^4 x3 x5', 'x1 x2^4 x4^2', 'x1 x2^4 x4 x5', 'x1 x2^4 x5^2', 'x1 x2^3 x3^3', 'x1 x2^3 x3^2 x4', 'x1 x2^3 x3^2 x5', 'x1 x2^3 x3 x4^2', 'x1 x2^3 x3 x4 x5', 'x1 x2^3 x3 x5^2', 'x1 x2^3 x4^3', 'x1 x2^3 x4^2 x5', 'x1 x2^3 x4 x5^2', 'x1 x2^3 x5^3', 'x1 x2^2 x3^4', 'x1 x2^2 x3^3 x4', 'x1 x2^2 x3^3 x5', 'x1 x2^2 x3^2 x4^2', 'x1 x2^2 x3^2 x4 x5', 'x1 x2^2 x3^2 x5^2', 'x1 x2^2 x3 x4^3', 'x1 x2^2 x3 x4^2 x5', 'x1 x2^2 x3 x4 x5^2', 'x1 x2^2 x3 x5^3', 'x1 x2^2 x4^4', 'x1 x2^2 x4^3 x5', 'x1 x2^2 x4^2 x5^2', 'x1 x2^2 x4 x5^3', 'x1 x2^2 x5^4', 'x1 x2 x3^5', 'x1 x2 x3^4 x4', 'x1 x2 x3^4 x5', 'x1 x2 x3^3 x4^2', 'x1 x2 x3^3 x4 x5', 'x1 x2 x3^3 x5^2', 'x1 x2 x3^2 x4^3', 'x1 x2 x3^2 x4^2 x5', 'x1 x2 x3^2 x4 x5^2', 'x1 x2 x3^2 x5^3', 'x1 x2 x3 x4^4', 'x1 x2 x3 x4^3 x5', 'x1 x2 x3 x4^2 x5^2', 'x1 x2 x3 x4 x5^3', 'x1 x2 x3 x5^4', 'x1 x2 x4^5', 'x1 x2 x4^4 x5', 'x1 x2 x4^3 x5^2', 'x1 x2 x4^2 x5^3', 'x1 x2 x4 x5^4', 'x1 x2 x5^5', 'x1 x3^6', 'x1 x3^5 x4', 'x1 x3^5 x5', 'x1 x3^4 x4^2', 'x1 x3^4 x4 x5', 'x1 x3^4 x5^2', 'x1 x3^3 x4^3', 'x1 x3^3 x4^2 x5', 'x1 x3^3 x4 x5^2', 'x1 x3^3 x5^3', 'x1 x3^2 x4^4', 'x1 x3^2 x4^3 x5', 'x1 x3^2 x4^2 x5^2', 'x1 x3^2 x4 x5^3', 'x1 x3^2 x5^4', 'x1 x3 x4^5', 'x1 x3 x4^4 x5', 'x1 x3 x4^3 x5^2', 'x1 x3 x4^2 x5^3', 'x1 x3 x4 x5^4', 'x1 x3 x5^5', 'x1 x4^6', 'x1 x4^5 x5', 'x1 x4^4 x5^2', 'x1 x4^3 x5^3', 'x1 x4^2 x5^4', 'x1 x4 x5^5', 'x1 x5^6', 'x2^7', 'x2^6 x3', 'x2^6 x4', 'x2^6 x5', 'x2^5 x3^2', 'x2^5 x3 x4', 'x2^5 x3 x5', 'x2^5 x4^2', 'x2^5 x4 x5', 'x2^5 x5^2', 'x2^4 x3^3', 'x2^4 x3^2 x4', 'x2^4 x3^2 x5', 'x2^4 x3 x4^2', 'x2^4 x3 x4 x5', 'x2^4 x3 x5^2', 'x2^4 x4^3', 'x2^4 x4^2 x5', 'x2^4 x4 x5^2', 'x2^4 x5^3', 'x2^3 x3^4', 'x2^3 x3^3 x4', 'x2^3 x3^3 x5', 'x2^3 x3^2 x4^2', 'x2^3 x3^2 x4 x5', 'x2^3 x3^2 x5^2', 'x2^3 x3 x4^3', 'x2^3 x3 x4^2 x5', 'x2^3 x3 x4 x5^2', 'x2^3 x3 x5^3', 'x2^3 x4^4', 'x2^3 x4^3 x5', 'x2^3 x4^2 x5^2', 'x2^3 x4 x5^3', 'x2^3 x5^4', 'x2^2 x3^5', 'x2^2 x3^4 x4', 'x2^2 x3^4 x5', 'x2^2 x3^3 x4^2', 'x2^2 x3^3 x4 x5', 'x2^2 x3^3 x5^2', 'x2^2 x3^2 x4^3', 'x2^2 x3^2 x4^2 x5', 'x2^2 x3^2 x4 x5^2', 'x2^2 x3^2 x5^3', 'x2^2 x3 x4^4', 'x2^2 x3 x4^3 x5', 'x2^2 x3 x4^2 x5^2', 'x2^2 x3 x4 x5^3', 'x2^2 x3 x5^4', 'x2^2 x4^5', 'x2^2 x4^4 x5', 'x2^2 x4^3 x5^2', 'x2^2 x4^2 x5^3', 'x2^2 x4 x5^4', 'x2^2 x5^5', 'x2 x3^6', 'x2 x3^5 x4', 'x2 x3^5 x5', 'x2 x3^4 x4^2', 'x2 x3^4 x4 x5', 'x2 x3^4 x5^2', 'x2 x3^3 x4^3', 'x2 x3^3 x4^2 x5', 'x2 x3^3 x4 x5^2', 'x2 x3^3 x5^3', 'x2 x3^2 x4^4', 'x2 x3^2 x4^3 x5', 'x2 x3^2 x4^2 x5^2', 'x2 x3^2 x4 x5^3', 'x2 x3^2 x5^4', 'x2 x3 x4^5', 'x2 x3 x4^4 x5', 'x2 x3 x4^3 x5^2', 'x2 x3 x4^2 x5^3', 'x2 x3 x4 x5^4', 'x2 x3 x5^5', 'x2 x4^6', 'x2 x4^5 x5', 'x2 x4^4 x5^2', 'x2 x4^3 x5^3', 'x2 x4^2 x5^4', 'x2 x4 x5^5', 'x2 x5^6', 'x3^7', 'x3^6 x4', 'x3^6 x5', 'x3^5 x4^2', 'x3^5 x4 x5', 'x3^5 x5^2', 'x3^4 x4^3', 'x3^4 x4^2 x5', 'x3^4 x4 x5^2', 'x3^4 x5^3', 'x3^3 x4^4', 'x3^3 x4^3 x5', 'x3^3 x4^2 x5^2', 'x3^3 x4 x5^3', 'x3^3 x5^4', 'x3^2 x4^5', 'x3^2 x4^4 x5', 'x3^2 x4^3 x5^2', 'x3^2 x4^2 x5^3', 'x3^2 x4 x5^4', 'x3^2 x5^5', 'x3 x4^6', 'x3 x4^5 x5', 'x3 x4^4 x5^2', 'x3 x4^3 x5^3', 'x3 x4^2 x5^4', 'x3 x4 x5^5', 'x3 x5^6', 'x4^7', 'x4^6 x5', 'x4^5 x5^2', 'x4^4 x5^3', 'x4^3 x5^4', 'x4^2 x5^5', 'x4 x5^6', 'x5^7', 'x0^8', 'x0^7 x1', 'x0^7 x2', 'x0^7 x3', 'x0^7 x4', 'x0^7 x5', 'x0^6 x1^2', 'x0^6 x1 x2', 'x0^6 x1 x3', 'x0^6 x1 x4', 'x0^6 x1 x5', 'x0^6 x2^2', 'x0^6 x2 x3', 'x0^6 x2 x4', 'x0^6 x2 x5', 'x0^6 x3^2', 'x0^6 x3 x4', 'x0^6 x3 x5', 'x0^6 x4^2', 'x0^6 x4 x5', 'x0^6 x5^2', 'x0^5 x1^3', 'x0^5 x1^2 x2', 'x0^5 x1^2 x3', 'x0^5 x1^2 x4', 'x0^5 x1^2 x5', 'x0^5 x1 x2^2', 'x0^5 x1 x2 x3', 'x0^5 x1 x2 x4', 'x0^5 x1 x2 x5', 'x0^5 x1 x3^2', 'x0^5 x1 x3 x4', 'x0^5 x1 x3 x5', 'x0^5 x1 x4^2', 'x0^5 x1 x4 x5', 'x0^5 x1 x5^2', 'x0^5 x2^3', 'x0^5 x2^2 x3', 'x0^5 x2^2 x4', 'x0^5 x2^2 x5', 'x0^5 x2 x3^2', 'x0^5 x2 x3 x4', 'x0^5 x2 x3 x5', 'x0^5 x2 x4^2', 'x0^5 x2 x4 x5', 'x0^5 x2 x5^2', 'x0^5 x3^3', 'x0^5 x3^2 x4', 'x0^5 x3^2 x5', 'x0^5 x3 x4^2', 'x0^5 x3 x4 x5', 'x0^5 x3 x5^2', 'x0^5 x4^3', 'x0^5 x4^2 x5', 'x0^5 x4 x5^2', 'x0^5 x5^3', 'x0^4 x1^4', 'x0^4 x1^3 x2', 'x0^4 x1^3 x3', 'x0^4 x1^3 x4', 'x0^4 x1^3 x5', 'x0^4 x1^2 x2^2', 'x0^4 x1^2 x2 x3', 'x0^4 x1^2 x2 x4', 'x0^4 x1^2 x2 x5', 'x0^4 x1^2 x3^2', 'x0^4 x1^2 x3 x4', 'x0^4 x1^2 x3 x5', 'x0^4 x1^2 x4^2', 'x0^4 x1^2 x4 x5', 'x0^4 x1^2 x5^2', 'x0^4 x1 x2^3', 'x0^4 x1 x2^2 x3', 'x0^4 x1 x2^2 x4', 'x0^4 x1 x2^2 x5', 'x0^4 x1 x2 x3^2', 'x0^4 x1 x2 x3 x4', 'x0^4 x1 x2 x3 x5', 'x0^4 x1 x2 x4^2', 'x0^4 x1 x2 x4 x5', 'x0^4 x1 x2 x5^2', 'x0^4 x1 x3^3', 'x0^4 x1 x3^2 x4', 'x0^4 x1 x3^2 x5', 'x0^4 x1 x3 x4^2', 'x0^4 x1 x3 x4 x5', 'x0^4 x1 x3 x5^2', 'x0^4 x1 x4^3', 'x0^4 x1 x4^2 x5', 'x0^4 x1 x4 x5^2', 'x0^4 x1 x5^3', 'x0^4 x2^4', 'x0^4 x2^3 x3', 'x0^4 x2^3 x4', 'x0^4 x2^3 x5', 'x0^4 x2^2 x3^2', 'x0^4 x2^2 x3 x4', 'x0^4 x2^2 x3 x5', 'x0^4 x2^2 x4^2', 'x0^4 x2^2 x4 x5', 'x0^4 x2^2 x5^2', 'x0^4 x2 x3^3', 'x0^4 x2 x3^2 x4', 'x0^4 x2 x3^2 x5', 'x0^4 x2 x3 x4^2', 'x0^4 x2 x3 x4 x5', 'x0^4 x2 x3 x5^2', 'x0^4 x2 x4^3', 'x0^4 x2 x4^2 x5', 'x0^4 x2 x4 x5^2', 'x0^4 x2 x5^3', 'x0^4 x3^4', 'x0^4 x3^3 x4', 'x0^4 x3^3 x5', 'x0^4 x3^2 x4^2', 'x0^4 x3^2 x4 x5', 'x0^4 x3^2 x5^2', 'x0^4 x3 x4^3', 'x0^4 x3 x4^2 x5', 'x0^4 x3 x4 x5^2', 'x0^4 x3 x5^3', 'x0^4 x4^4', 'x0^4 x4^3 x5', 'x0^4 x4^2 x5^2', 'x0^4 x4 x5^3', 'x0^4 x5^4', 'x0^3 x1^5', 'x0^3 x1^4 x2', 'x0^3 x1^4 x3', 'x0^3 x1^4 x4', 'x0^3 x1^4 x5', 'x0^3 x1^3 x2^2', 'x0^3 x1^3 x2 x3', 'x0^3 x1^3 x2 x4', 'x0^3 x1^3 x2 x5', 'x0^3 x1^3 x3^2', 'x0^3 x1^3 x3 x4', 'x0^3 x1^3 x3 x5', 'x0^3 x1^3 x4^2', 'x0^3 x1^3 x4 x5', 'x0^3 x1^3 x5^2', 'x0^3 x1^2 x2^3', 'x0^3 x1^2 x2^2 x3', 'x0^3 x1^2 x2^2 x4', 'x0^3 x1^2 x2^2 x5', 'x0^3 x1^2 x2 x3^2', 'x0^3 x1^2 x2 x3 x4', 'x0^3 x1^2 x2 x3 x5', 'x0^3 x1^2 x2 x4^2', 'x0^3 x1^2 x2 x4 x5', 'x0^3 x1^2 x2 x5^2', 'x0^3 x1^2 x3^3', 'x0^3 x1^2 x3^2 x4', 'x0^3 x1^2 x3^2 x5', 'x0^3 x1^2 x3 x4^2', 'x0^3 x1^2 x3 x4 x5', 'x0^3 x1^2 x3 x5^2', 'x0^3 x1^2 x4^3', 'x0^3 x1^2 x4^2 x5', 'x0^3 x1^2 x4 x5^2', 'x0^3 x1^2 x5^3', 'x0^3 x1 x2^4', 'x0^3 x1 x2^3 x3', 'x0^3 x1 x2^3 x4', 'x0^3 x1 x2^3 x5', 'x0^3 x1 x2^2 x3^2', 'x0^3 x1 x2^2 x3 x4', 'x0^3 x1 x2^2 x3 x5', 'x0^3 x1 x2^2 x4^2', 'x0^3 x1 x2^2 x4 x5', 'x0^3 x1 x2^2 x5^2', 'x0^3 x1 x2 x3^3', 'x0^3 x1 x2 x3^2 x4', 'x0^3 x1 x2 x3^2 x5', 'x0^3 x1 x2 x3 x4^2', 'x0^3 x1 x2 x3 x4 x5', 'x0^3 x1 x2 x3 x5^2', 'x0^3 x1 x2 x4^3', 'x0^3 x1 x2 x4^2 x5', 'x0^3 x1 x2 x4 x5^2', 'x0^3 x1 x2 x5^3', 'x0^3 x1 x3^4', 'x0^3 x1 x3^3 x4', 'x0^3 x1 x3^3 x5', 'x0^3 x1 x3^2 x4^2', 'x0^3 x1 x3^2 x4 x5', 'x0^3 x1 x3^2 x5^2', 'x0^3 x1 x3 x4^3', 'x0^3 x1 x3 x4^2 x5', 'x0^3 x1 x3 x4 x5^2', 'x0^3 x1 x3 x5^3', 'x0^3 x1 x4^4', 'x0^3 x1 x4^3 x5', 'x0^3 x1 x4^2 x5^2', 'x0^3 x1 x4 x5^3', 'x0^3 x1 x5^4', 'x0^3 x2^5', 'x0^3 x2^4 x3', 'x0^3 x2^4 x4', 'x0^3 x2^4 x5', 'x0^3 x2^3 x3^2', 'x0^3 x2^3 x3 x4', 'x0^3 x2^3 x3 x5', 'x0^3 x2^3 x4^2', 'x0^3 x2^3 x4 x5', 'x0^3 x2^3 x5^2', 'x0^3 x2^2 x3^3', 'x0^3 x2^2 x3^2 x4', 'x0^3 x2^2 x3^2 x5', 'x0^3 x2^2 x3 x4^2', 'x0^3 x2^2 x3 x4 x5', 'x0^3 x2^2 x3 x5^2', 'x0^3 x2^2 x4^3', 'x0^3 x2^2 x4^2 x5', 'x0^3 x2^2 x4 x5^2', 'x0^3 x2^2 x5^3', 'x0^3 x2 x3^4', 'x0^3 x2 x3^3 x4', 'x0^3 x2 x3^3 x5', 'x0^3 x2 x3^2 x4^2', 'x0^3 x2 x3^2 x4 x5', 'x0^3 x2 x3^2 x5^2', 'x0^3 x2 x3 x4^3', 'x0^3 x2 x3 x4^2 x5', 'x0^3 x2 x3 x4 x5^2', 'x0^3 x2 x3 x5^3', 'x0^3 x2 x4^4', 'x0^3 x2 x4^3 x5', 'x0^3 x2 x4^2 x5^2', 'x0^3 x2 x4 x5^3', 'x0^3 x2 x5^4', 'x0^3 x3^5', 'x0^3 x3^4 x4', 'x0^3 x3^4 x5', 'x0^3 x3^3 x4^2', 'x0^3 x3^3 x4 x5', 'x0^3 x3^3 x5^2', 'x0^3 x3^2 x4^3', 'x0^3 x3^2 x4^2 x5', 'x0^3 x3^2 x4 x5^2', 'x0^3 x3^2 x5^3', 'x0^3 x3 x4^4', 'x0^3 x3 x4^3 x5', 'x0^3 x3 x4^2 x5^2', 'x0^3 x3 x4 x5^3', 'x0^3 x3 x5^4', 'x0^3 x4^5', 'x0^3 x4^4 x5', 'x0^3 x4^3 x5^2', 'x0^3 x4^2 x5^3', 'x0^3 x4 x5^4', 'x0^3 x5^5', 'x0^2 x1^6', 'x0^2 x1^5 x2', 'x0^2 x1^5 x3', 'x0^2 x1^5 x4', 'x0^2 x1^5 x5', 'x0^2 x1^4 x2^2', 'x0^2 x1^4 x2 x3', 'x0^2 x1^4 x2 x4', 'x0^2 x1^4 x2 x5', 'x0^2 x1^4 x3^2', 'x0^2 x1^4 x3 x4', 'x0^2 x1^4 x3 x5', 'x0^2 x1^4 x4^2', 'x0^2 x1^4 x4 x5', 'x0^2 x1^4 x5^2', 'x0^2 x1^3 x2^3', 'x0^2 x1^3 x2^2 x3', 'x0^2 x1^3 x2^2 x4', 'x0^2 x1^3 x2^2 x5', 'x0^2 x1^3 x2 x3^2', 'x0^2 x1^3 x2 x3 x4', 'x0^2 x1^3 x2 x3 x5', 'x0^2 x1^3 x2 x4^2', 'x0^2 x1^3 x2 x4 x5', 'x0^2 x1^3 x2 x5^2', 'x0^2 x1^3 x3^3', 'x0^2 x1^3 x3^2 x4', 'x0^2 x1^3 x3^2 x5', 'x0^2 x1^3 x3 x4^2', 'x0^2 x1^3 x3 x4 x5', 'x0^2 x1^3 x3 x5^2', 'x0^2 x1^3 x4^3', 'x0^2 x1^3 x4^2 x5', 'x0^2 x1^3 x4 x5^2', 'x0^2 x1^3 x5^3', 'x0^2 x1^2 x2^4', 'x0^2 x1^2 x2^3 x3', 'x0^2 x1^2 x2^3 x4', 'x0^2 x1^2 x2^3 x5', 'x0^2 x1^2 x2^2 x3^2', 'x0^2 x1^2 x2^2 x3 x4', 'x0^2 x1^2 x2^2 x3 x5', 'x0^2 x1^2 x2^2 x4^2', 'x0^2 x1^2 x2^2 x4 x5', 'x0^2 x1^2 x2^2 x5^2', 'x0^2 x1^2 x2 x3^3', 'x0^2 x1^2 x2 x3^2 x4', 'x0^2 x1^2 x2 x3^2 x5', 'x0^2 x1^2 x2 x3 x4^2', 'x0^2 x1^2 x2 x3 x4 x5', 'x0^2 x1^2 x2 x3 x5^2', 'x0^2 x1^2 x2 x4^3', 'x0^2 x1^2 x2 x4^2 x5', 'x0^2 x1^2 x2 x4 x5^2', 'x0^2 x1^2 x2 x5^3', 'x0^2 x1^2 x3^4', 'x0^2 x1^2 x3^3 x4', 'x0^2 x1^2 x3^3 x5', 'x0^2 x1^2 x3^2 x4^2', 'x0^2 x1^2 x3^2 x4 x5', 'x0^2 x1^2 x3^2 x5^2', 'x0^2 x1^2 x3 x4^3', 'x0^2 x1^2 x3 x4^2 x5', 'x0^2 x1^2 x3 x4 x5^2', 'x0^2 x1^2 x3 x5^3', 'x0^2 x1^2 x4^4', 'x0^2 x1^2 x4^3 x5', 'x0^2 x1^2 x4^2 x5^2', 'x0^2 x1^2 x4 x5^3', 'x0^2 x1^2 x5^4', 'x0^2 x1 x2^5', 'x0^2 x1 x2^4 x3', 'x0^2 x1 x2^4 x4', 'x0^2 x1 x2^4 x5', 'x0^2 x1 x2^3 x3^2', 'x0^2 x1 x2^3 x3 x4', 'x0^2 x1 x2^3 x3 x5', 'x0^2 x1 x2^3 x4^2', 'x0^2 x1 x2^3 x4 x5', 'x0^2 x1 x2^3 x5^2', 'x0^2 x1 x2^2 x3^3', 'x0^2 x1 x2^2 x3^2 x4', 'x0^2 x1 x2^2 x3^2 x5', 'x0^2 x1 x2^2 x3 x4^2', 'x0^2 x1 x2^2 x3 x4 x5', 'x0^2 x1 x2^2 x3 x5^2', 'x0^2 x1 x2^2 x4^3', 'x0^2 x1 x2^2 x4^2 x5', 'x0^2 x1 x2^2 x4 x5^2', 'x0^2 x1 x2^2 x5^3', 'x0^2 x1 x2 x3^4', 'x0^2 x1 x2 x3^3 x4', 'x0^2 x1 x2 x3^3 x5', 'x0^2 x1 x2 x3^2 x4^2', 'x0^2 x1 x2 x3^2 x4 x5', 'x0^2 x1 x2 x3^2 x5^2', 'x0^2 x1 x2 x3 x4^3', 'x0^2 x1 x2 x3 x4^2 x5', 'x0^2 x1 x2 x3 x4 x5^2', 'x0^2 x1 x2 x3 x5^3', 'x0^2 x1 x2 x4^4', 'x0^2 x1 x2 x4^3 x5', 'x0^2 x1 x2 x4^2 x5^2', 'x0^2 x1 x2 x4 x5^3', 'x0^2 x1 x2 x5^4', 'x0^2 x1 x3^5', 'x0^2 x1 x3^4 x4', 'x0^2 x1 x3^4 x5', 'x0^2 x1 x3^3 x4^2', 'x0^2 x1 x3^3 x4 x5', 'x0^2 x1 x3^3 x5^2', 'x0^2 x1 x3^2 x4^3', 'x0^2 x1 x3^2 x4^2 x5', 'x0^2 x1 x3^2 x4 x5^2', 'x0^2 x1 x3^2 x5^3', 'x0^2 x1 x3 x4^4', 'x0^2 x1 x3 x4^3 x5', 'x0^2 x1 x3 x4^2 x5^2', 'x0^2 x1 x3 x4 x5^3', 'x0^2 x1 x3 x5^4', 'x0^2 x1 x4^5', 'x0^2 x1 x4^4 x5', 'x0^2 x1 x4^3 x5^2', 'x0^2 x1 x4^2 x5^3', 'x0^2 x1 x4 x5^4', 'x0^2 x1 x5^5', 'x0^2 x2^6', 'x0^2 x2^5 x3', 'x0^2 x2^5 x4', 'x0^2 x2^5 x5', 'x0^2 x2^4 x3^2', 'x0^2 x2^4 x3 x4', 'x0^2 x2^4 x3 x5', 'x0^2 x2^4 x4^2', 'x0^2 x2^4 x4 x5', 'x0^2 x2^4 x5^2', 'x0^2 x2^3 x3^3', 'x0^2 x2^3 x3^2 x4', 'x0^2 x2^3 x3^2 x5', 'x0^2 x2^3 x3 x4^2', 'x0^2 x2^3 x3 x4 x5', 'x0^2 x2^3 x3 x5^2', 'x0^2 x2^3 x4^3', 'x0^2 x2^3 x4^2 x5', 'x0^2 x2^3 x4 x5^2', 'x0^2 x2^3 x5^3', 'x0^2 x2^2 x3^4', 'x0^2 x2^2 x3^3 x4', 'x0^2 x2^2 x3^3 x5', 'x0^2 x2^2 x3^2 x4^2', 'x0^2 x2^2 x3^2 x4 x5', 'x0^2 x2^2 x3^2 x5^2', 'x0^2 x2^2 x3 x4^3', 'x0^2 x2^2 x3 x4^2 x5', 'x0^2 x2^2 x3 x4 x5^2', 'x0^2 x2^2 x3 x5^3', 'x0^2 x2^2 x4^4', 'x0^2 x2^2 x4^3 x5', 'x0^2 x2^2 x4^2 x5^2', 'x0^2 x2^2 x4 x5^3', 'x0^2 x2^2 x5^4', 'x0^2 x2 x3^5', 'x0^2 x2 x3^4 x4', 'x0^2 x2 x3^4 x5', 'x0^2 x2 x3^3 x4^2', 'x0^2 x2 x3^3 x4 x5', 'x0^2 x2 x3^3 x5^2', 'x0^2 x2 x3^2 x4^3', 'x0^2 x2 x3^2 x4^2 x5', 'x0^2 x2 x3^2 x4 x5^2', 'x0^2 x2 x3^2 x5^3', 'x0^2 x2 x3 x4^4', 'x0^2 x2 x3 x4^3 x5', 'x0^2 x2 x3 x4^2 x5^2', 'x0^2 x2 x3 x4 x5^3', 'x0^2 x2 x3 x5^4', 'x0^2 x2 x4^5', 'x0^2 x2 x4^4 x5', 'x0^2 x2 x4^3 x5^2', 'x0^2 x2 x4^2 x5^3', 'x0^2 x2 x4 x5^4', 'x0^2 x2 x5^5', 'x0^2 x3^6', 'x0^2 x3^5 x4', 'x0^2 x3^5 x5', 'x0^2 x3^4 x4^2', 'x0^2 x3^4 x4 x5', 'x0^2 x3^4 x5^2', 'x0^2 x3^3 x4^3', 'x0^2 x3^3 x4^2 x5', 'x0^2 x3^3 x4 x5^2', 'x0^2 x3^3 x5^3', 'x0^2 x3^2 x4^4', 'x0^2 x3^2 x4^3 x5', 'x0^2 x3^2 x4^2 x5^2', 'x0^2 x3^2 x4 x5^3', 'x0^2 x3^2 x5^4', 'x0^2 x3 x4^5', 'x0^2 x3 x4^4 x5', 'x0^2 x3 x4^3 x5^2', 'x0^2 x3 x4^2 x5^3', 'x0^2 x3 x4 x5^4', 'x0^2 x3 x5^5', 'x0^2 x4^6', 'x0^2 x4^5 x5', 'x0^2 x4^4 x5^2', 'x0^2 x4^3 x5^3', 'x0^2 x4^2 x5^4', 'x0^2 x4 x5^5', 'x0^2 x5^6', 'x0 x1^7', 'x0 x1^6 x2', 'x0 x1^6 x3', 'x0 x1^6 x4', 'x0 x1^6 x5', 'x0 x1^5 x2^2', 'x0 x1^5 x2 x3', 'x0 x1^5 x2 x4', 'x0 x1^5 x2 x5', 'x0 x1^5 x3^2', 'x0 x1^5 x3 x4', 'x0 x1^5 x3 x5', 'x0 x1^5 x4^2', 'x0 x1^5 x4 x5', 'x0 x1^5 x5^2', 'x0 x1^4 x2^3', 'x0 x1^4 x2^2 x3', 'x0 x1^4 x2^2 x4', 'x0 x1^4 x2^2 x5', 'x0 x1^4 x2 x3^2', 'x0 x1^4 x2 x3 x4', 'x0 x1^4 x2 x3 x5', 'x0 x1^4 x2 x4^2', 'x0 x1^4 x2 x4 x5', 'x0 x1^4 x2 x5^2', 'x0 x1^4 x3^3', 'x0 x1^4 x3^2 x4', 'x0 x1^4 x3^2 x5', 'x0 x1^4 x3 x4^2', 'x0 x1^4 x3 x4 x5', 'x0 x1^4 x3 x5^2', 'x0 x1^4 x4^3', 'x0 x1^4 x4^2 x5', 'x0 x1^4 x4 x5^2', 'x0 x1^4 x5^3', 'x0 x1^3 x2^4', 'x0 x1^3 x2^3 x3', 'x0 x1^3 x2^3 x4', 'x0 x1^3 x2^3 x5', 'x0 x1^3 x2^2 x3^2', 'x0 x1^3 x2^2 x3 x4', 'x0 x1^3 x2^2 x3 x5', 'x0 x1^3 x2^2 x4^2', 'x0 x1^3 x2^2 x4 x5', 'x0 x1^3 x2^2 x5^2', 'x0 x1^3 x2 x3^3', 'x0 x1^3 x2 x3^2 x4', 'x0 x1^3 x2 x3^2 x5', 'x0 x1^3 x2 x3 x4^2', 'x0 x1^3 x2 x3 x4 x5', 'x0 x1^3 x2 x3 x5^2', 'x0 x1^3 x2 x4^3', 'x0 x1^3 x2 x4^2 x5', 'x0 x1^3 x2 x4 x5^2', 'x0 x1^3 x2 x5^3', 'x0 x1^3 x3^4', 'x0 x1^3 x3^3 x4', 'x0 x1^3 x3^3 x5', 'x0 x1^3 x3^2 x4^2', 'x0 x1^3 x3^2 x4 x5', 'x0 x1^3 x3^2 x5^2', 'x0 x1^3 x3 x4^3', 'x0 x1^3 x3 x4^2 x5', 'x0 x1^3 x3 x4 x5^2', 'x0 x1^3 x3 x5^3', 'x0 x1^3 x4^4', 'x0 x1^3 x4^3 x5', 'x0 x1^3 x4^2 x5^2', 'x0 x1^3 x4 x5^3', 'x0 x1^3 x5^4', 'x0 x1^2 x2^5', 'x0 x1^2 x2^4 x3', 'x0 x1^2 x2^4 x4', 'x0 x1^2 x2^4 x5', 'x0 x1^2 x2^3 x3^2', 'x0 x1^2 x2^3 x3 x4', 'x0 x1^2 x2^3 x3 x5', 'x0 x1^2 x2^3 x4^2', 'x0 x1^2 x2^3 x4 x5', 'x0 x1^2 x2^3 x5^2', 'x0 x1^2 x2^2 x3^3', 'x0 x1^2 x2^2 x3^2 x4', 'x0 x1^2 x2^2 x3^2 x5', 'x0 x1^2 x2^2 x3 x4^2', 'x0 x1^2 x2^2 x3 x4 x5', 'x0 x1^2 x2^2 x3 x5^2', 'x0 x1^2 x2^2 x4^3', 'x0 x1^2 x2^2 x4^2 x5', 'x0 x1^2 x2^2 x4 x5^2', 'x0 x1^2 x2^2 x5^3', 'x0 x1^2 x2 x3^4', 'x0 x1^2 x2 x3^3 x4', 'x0 x1^2 x2 x3^3 x5', 'x0 x1^2 x2 x3^2 x4^2', 'x0 x1^2 x2 x3^2 x4 x5', 'x0 x1^2 x2 x3^2 x5^2', 'x0 x1^2 x2 x3 x4^3', 'x0 x1^2 x2 x3 x4^2 x5', 'x0 x1^2 x2 x3 x4 x5^2', 'x0 x1^2 x2 x3 x5^3', 'x0 x1^2 x2 x4^4', 'x0 x1^2 x2 x4^3 x5', 'x0 x1^2 x2 x4^2 x5^2', 'x0 x1^2 x2 x4 x5^3', 'x0 x1^2 x2 x5^4', 'x0 x1^2 x3^5', 'x0 x1^2 x3^4 x4', 'x0 x1^2 x3^4 x5', 'x0 x1^2 x3^3 x4^2', 'x0 x1^2 x3^3 x4 x5', 'x0 x1^2 x3^3 x5^2', 'x0 x1^2 x3^2 x4^3', 'x0 x1^2 x3^2 x4^2 x5', 'x0 x1^2 x3^2 x4 x5^2', 'x0 x1^2 x3^2 x5^3', 'x0 x1^2 x3 x4^4', 'x0 x1^2 x3 x4^3 x5', 'x0 x1^2 x3 x4^2 x5^2', 'x0 x1^2 x3 x4 x5^3', 'x0 x1^2 x3 x5^4', 'x0 x1^2 x4^5', 'x0 x1^2 x4^4 x5', 'x0 x1^2 x4^3 x5^2', 'x0 x1^2 x4^2 x5^3', 'x0 x1^2 x4 x5^4', 'x0 x1^2 x5^5', 'x0 x1 x2^6', 'x0 x1 x2^5 x3', 'x0 x1 x2^5 x4', 'x0 x1 x2^5 x5', 'x0 x1 x2^4 x3^2', 'x0 x1 x2^4 x3 x4', 'x0 x1 x2^4 x3 x5', 'x0 x1 x2^4 x4^2', 'x0 x1 x2^4 x4 x5', 'x0 x1 x2^4 x5^2', 'x0 x1 x2^3 x3^3', 'x0 x1 x2^3 x3^2 x4', 'x0 x1 x2^3 x3^2 x5', 'x0 x1 x2^3 x3 x4^2', 'x0 x1 x2^3 x3 x4 x5', 'x0 x1 x2^3 x3 x5^2', 'x0 x1 x2^3 x4^3', 'x0 x1 x2^3 x4^2 x5', 'x0 x1 x2^3 x4 x5^2', 'x0 x1 x2^3 x5^3', 'x0 x1 x2^2 x3^4', 'x0 x1 x2^2 x3^3 x4', 'x0 x1 x2^2 x3^3 x5', 'x0 x1 x2^2 x3^2 x4^2', 'x0 x1 x2^2 x3^2 x4 x5', 'x0 x1 x2^2 x3^2 x5^2', 'x0 x1 x2^2 x3 x4^3', 'x0 x1 x2^2 x3 x4^2 x5', 'x0 x1 x2^2 x3 x4 x5^2', 'x0 x1 x2^2 x3 x5^3', 'x0 x1 x2^2 x4^4', 'x0 x1 x2^2 x4^3 x5', 'x0 x1 x2^2 x4^2 x5^2', 'x0 x1 x2^2 x4 x5^3', 'x0 x1 x2^2 x5^4', 'x0 x1 x2 x3^5', 'x0 x1 x2 x3^4 x4', 'x0 x1 x2 x3^4 x5', 'x0 x1 x2 x3^3 x4^2', 'x0 x1 x2 x3^3 x4 x5', 'x0 x1 x2 x3^3 x5^2', 'x0 x1 x2 x3^2 x4^3', 'x0 x1 x2 x3^2 x4^2 x5', 'x0 x1 x2 x3^2 x4 x5^2', 'x0 x1 x2 x3^2 x5^3', 'x0 x1 x2 x3 x4^4', 'x0 x1 x2 x3 x4^3 x5', 'x0 x1 x2 x3 x4^2 x5^2', 'x0 x1 x2 x3 x4 x5^3', 'x0 x1 x2 x3 x5^4', 'x0 x1 x2 x4^5', 'x0 x1 x2 x4^4 x5', 'x0 x1 x2 x4^3 x5^2', 'x0 x1 x2 x4^2 x5^3', 'x0 x1 x2 x4 x5^4', 'x0 x1 x2 x5^5', 'x0 x1 x3^6', 'x0 x1 x3^5 x4', 'x0 x1 x3^5 x5', 'x0 x1 x3^4 x4^2', 'x0 x1 x3^4 x4 x5', 'x0 x1 x3^4 x5^2', 'x0 x1 x3^3 x4^3', 'x0 x1 x3^3 x4^2 x5', 'x0 x1 x3^3 x4 x5^2', 'x0 x1 x3^3 x5^3', 'x0 x1 x3^2 x4^4', 'x0 x1 x3^2 x4^3 x5', 'x0 x1 x3^2 x4^2 x5^2', 'x0 x1 x3^2 x4 x5^3', 'x0 x1 x3^2 x5^4', 'x0 x1 x3 x4^5', 'x0 x1 x3 x4^4 x5', 'x0 x1 x3 x4^3 x5^2', 'x0 x1 x3 x4^2 x5^3', 'x0 x1 x3 x4 x5^4', 'x0 x1 x3 x5^5', 'x0 x1 x4^6', 'x0 x1 x4^5 x5', 'x0 x1 x4^4 x5^2', 'x0 x1 x4^3 x5^3', 'x0 x1 x4^2 x5^4', 'x0 x1 x4 x5^5', 'x0 x1 x5^6', 'x0 x2^7', 'x0 x2^6 x3', 'x0 x2^6 x4', 'x0 x2^6 x5', 'x0 x2^5 x3^2', 'x0 x2^5 x3 x4', 'x0 x2^5 x3 x5', 'x0 x2^5 x4^2', 'x0 x2^5 x4 x5', 'x0 x2^5 x5^2', 'x0 x2^4 x3^3', 'x0 x2^4 x3^2 x4', 'x0 x2^4 x3^2 x5', 'x0 x2^4 x3 x4^2', 'x0 x2^4 x3 x4 x5', 'x0 x2^4 x3 x5^2', 'x0 x2^4 x4^3', 'x0 x2^4 x4^2 x5', 'x0 x2^4 x4 x5^2', 'x0 x2^4 x5^3', 'x0 x2^3 x3^4', 'x0 x2^3 x3^3 x4', 'x0 x2^3 x3^3 x5', 'x0 x2^3 x3^2 x4^2', 'x0 x2^3 x3^2 x4 x5', 'x0 x2^3 x3^2 x5^2', 'x0 x2^3 x3 x4^3', 'x0 x2^3 x3 x4^2 x5', 'x0 x2^3 x3 x4 x5^2', 'x0 x2^3 x3 x5^3', 'x0 x2^3 x4^4', 'x0 x2^3 x4^3 x5', 'x0 x2^3 x4^2 x5^2', 'x0 x2^3 x4 x5^3', 'x0 x2^3 x5^4', 'x0 x2^2 x3^5', 'x0 x2^2 x3^4 x4', 'x0 x2^2 x3^4 x5', 'x0 x2^2 x3^3 x4^2', 'x0 x2^2 x3^3 x4 x5', 'x0 x2^2 x3^3 x5^2', 'x0 x2^2 x3^2 x4^3', 'x0 x2^2 x3^2 x4^2 x5', 'x0 x2^2 x3^2 x4 x5^2', 'x0 x2^2 x3^2 x5^3', 'x0 x2^2 x3 x4^4', 'x0 x2^2 x3 x4^3 x5', 'x0 x2^2 x3 x4^2 x5^2', 'x0 x2^2 x3 x4 x5^3', 'x0 x2^2 x3 x5^4', 'x0 x2^2 x4^5', 'x0 x2^2 x4^4 x5', 'x0 x2^2 x4^3 x5^2', 'x0 x2^2 x4^2 x5^3', 'x0 x2^2 x4 x5^4', 'x0 x2^2 x5^5', 'x0 x2 x3^6', 'x0 x2 x3^5 x4', 'x0 x2 x3^5 x5', 'x0 x2 x3^4 x4^2', 'x0 x2 x3^4 x4 x5', 'x0 x2 x3^4 x5^2', 'x0 x2 x3^3 x4^3', 'x0 x2 x3^3 x4^2 x5', 'x0 x2 x3^3 x4 x5^2', 'x0 x2 x3^3 x5^3', 'x0 x2 x3^2 x4^4', 'x0 x2 x3^2 x4^3 x5', 'x0 x2 x3^2 x4^2 x5^2', 'x0 x2 x3^2 x4 x5^3', 'x0 x2 x3^2 x5^4', 'x0 x2 x3 x4^5', 'x0 x2 x3 x4^4 x5', 'x0 x2 x3 x4^3 x5^2', 'x0 x2 x3 x4^2 x5^3', 'x0 x2 x3 x4 x5^4', 'x0 x2 x3 x5^5', 'x0 x2 x4^6', 'x0 x2 x4^5 x5', 'x0 x2 x4^4 x5^2', 'x0 x2 x4^3 x5^3', 'x0 x2 x4^2 x5^4', 'x0 x2 x4 x5^5', 'x0 x2 x5^6', 'x0 x3^7', 'x0 x3^6 x4', 'x0 x3^6 x5', 'x0 x3^5 x4^2', 'x0 x3^5 x4 x5', 'x0 x3^5 x5^2', 'x0 x3^4 x4^3', 'x0 x3^4 x4^2 x5', 'x0 x3^4 x4 x5^2', 'x0 x3^4 x5^3', 'x0 x3^3 x4^4', 'x0 x3^3 x4^3 x5', 'x0 x3^3 x4^2 x5^2', 'x0 x3^3 x4 x5^3', 'x0 x3^3 x5^4', 'x0 x3^2 x4^5', 'x0 x3^2 x4^4 x5', 'x0 x3^2 x4^3 x5^2', 'x0 x3^2 x4^2 x5^3', 'x0 x3^2 x4 x5^4', 'x0 x3^2 x5^5', 'x0 x3 x4^6', 'x0 x3 x4^5 x5', 'x0 x3 x4^4 x5^2', 'x0 x3 x4^3 x5^3', 'x0 x3 x4^2 x5^4', 'x0 x3 x4 x5^5', 'x0 x3 x5^6', 'x0 x4^7', 'x0 x4^6 x5', 'x0 x4^5 x5^2', 'x0 x4^4 x5^3', 'x0 x4^3 x5^4', 'x0 x4^2 x5^5', 'x0 x4 x5^6', 'x0 x5^7', 'x1^8', 'x1^7 x2', 'x1^7 x3', 'x1^7 x4', 'x1^7 x5', 'x1^6 x2^2', 'x1^6 x2 x3', 'x1^6 x2 x4', 'x1^6 x2 x5', 'x1^6 x3^2', 'x1^6 x3 x4', 'x1^6 x3 x5', 'x1^6 x4^2', 'x1^6 x4 x5', 'x1^6 x5^2', 'x1^5 x2^3', 'x1^5 x2^2 x3', 'x1^5 x2^2 x4', 'x1^5 x2^2 x5', 'x1^5 x2 x3^2', 'x1^5 x2 x3 x4', 'x1^5 x2 x3 x5', 'x1^5 x2 x4^2', 'x1^5 x2 x4 x5', 'x1^5 x2 x5^2', 'x1^5 x3^3', 'x1^5 x3^2 x4', 'x1^5 x3^2 x5', 'x1^5 x3 x4^2', 'x1^5 x3 x4 x5', 'x1^5 x3 x5^2', 'x1^5 x4^3', 'x1^5 x4^2 x5', 'x1^5 x4 x5^2', 'x1^5 x5^3', 'x1^4 x2^4', 'x1^4 x2^3 x3', 'x1^4 x2^3 x4', 'x1^4 x2^3 x5', 'x1^4 x2^2 x3^2', 'x1^4 x2^2 x3 x4', 'x1^4 x2^2 x3 x5', 'x1^4 x2^2 x4^2', 'x1^4 x2^2 x4 x5', 'x1^4 x2^2 x5^2', 'x1^4 x2 x3^3', 'x1^4 x2 x3^2 x4', 'x1^4 x2 x3^2 x5', 'x1^4 x2 x3 x4^2', 'x1^4 x2 x3 x4 x5', 'x1^4 x2 x3 x5^2', 'x1^4 x2 x4^3', 'x1^4 x2 x4^2 x5', 'x1^4 x2 x4 x5^2', 'x1^4 x2 x5^3', 'x1^4 x3^4', 'x1^4 x3^3 x4', 'x1^4 x3^3 x5', 'x1^4 x3^2 x4^2', 'x1^4 x3^2 x4 x5', 'x1^4 x3^2 x5^2', 'x1^4 x3 x4^3', 'x1^4 x3 x4^2 x5', 'x1^4 x3 x4 x5^2', 'x1^4 x3 x5^3', 'x1^4 x4^4', 'x1^4 x4^3 x5', 'x1^4 x4^2 x5^2', 'x1^4 x4 x5^3', 'x1^4 x5^4', 'x1^3 x2^5', 'x1^3 x2^4 x3', 'x1^3 x2^4 x4', 'x1^3 x2^4 x5', 'x1^3 x2^3 x3^2', 'x1^3 x2^3 x3 x4', 'x1^3 x2^3 x3 x5', 'x1^3 x2^3 x4^2', 'x1^3 x2^3 x4 x5', 'x1^3 x2^3 x5^2', 'x1^3 x2^2 x3^3', 'x1^3 x2^2 x3^2 x4', 'x1^3 x2^2 x3^2 x5', 'x1^3 x2^2 x3 x4^2', 'x1^3 x2^2 x3 x4 x5', 'x1^3 x2^2 x3 x5^2', 'x1^3 x2^2 x4^3', 'x1^3 x2^2 x4^2 x5', 'x1^3 x2^2 x4 x5^2', 'x1^3 x2^2 x5^3', 'x1^3 x2 x3^4', 'x1^3 x2 x3^3 x4', 'x1^3 x2 x3^3 x5', 'x1^3 x2 x3^2 x4^2', 'x1^3 x2 x3^2 x4 x5', 'x1^3 x2 x3^2 x5^2', 'x1^3 x2 x3 x4^3', 'x1^3 x2 x3 x4^2 x5', 'x1^3 x2 x3 x4 x5^2', 'x1^3 x2 x3 x5^3', 'x1^3 x2 x4^4', 'x1^3 x2 x4^3 x5', 'x1^3 x2 x4^2 x5^2', 'x1^3 x2 x4 x5^3', 'x1^3 x2 x5^4', 'x1^3 x3^5', 'x1^3 x3^4 x4', 'x1^3 x3^4 x5', 'x1^3 x3^3 x4^2', 'x1^3 x3^3 x4 x5', 'x1^3 x3^3 x5^2', 'x1^3 x3^2 x4^3', 'x1^3 x3^2 x4^2 x5', 'x1^3 x3^2 x4 x5^2', 'x1^3 x3^2 x5^3', 'x1^3 x3 x4^4', 'x1^3 x3 x4^3 x5', 'x1^3 x3 x4^2 x5^2', 'x1^3 x3 x4 x5^3', 'x1^3 x3 x5^4', 'x1^3 x4^5', 'x1^3 x4^4 x5', 'x1^3 x4^3 x5^2', 'x1^3 x4^2 x5^3', 'x1^3 x4 x5^4', 'x1^3 x5^5', 'x1^2 x2^6', 'x1^2 x2^5 x3', 'x1^2 x2^5 x4', 'x1^2 x2^5 x5', 'x1^2 x2^4 x3^2', 'x1^2 x2^4 x3 x4', 'x1^2 x2^4 x3 x5', 'x1^2 x2^4 x4^2', 'x1^2 x2^4 x4 x5', 'x1^2 x2^4 x5^2', 'x1^2 x2^3 x3^3', 'x1^2 x2^3 x3^2 x4', 'x1^2 x2^3 x3^2 x5', 'x1^2 x2^3 x3 x4^2', 'x1^2 x2^3 x3 x4 x5', 'x1^2 x2^3 x3 x5^2', 'x1^2 x2^3 x4^3', 'x1^2 x2^3 x4^2 x5', 'x1^2 x2^3 x4 x5^2', 'x1^2 x2^3 x5^3', 'x1^2 x2^2 x3^4', 'x1^2 x2^2 x3^3 x4', 'x1^2 x2^2 x3^3 x5', 'x1^2 x2^2 x3^2 x4^2', 'x1^2 x2^2 x3^2 x4 x5', 'x1^2 x2^2 x3^2 x5^2', 'x1^2 x2^2 x3 x4^3', 'x1^2 x2^2 x3 x4^2 x5', 'x1^2 x2^2 x3 x4 x5^2', 'x1^2 x2^2 x3 x5^3', 'x1^2 x2^2 x4^4', 'x1^2 x2^2 x4^3 x5', 'x1^2 x2^2 x4^2 x5^2', 'x1^2 x2^2 x4 x5^3', 'x1^2 x2^2 x5^4', 'x1^2 x2 x3^5', 'x1^2 x2 x3^4 x4', 'x1^2 x2 x3^4 x5', 'x1^2 x2 x3^3 x4^2', 'x1^2 x2 x3^3 x4 x5', 'x1^2 x2 x3^3 x5^2', 'x1^2 x2 x3^2 x4^3', 'x1^2 x2 x3^2 x4^2 x5', 'x1^2 x2 x3^2 x4 x5^2', 'x1^2 x2 x3^2 x5^3', 'x1^2 x2 x3 x4^4', 'x1^2 x2 x3 x4^3 x5', 'x1^2 x2 x3 x4^2 x5^2', 'x1^2 x2 x3 x4 x5^3', 'x1^2 x2 x3 x5^4', 'x1^2 x2 x4^5', 'x1^2 x2 x4^4 x5', 'x1^2 x2 x4^3 x5^2', 'x1^2 x2 x4^2 x5^3', 'x1^2 x2 x4 x5^4', 'x1^2 x2 x5^5', 'x1^2 x3^6', 'x1^2 x3^5 x4', 'x1^2 x3^5 x5', 'x1^2 x3^4 x4^2', 'x1^2 x3^4 x4 x5', 'x1^2 x3^4 x5^2', 'x1^2 x3^3 x4^3', 'x1^2 x3^3 x4^2 x5', 'x1^2 x3^3 x4 x5^2', 'x1^2 x3^3 x5^3', 'x1^2 x3^2 x4^4', 'x1^2 x3^2 x4^3 x5', 'x1^2 x3^2 x4^2 x5^2', 'x1^2 x3^2 x4 x5^3', 'x1^2 x3^2 x5^4', 'x1^2 x3 x4^5', 'x1^2 x3 x4^4 x5', 'x1^2 x3 x4^3 x5^2', 'x1^2 x3 x4^2 x5^3', 'x1^2 x3 x4 x5^4', 'x1^2 x3 x5^5', 'x1^2 x4^6', 'x1^2 x4^5 x5', 'x1^2 x4^4 x5^2', 'x1^2 x4^3 x5^3', 'x1^2 x4^2 x5^4', 'x1^2 x4 x5^5', 'x1^2 x5^6', 'x1 x2^7', 'x1 x2^6 x3', 'x1 x2^6 x4', 'x1 x2^6 x5', 'x1 x2^5 x3^2', 'x1 x2^5 x3 x4', 'x1 x2^5 x3 x5', 'x1 x2^5 x4^2', 'x1 x2^5 x4 x5', 'x1 x2^5 x5^2', 'x1 x2^4 x3^3', 'x1 x2^4 x3^2 x4', 'x1 x2^4 x3^2 x5', 'x1 x2^4 x3 x4^2', 'x1 x2^4 x3 x4 x5', 'x1 x2^4 x3 x5^2', 'x1 x2^4 x4^3', 'x1 x2^4 x4^2 x5', 'x1 x2^4 x4 x5^2', 'x1 x2^4 x5^3', 'x1 x2^3 x3^4', 'x1 x2^3 x3^3 x4', 'x1 x2^3 x3^3 x5', 'x1 x2^3 x3^2 x4^2', 'x1 x2^3 x3^2 x4 x5', 'x1 x2^3 x3^2 x5^2', 'x1 x2^3 x3 x4^3', 'x1 x2^3 x3 x4^2 x5', 'x1 x2^3 x3 x4 x5^2', 'x1 x2^3 x3 x5^3', 'x1 x2^3 x4^4', 'x1 x2^3 x4^3 x5', 'x1 x2^3 x4^2 x5^2', 'x1 x2^3 x4 x5^3', 'x1 x2^3 x5^4', 'x1 x2^2 x3^5', 'x1 x2^2 x3^4 x4', 'x1 x2^2 x3^4 x5', 'x1 x2^2 x3^3 x4^2', 'x1 x2^2 x3^3 x4 x5', 'x1 x2^2 x3^3 x5^2', 'x1 x2^2 x3^2 x4^3', 'x1 x2^2 x3^2 x4^2 x5', 'x1 x2^2 x3^2 x4 x5^2', 'x1 x2^2 x3^2 x5^3', 'x1 x2^2 x3 x4^4', 'x1 x2^2 x3 x4^3 x5', 'x1 x2^2 x3 x4^2 x5^2', 'x1 x2^2 x3 x4 x5^3', 'x1 x2^2 x3 x5^4', 'x1 x2^2 x4^5', 'x1 x2^2 x4^4 x5', 'x1 x2^2 x4^3 x5^2', 'x1 x2^2 x4^2 x5^3', 'x1 x2^2 x4 x5^4', 'x1 x2^2 x5^5', 'x1 x2 x3^6', 'x1 x2 x3^5 x4', 'x1 x2 x3^5 x5', 'x1 x2 x3^4 x4^2', 'x1 x2 x3^4 x4 x5', 'x1 x2 x3^4 x5^2', 'x1 x2 x3^3 x4^3', 'x1 x2 x3^3 x4^2 x5', 'x1 x2 x3^3 x4 x5^2', 'x1 x2 x3^3 x5^3', 'x1 x2 x3^2 x4^4', 'x1 x2 x3^2 x4^3 x5', 'x1 x2 x3^2 x4^2 x5^2', 'x1 x2 x3^2 x4 x5^3', 'x1 x2 x3^2 x5^4', 'x1 x2 x3 x4^5', 'x1 x2 x3 x4^4 x5', 'x1 x2 x3 x4^3 x5^2', 'x1 x2 x3 x4^2 x5^3', 'x1 x2 x3 x4 x5^4', 'x1 x2 x3 x5^5', 'x1 x2 x4^6', 'x1 x2 x4^5 x5', 'x1 x2 x4^4 x5^2', 'x1 x2 x4^3 x5^3', 'x1 x2 x4^2 x5^4', 'x1 x2 x4 x5^5', 'x1 x2 x5^6', 'x1 x3^7', 'x1 x3^6 x4', 'x1 x3^6 x5', 'x1 x3^5 x4^2', 'x1 x3^5 x4 x5', 'x1 x3^5 x5^2', 'x1 x3^4 x4^3', 'x1 x3^4 x4^2 x5', 'x1 x3^4 x4 x5^2', 'x1 x3^4 x5^3', 'x1 x3^3 x4^4', 'x1 x3^3 x4^3 x5', 'x1 x3^3 x4^2 x5^2', 'x1 x3^3 x4 x5^3', 'x1 x3^3 x5^4', 'x1 x3^2 x4^5', 'x1 x3^2 x4^4 x5', 'x1 x3^2 x4^3 x5^2', 'x1 x3^2 x4^2 x5^3', 'x1 x3^2 x4 x5^4', 'x1 x3^2 x5^5', 'x1 x3 x4^6', 'x1 x3 x4^5 x5', 'x1 x3 x4^4 x5^2', 'x1 x3 x4^3 x5^3', 'x1 x3 x4^2 x5^4', 'x1 x3 x4 x5^5', 'x1 x3 x5^6', 'x1 x4^7', 'x1 x4^6 x5', 'x1 x4^5 x5^2', 'x1 x4^4 x5^3', 'x1 x4^3 x5^4', 'x1 x4^2 x5^5', 'x1 x4 x5^6', 'x1 x5^7', 'x2^8', 'x2^7 x3', 'x2^7 x4', 'x2^7 x5', 'x2^6 x3^2', 'x2^6 x3 x4', 'x2^6 x3 x5', 'x2^6 x4^2', 'x2^6 x4 x5', 'x2^6 x5^2', 'x2^5 x3^3', 'x2^5 x3^2 x4', 'x2^5 x3^2 x5', 'x2^5 x3 x4^2', 'x2^5 x3 x4 x5', 'x2^5 x3 x5^2', 'x2^5 x4^3', 'x2^5 x4^2 x5', 'x2^5 x4 x5^2', 'x2^5 x5^3', 'x2^4 x3^4', 'x2^4 x3^3 x4', 'x2^4 x3^3 x5', 'x2^4 x3^2 x4^2', 'x2^4 x3^2 x4 x5', 'x2^4 x3^2 x5^2', 'x2^4 x3 x4^3', 'x2^4 x3 x4^2 x5', 'x2^4 x3 x4 x5^2', 'x2^4 x3 x5^3', 'x2^4 x4^4', 'x2^4 x4^3 x5', 'x2^4 x4^2 x5^2', 'x2^4 x4 x5^3', 'x2^4 x5^4', 'x2^3 x3^5', 'x2^3 x3^4 x4', 'x2^3 x3^4 x5', 'x2^3 x3^3 x4^2', 'x2^3 x3^3 x4 x5', 'x2^3 x3^3 x5^2', 'x2^3 x3^2 x4^3', 'x2^3 x3^2 x4^2 x5', 'x2^3 x3^2 x4 x5^2', 'x2^3 x3^2 x5^3', 'x2^3 x3 x4^4', 'x2^3 x3 x4^3 x5', 'x2^3 x3 x4^2 x5^2', 'x2^3 x3 x4 x5^3', 'x2^3 x3 x5^4', 'x2^3 x4^5', 'x2^3 x4^4 x5', 'x2^3 x4^3 x5^2', 'x2^3 x4^2 x5^3', 'x2^3 x4 x5^4', 'x2^3 x5^5', 'x2^2 x3^6', 'x2^2 x3^5 x4', 'x2^2 x3^5 x5', 'x2^2 x3^4 x4^2', 'x2^2 x3^4 x4 x5', 'x2^2 x3^4 x5^2', 'x2^2 x3^3 x4^3', 'x2^2 x3^3 x4^2 x5', 'x2^2 x3^3 x4 x5^2', 'x2^2 x3^3 x5^3', 'x2^2 x3^2 x4^4', 'x2^2 x3^2 x4^3 x5', 'x2^2 x3^2 x4^2 x5^2', 'x2^2 x3^2 x4 x5^3', 'x2^2 x3^2 x5^4', 'x2^2 x3 x4^5', 'x2^2 x3 x4^4 x5', 'x2^2 x3 x4^3 x5^2', 'x2^2 x3 x4^2 x5^3', 'x2^2 x3 x4 x5^4', 'x2^2 x3 x5^5', 'x2^2 x4^6', 'x2^2 x4^5 x5', 'x2^2 x4^4 x5^2', 'x2^2 x4^3 x5^3', 'x2^2 x4^2 x5^4', 'x2^2 x4 x5^5', 'x2^2 x5^6', 'x2 x3^7', 'x2 x3^6 x4', 'x2 x3^6 x5', 'x2 x3^5 x4^2', 'x2 x3^5 x4 x5', 'x2 x3^5 x5^2', 'x2 x3^4 x4^3', 'x2 x3^4 x4^2 x5', 'x2 x3^4 x4 x5^2', 'x2 x3^4 x5^3', 'x2 x3^3 x4^4', 'x2 x3^3 x4^3 x5', 'x2 x3^3 x4^2 x5^2', 'x2 x3^3 x4 x5^3', 'x2 x3^3 x5^4', 'x2 x3^2 x4^5', 'x2 x3^2 x4^4 x5', 'x2 x3^2 x4^3 x5^2', 'x2 x3^2 x4^2 x5^3', 'x2 x3^2 x4 x5^4', 'x2 x3^2 x5^5', 'x2 x3 x4^6', 'x2 x3 x4^5 x5', 'x2 x3 x4^4 x5^2', 'x2 x3 x4^3 x5^3', 'x2 x3 x4^2 x5^4', 'x2 x3 x4 x5^5', 'x2 x3 x5^6', 'x2 x4^7', 'x2 x4^6 x5', 'x2 x4^5 x5^2', 'x2 x4^4 x5^3', 'x2 x4^3 x5^4', 'x2 x4^2 x5^5', 'x2 x4 x5^6', 'x2 x5^7', 'x3^8', 'x3^7 x4', 'x3^7 x5', 'x3^6 x4^2', 'x3^6 x4 x5', 'x3^6 x5^2', 'x3^5 x4^3', 'x3^5 x4^2 x5', 'x3^5 x4 x5^2', 'x3^5 x5^3', 'x3^4 x4^4', 'x3^4 x4^3 x5', 'x3^4 x4^2 x5^2', 'x3^4 x4 x5^3', 'x3^4 x5^4', 'x3^3 x4^5', 'x3^3 x4^4 x5', 'x3^3 x4^3 x5^2', 'x3^3 x4^2 x5^3', 'x3^3 x4 x5^4', 'x3^3 x5^5', 'x3^2 x4^6', 'x3^2 x4^5 x5', 'x3^2 x4^4 x5^2', 'x3^2 x4^3 x5^3', 'x3^2 x4^2 x5^4', 'x3^2 x4 x5^5', 'x3^2 x5^6', 'x3 x4^7', 'x3 x4^6 x5', 'x3 x4^5 x5^2', 'x3 x4^4 x5^3', 'x3 x4^3 x5^4', 'x3 x4^2 x5^5', 'x3 x4 x5^6', 'x3 x5^7', 'x4^8', 'x4^7 x5', 'x4^6 x5^2', 'x4^5 x5^3', 'x4^4 x5^4', 'x4^3 x5^5', 'x4^2 x5^6', 'x4 x5^7', 'x5^8', 'x0^9', 'x0^8 x1', 'x0^8 x2', 'x0^8 x3', 'x0^8 x4', 'x0^8 x5', 'x0^7 x1^2', 'x0^7 x1 x2', 'x0^7 x1 x3', 'x0^7 x1 x4', 'x0^7 x1 x5', 'x0^7 x2^2', 'x0^7 x2 x3', 'x0^7 x2 x4', 'x0^7 x2 x5', 'x0^7 x3^2', 'x0^7 x3 x4', 'x0^7 x3 x5', 'x0^7 x4^2', 'x0^7 x4 x5', 'x0^7 x5^2', 'x0^6 x1^3', 'x0^6 x1^2 x2', 'x0^6 x1^2 x3', 'x0^6 x1^2 x4', 'x0^6 x1^2 x5', 'x0^6 x1 x2^2', 'x0^6 x1 x2 x3', 'x0^6 x1 x2 x4', 'x0^6 x1 x2 x5', 'x0^6 x1 x3^2', 'x0^6 x1 x3 x4', 'x0^6 x1 x3 x5', 'x0^6 x1 x4^2', 'x0^6 x1 x4 x5', 'x0^6 x1 x5^2', 'x0^6 x2^3', 'x0^6 x2^2 x3', 'x0^6 x2^2 x4', 'x0^6 x2^2 x5', 'x0^6 x2 x3^2', 'x0^6 x2 x3 x4', 'x0^6 x2 x3 x5', 'x0^6 x2 x4^2', 'x0^6 x2 x4 x5', 'x0^6 x2 x5^2', 'x0^6 x3^3', 'x0^6 x3^2 x4', 'x0^6 x3^2 x5', 'x0^6 x3 x4^2', 'x0^6 x3 x4 x5', 'x0^6 x3 x5^2', 'x0^6 x4^3', 'x0^6 x4^2 x5', 'x0^6 x4 x5^2', 'x0^6 x5^3', 'x0^5 x1^4', 'x0^5 x1^3 x2', 'x0^5 x1^3 x3', 'x0^5 x1^3 x4', 'x0^5 x1^3 x5', 'x0^5 x1^2 x2^2', 'x0^5 x1^2 x2 x3', 'x0^5 x1^2 x2 x4', 'x0^5 x1^2 x2 x5', 'x0^5 x1^2 x3^2', 'x0^5 x1^2 x3 x4', 'x0^5 x1^2 x3 x5', 'x0^5 x1^2 x4^2', 'x0^5 x1^2 x4 x5', 'x0^5 x1^2 x5^2', 'x0^5 x1 x2^3', 'x0^5 x1 x2^2 x3', 'x0^5 x1 x2^2 x4', 'x0^5 x1 x2^2 x5', 'x0^5 x1 x2 x3^2', 'x0^5 x1 x2 x3 x4', 'x0^5 x1 x2 x3 x5', 'x0^5 x1 x2 x4^2', 'x0^5 x1 x2 x4 x5', 'x0^5 x1 x2 x5^2', 'x0^5 x1 x3^3', 'x0^5 x1 x3^2 x4', 'x0^5 x1 x3^2 x5', 'x0^5 x1 x3 x4^2', 'x0^5 x1 x3 x4 x5', 'x0^5 x1 x3 x5^2', 'x0^5 x1 x4^3', 'x0^5 x1 x4^2 x5', 'x0^5 x1 x4 x5^2', 'x0^5 x1 x5^3', 'x0^5 x2^4', 'x0^5 x2^3 x3', 'x0^5 x2^3 x4', 'x0^5 x2^3 x5', 'x0^5 x2^2 x3^2', 'x0^5 x2^2 x3 x4', 'x0^5 x2^2 x3 x5', 'x0^5 x2^2 x4^2', 'x0^5 x2^2 x4 x5', 'x0^5 x2^2 x5^2', 'x0^5 x2 x3^3', 'x0^5 x2 x3^2 x4', 'x0^5 x2 x3^2 x5', 'x0^5 x2 x3 x4^2', 'x0^5 x2 x3 x4 x5', 'x0^5 x2 x3 x5^2', 'x0^5 x2 x4^3', 'x0^5 x2 x4^2 x5', 'x0^5 x2 x4 x5^2', 'x0^5 x2 x5^3', 'x0^5 x3^4', 'x0^5 x3^3 x4', 'x0^5 x3^3 x5', 'x0^5 x3^2 x4^2', 'x0^5 x3^2 x4 x5', 'x0^5 x3^2 x5^2', 'x0^5 x3 x4^3', 'x0^5 x3 x4^2 x5', 'x0^5 x3 x4 x5^2', 'x0^5 x3 x5^3', 'x0^5 x4^4', 'x0^5 x4^3 x5', 'x0^5 x4^2 x5^2', 'x0^5 x4 x5^3', 'x0^5 x5^4', 'x0^4 x1^5', 'x0^4 x1^4 x2', 'x0^4 x1^4 x3', 'x0^4 x1^4 x4', 'x0^4 x1^4 x5', 'x0^4 x1^3 x2^2', 'x0^4 x1^3 x2 x3', 'x0^4 x1^3 x2 x4', 'x0^4 x1^3 x2 x5', 'x0^4 x1^3 x3^2', 'x0^4 x1^3 x3 x4', 'x0^4 x1^3 x3 x5', 'x0^4 x1^3 x4^2', 'x0^4 x1^3 x4 x5', 'x0^4 x1^3 x5^2', 'x0^4 x1^2 x2^3', 'x0^4 x1^2 x2^2 x3', 'x0^4 x1^2 x2^2 x4', 'x0^4 x1^2 x2^2 x5', 'x0^4 x1^2 x2 x3^2', 'x0^4 x1^2 x2 x3 x4', 'x0^4 x1^2 x2 x3 x5', 'x0^4 x1^2 x2 x4^2', 'x0^4 x1^2 x2 x4 x5', 'x0^4 x1^2 x2 x5^2', 'x0^4 x1^2 x3^3', 'x0^4 x1^2 x3^2 x4', 'x0^4 x1^2 x3^2 x5', 'x0^4 x1^2 x3 x4^2', 'x0^4 x1^2 x3 x4 x5', 'x0^4 x1^2 x3 x5^2', 'x0^4 x1^2 x4^3', 'x0^4 x1^2 x4^2 x5', 'x0^4 x1^2 x4 x5^2', 'x0^4 x1^2 x5^3', 'x0^4 x1 x2^4', 'x0^4 x1 x2^3 x3', 'x0^4 x1 x2^3 x4', 'x0^4 x1 x2^3 x5', 'x0^4 x1 x2^2 x3^2', 'x0^4 x1 x2^2 x3 x4', 'x0^4 x1 x2^2 x3 x5', 'x0^4 x1 x2^2 x4^2', 'x0^4 x1 x2^2 x4 x5', 'x0^4 x1 x2^2 x5^2', 'x0^4 x1 x2 x3^3', 'x0^4 x1 x2 x3^2 x4', 'x0^4 x1 x2 x3^2 x5', 'x0^4 x1 x2 x3 x4^2', 'x0^4 x1 x2 x3 x4 x5', 'x0^4 x1 x2 x3 x5^2', 'x0^4 x1 x2 x4^3', 'x0^4 x1 x2 x4^2 x5', 'x0^4 x1 x2 x4 x5^2', 'x0^4 x1 x2 x5^3', 'x0^4 x1 x3^4', 'x0^4 x1 x3^3 x4', 'x0^4 x1 x3^3 x5', 'x0^4 x1 x3^2 x4^2', 'x0^4 x1 x3^2 x4 x5', 'x0^4 x1 x3^2 x5^2', 'x0^4 x1 x3 x4^3', 'x0^4 x1 x3 x4^2 x5', 'x0^4 x1 x3 x4 x5^2', 'x0^4 x1 x3 x5^3', 'x0^4 x1 x4^4', 'x0^4 x1 x4^3 x5', 'x0^4 x1 x4^2 x5^2', 'x0^4 x1 x4 x5^3', 'x0^4 x1 x5^4', 'x0^4 x2^5', 'x0^4 x2^4 x3', 'x0^4 x2^4 x4', 'x0^4 x2^4 x5', 'x0^4 x2^3 x3^2', 'x0^4 x2^3 x3 x4', 'x0^4 x2^3 x3 x5', 'x0^4 x2^3 x4^2', 'x0^4 x2^3 x4 x5', 'x0^4 x2^3 x5^2', 'x0^4 x2^2 x3^3', 'x0^4 x2^2 x3^2 x4', 'x0^4 x2^2 x3^2 x5', 'x0^4 x2^2 x3 x4^2', 'x0^4 x2^2 x3 x4 x5', 'x0^4 x2^2 x3 x5^2', 'x0^4 x2^2 x4^3', 'x0^4 x2^2 x4^2 x5', 'x0^4 x2^2 x4 x5^2', 'x0^4 x2^2 x5^3', 'x0^4 x2 x3^4', 'x0^4 x2 x3^3 x4', 'x0^4 x2 x3^3 x5', 'x0^4 x2 x3^2 x4^2', 'x0^4 x2 x3^2 x4 x5', 'x0^4 x2 x3^2 x5^2', 'x0^4 x2 x3 x4^3', 'x0^4 x2 x3 x4^2 x5', 'x0^4 x2 x3 x4 x5^2', 'x0^4 x2 x3 x5^3', 'x0^4 x2 x4^4', 'x0^4 x2 x4^3 x5', 'x0^4 x2 x4^2 x5^2', 'x0^4 x2 x4 x5^3', 'x0^4 x2 x5^4', 'x0^4 x3^5', 'x0^4 x3^4 x4', 'x0^4 x3^4 x5', 'x0^4 x3^3 x4^2', 'x0^4 x3^3 x4 x5', 'x0^4 x3^3 x5^2', 'x0^4 x3^2 x4^3', 'x0^4 x3^2 x4^2 x5', 'x0^4 x3^2 x4 x5^2', 'x0^4 x3^2 x5^3', 'x0^4 x3 x4^4', 'x0^4 x3 x4^3 x5', 'x0^4 x3 x4^2 x5^2', 'x0^4 x3 x4 x5^3', 'x0^4 x3 x5^4', 'x0^4 x4^5', 'x0^4 x4^4 x5', 'x0^4 x4^3 x5^2', 'x0^4 x4^2 x5^3', 'x0^4 x4 x5^4', 'x0^4 x5^5', 'x0^3 x1^6', 'x0^3 x1^5 x2', 'x0^3 x1^5 x3', 'x0^3 x1^5 x4', 'x0^3 x1^5 x5', 'x0^3 x1^4 x2^2', 'x0^3 x1^4 x2 x3', 'x0^3 x1^4 x2 x4', 'x0^3 x1^4 x2 x5', 'x0^3 x1^4 x3^2', 'x0^3 x1^4 x3 x4', 'x0^3 x1^4 x3 x5', 'x0^3 x1^4 x4^2', 'x0^3 x1^4 x4 x5', 'x0^3 x1^4 x5^2', 'x0^3 x1^3 x2^3', 'x0^3 x1^3 x2^2 x3', 'x0^3 x1^3 x2^2 x4', 'x0^3 x1^3 x2^2 x5', 'x0^3 x1^3 x2 x3^2', 'x0^3 x1^3 x2 x3 x4', 'x0^3 x1^3 x2 x3 x5', 'x0^3 x1^3 x2 x4^2', 'x0^3 x1^3 x2 x4 x5', 'x0^3 x1^3 x2 x5^2', 'x0^3 x1^3 x3^3', 'x0^3 x1^3 x3^2 x4', 'x0^3 x1^3 x3^2 x5', 'x0^3 x1^3 x3 x4^2', 'x0^3 x1^3 x3 x4 x5', 'x0^3 x1^3 x3 x5^2', 'x0^3 x1^3 x4^3', 'x0^3 x1^3 x4^2 x5', 'x0^3 x1^3 x4 x5^2', 'x0^3 x1^3 x5^3', 'x0^3 x1^2 x2^4', 'x0^3 x1^2 x2^3 x3', 'x0^3 x1^2 x2^3 x4', 'x0^3 x1^2 x2^3 x5', 'x0^3 x1^2 x2^2 x3^2', 'x0^3 x1^2 x2^2 x3 x4', 'x0^3 x1^2 x2^2 x3 x5', 'x0^3 x1^2 x2^2 x4^2', 'x0^3 x1^2 x2^2 x4 x5', 'x0^3 x1^2 x2^2 x5^2', 'x0^3 x1^2 x2 x3^3', 'x0^3 x1^2 x2 x3^2 x4', 'x0^3 x1^2 x2 x3^2 x5', 'x0^3 x1^2 x2 x3 x4^2', 'x0^3 x1^2 x2 x3 x4 x5', 'x0^3 x1^2 x2 x3 x5^2', 'x0^3 x1^2 x2 x4^3', 'x0^3 x1^2 x2 x4^2 x5', 'x0^3 x1^2 x2 x4 x5^2', 'x0^3 x1^2 x2 x5^3', 'x0^3 x1^2 x3^4', 'x0^3 x1^2 x3^3 x4', 'x0^3 x1^2 x3^3 x5', 'x0^3 x1^2 x3^2 x4^2', 'x0^3 x1^2 x3^2 x4 x5', 'x0^3 x1^2 x3^2 x5^2', 'x0^3 x1^2 x3 x4^3', 'x0^3 x1^2 x3 x4^2 x5', 'x0^3 x1^2 x3 x4 x5^2', 'x0^3 x1^2 x3 x5^3', 'x0^3 x1^2 x4^4', 'x0^3 x1^2 x4^3 x5', 'x0^3 x1^2 x4^2 x5^2', 'x0^3 x1^2 x4 x5^3', 'x0^3 x1^2 x5^4', 'x0^3 x1 x2^5', 'x0^3 x1 x2^4 x3', 'x0^3 x1 x2^4 x4', 'x0^3 x1 x2^4 x5', 'x0^3 x1 x2^3 x3^2', 'x0^3 x1 x2^3 x3 x4', 'x0^3 x1 x2^3 x3 x5', 'x0^3 x1 x2^3 x4^2', 'x0^3 x1 x2^3 x4 x5', 'x0^3 x1 x2^3 x5^2', 'x0^3 x1 x2^2 x3^3', 'x0^3 x1 x2^2 x3^2 x4', 'x0^3 x1 x2^2 x3^2 x5', 'x0^3 x1 x2^2 x3 x4^2', 'x0^3 x1 x2^2 x3 x4 x5', 'x0^3 x1 x2^2 x3 x5^2', 'x0^3 x1 x2^2 x4^3', 'x0^3 x1 x2^2 x4^2 x5', 'x0^3 x1 x2^2 x4 x5^2', 'x0^3 x1 x2^2 x5^3', 'x0^3 x1 x2 x3^4', 'x0^3 x1 x2 x3^3 x4', 'x0^3 x1 x2 x3^3 x5', 'x0^3 x1 x2 x3^2 x4^2', 'x0^3 x1 x2 x3^2 x4 x5', 'x0^3 x1 x2 x3^2 x5^2', 'x0^3 x1 x2 x3 x4^3', 'x0^3 x1 x2 x3 x4^2 x5', 'x0^3 x1 x2 x3 x4 x5^2', 'x0^3 x1 x2 x3 x5^3', 'x0^3 x1 x2 x4^4', 'x0^3 x1 x2 x4^3 x5', 'x0^3 x1 x2 x4^2 x5^2', 'x0^3 x1 x2 x4 x5^3', 'x0^3 x1 x2 x5^4', 'x0^3 x1 x3^5', 'x0^3 x1 x3^4 x4', 'x0^3 x1 x3^4 x5', 'x0^3 x1 x3^3 x4^2', 'x0^3 x1 x3^3 x4 x5', 'x0^3 x1 x3^3 x5^2', 'x0^3 x1 x3^2 x4^3', 'x0^3 x1 x3^2 x4^2 x5', 'x0^3 x1 x3^2 x4 x5^2', 'x0^3 x1 x3^2 x5^3', 'x0^3 x1 x3 x4^4', 'x0^3 x1 x3 x4^3 x5', 'x0^3 x1 x3 x4^2 x5^2', 'x0^3 x1 x3 x4 x5^3', 'x0^3 x1 x3 x5^4', 'x0^3 x1 x4^5', 'x0^3 x1 x4^4 x5', 'x0^3 x1 x4^3 x5^2', 'x0^3 x1 x4^2 x5^3', 'x0^3 x1 x4 x5^4', 'x0^3 x1 x5^5', 'x0^3 x2^6', 'x0^3 x2^5 x3', 'x0^3 x2^5 x4', 'x0^3 x2^5 x5', 'x0^3 x2^4 x3^2', 'x0^3 x2^4 x3 x4', 'x0^3 x2^4 x3 x5', 'x0^3 x2^4 x4^2', 'x0^3 x2^4 x4 x5', 'x0^3 x2^4 x5^2', 'x0^3 x2^3 x3^3', 'x0^3 x2^3 x3^2 x4', 'x0^3 x2^3 x3^2 x5', 'x0^3 x2^3 x3 x4^2', 'x0^3 x2^3 x3 x4 x5', 'x0^3 x2^3 x3 x5^2', 'x0^3 x2^3 x4^3', 'x0^3 x2^3 x4^2 x5', 'x0^3 x2^3 x4 x5^2', 'x0^3 x2^3 x5^3', 'x0^3 x2^2 x3^4', 'x0^3 x2^2 x3^3 x4', 'x0^3 x2^2 x3^3 x5', 'x0^3 x2^2 x3^2 x4^2', 'x0^3 x2^2 x3^2 x4 x5', 'x0^3 x2^2 x3^2 x5^2', 'x0^3 x2^2 x3 x4^3', 'x0^3 x2^2 x3 x4^2 x5', 'x0^3 x2^2 x3 x4 x5^2', 'x0^3 x2^2 x3 x5^3', 'x0^3 x2^2 x4^4', 'x0^3 x2^2 x4^3 x5', 'x0^3 x2^2 x4^2 x5^2', 'x0^3 x2^2 x4 x5^3', 'x0^3 x2^2 x5^4', 'x0^3 x2 x3^5', 'x0^3 x2 x3^4 x4', 'x0^3 x2 x3^4 x5', 'x0^3 x2 x3^3 x4^2', 'x0^3 x2 x3^3 x4 x5', 'x0^3 x2 x3^3 x5^2', 'x0^3 x2 x3^2 x4^3', 'x0^3 x2 x3^2 x4^2 x5', 'x0^3 x2 x3^2 x4 x5^2', 'x0^3 x2 x3^2 x5^3', 'x0^3 x2 x3 x4^4', 'x0^3 x2 x3 x4^3 x5', 'x0^3 x2 x3 x4^2 x5^2', 'x0^3 x2 x3 x4 x5^3', 'x0^3 x2 x3 x5^4', 'x0^3 x2 x4^5', 'x0^3 x2 x4^4 x5', 'x0^3 x2 x4^3 x5^2', 'x0^3 x2 x4^2 x5^3', 'x0^3 x2 x4 x5^4', 'x0^3 x2 x5^5', 'x0^3 x3^6', 'x0^3 x3^5 x4', 'x0^3 x3^5 x5', 'x0^3 x3^4 x4^2', 'x0^3 x3^4 x4 x5', 'x0^3 x3^4 x5^2', 'x0^3 x3^3 x4^3', 'x0^3 x3^3 x4^2 x5', 'x0^3 x3^3 x4 x5^2', 'x0^3 x3^3 x5^3', 'x0^3 x3^2 x4^4', 'x0^3 x3^2 x4^3 x5', 'x0^3 x3^2 x4^2 x5^2', 'x0^3 x3^2 x4 x5^3', 'x0^3 x3^2 x5^4', 'x0^3 x3 x4^5', 'x0^3 x3 x4^4 x5', 'x0^3 x3 x4^3 x5^2', 'x0^3 x3 x4^2 x5^3', 'x0^3 x3 x4 x5^4', 'x0^3 x3 x5^5', 'x0^3 x4^6', 'x0^3 x4^5 x5', 'x0^3 x4^4 x5^2', 'x0^3 x4^3 x5^3', 'x0^3 x4^2 x5^4', 'x0^3 x4 x5^5', 'x0^3 x5^6', 'x0^2 x1^7', 'x0^2 x1^6 x2', 'x0^2 x1^6 x3', 'x0^2 x1^6 x4', 'x0^2 x1^6 x5', 'x0^2 x1^5 x2^2', 'x0^2 x1^5 x2 x3', 'x0^2 x1^5 x2 x4', 'x0^2 x1^5 x2 x5', 'x0^2 x1^5 x3^2', 'x0^2 x1^5 x3 x4', 'x0^2 x1^5 x3 x5', 'x0^2 x1^5 x4^2', 'x0^2 x1^5 x4 x5', 'x0^2 x1^5 x5^2', 'x0^2 x1^4 x2^3', 'x0^2 x1^4 x2^2 x3', 'x0^2 x1^4 x2^2 x4', 'x0^2 x1^4 x2^2 x5', 'x0^2 x1^4 x2 x3^2', 'x0^2 x1^4 x2 x3 x4', 'x0^2 x1^4 x2 x3 x5', 'x0^2 x1^4 x2 x4^2', 'x0^2 x1^4 x2 x4 x5', 'x0^2 x1^4 x2 x5^2', 'x0^2 x1^4 x3^3', 'x0^2 x1^4 x3^2 x4', 'x0^2 x1^4 x3^2 x5', 'x0^2 x1^4 x3 x4^2', 'x0^2 x1^4 x3 x4 x5', 'x0^2 x1^4 x3 x5^2', 'x0^2 x1^4 x4^3', 'x0^2 x1^4 x4^2 x5', 'x0^2 x1^4 x4 x5^2', 'x0^2 x1^4 x5^3', 'x0^2 x1^3 x2^4', 'x0^2 x1^3 x2^3 x3', 'x0^2 x1^3 x2^3 x4', 'x0^2 x1^3 x2^3 x5', 'x0^2 x1^3 x2^2 x3^2', 'x0^2 x1^3 x2^2 x3 x4', 'x0^2 x1^3 x2^2 x3 x5', 'x0^2 x1^3 x2^2 x4^2', 'x0^2 x1^3 x2^2 x4 x5', 'x0^2 x1^3 x2^2 x5^2', 'x0^2 x1^3 x2 x3^3', 'x0^2 x1^3 x2 x3^2 x4', 'x0^2 x1^3 x2 x3^2 x5', 'x0^2 x1^3 x2 x3 x4^2', 'x0^2 x1^3 x2 x3 x4 x5', 'x0^2 x1^3 x2 x3 x5^2', 'x0^2 x1^3 x2 x4^3', 'x0^2 x1^3 x2 x4^2 x5', 'x0^2 x1^3 x2 x4 x5^2', 'x0^2 x1^3 x2 x5^3', 'x0^2 x1^3 x3^4', 'x0^2 x1^3 x3^3 x4', 'x0^2 x1^3 x3^3 x5', 'x0^2 x1^3 x3^2 x4^2', 'x0^2 x1^3 x3^2 x4 x5', 'x0^2 x1^3 x3^2 x5^2', 'x0^2 x1^3 x3 x4^3', 'x0^2 x1^3 x3 x4^2 x5', 'x0^2 x1^3 x3 x4 x5^2', 'x0^2 x1^3 x3 x5^3', 'x0^2 x1^3 x4^4', 'x0^2 x1^3 x4^3 x5', 'x0^2 x1^3 x4^2 x5^2', 'x0^2 x1^3 x4 x5^3', 'x0^2 x1^3 x5^4', 'x0^2 x1^2 x2^5', 'x0^2 x1^2 x2^4 x3', 'x0^2 x1^2 x2^4 x4', 'x0^2 x1^2 x2^4 x5', 'x0^2 x1^2 x2^3 x3^2', 'x0^2 x1^2 x2^3 x3 x4', 'x0^2 x1^2 x2^3 x3 x5', 'x0^2 x1^2 x2^3 x4^2', 'x0^2 x1^2 x2^3 x4 x5', 'x0^2 x1^2 x2^3 x5^2', 'x0^2 x1^2 x2^2 x3^3', 'x0^2 x1^2 x2^2 x3^2 x4', 'x0^2 x1^2 x2^2 x3^2 x5', 'x0^2 x1^2 x2^2 x3 x4^2', 'x0^2 x1^2 x2^2 x3 x4 x5', 'x0^2 x1^2 x2^2 x3 x5^2', 'x0^2 x1^2 x2^2 x4^3', 'x0^2 x1^2 x2^2 x4^2 x5', 'x0^2 x1^2 x2^2 x4 x5^2', 'x0^2 x1^2 x2^2 x5^3', 'x0^2 x1^2 x2 x3^4', 'x0^2 x1^2 x2 x3^3 x4', 'x0^2 x1^2 x2 x3^3 x5', 'x0^2 x1^2 x2 x3^2 x4^2', 'x0^2 x1^2 x2 x3^2 x4 x5', 'x0^2 x1^2 x2 x3^2 x5^2', 'x0^2 x1^2 x2 x3 x4^3', 'x0^2 x1^2 x2 x3 x4^2 x5', 'x0^2 x1^2 x2 x3 x4 x5^2', 'x0^2 x1^2 x2 x3 x5^3', 'x0^2 x1^2 x2 x4^4', 'x0^2 x1^2 x2 x4^3 x5', 'x0^2 x1^2 x2 x4^2 x5^2', 'x0^2 x1^2 x2 x4 x5^3', 'x0^2 x1^2 x2 x5^4', 'x0^2 x1^2 x3^5', 'x0^2 x1^2 x3^4 x4', 'x0^2 x1^2 x3^4 x5', 'x0^2 x1^2 x3^3 x4^2', 'x0^2 x1^2 x3^3 x4 x5', 'x0^2 x1^2 x3^3 x5^2', 'x0^2 x1^2 x3^2 x4^3', 'x0^2 x1^2 x3^2 x4^2 x5', 'x0^2 x1^2 x3^2 x4 x5^2', 'x0^2 x1^2 x3^2 x5^3', 'x0^2 x1^2 x3 x4^4', 'x0^2 x1^2 x3 x4^3 x5', 'x0^2 x1^2 x3 x4^2 x5^2', 'x0^2 x1^2 x3 x4 x5^3', 'x0^2 x1^2 x3 x5^4', 'x0^2 x1^2 x4^5', 'x0^2 x1^2 x4^4 x5', 'x0^2 x1^2 x4^3 x5^2', 'x0^2 x1^2 x4^2 x5^3', 'x0^2 x1^2 x4 x5^4', 'x0^2 x1^2 x5^5', 'x0^2 x1 x2^6', 'x0^2 x1 x2^5 x3', 'x0^2 x1 x2^5 x4', 'x0^2 x1 x2^5 x5', 'x0^2 x1 x2^4 x3^2', 'x0^2 x1 x2^4 x3 x4', 'x0^2 x1 x2^4 x3 x5', 'x0^2 x1 x2^4 x4^2', 'x0^2 x1 x2^4 x4 x5', 'x0^2 x1 x2^4 x5^2', 'x0^2 x1 x2^3 x3^3', 'x0^2 x1 x2^3 x3^2 x4', 'x0^2 x1 x2^3 x3^2 x5', 'x0^2 x1 x2^3 x3 x4^2', 'x0^2 x1 x2^3 x3 x4 x5', 'x0^2 x1 x2^3 x3 x5^2', 'x0^2 x1 x2^3 x4^3', 'x0^2 x1 x2^3 x4^2 x5', 'x0^2 x1 x2^3 x4 x5^2', 'x0^2 x1 x2^3 x5^3', 'x0^2 x1 x2^2 x3^4', 'x0^2 x1 x2^2 x3^3 x4', 'x0^2 x1 x2^2 x3^3 x5', 'x0^2 x1 x2^2 x3^2 x4^2', 'x0^2 x1 x2^2 x3^2 x4 x5', 'x0^2 x1 x2^2 x3^2 x5^2', 'x0^2 x1 x2^2 x3 x4^3', 'x0^2 x1 x2^2 x3 x4^2 x5', 'x0^2 x1 x2^2 x3 x4 x5^2', 'x0^2 x1 x2^2 x3 x5^3', 'x0^2 x1 x2^2 x4^4', 'x0^2 x1 x2^2 x4^3 x5', 'x0^2 x1 x2^2 x4^2 x5^2', 'x0^2 x1 x2^2 x4 x5^3', 'x0^2 x1 x2^2 x5^4', 'x0^2 x1 x2 x3^5', 'x0^2 x1 x2 x3^4 x4', 'x0^2 x1 x2 x3^4 x5', 'x0^2 x1 x2 x3^3 x4^2', 'x0^2 x1 x2 x3^3 x4 x5', 'x0^2 x1 x2 x3^3 x5^2', 'x0^2 x1 x2 x3^2 x4^3', 'x0^2 x1 x2 x3^2 x4^2 x5', 'x0^2 x1 x2 x3^2 x4 x5^2', 'x0^2 x1 x2 x3^2 x5^3', 'x0^2 x1 x2 x3 x4^4', 'x0^2 x1 x2 x3 x4^3 x5', 'x0^2 x1 x2 x3 x4^2 x5^2', 'x0^2 x1 x2 x3 x4 x5^3', 'x0^2 x1 x2 x3 x5^4', 'x0^2 x1 x2 x4^5', 'x0^2 x1 x2 x4^4 x5', 'x0^2 x1 x2 x4^3 x5^2', 'x0^2 x1 x2 x4^2 x5^3', 'x0^2 x1 x2 x4 x5^4', 'x0^2 x1 x2 x5^5', 'x0^2 x1 x3^6', 'x0^2 x1 x3^5 x4', 'x0^2 x1 x3^5 x5', 'x0^2 x1 x3^4 x4^2', 'x0^2 x1 x3^4 x4 x5', 'x0^2 x1 x3^4 x5^2', 'x0^2 x1 x3^3 x4^3', 'x0^2 x1 x3^3 x4^2 x5', 'x0^2 x1 x3^3 x4 x5^2', 'x0^2 x1 x3^3 x5^3', 'x0^2 x1 x3^2 x4^4', 'x0^2 x1 x3^2 x4^3 x5', 'x0^2 x1 x3^2 x4^2 x5^2', 'x0^2 x1 x3^2 x4 x5^3', 'x0^2 x1 x3^2 x5^4', 'x0^2 x1 x3 x4^5', 'x0^2 x1 x3 x4^4 x5', 'x0^2 x1 x3 x4^3 x5^2', 'x0^2 x1 x3 x4^2 x5^3', 'x0^2 x1 x3 x4 x5^4', 'x0^2 x1 x3 x5^5', 'x0^2 x1 x4^6', 'x0^2 x1 x4^5 x5', 'x0^2 x1 x4^4 x5^2', 'x0^2 x1 x4^3 x5^3', 'x0^2 x1 x4^2 x5^4', 'x0^2 x1 x4 x5^5', 'x0^2 x1 x5^6', 'x0^2 x2^7', 'x0^2 x2^6 x3', 'x0^2 x2^6 x4', 'x0^2 x2^6 x5', 'x0^2 x2^5 x3^2', 'x0^2 x2^5 x3 x4', 'x0^2 x2^5 x3 x5', 'x0^2 x2^5 x4^2', 'x0^2 x2^5 x4 x5', 'x0^2 x2^5 x5^2', 'x0^2 x2^4 x3^3', 'x0^2 x2^4 x3^2 x4', 'x0^2 x2^4 x3^2 x5', 'x0^2 x2^4 x3 x4^2', 'x0^2 x2^4 x3 x4 x5', 'x0^2 x2^4 x3 x5^2', 'x0^2 x2^4 x4^3', 'x0^2 x2^4 x4^2 x5', 'x0^2 x2^4 x4 x5^2', 'x0^2 x2^4 x5^3', 'x0^2 x2^3 x3^4', 'x0^2 x2^3 x3^3 x4', 'x0^2 x2^3 x3^3 x5', 'x0^2 x2^3 x3^2 x4^2', 'x0^2 x2^3 x3^2 x4 x5', 'x0^2 x2^3 x3^2 x5^2', 'x0^2 x2^3 x3 x4^3', 'x0^2 x2^3 x3 x4^2 x5', 'x0^2 x2^3 x3 x4 x5^2', 'x0^2 x2^3 x3 x5^3', 'x0^2 x2^3 x4^4', 'x0^2 x2^3 x4^3 x5', 'x0^2 x2^3 x4^2 x5^2', 'x0^2 x2^3 x4 x5^3', 'x0^2 x2^3 x5^4', 'x0^2 x2^2 x3^5', 'x0^2 x2^2 x3^4 x4', 'x0^2 x2^2 x3^4 x5', 'x0^2 x2^2 x3^3 x4^2', 'x0^2 x2^2 x3^3 x4 x5', 'x0^2 x2^2 x3^3 x5^2', 'x0^2 x2^2 x3^2 x4^3', 'x0^2 x2^2 x3^2 x4^2 x5', 'x0^2 x2^2 x3^2 x4 x5^2', 'x0^2 x2^2 x3^2 x5^3', 'x0^2 x2^2 x3 x4^4', 'x0^2 x2^2 x3 x4^3 x5', 'x0^2 x2^2 x3 x4^2 x5^2', 'x0^2 x2^2 x3 x4 x5^3', 'x0^2 x2^2 x3 x5^4', 'x0^2 x2^2 x4^5', 'x0^2 x2^2 x4^4 x5', 'x0^2 x2^2 x4^3 x5^2', 'x0^2 x2^2 x4^2 x5^3', 'x0^2 x2^2 x4 x5^4', 'x0^2 x2^2 x5^5', 'x0^2 x2 x3^6', 'x0^2 x2 x3^5 x4', 'x0^2 x2 x3^5 x5', 'x0^2 x2 x3^4 x4^2', 'x0^2 x2 x3^4 x4 x5', 'x0^2 x2 x3^4 x5^2', 'x0^2 x2 x3^3 x4^3', 'x0^2 x2 x3^3 x4^2 x5', 'x0^2 x2 x3^3 x4 x5^2', 'x0^2 x2 x3^3 x5^3', 'x0^2 x2 x3^2 x4^4', 'x0^2 x2 x3^2 x4^3 x5', 'x0^2 x2 x3^2 x4^2 x5^2', 'x0^2 x2 x3^2 x4 x5^3', 'x0^2 x2 x3^2 x5^4', 'x0^2 x2 x3 x4^5', 'x0^2 x2 x3 x4^4 x5', 'x0^2 x2 x3 x4^3 x5^2', 'x0^2 x2 x3 x4^2 x5^3', 'x0^2 x2 x3 x4 x5^4', 'x0^2 x2 x3 x5^5', 'x0^2 x2 x4^6', 'x0^2 x2 x4^5 x5', 'x0^2 x2 x4^4 x5^2', 'x0^2 x2 x4^3 x5^3', 'x0^2 x2 x4^2 x5^4', 'x0^2 x2 x4 x5^5', 'x0^2 x2 x5^6', 'x0^2 x3^7', 'x0^2 x3^6 x4', 'x0^2 x3^6 x5', 'x0^2 x3^5 x4^2', 'x0^2 x3^5 x4 x5', 'x0^2 x3^5 x5^2', 'x0^2 x3^4 x4^3', 'x0^2 x3^4 x4^2 x5', 'x0^2 x3^4 x4 x5^2', 'x0^2 x3^4 x5^3', 'x0^2 x3^3 x4^4', 'x0^2 x3^3 x4^3 x5', 'x0^2 x3^3 x4^2 x5^2', 'x0^2 x3^3 x4 x5^3', 'x0^2 x3^3 x5^4', 'x0^2 x3^2 x4^5', 'x0^2 x3^2 x4^4 x5', 'x0^2 x3^2 x4^3 x5^2', 'x0^2 x3^2 x4^2 x5^3', 'x0^2 x3^2 x4 x5^4', 'x0^2 x3^2 x5^5', 'x0^2 x3 x4^6', 'x0^2 x3 x4^5 x5', 'x0^2 x3 x4^4 x5^2', 'x0^2 x3 x4^3 x5^3', 'x0^2 x3 x4^2 x5^4', 'x0^2 x3 x4 x5^5', 'x0^2 x3 x5^6', 'x0^2 x4^7', 'x0^2 x4^6 x5', 'x0^2 x4^5 x5^2', 'x0^2 x4^4 x5^3', 'x0^2 x4^3 x5^4', 'x0^2 x4^2 x5^5', 'x0^2 x4 x5^6', 'x0^2 x5^7', 'x0 x1^8', 'x0 x1^7 x2', 'x0 x1^7 x3', 'x0 x1^7 x4', 'x0 x1^7 x5', 'x0 x1^6 x2^2', 'x0 x1^6 x2 x3', 'x0 x1^6 x2 x4', 'x0 x1^6 x2 x5', 'x0 x1^6 x3^2', 'x0 x1^6 x3 x4', 'x0 x1^6 x3 x5', 'x0 x1^6 x4^2', 'x0 x1^6 x4 x5', 'x0 x1^6 x5^2', 'x0 x1^5 x2^3', 'x0 x1^5 x2^2 x3', 'x0 x1^5 x2^2 x4', 'x0 x1^5 x2^2 x5', 'x0 x1^5 x2 x3^2', 'x0 x1^5 x2 x3 x4', 'x0 x1^5 x2 x3 x5', 'x0 x1^5 x2 x4^2', 'x0 x1^5 x2 x4 x5', 'x0 x1^5 x2 x5^2', 'x0 x1^5 x3^3', 'x0 x1^5 x3^2 x4', 'x0 x1^5 x3^2 x5', 'x0 x1^5 x3 x4^2', 'x0 x1^5 x3 x4 x5', 'x0 x1^5 x3 x5^2', 'x0 x1^5 x4^3', 'x0 x1^5 x4^2 x5', 'x0 x1^5 x4 x5^2', 'x0 x1^5 x5^3', 'x0 x1^4 x2^4', 'x0 x1^4 x2^3 x3', 'x0 x1^4 x2^3 x4', 'x0 x1^4 x2^3 x5', 'x0 x1^4 x2^2 x3^2', 'x0 x1^4 x2^2 x3 x4', 'x0 x1^4 x2^2 x3 x5', 'x0 x1^4 x2^2 x4^2', 'x0 x1^4 x2^2 x4 x5', 'x0 x1^4 x2^2 x5^2', 'x0 x1^4 x2 x3^3', 'x0 x1^4 x2 x3^2 x4', 'x0 x1^4 x2 x3^2 x5', 'x0 x1^4 x2 x3 x4^2', 'x0 x1^4 x2 x3 x4 x5', 'x0 x1^4 x2 x3 x5^2', 'x0 x1^4 x2 x4^3', 'x0 x1^4 x2 x4^2 x5', 'x0 x1^4 x2 x4 x5^2', 'x0 x1^4 x2 x5^3', 'x0 x1^4 x3^4', 'x0 x1^4 x3^3 x4', 'x0 x1^4 x3^3 x5', 'x0 x1^4 x3^2 x4^2', 'x0 x1^4 x3^2 x4 x5', 'x0 x1^4 x3^2 x5^2', 'x0 x1^4 x3 x4^3', 'x0 x1^4 x3 x4^2 x5', 'x0 x1^4 x3 x4 x5^2', 'x0 x1^4 x3 x5^3', 'x0 x1^4 x4^4', 'x0 x1^4 x4^3 x5', 'x0 x1^4 x4^2 x5^2', 'x0 x1^4 x4 x5^3', 'x0 x1^4 x5^4', 'x0 x1^3 x2^5', 'x0 x1^3 x2^4 x3', 'x0 x1^3 x2^4 x4', 'x0 x1^3 x2^4 x5', 'x0 x1^3 x2^3 x3^2', 'x0 x1^3 x2^3 x3 x4', 'x0 x1^3 x2^3 x3 x5', 'x0 x1^3 x2^3 x4^2', 'x0 x1^3 x2^3 x4 x5', 'x0 x1^3 x2^3 x5^2', 'x0 x1^3 x2^2 x3^3', 'x0 x1^3 x2^2 x3^2 x4', 'x0 x1^3 x2^2 x3^2 x5', 'x0 x1^3 x2^2 x3 x4^2', 'x0 x1^3 x2^2 x3 x4 x5', 'x0 x1^3 x2^2 x3 x5^2', 'x0 x1^3 x2^2 x4^3', 'x0 x1^3 x2^2 x4^2 x5', 'x0 x1^3 x2^2 x4 x5^2', 'x0 x1^3 x2^2 x5^3', 'x0 x1^3 x2 x3^4', 'x0 x1^3 x2 x3^3 x4', 'x0 x1^3 x2 x3^3 x5', 'x0 x1^3 x2 x3^2 x4^2', 'x0 x1^3 x2 x3^2 x4 x5', 'x0 x1^3 x2 x3^2 x5^2', 'x0 x1^3 x2 x3 x4^3', 'x0 x1^3 x2 x3 x4^2 x5', 'x0 x1^3 x2 x3 x4 x5^2', 'x0 x1^3 x2 x3 x5^3', 'x0 x1^3 x2 x4^4', 'x0 x1^3 x2 x4^3 x5', 'x0 x1^3 x2 x4^2 x5^2', 'x0 x1^3 x2 x4 x5^3', 'x0 x1^3 x2 x5^4', 'x0 x1^3 x3^5', 'x0 x1^3 x3^4 x4', 'x0 x1^3 x3^4 x5', 'x0 x1^3 x3^3 x4^2', 'x0 x1^3 x3^3 x4 x5', 'x0 x1^3 x3^3 x5^2', 'x0 x1^3 x3^2 x4^3', 'x0 x1^3 x3^2 x4^2 x5', 'x0 x1^3 x3^2 x4 x5^2', 'x0 x1^3 x3^2 x5^3', 'x0 x1^3 x3 x4^4', 'x0 x1^3 x3 x4^3 x5', 'x0 x1^3 x3 x4^2 x5^2', 'x0 x1^3 x3 x4 x5^3', 'x0 x1^3 x3 x5^4', 'x0 x1^3 x4^5', 'x0 x1^3 x4^4 x5', 'x0 x1^3 x4^3 x5^2', 'x0 x1^3 x4^2 x5^3', 'x0 x1^3 x4 x5^4', 'x0 x1^3 x5^5', 'x0 x1^2 x2^6', 'x0 x1^2 x2^5 x3', 'x0 x1^2 x2^5 x4', 'x0 x1^2 x2^5 x5', 'x0 x1^2 x2^4 x3^2', 'x0 x1^2 x2^4 x3 x4', 'x0 x1^2 x2^4 x3 x5', 'x0 x1^2 x2^4 x4^2', 'x0 x1^2 x2^4 x4 x5', 'x0 x1^2 x2^4 x5^2', 'x0 x1^2 x2^3 x3^3', 'x0 x1^2 x2^3 x3^2 x4', 'x0 x1^2 x2^3 x3^2 x5', 'x0 x1^2 x2^3 x3 x4^2', 'x0 x1^2 x2^3 x3 x4 x5', 'x0 x1^2 x2^3 x3 x5^2', 'x0 x1^2 x2^3 x4^3', 'x0 x1^2 x2^3 x4^2 x5', 'x0 x1^2 x2^3 x4 x5^2', 'x0 x1^2 x2^3 x5^3', 'x0 x1^2 x2^2 x3^4', 'x0 x1^2 x2^2 x3^3 x4', 'x0 x1^2 x2^2 x3^3 x5', 'x0 x1^2 x2^2 x3^2 x4^2', 'x0 x1^2 x2^2 x3^2 x4 x5', 'x0 x1^2 x2^2 x3^2 x5^2', 'x0 x1^2 x2^2 x3 x4^3', 'x0 x1^2 x2^2 x3 x4^2 x5', 'x0 x1^2 x2^2 x3 x4 x5^2', 'x0 x1^2 x2^2 x3 x5^3', 'x0 x1^2 x2^2 x4^4', 'x0 x1^2 x2^2 x4^3 x5', 'x0 x1^2 x2^2 x4^2 x5^2', 'x0 x1^2 x2^2 x4 x5^3', 'x0 x1^2 x2^2 x5^4', 'x0 x1^2 x2 x3^5', 'x0 x1^2 x2 x3^4 x4', 'x0 x1^2 x2 x3^4 x5', 'x0 x1^2 x2 x3^3 x4^2', 'x0 x1^2 x2 x3^3 x4 x5', 'x0 x1^2 x2 x3^3 x5^2', 'x0 x1^2 x2 x3^2 x4^3', 'x0 x1^2 x2 x3^2 x4^2 x5', 'x0 x1^2 x2 x3^2 x4 x5^2', 'x0 x1^2 x2 x3^2 x5^3', 'x0 x1^2 x2 x3 x4^4', 'x0 x1^2 x2 x3 x4^3 x5', 'x0 x1^2 x2 x3 x4^2 x5^2', 'x0 x1^2 x2 x3 x4 x5^3', 'x0 x1^2 x2 x3 x5^4', 'x0 x1^2 x2 x4^5', 'x0 x1^2 x2 x4^4 x5', 'x0 x1^2 x2 x4^3 x5^2', 'x0 x1^2 x2 x4^2 x5^3', 'x0 x1^2 x2 x4 x5^4', 'x0 x1^2 x2 x5^5', 'x0 x1^2 x3^6', 'x0 x1^2 x3^5 x4', 'x0 x1^2 x3^5 x5', 'x0 x1^2 x3^4 x4^2', 'x0 x1^2 x3^4 x4 x5', 'x0 x1^2 x3^4 x5^2', 'x0 x1^2 x3^3 x4^3', 'x0 x1^2 x3^3 x4^2 x5', 'x0 x1^2 x3^3 x4 x5^2', 'x0 x1^2 x3^3 x5^3', 'x0 x1^2 x3^2 x4^4', 'x0 x1^2 x3^2 x4^3 x5', 'x0 x1^2 x3^2 x4^2 x5^2', 'x0 x1^2 x3^2 x4 x5^3', 'x0 x1^2 x3^2 x5^4', 'x0 x1^2 x3 x4^5', 'x0 x1^2 x3 x4^4 x5', 'x0 x1^2 x3 x4^3 x5^2', 'x0 x1^2 x3 x4^2 x5^3', 'x0 x1^2 x3 x4 x5^4', 'x0 x1^2 x3 x5^5', 'x0 x1^2 x4^6', 'x0 x1^2 x4^5 x5', 'x0 x1^2 x4^4 x5^2', 'x0 x1^2 x4^3 x5^3', 'x0 x1^2 x4^2 x5^4', 'x0 x1^2 x4 x5^5', 'x0 x1^2 x5^6', 'x0 x1 x2^7', 'x0 x1 x2^6 x3', 'x0 x1 x2^6 x4', 'x0 x1 x2^6 x5', 'x0 x1 x2^5 x3^2', 'x0 x1 x2^5 x3 x4', 'x0 x1 x2^5 x3 x5', 'x0 x1 x2^5 x4^2', 'x0 x1 x2^5 x4 x5', 'x0 x1 x2^5 x5^2', 'x0 x1 x2^4 x3^3', 'x0 x1 x2^4 x3^2 x4', 'x0 x1 x2^4 x3^2 x5', 'x0 x1 x2^4 x3 x4^2', 'x0 x1 x2^4 x3 x4 x5', 'x0 x1 x2^4 x3 x5^2', 'x0 x1 x2^4 x4^3', 'x0 x1 x2^4 x4^2 x5', 'x0 x1 x2^4 x4 x5^2', 'x0 x1 x2^4 x5^3', 'x0 x1 x2^3 x3^4', 'x0 x1 x2^3 x3^3 x4', 'x0 x1 x2^3 x3^3 x5', 'x0 x1 x2^3 x3^2 x4^2', 'x0 x1 x2^3 x3^2 x4 x5', 'x0 x1 x2^3 x3^2 x5^2', 'x0 x1 x2^3 x3 x4^3', 'x0 x1 x2^3 x3 x4^2 x5', 'x0 x1 x2^3 x3 x4 x5^2', 'x0 x1 x2^3 x3 x5^3', 'x0 x1 x2^3 x4^4', 'x0 x1 x2^3 x4^3 x5', 'x0 x1 x2^3 x4^2 x5^2', 'x0 x1 x2^3 x4 x5^3', 'x0 x1 x2^3 x5^4', 'x0 x1 x2^2 x3^5', 'x0 x1 x2^2 x3^4 x4', 'x0 x1 x2^2 x3^4 x5', 'x0 x1 x2^2 x3^3 x4^2', 'x0 x1 x2^2 x3^3 x4 x5', 'x0 x1 x2^2 x3^3 x5^2', 'x0 x1 x2^2 x3^2 x4^3', 'x0 x1 x2^2 x3^2 x4^2 x5', 'x0 x1 x2^2 x3^2 x4 x5^2', 'x0 x1 x2^2 x3^2 x5^3', 'x0 x1 x2^2 x3 x4^4', 'x0 x1 x2^2 x3 x4^3 x5', 'x0 x1 x2^2 x3 x4^2 x5^2', 'x0 x1 x2^2 x3 x4 x5^3', 'x0 x1 x2^2 x3 x5^4', 'x0 x1 x2^2 x4^5', 'x0 x1 x2^2 x4^4 x5', 'x0 x1 x2^2 x4^3 x5^2', 'x0 x1 x2^2 x4^2 x5^3', 'x0 x1 x2^2 x4 x5^4', 'x0 x1 x2^2 x5^5', 'x0 x1 x2 x3^6', 'x0 x1 x2 x3^5 x4', 'x0 x1 x2 x3^5 x5', 'x0 x1 x2 x3^4 x4^2', 'x0 x1 x2 x3^4 x4 x5', 'x0 x1 x2 x3^4 x5^2', 'x0 x1 x2 x3^3 x4^3', 'x0 x1 x2 x3^3 x4^2 x5', 'x0 x1 x2 x3^3 x4 x5^2', 'x0 x1 x2 x3^3 x5^3', 'x0 x1 x2 x3^2 x4^4', 'x0 x1 x2 x3^2 x4^3 x5', 'x0 x1 x2 x3^2 x4^2 x5^2', 'x0 x1 x2 x3^2 x4 x5^3', 'x0 x1 x2 x3^2 x5^4', 'x0 x1 x2 x3 x4^5', 'x0 x1 x2 x3 x4^4 x5', 'x0 x1 x2 x3 x4^3 x5^2', 'x0 x1 x2 x3 x4^2 x5^3', 'x0 x1 x2 x3 x4 x5^4', 'x0 x1 x2 x3 x5^5', 'x0 x1 x2 x4^6', 'x0 x1 x2 x4^5 x5', 'x0 x1 x2 x4^4 x5^2', 'x0 x1 x2 x4^3 x5^3', 'x0 x1 x2 x4^2 x5^4', 'x0 x1 x2 x4 x5^5', 'x0 x1 x2 x5^6', 'x0 x1 x3^7', 'x0 x1 x3^6 x4', 'x0 x1 x3^6 x5', 'x0 x1 x3^5 x4^2', 'x0 x1 x3^5 x4 x5', 'x0 x1 x3^5 x5^2', 'x0 x1 x3^4 x4^3', 'x0 x1 x3^4 x4^2 x5', 'x0 x1 x3^4 x4 x5^2', 'x0 x1 x3^4 x5^3', 'x0 x1 x3^3 x4^4', 'x0 x1 x3^3 x4^3 x5', 'x0 x1 x3^3 x4^2 x5^2', 'x0 x1 x3^3 x4 x5^3', 'x0 x1 x3^3 x5^4', 'x0 x1 x3^2 x4^5', 'x0 x1 x3^2 x4^4 x5', 'x0 x1 x3^2 x4^3 x5^2', 'x0 x1 x3^2 x4^2 x5^3', 'x0 x1 x3^2 x4 x5^4', 'x0 x1 x3^2 x5^5', 'x0 x1 x3 x4^6', 'x0 x1 x3 x4^5 x5', 'x0 x1 x3 x4^4 x5^2', 'x0 x1 x3 x4^3 x5^3', 'x0 x1 x3 x4^2 x5^4', 'x0 x1 x3 x4 x5^5', 'x0 x1 x3 x5^6', 'x0 x1 x4^7', 'x0 x1 x4^6 x5', 'x0 x1 x4^5 x5^2', 'x0 x1 x4^4 x5^3', 'x0 x1 x4^3 x5^4', 'x0 x1 x4^2 x5^5', 'x0 x1 x4 x5^6', 'x0 x1 x5^7', 'x0 x2^8', 'x0 x2^7 x3', 'x0 x2^7 x4', 'x0 x2^7 x5', 'x0 x2^6 x3^2', 'x0 x2^6 x3 x4', 'x0 x2^6 x3 x5', 'x0 x2^6 x4^2', 'x0 x2^6 x4 x5', 'x0 x2^6 x5^2', 'x0 x2^5 x3^3', 'x0 x2^5 x3^2 x4', 'x0 x2^5 x3^2 x5', 'x0 x2^5 x3 x4^2', 'x0 x2^5 x3 x4 x5', 'x0 x2^5 x3 x5^2', 'x0 x2^5 x4^3', 'x0 x2^5 x4^2 x5', 'x0 x2^5 x4 x5^2', 'x0 x2^5 x5^3', 'x0 x2^4 x3^4', 'x0 x2^4 x3^3 x4', 'x0 x2^4 x3^3 x5', 'x0 x2^4 x3^2 x4^2', 'x0 x2^4 x3^2 x4 x5', 'x0 x2^4 x3^2 x5^2', 'x0 x2^4 x3 x4^3', 'x0 x2^4 x3 x4^2 x5', 'x0 x2^4 x3 x4 x5^2', 'x0 x2^4 x3 x5^3', 'x0 x2^4 x4^4', 'x0 x2^4 x4^3 x5', 'x0 x2^4 x4^2 x5^2', 'x0 x2^4 x4 x5^3', 'x0 x2^4 x5^4', 'x0 x2^3 x3^5', 'x0 x2^3 x3^4 x4', 'x0 x2^3 x3^4 x5', 'x0 x2^3 x3^3 x4^2', 'x0 x2^3 x3^3 x4 x5', 'x0 x2^3 x3^3 x5^2', 'x0 x2^3 x3^2 x4^3', 'x0 x2^3 x3^2 x4^2 x5', 'x0 x2^3 x3^2 x4 x5^2', 'x0 x2^3 x3^2 x5^3', 'x0 x2^3 x3 x4^4', 'x0 x2^3 x3 x4^3 x5', 'x0 x2^3 x3 x4^2 x5^2', 'x0 x2^3 x3 x4 x5^3', 'x0 x2^3 x3 x5^4', 'x0 x2^3 x4^5', 'x0 x2^3 x4^4 x5', 'x0 x2^3 x4^3 x5^2', 'x0 x2^3 x4^2 x5^3', 'x0 x2^3 x4 x5^4', 'x0 x2^3 x5^5', 'x0 x2^2 x3^6', 'x0 x2^2 x3^5 x4', 'x0 x2^2 x3^5 x5', 'x0 x2^2 x3^4 x4^2', 'x0 x2^2 x3^4 x4 x5', 'x0 x2^2 x3^4 x5^2', 'x0 x2^2 x3^3 x4^3', 'x0 x2^2 x3^3 x4^2 x5', 'x0 x2^2 x3^3 x4 x5^2', 'x0 x2^2 x3^3 x5^3', 'x0 x2^2 x3^2 x4^4', 'x0 x2^2 x3^2 x4^3 x5', 'x0 x2^2 x3^2 x4^2 x5^2', 'x0 x2^2 x3^2 x4 x5^3', 'x0 x2^2 x3^2 x5^4', 'x0 x2^2 x3 x4^5', 'x0 x2^2 x3 x4^4 x5', 'x0 x2^2 x3 x4^3 x5^2', 'x0 x2^2 x3 x4^2 x5^3', 'x0 x2^2 x3 x4 x5^4', 'x0 x2^2 x3 x5^5', 'x0 x2^2 x4^6', 'x0 x2^2 x4^5 x5', 'x0 x2^2 x4^4 x5^2', 'x0 x2^2 x4^3 x5^3', 'x0 x2^2 x4^2 x5^4', 'x0 x2^2 x4 x5^5', 'x0 x2^2 x5^6', 'x0 x2 x3^7', 'x0 x2 x3^6 x4', 'x0 x2 x3^6 x5', 'x0 x2 x3^5 x4^2', 'x0 x2 x3^5 x4 x5', 'x0 x2 x3^5 x5^2', 'x0 x2 x3^4 x4^3', 'x0 x2 x3^4 x4^2 x5', 'x0 x2 x3^4 x4 x5^2', 'x0 x2 x3^4 x5^3', 'x0 x2 x3^3 x4^4', 'x0 x2 x3^3 x4^3 x5', 'x0 x2 x3^3 x4^2 x5^2', 'x0 x2 x3^3 x4 x5^3', 'x0 x2 x3^3 x5^4', 'x0 x2 x3^2 x4^5', 'x0 x2 x3^2 x4^4 x5', 'x0 x2 x3^2 x4^3 x5^2', 'x0 x2 x3^2 x4^2 x5^3', 'x0 x2 x3^2 x4 x5^4', 'x0 x2 x3^2 x5^5', 'x0 x2 x3 x4^6', 'x0 x2 x3 x4^5 x5', 'x0 x2 x3 x4^4 x5^2', 'x0 x2 x3 x4^3 x5^3', 'x0 x2 x3 x4^2 x5^4', 'x0 x2 x3 x4 x5^5', 'x0 x2 x3 x5^6', 'x0 x2 x4^7', 'x0 x2 x4^6 x5', 'x0 x2 x4^5 x5^2', 'x0 x2 x4^4 x5^3', 'x0 x2 x4^3 x5^4', 'x0 x2 x4^2 x5^5', 'x0 x2 x4 x5^6', 'x0 x2 x5^7', 'x0 x3^8', 'x0 x3^7 x4', 'x0 x3^7 x5', 'x0 x3^6 x4^2', 'x0 x3^6 x4 x5', 'x0 x3^6 x5^2', 'x0 x3^5 x4^3', 'x0 x3^5 x4^2 x5', 'x0 x3^5 x4 x5^2', 'x0 x3^5 x5^3', 'x0 x3^4 x4^4', 'x0 x3^4 x4^3 x5', 'x0 x3^4 x4^2 x5^2', 'x0 x3^4 x4 x5^3', 'x0 x3^4 x5^4', 'x0 x3^3 x4^5', 'x0 x3^3 x4^4 x5', 'x0 x3^3 x4^3 x5^2', 'x0 x3^3 x4^2 x5^3', 'x0 x3^3 x4 x5^4', 'x0 x3^3 x5^5', 'x0 x3^2 x4^6', 'x0 x3^2 x4^5 x5', 'x0 x3^2 x4^4 x5^2', 'x0 x3^2 x4^3 x5^3', 'x0 x3^2 x4^2 x5^4', 'x0 x3^2 x4 x5^5', 'x0 x3^2 x5^6', 'x0 x3 x4^7', 'x0 x3 x4^6 x5', 'x0 x3 x4^5 x5^2', 'x0 x3 x4^4 x5^3', 'x0 x3 x4^3 x5^4', 'x0 x3 x4^2 x5^5', 'x0 x3 x4 x5^6', 'x0 x3 x5^7', 'x0 x4^8', 'x0 x4^7 x5', 'x0 x4^6 x5^2', 'x0 x4^5 x5^3', 'x0 x4^4 x5^4', 'x0 x4^3 x5^5', 'x0 x4^2 x5^6', 'x0 x4 x5^7', 'x0 x5^8', 'x1^9', 'x1^8 x2', 'x1^8 x3', 'x1^8 x4', 'x1^8 x5', 'x1^7 x2^2', 'x1^7 x2 x3', 'x1^7 x2 x4', 'x1^7 x2 x5', 'x1^7 x3^2', 'x1^7 x3 x4', 'x1^7 x3 x5', 'x1^7 x4^2', 'x1^7 x4 x5', 'x1^7 x5^2', 'x1^6 x2^3', 'x1^6 x2^2 x3', 'x1^6 x2^2 x4', 'x1^6 x2^2 x5', 'x1^6 x2 x3^2', 'x1^6 x2 x3 x4', 'x1^6 x2 x3 x5', 'x1^6 x2 x4^2', 'x1^6 x2 x4 x5', 'x1^6 x2 x5^2', 'x1^6 x3^3', 'x1^6 x3^2 x4', 'x1^6 x3^2 x5', 'x1^6 x3 x4^2', 'x1^6 x3 x4 x5', 'x1^6 x3 x5^2', 'x1^6 x4^3', 'x1^6 x4^2 x5', 'x1^6 x4 x5^2', 'x1^6 x5^3', 'x1^5 x2^4', 'x1^5 x2^3 x3', 'x1^5 x2^3 x4', 'x1^5 x2^3 x5', 'x1^5 x2^2 x3^2', 'x1^5 x2^2 x3 x4', 'x1^5 x2^2 x3 x5', 'x1^5 x2^2 x4^2', 'x1^5 x2^2 x4 x5', 'x1^5 x2^2 x5^2', 'x1^5 x2 x3^3', 'x1^5 x2 x3^2 x4', 'x1^5 x2 x3^2 x5', 'x1^5 x2 x3 x4^2', 'x1^5 x2 x3 x4 x5', 'x1^5 x2 x3 x5^2', 'x1^5 x2 x4^3', 'x1^5 x2 x4^2 x5', 'x1^5 x2 x4 x5^2', 'x1^5 x2 x5^3', 'x1^5 x3^4', 'x1^5 x3^3 x4', 'x1^5 x3^3 x5', 'x1^5 x3^2 x4^2', 'x1^5 x3^2 x4 x5', 'x1^5 x3^2 x5^2', 'x1^5 x3 x4^3', 'x1^5 x3 x4^2 x5', 'x1^5 x3 x4 x5^2', 'x1^5 x3 x5^3', 'x1^5 x4^4', 'x1^5 x4^3 x5', 'x1^5 x4^2 x5^2', 'x1^5 x4 x5^3', 'x1^5 x5^4', 'x1^4 x2^5', 'x1^4 x2^4 x3', 'x1^4 x2^4 x4', 'x1^4 x2^4 x5', 'x1^4 x2^3 x3^2', 'x1^4 x2^3 x3 x4', 'x1^4 x2^3 x3 x5', 'x1^4 x2^3 x4^2', 'x1^4 x2^3 x4 x5', 'x1^4 x2^3 x5^2', 'x1^4 x2^2 x3^3', 'x1^4 x2^2 x3^2 x4', 'x1^4 x2^2 x3^2 x5', 'x1^4 x2^2 x3 x4^2', 'x1^4 x2^2 x3 x4 x5', 'x1^4 x2^2 x3 x5^2', 'x1^4 x2^2 x4^3', 'x1^4 x2^2 x4^2 x5', 'x1^4 x2^2 x4 x5^2', 'x1^4 x2^2 x5^3', 'x1^4 x2 x3^4', 'x1^4 x2 x3^3 x4', 'x1^4 x2 x3^3 x5', 'x1^4 x2 x3^2 x4^2', 'x1^4 x2 x3^2 x4 x5', 'x1^4 x2 x3^2 x5^2', 'x1^4 x2 x3 x4^3', 'x1^4 x2 x3 x4^2 x5', 'x1^4 x2 x3 x4 x5^2', 'x1^4 x2 x3 x5^3', 'x1^4 x2 x4^4', 'x1^4 x2 x4^3 x5', 'x1^4 x2 x4^2 x5^2', 'x1^4 x2 x4 x5^3', 'x1^4 x2 x5^4', 'x1^4 x3^5', 'x1^4 x3^4 x4', 'x1^4 x3^4 x5', 'x1^4 x3^3 x4^2', 'x1^4 x3^3 x4 x5', 'x1^4 x3^3 x5^2', 'x1^4 x3^2 x4^3', 'x1^4 x3^2 x4^2 x5', 'x1^4 x3^2 x4 x5^2', 'x1^4 x3^2 x5^3', 'x1^4 x3 x4^4', 'x1^4 x3 x4^3 x5', 'x1^4 x3 x4^2 x5^2', 'x1^4 x3 x4 x5^3', 'x1^4 x3 x5^4', 'x1^4 x4^5', 'x1^4 x4^4 x5', 'x1^4 x4^3 x5^2', 'x1^4 x4^2 x5^3', 'x1^4 x4 x5^4', 'x1^4 x5^5', 'x1^3 x2^6', 'x1^3 x2^5 x3', 'x1^3 x2^5 x4', 'x1^3 x2^5 x5', 'x1^3 x2^4 x3^2', 'x1^3 x2^4 x3 x4', 'x1^3 x2^4 x3 x5', 'x1^3 x2^4 x4^2', 'x1^3 x2^4 x4 x5', 'x1^3 x2^4 x5^2', 'x1^3 x2^3 x3^3', 'x1^3 x2^3 x3^2 x4', 'x1^3 x2^3 x3^2 x5', 'x1^3 x2^3 x3 x4^2', 'x1^3 x2^3 x3 x4 x5', 'x1^3 x2^3 x3 x5^2', 'x1^3 x2^3 x4^3', 'x1^3 x2^3 x4^2 x5', 'x1^3 x2^3 x4 x5^2', 'x1^3 x2^3 x5^3', 'x1^3 x2^2 x3^4', 'x1^3 x2^2 x3^3 x4', 'x1^3 x2^2 x3^3 x5', 'x1^3 x2^2 x3^2 x4^2', 'x1^3 x2^2 x3^2 x4 x5', 'x1^3 x2^2 x3^2 x5^2', 'x1^3 x2^2 x3 x4^3', 'x1^3 x2^2 x3 x4^2 x5', 'x1^3 x2^2 x3 x4 x5^2', 'x1^3 x2^2 x3 x5^3', 'x1^3 x2^2 x4^4', 'x1^3 x2^2 x4^3 x5', 'x1^3 x2^2 x4^2 x5^2', 'x1^3 x2^2 x4 x5^3', 'x1^3 x2^2 x5^4', 'x1^3 x2 x3^5', 'x1^3 x2 x3^4 x4', 'x1^3 x2 x3^4 x5', 'x1^3 x2 x3^3 x4^2', 'x1^3 x2 x3^3 x4 x5', 'x1^3 x2 x3^3 x5^2', 'x1^3 x2 x3^2 x4^3', 'x1^3 x2 x3^2 x4^2 x5', 'x1^3 x2 x3^2 x4 x5^2', 'x1^3 x2 x3^2 x5^3', 'x1^3 x2 x3 x4^4', 'x1^3 x2 x3 x4^3 x5', 'x1^3 x2 x3 x4^2 x5^2', 'x1^3 x2 x3 x4 x5^3', 'x1^3 x2 x3 x5^4', 'x1^3 x2 x4^5', 'x1^3 x2 x4^4 x5', 'x1^3 x2 x4^3 x5^2', 'x1^3 x2 x4^2 x5^3', 'x1^3 x2 x4 x5^4', 'x1^3 x2 x5^5', 'x1^3 x3^6', 'x1^3 x3^5 x4', 'x1^3 x3^5 x5', 'x1^3 x3^4 x4^2', 'x1^3 x3^4 x4 x5', 'x1^3 x3^4 x5^2', 'x1^3 x3^3 x4^3', 'x1^3 x3^3 x4^2 x5', 'x1^3 x3^3 x4 x5^2', 'x1^3 x3^3 x5^3', 'x1^3 x3^2 x4^4', 'x1^3 x3^2 x4^3 x5', 'x1^3 x3^2 x4^2 x5^2', 'x1^3 x3^2 x4 x5^3', 'x1^3 x3^2 x5^4', 'x1^3 x3 x4^5', 'x1^3 x3 x4^4 x5', 'x1^3 x3 x4^3 x5^2', 'x1^3 x3 x4^2 x5^3', 'x1^3 x3 x4 x5^4', 'x1^3 x3 x5^5', 'x1^3 x4^6', 'x1^3 x4^5 x5', 'x1^3 x4^4 x5^2', 'x1^3 x4^3 x5^3', 'x1^3 x4^2 x5^4', 'x1^3 x4 x5^5', 'x1^3 x5^6', 'x1^2 x2^7', 'x1^2 x2^6 x3', 'x1^2 x2^6 x4', 'x1^2 x2^6 x5', 'x1^2 x2^5 x3^2', 'x1^2 x2^5 x3 x4', 'x1^2 x2^5 x3 x5', 'x1^2 x2^5 x4^2', 'x1^2 x2^5 x4 x5', 'x1^2 x2^5 x5^2', 'x1^2 x2^4 x3^3', 'x1^2 x2^4 x3^2 x4', 'x1^2 x2^4 x3^2 x5', 'x1^2 x2^4 x3 x4^2', 'x1^2 x2^4 x3 x4 x5', 'x1^2 x2^4 x3 x5^2', 'x1^2 x2^4 x4^3', 'x1^2 x2^4 x4^2 x5', 'x1^2 x2^4 x4 x5^2', 'x1^2 x2^4 x5^3', 'x1^2 x2^3 x3^4', 'x1^2 x2^3 x3^3 x4', 'x1^2 x2^3 x3^3 x5', 'x1^2 x2^3 x3^2 x4^2', 'x1^2 x2^3 x3^2 x4 x5', 'x1^2 x2^3 x3^2 x5^2', 'x1^2 x2^3 x3 x4^3', 'x1^2 x2^3 x3 x4^2 x5', 'x1^2 x2^3 x3 x4 x5^2', 'x1^2 x2^3 x3 x5^3', 'x1^2 x2^3 x4^4', 'x1^2 x2^3 x4^3 x5', 'x1^2 x2^3 x4^2 x5^2', 'x1^2 x2^3 x4 x5^3', 'x1^2 x2^3 x5^4', 'x1^2 x2^2 x3^5', 'x1^2 x2^2 x3^4 x4', 'x1^2 x2^2 x3^4 x5', 'x1^2 x2^2 x3^3 x4^2', 'x1^2 x2^2 x3^3 x4 x5', 'x1^2 x2^2 x3^3 x5^2', 'x1^2 x2^2 x3^2 x4^3', 'x1^2 x2^2 x3^2 x4^2 x5', 'x1^2 x2^2 x3^2 x4 x5^2', 'x1^2 x2^2 x3^2 x5^3', 'x1^2 x2^2 x3 x4^4', 'x1^2 x2^2 x3 x4^3 x5', 'x1^2 x2^2 x3 x4^2 x5^2', 'x1^2 x2^2 x3 x4 x5^3', 'x1^2 x2^2 x3 x5^4', 'x1^2 x2^2 x4^5', 'x1^2 x2^2 x4^4 x5', 'x1^2 x2^2 x4^3 x5^2', 'x1^2 x2^2 x4^2 x5^3', 'x1^2 x2^2 x4 x5^4', 'x1^2 x2^2 x5^5', 'x1^2 x2 x3^6', 'x1^2 x2 x3^5 x4', 'x1^2 x2 x3^5 x5', 'x1^2 x2 x3^4 x4^2', 'x1^2 x2 x3^4 x4 x5', 'x1^2 x2 x3^4 x5^2', 'x1^2 x2 x3^3 x4^3', 'x1^2 x2 x3^3 x4^2 x5', 'x1^2 x2 x3^3 x4 x5^2', 'x1^2 x2 x3^3 x5^3', 'x1^2 x2 x3^2 x4^4', 'x1^2 x2 x3^2 x4^3 x5', 'x1^2 x2 x3^2 x4^2 x5^2', 'x1^2 x2 x3^2 x4 x5^3', 'x1^2 x2 x3^2 x5^4', 'x1^2 x2 x3 x4^5', 'x1^2 x2 x3 x4^4 x5', 'x1^2 x2 x3 x4^3 x5^2', 'x1^2 x2 x3 x4^2 x5^3', 'x1^2 x2 x3 x4 x5^4', 'x1^2 x2 x3 x5^5', 'x1^2 x2 x4^6', 'x1^2 x2 x4^5 x5', 'x1^2 x2 x4^4 x5^2', 'x1^2 x2 x4^3 x5^3', 'x1^2 x2 x4^2 x5^4', 'x1^2 x2 x4 x5^5', 'x1^2 x2 x5^6', 'x1^2 x3^7', 'x1^2 x3^6 x4', 'x1^2 x3^6 x5', 'x1^2 x3^5 x4^2', 'x1^2 x3^5 x4 x5', 'x1^2 x3^5 x5^2', 'x1^2 x3^4 x4^3', 'x1^2 x3^4 x4^2 x5', 'x1^2 x3^4 x4 x5^2', 'x1^2 x3^4 x5^3', 'x1^2 x3^3 x4^4', 'x1^2 x3^3 x4^3 x5', 'x1^2 x3^3 x4^2 x5^2', 'x1^2 x3^3 x4 x5^3', 'x1^2 x3^3 x5^4', 'x1^2 x3^2 x4^5', 'x1^2 x3^2 x4^4 x5', 'x1^2 x3^2 x4^3 x5^2', 'x1^2 x3^2 x4^2 x5^3', 'x1^2 x3^2 x4 x5^4', 'x1^2 x3^2 x5^5', 'x1^2 x3 x4^6', 'x1^2 x3 x4^5 x5', 'x1^2 x3 x4^4 x5^2', 'x1^2 x3 x4^3 x5^3', 'x1^2 x3 x4^2 x5^4', 'x1^2 x3 x4 x5^5', 'x1^2 x3 x5^6', 'x1^2 x4^7', 'x1^2 x4^6 x5', 'x1^2 x4^5 x5^2', 'x1^2 x4^4 x5^3', 'x1^2 x4^3 x5^4', 'x1^2 x4^2 x5^5', 'x1^2 x4 x5^6', 'x1^2 x5^7', 'x1 x2^8', 'x1 x2^7 x3', 'x1 x2^7 x4', 'x1 x2^7 x5', 'x1 x2^6 x3^2', 'x1 x2^6 x3 x4', 'x1 x2^6 x3 x5', 'x1 x2^6 x4^2', 'x1 x2^6 x4 x5', 'x1 x2^6 x5^2', 'x1 x2^5 x3^3', 'x1 x2^5 x3^2 x4', 'x1 x2^5 x3^2 x5', 'x1 x2^5 x3 x4^2', 'x1 x2^5 x3 x4 x5', 'x1 x2^5 x3 x5^2', 'x1 x2^5 x4^3', 'x1 x2^5 x4^2 x5', 'x1 x2^5 x4 x5^2', 'x1 x2^5 x5^3', 'x1 x2^4 x3^4', 'x1 x2^4 x3^3 x4', 'x1 x2^4 x3^3 x5', 'x1 x2^4 x3^2 x4^2', 'x1 x2^4 x3^2 x4 x5', 'x1 x2^4 x3^2 x5^2', 'x1 x2^4 x3 x4^3', 'x1 x2^4 x3 x4^2 x5', 'x1 x2^4 x3 x4 x5^2', 'x1 x2^4 x3 x5^3', 'x1 x2^4 x4^4', 'x1 x2^4 x4^3 x5', 'x1 x2^4 x4^2 x5^2', 'x1 x2^4 x4 x5^3', 'x1 x2^4 x5^4', 'x1 x2^3 x3^5', 'x1 x2^3 x3^4 x4', 'x1 x2^3 x3^4 x5', 'x1 x2^3 x3^3 x4^2', 'x1 x2^3 x3^3 x4 x5', 'x1 x2^3 x3^3 x5^2', 'x1 x2^3 x3^2 x4^3', 'x1 x2^3 x3^2 x4^2 x5', 'x1 x2^3 x3^2 x4 x5^2', 'x1 x2^3 x3^2 x5^3', 'x1 x2^3 x3 x4^4', 'x1 x2^3 x3 x4^3 x5', 'x1 x2^3 x3 x4^2 x5^2', 'x1 x2^3 x3 x4 x5^3', 'x1 x2^3 x3 x5^4', 'x1 x2^3 x4^5', 'x1 x2^3 x4^4 x5', 'x1 x2^3 x4^3 x5^2', 'x1 x2^3 x4^2 x5^3', 'x1 x2^3 x4 x5^4', 'x1 x2^3 x5^5', 'x1 x2^2 x3^6', 'x1 x2^2 x3^5 x4', 'x1 x2^2 x3^5 x5', 'x1 x2^2 x3^4 x4^2', 'x1 x2^2 x3^4 x4 x5', 'x1 x2^2 x3^4 x5^2', 'x1 x2^2 x3^3 x4^3', 'x1 x2^2 x3^3 x4^2 x5', 'x1 x2^2 x3^3 x4 x5^2', 'x1 x2^2 x3^3 x5^3', 'x1 x2^2 x3^2 x4^4', 'x1 x2^2 x3^2 x4^3 x5', 'x1 x2^2 x3^2 x4^2 x5^2', 'x1 x2^2 x3^2 x4 x5^3', 'x1 x2^2 x3^2 x5^4', 'x1 x2^2 x3 x4^5', 'x1 x2^2 x3 x4^4 x5', 'x1 x2^2 x3 x4^3 x5^2', 'x1 x2^2 x3 x4^2 x5^3', 'x1 x2^2 x3 x4 x5^4', 'x1 x2^2 x3 x5^5', 'x1 x2^2 x4^6', 'x1 x2^2 x4^5 x5', 'x1 x2^2 x4^4 x5^2', 'x1 x2^2 x4^3 x5^3', 'x1 x2^2 x4^2 x5^4', 'x1 x2^2 x4 x5^5', 'x1 x2^2 x5^6', 'x1 x2 x3^7', 'x1 x2 x3^6 x4', 'x1 x2 x3^6 x5', 'x1 x2 x3^5 x4^2', 'x1 x2 x3^5 x4 x5', 'x1 x2 x3^5 x5^2', 'x1 x2 x3^4 x4^3', 'x1 x2 x3^4 x4^2 x5', 'x1 x2 x3^4 x4 x5^2', 'x1 x2 x3^4 x5^3', 'x1 x2 x3^3 x4^4', 'x1 x2 x3^3 x4^3 x5', 'x1 x2 x3^3 x4^2 x5^2', 'x1 x2 x3^3 x4 x5^3', 'x1 x2 x3^3 x5^4', 'x1 x2 x3^2 x4^5', 'x1 x2 x3^2 x4^4 x5', 'x1 x2 x3^2 x4^3 x5^2', 'x1 x2 x3^2 x4^2 x5^3', 'x1 x2 x3^2 x4 x5^4', 'x1 x2 x3^2 x5^5', 'x1 x2 x3 x4^6', 'x1 x2 x3 x4^5 x5', 'x1 x2 x3 x4^4 x5^2', 'x1 x2 x3 x4^3 x5^3', 'x1 x2 x3 x4^2 x5^4', 'x1 x2 x3 x4 x5^5', 'x1 x2 x3 x5^6', 'x1 x2 x4^7', 'x1 x2 x4^6 x5', 'x1 x2 x4^5 x5^2', 'x1 x2 x4^4 x5^3', 'x1 x2 x4^3 x5^4', 'x1 x2 x4^2 x5^5', 'x1 x2 x4 x5^6', 'x1 x2 x5^7', 'x1 x3^8', 'x1 x3^7 x4', 'x1 x3^7 x5', 'x1 x3^6 x4^2', 'x1 x3^6 x4 x5', 'x1 x3^6 x5^2', 'x1 x3^5 x4^3', 'x1 x3^5 x4^2 x5', 'x1 x3^5 x4 x5^2', 'x1 x3^5 x5^3', 'x1 x3^4 x4^4', 'x1 x3^4 x4^3 x5', 'x1 x3^4 x4^2 x5^2', 'x1 x3^4 x4 x5^3', 'x1 x3^4 x5^4', 'x1 x3^3 x4^5', 'x1 x3^3 x4^4 x5', 'x1 x3^3 x4^3 x5^2', 'x1 x3^3 x4^2 x5^3', 'x1 x3^3 x4 x5^4', 'x1 x3^3 x5^5', 'x1 x3^2 x4^6', 'x1 x3^2 x4^5 x5', 'x1 x3^2 x4^4 x5^2', 'x1 x3^2 x4^3 x5^3', 'x1 x3^2 x4^2 x5^4', 'x1 x3^2 x4 x5^5', 'x1 x3^2 x5^6', 'x1 x3 x4^7', 'x1 x3 x4^6 x5', 'x1 x3 x4^5 x5^2', 'x1 x3 x4^4 x5^3', 'x1 x3 x4^3 x5^4', 'x1 x3 x4^2 x5^5', 'x1 x3 x4 x5^6', 'x1 x3 x5^7', 'x1 x4^8', 'x1 x4^7 x5', 'x1 x4^6 x5^2', 'x1 x4^5 x5^3', 'x1 x4^4 x5^4', 'x1 x4^3 x5^5', 'x1 x4^2 x5^6', 'x1 x4 x5^7', 'x1 x5^8', 'x2^9', 'x2^8 x3', 'x2^8 x4', 'x2^8 x5', 'x2^7 x3^2', 'x2^7 x3 x4', 'x2^7 x3 x5', 'x2^7 x4^2', 'x2^7 x4 x5', 'x2^7 x5^2', 'x2^6 x3^3', 'x2^6 x3^2 x4', 'x2^6 x3^2 x5', 'x2^6 x3 x4^2', 'x2^6 x3 x4 x5', 'x2^6 x3 x5^2', 'x2^6 x4^3', 'x2^6 x4^2 x5', 'x2^6 x4 x5^2', 'x2^6 x5^3', 'x2^5 x3^4', 'x2^5 x3^3 x4', 'x2^5 x3^3 x5', 'x2^5 x3^2 x4^2', 'x2^5 x3^2 x4 x5', 'x2^5 x3^2 x5^2', 'x2^5 x3 x4^3', 'x2^5 x3 x4^2 x5', 'x2^5 x3 x4 x5^2', 'x2^5 x3 x5^3', 'x2^5 x4^4', 'x2^5 x4^3 x5', 'x2^5 x4^2 x5^2', 'x2^5 x4 x5^3', 'x2^5 x5^4', 'x2^4 x3^5', 'x2^4 x3^4 x4', 'x2^4 x3^4 x5', 'x2^4 x3^3 x4^2', 'x2^4 x3^3 x4 x5', 'x2^4 x3^3 x5^2', 'x2^4 x3^2 x4^3', 'x2^4 x3^2 x4^2 x5', 'x2^4 x3^2 x4 x5^2', 'x2^4 x3^2 x5^3', 'x2^4 x3 x4^4', 'x2^4 x3 x4^3 x5', 'x2^4 x3 x4^2 x5^2', 'x2^4 x3 x4 x5^3', 'x2^4 x3 x5^4', 'x2^4 x4^5', 'x2^4 x4^4 x5', 'x2^4 x4^3 x5^2', 'x2^4 x4^2 x5^3', 'x2^4 x4 x5^4', 'x2^4 x5^5', 'x2^3 x3^6', 'x2^3 x3^5 x4', 'x2^3 x3^5 x5', 'x2^3 x3^4 x4^2', 'x2^3 x3^4 x4 x5', 'x2^3 x3^4 x5^2', 'x2^3 x3^3 x4^3', 'x2^3 x3^3 x4^2 x5', 'x2^3 x3^3 x4 x5^2', 'x2^3 x3^3 x5^3', 'x2^3 x3^2 x4^4', 'x2^3 x3^2 x4^3 x5', 'x2^3 x3^2 x4^2 x5^2', 'x2^3 x3^2 x4 x5^3', 'x2^3 x3^2 x5^4', 'x2^3 x3 x4^5', 'x2^3 x3 x4^4 x5', 'x2^3 x3 x4^3 x5^2', 'x2^3 x3 x4^2 x5^3', 'x2^3 x3 x4 x5^4', 'x2^3 x3 x5^5', 'x2^3 x4^6', 'x2^3 x4^5 x5', 'x2^3 x4^4 x5^2', 'x2^3 x4^3 x5^3', 'x2^3 x4^2 x5^4', 'x2^3 x4 x5^5', 'x2^3 x5^6', 'x2^2 x3^7', 'x2^2 x3^6 x4', 'x2^2 x3^6 x5', 'x2^2 x3^5 x4^2', 'x2^2 x3^5 x4 x5', 'x2^2 x3^5 x5^2', 'x2^2 x3^4 x4^3', 'x2^2 x3^4 x4^2 x5', 'x2^2 x3^4 x4 x5^2', 'x2^2 x3^4 x5^3', 'x2^2 x3^3 x4^4', 'x2^2 x3^3 x4^3 x5', 'x2^2 x3^3 x4^2 x5^2', 'x2^2 x3^3 x4 x5^3', 'x2^2 x3^3 x5^4', 'x2^2 x3^2 x4^5', 'x2^2 x3^2 x4^4 x5', 'x2^2 x3^2 x4^3 x5^2', 'x2^2 x3^2 x4^2 x5^3', 'x2^2 x3^2 x4 x5^4', 'x2^2 x3^2 x5^5', 'x2^2 x3 x4^6', 'x2^2 x3 x4^5 x5', 'x2^2 x3 x4^4 x5^2', 'x2^2 x3 x4^3 x5^3', 'x2^2 x3 x4^2 x5^4', 'x2^2 x3 x4 x5^5', 'x2^2 x3 x5^6', 'x2^2 x4^7', 'x2^2 x4^6 x5', 'x2^2 x4^5 x5^2', 'x2^2 x4^4 x5^3', 'x2^2 x4^3 x5^4', 'x2^2 x4^2 x5^5', 'x2^2 x4 x5^6', 'x2^2 x5^7', 'x2 x3^8', 'x2 x3^7 x4', 'x2 x3^7 x5', 'x2 x3^6 x4^2', 'x2 x3^6 x4 x5', 'x2 x3^6 x5^2', 'x2 x3^5 x4^3', 'x2 x3^5 x4^2 x5', 'x2 x3^5 x4 x5^2', 'x2 x3^5 x5^3', 'x2 x3^4 x4^4', 'x2 x3^4 x4^3 x5', 'x2 x3^4 x4^2 x5^2', 'x2 x3^4 x4 x5^3', 'x2 x3^4 x5^4', 'x2 x3^3 x4^5', 'x2 x3^3 x4^4 x5', 'x2 x3^3 x4^3 x5^2', 'x2 x3^3 x4^2 x5^3', 'x2 x3^3 x4 x5^4', 'x2 x3^3 x5^5', 'x2 x3^2 x4^6', 'x2 x3^2 x4^5 x5', 'x2 x3^2 x4^4 x5^2', 'x2 x3^2 x4^3 x5^3', 'x2 x3^2 x4^2 x5^4', 'x2 x3^2 x4 x5^5', 'x2 x3^2 x5^6', 'x2 x3 x4^7', 'x2 x3 x4^6 x5', 'x2 x3 x4^5 x5^2', 'x2 x3 x4^4 x5^3', 'x2 x3 x4^3 x5^4', 'x2 x3 x4^2 x5^5', 'x2 x3 x4 x5^6', 'x2 x3 x5^7', 'x2 x4^8', 'x2 x4^7 x5', 'x2 x4^6 x5^2', 'x2 x4^5 x5^3', 'x2 x4^4 x5^4', 'x2 x4^3 x5^5', 'x2 x4^2 x5^6', 'x2 x4 x5^7', 'x2 x5^8', 'x3^9', 'x3^8 x4', 'x3^8 x5', 'x3^7 x4^2', 'x3^7 x4 x5', 'x3^7 x5^2', 'x3^6 x4^3', 'x3^6 x4^2 x5', 'x3^6 x4 x5^2', 'x3^6 x5^3', 'x3^5 x4^4', 'x3^5 x4^3 x5', 'x3^5 x4^2 x5^2', 'x3^5 x4 x5^3', 'x3^5 x5^4', 'x3^4 x4^5', 'x3^4 x4^4 x5', 'x3^4 x4^3 x5^2', 'x3^4 x4^2 x5^3', 'x3^4 x4 x5^4', 'x3^4 x5^5', 'x3^3 x4^6', 'x3^3 x4^5 x5', 'x3^3 x4^4 x5^2', 'x3^3 x4^3 x5^3', 'x3^3 x4^2 x5^4', 'x3^3 x4 x5^5', 'x3^3 x5^6', 'x3^2 x4^7', 'x3^2 x4^6 x5', 'x3^2 x4^5 x5^2', 'x3^2 x4^4 x5^3', 'x3^2 x4^3 x5^4', 'x3^2 x4^2 x5^5', 'x3^2 x4 x5^6', 'x3^2 x5^7', 'x3 x4^8', 'x3 x4^7 x5', 'x3 x4^6 x5^2', 'x3 x4^5 x5^3', 'x3 x4^4 x5^4', 'x3 x4^3 x5^5', 'x3 x4^2 x5^6', 'x3 x4 x5^7', 'x3 x5^8', 'x4^9', 'x4^8 x5', 'x4^7 x5^2', 'x4^6 x5^3', 'x4^5 x5^4', 'x4^4 x5^5', 'x4^3 x5^6', 'x4^2 x5^7', 'x4 x5^8', 'x5^9', 'x0^10', 'x0^9 x1', 'x0^9 x2', 'x0^9 x3', 'x0^9 x4', 'x0^9 x5', 'x0^8 x1^2', 'x0^8 x1 x2', 'x0^8 x1 x3', 'x0^8 x1 x4', 'x0^8 x1 x5', 'x0^8 x2^2', 'x0^8 x2 x3', 'x0^8 x2 x4', 'x0^8 x2 x5', 'x0^8 x3^2', 'x0^8 x3 x4', 'x0^8 x3 x5', 'x0^8 x4^2', 'x0^8 x4 x5', 'x0^8 x5^2', 'x0^7 x1^3', 'x0^7 x1^2 x2', 'x0^7 x1^2 x3', 'x0^7 x1^2 x4', 'x0^7 x1^2 x5', 'x0^7 x1 x2^2', 'x0^7 x1 x2 x3', 'x0^7 x1 x2 x4', 'x0^7 x1 x2 x5', 'x0^7 x1 x3^2', 'x0^7 x1 x3 x4', 'x0^7 x1 x3 x5', 'x0^7 x1 x4^2', 'x0^7 x1 x4 x5', 'x0^7 x1 x5^2', 'x0^7 x2^3', 'x0^7 x2^2 x3', 'x0^7 x2^2 x4', 'x0^7 x2^2 x5', 'x0^7 x2 x3^2', 'x0^7 x2 x3 x4', 'x0^7 x2 x3 x5', 'x0^7 x2 x4^2', 'x0^7 x2 x4 x5', 'x0^7 x2 x5^2', 'x0^7 x3^3', 'x0^7 x3^2 x4', 'x0^7 x3^2 x5', 'x0^7 x3 x4^2', 'x0^7 x3 x4 x5', 'x0^7 x3 x5^2', 'x0^7 x4^3', 'x0^7 x4^2 x5', 'x0^7 x4 x5^2', 'x0^7 x5^3', 'x0^6 x1^4', 'x0^6 x1^3 x2', 'x0^6 x1^3 x3', 'x0^6 x1^3 x4', 'x0^6 x1^3 x5', 'x0^6 x1^2 x2^2', 'x0^6 x1^2 x2 x3', 'x0^6 x1^2 x2 x4', 'x0^6 x1^2 x2 x5', 'x0^6 x1^2 x3^2', 'x0^6 x1^2 x3 x4', 'x0^6 x1^2 x3 x5', 'x0^6 x1^2 x4^2', 'x0^6 x1^2 x4 x5', 'x0^6 x1^2 x5^2', 'x0^6 x1 x2^3', 'x0^6 x1 x2^2 x3', 'x0^6 x1 x2^2 x4', 'x0^6 x1 x2^2 x5', 'x0^6 x1 x2 x3^2', 'x0^6 x1 x2 x3 x4', 'x0^6 x1 x2 x3 x5', 'x0^6 x1 x2 x4^2', 'x0^6 x1 x2 x4 x5', 'x0^6 x1 x2 x5^2', 'x0^6 x1 x3^3', 'x0^6 x1 x3^2 x4', 'x0^6 x1 x3^2 x5', 'x0^6 x1 x3 x4^2', 'x0^6 x1 x3 x4 x5', 'x0^6 x1 x3 x5^2', 'x0^6 x1 x4^3', 'x0^6 x1 x4^2 x5', 'x0^6 x1 x4 x5^2', 'x0^6 x1 x5^3', 'x0^6 x2^4', 'x0^6 x2^3 x3', 'x0^6 x2^3 x4', 'x0^6 x2^3 x5', 'x0^6 x2^2 x3^2', 'x0^6 x2^2 x3 x4', 'x0^6 x2^2 x3 x5', 'x0^6 x2^2 x4^2', 'x0^6 x2^2 x4 x5', 'x0^6 x2^2 x5^2', 'x0^6 x2 x3^3', 'x0^6 x2 x3^2 x4', 'x0^6 x2 x3^2 x5', 'x0^6 x2 x3 x4^2', 'x0^6 x2 x3 x4 x5', 'x0^6 x2 x3 x5^2', 'x0^6 x2 x4^3', 'x0^6 x2 x4^2 x5', 'x0^6 x2 x4 x5^2', 'x0^6 x2 x5^3', 'x0^6 x3^4', 'x0^6 x3^3 x4', 'x0^6 x3^3 x5', 'x0^6 x3^2 x4^2', 'x0^6 x3^2 x4 x5', 'x0^6 x3^2 x5^2', 'x0^6 x3 x4^3', 'x0^6 x3 x4^2 x5', 'x0^6 x3 x4 x5^2', 'x0^6 x3 x5^3', 'x0^6 x4^4', 'x0^6 x4^3 x5', 'x0^6 x4^2 x5^2', 'x0^6 x4 x5^3', 'x0^6 x5^4', 'x0^5 x1^5', 'x0^5 x1^4 x2', 'x0^5 x1^4 x3', 'x0^5 x1^4 x4', 'x0^5 x1^4 x5', 'x0^5 x1^3 x2^2', 'x0^5 x1^3 x2 x3', 'x0^5 x1^3 x2 x4', 'x0^5 x1^3 x2 x5', 'x0^5 x1^3 x3^2', 'x0^5 x1^3 x3 x4', 'x0^5 x1^3 x3 x5', 'x0^5 x1^3 x4^2', 'x0^5 x1^3 x4 x5', 'x0^5 x1^3 x5^2', 'x0^5 x1^2 x2^3', 'x0^5 x1^2 x2^2 x3', 'x0^5 x1^2 x2^2 x4', 'x0^5 x1^2 x2^2 x5', 'x0^5 x1^2 x2 x3^2', 'x0^5 x1^2 x2 x3 x4', 'x0^5 x1^2 x2 x3 x5', 'x0^5 x1^2 x2 x4^2', 'x0^5 x1^2 x2 x4 x5', 'x0^5 x1^2 x2 x5^2', 'x0^5 x1^2 x3^3', 'x0^5 x1^2 x3^2 x4', 'x0^5 x1^2 x3^2 x5', 'x0^5 x1^2 x3 x4^2', 'x0^5 x1^2 x3 x4 x5', 'x0^5 x1^2 x3 x5^2', 'x0^5 x1^2 x4^3', 'x0^5 x1^2 x4^2 x5', 'x0^5 x1^2 x4 x5^2', 'x0^5 x1^2 x5^3', 'x0^5 x1 x2^4', 'x0^5 x1 x2^3 x3', 'x0^5 x1 x2^3 x4', 'x0^5 x1 x2^3 x5', 'x0^5 x1 x2^2 x3^2', 'x0^5 x1 x2^2 x3 x4', 'x0^5 x1 x2^2 x3 x5', 'x0^5 x1 x2^2 x4^2', 'x0^5 x1 x2^2 x4 x5', 'x0^5 x1 x2^2 x5^2', 'x0^5 x1 x2 x3^3', 'x0^5 x1 x2 x3^2 x4', 'x0^5 x1 x2 x3^2 x5', 'x0^5 x1 x2 x3 x4^2', 'x0^5 x1 x2 x3 x4 x5', 'x0^5 x1 x2 x3 x5^2', 'x0^5 x1 x2 x4^3', 'x0^5 x1 x2 x4^2 x5', 'x0^5 x1 x2 x4 x5^2', 'x0^5 x1 x2 x5^3', 'x0^5 x1 x3^4', 'x0^5 x1 x3^3 x4', 'x0^5 x1 x3^3 x5', 'x0^5 x1 x3^2 x4^2', 'x0^5 x1 x3^2 x4 x5', 'x0^5 x1 x3^2 x5^2', 'x0^5 x1 x3 x4^3', 'x0^5 x1 x3 x4^2 x5', 'x0^5 x1 x3 x4 x5^2', 'x0^5 x1 x3 x5^3', 'x0^5 x1 x4^4', 'x0^5 x1 x4^3 x5', 'x0^5 x1 x4^2 x5^2', 'x0^5 x1 x4 x5^3', 'x0^5 x1 x5^4', 'x0^5 x2^5', 'x0^5 x2^4 x3', 'x0^5 x2^4 x4', 'x0^5 x2^4 x5', 'x0^5 x2^3 x3^2', 'x0^5 x2^3 x3 x4', 'x0^5 x2^3 x3 x5', 'x0^5 x2^3 x4^2', 'x0^5 x2^3 x4 x5', 'x0^5 x2^3 x5^2', 'x0^5 x2^2 x3^3', 'x0^5 x2^2 x3^2 x4', 'x0^5 x2^2 x3^2 x5', 'x0^5 x2^2 x3 x4^2', 'x0^5 x2^2 x3 x4 x5', 'x0^5 x2^2 x3 x5^2', 'x0^5 x2^2 x4^3', 'x0^5 x2^2 x4^2 x5', 'x0^5 x2^2 x4 x5^2', 'x0^5 x2^2 x5^3', 'x0^5 x2 x3^4', 'x0^5 x2 x3^3 x4', 'x0^5 x2 x3^3 x5', 'x0^5 x2 x3^2 x4^2', 'x0^5 x2 x3^2 x4 x5', 'x0^5 x2 x3^2 x5^2', 'x0^5 x2 x3 x4^3', 'x0^5 x2 x3 x4^2 x5', 'x0^5 x2 x3 x4 x5^2', 'x0^5 x2 x3 x5^3', 'x0^5 x2 x4^4', 'x0^5 x2 x4^3 x5', 'x0^5 x2 x4^2 x5^2', 'x0^5 x2 x4 x5^3', 'x0^5 x2 x5^4', 'x0^5 x3^5', 'x0^5 x3^4 x4', 'x0^5 x3^4 x5', 'x0^5 x3^3 x4^2', 'x0^5 x3^3 x4 x5', 'x0^5 x3^3 x5^2', 'x0^5 x3^2 x4^3', 'x0^5 x3^2 x4^2 x5', 'x0^5 x3^2 x4 x5^2', 'x0^5 x3^2 x5^3', 'x0^5 x3 x4^4', 'x0^5 x3 x4^3 x5', 'x0^5 x3 x4^2 x5^2', 'x0^5 x3 x4 x5^3', 'x0^5 x3 x5^4', 'x0^5 x4^5', 'x0^5 x4^4 x5', 'x0^5 x4^3 x5^2', 'x0^5 x4^2 x5^3', 'x0^5 x4 x5^4', 'x0^5 x5^5', 'x0^4 x1^6', 'x0^4 x1^5 x2', 'x0^4 x1^5 x3', 'x0^4 x1^5 x4', 'x0^4 x1^5 x5', 'x0^4 x1^4 x2^2', 'x0^4 x1^4 x2 x3', 'x0^4 x1^4 x2 x4', 'x0^4 x1^4 x2 x5', 'x0^4 x1^4 x3^2', 'x0^4 x1^4 x3 x4', 'x0^4 x1^4 x3 x5', 'x0^4 x1^4 x4^2', 'x0^4 x1^4 x4 x5', 'x0^4 x1^4 x5^2', 'x0^4 x1^3 x2^3', 'x0^4 x1^3 x2^2 x3', 'x0^4 x1^3 x2^2 x4', 'x0^4 x1^3 x2^2 x5', 'x0^4 x1^3 x2 x3^2', 'x0^4 x1^3 x2 x3 x4', 'x0^4 x1^3 x2 x3 x5', 'x0^4 x1^3 x2 x4^2', 'x0^4 x1^3 x2 x4 x5', 'x0^4 x1^3 x2 x5^2', 'x0^4 x1^3 x3^3', 'x0^4 x1^3 x3^2 x4', 'x0^4 x1^3 x3^2 x5', 'x0^4 x1^3 x3 x4^2', 'x0^4 x1^3 x3 x4 x5', 'x0^4 x1^3 x3 x5^2', 'x0^4 x1^3 x4^3', 'x0^4 x1^3 x4^2 x5', 'x0^4 x1^3 x4 x5^2', 'x0^4 x1^3 x5^3', 'x0^4 x1^2 x2^4', 'x0^4 x1^2 x2^3 x3', 'x0^4 x1^2 x2^3 x4', 'x0^4 x1^2 x2^3 x5', 'x0^4 x1^2 x2^2 x3^2', 'x0^4 x1^2 x2^2 x3 x4', 'x0^4 x1^2 x2^2 x3 x5', 'x0^4 x1^2 x2^2 x4^2', 'x0^4 x1^2 x2^2 x4 x5', 'x0^4 x1^2 x2^2 x5^2', 'x0^4 x1^2 x2 x3^3', 'x0^4 x1^2 x2 x3^2 x4', 'x0^4 x1^2 x2 x3^2 x5', 'x0^4 x1^2 x2 x3 x4^2', 'x0^4 x1^2 x2 x3 x4 x5', 'x0^4 x1^2 x2 x3 x5^2', 'x0^4 x1^2 x2 x4^3', 'x0^4 x1^2 x2 x4^2 x5', 'x0^4 x1^2 x2 x4 x5^2', 'x0^4 x1^2 x2 x5^3', 'x0^4 x1^2 x3^4', 'x0^4 x1^2 x3^3 x4', 'x0^4 x1^2 x3^3 x5', 'x0^4 x1^2 x3^2 x4^2', 'x0^4 x1^2 x3^2 x4 x5', 'x0^4 x1^2 x3^2 x5^2', 'x0^4 x1^2 x3 x4^3', 'x0^4 x1^2 x3 x4^2 x5', 'x0^4 x1^2 x3 x4 x5^2', 'x0^4 x1^2 x3 x5^3', 'x0^4 x1^2 x4^4', 'x0^4 x1^2 x4^3 x5', 'x0^4 x1^2 x4^2 x5^2', 'x0^4 x1^2 x4 x5^3', 'x0^4 x1^2 x5^4', 'x0^4 x1 x2^5', 'x0^4 x1 x2^4 x3', 'x0^4 x1 x2^4 x4', 'x0^4 x1 x2^4 x5', 'x0^4 x1 x2^3 x3^2', 'x0^4 x1 x2^3 x3 x4', 'x0^4 x1 x2^3 x3 x5', 'x0^4 x1 x2^3 x4^2', 'x0^4 x1 x2^3 x4 x5', 'x0^4 x1 x2^3 x5^2', 'x0^4 x1 x2^2 x3^3', 'x0^4 x1 x2^2 x3^2 x4', 'x0^4 x1 x2^2 x3^2 x5', 'x0^4 x1 x2^2 x3 x4^2', 'x0^4 x1 x2^2 x3 x4 x5', 'x0^4 x1 x2^2 x3 x5^2', 'x0^4 x1 x2^2 x4^3', 'x0^4 x1 x2^2 x4^2 x5', 'x0^4 x1 x2^2 x4 x5^2', 'x0^4 x1 x2^2 x5^3', 'x0^4 x1 x2 x3^4', 'x0^4 x1 x2 x3^3 x4', 'x0^4 x1 x2 x3^3 x5', 'x0^4 x1 x2 x3^2 x4^2', 'x0^4 x1 x2 x3^2 x4 x5', 'x0^4 x1 x2 x3^2 x5^2', 'x0^4 x1 x2 x3 x4^3', 'x0^4 x1 x2 x3 x4^2 x5', 'x0^4 x1 x2 x3 x4 x5^2', 'x0^4 x1 x2 x3 x5^3', 'x0^4 x1 x2 x4^4', 'x0^4 x1 x2 x4^3 x5', 'x0^4 x1 x2 x4^2 x5^2', 'x0^4 x1 x2 x4 x5^3', 'x0^4 x1 x2 x5^4', 'x0^4 x1 x3^5', 'x0^4 x1 x3^4 x4', 'x0^4 x1 x3^4 x5', 'x0^4 x1 x3^3 x4^2', 'x0^4 x1 x3^3 x4 x5', 'x0^4 x1 x3^3 x5^2', 'x0^4 x1 x3^2 x4^3', 'x0^4 x1 x3^2 x4^2 x5', 'x0^4 x1 x3^2 x4 x5^2', 'x0^4 x1 x3^2 x5^3', 'x0^4 x1 x3 x4^4', 'x0^4 x1 x3 x4^3 x5', 'x0^4 x1 x3 x4^2 x5^2', 'x0^4 x1 x3 x4 x5^3', 'x0^4 x1 x3 x5^4', 'x0^4 x1 x4^5', 'x0^4 x1 x4^4 x5', 'x0^4 x1 x4^3 x5^2', 'x0^4 x1 x4^2 x5^3', 'x0^4 x1 x4 x5^4', 'x0^4 x1 x5^5', 'x0^4 x2^6', 'x0^4 x2^5 x3', 'x0^4 x2^5 x4', 'x0^4 x2^5 x5', 'x0^4 x2^4 x3^2', 'x0^4 x2^4 x3 x4', 'x0^4 x2^4 x3 x5', 'x0^4 x2^4 x4^2', 'x0^4 x2^4 x4 x5', 'x0^4 x2^4 x5^2', 'x0^4 x2^3 x3^3', 'x0^4 x2^3 x3^2 x4', 'x0^4 x2^3 x3^2 x5', 'x0^4 x2^3 x3 x4^2', 'x0^4 x2^3 x3 x4 x5', 'x0^4 x2^3 x3 x5^2', 'x0^4 x2^3 x4^3', 'x0^4 x2^3 x4^2 x5', 'x0^4 x2^3 x4 x5^2', 'x0^4 x2^3 x5^3', 'x0^4 x2^2 x3^4', 'x0^4 x2^2 x3^3 x4', 'x0^4 x2^2 x3^3 x5', 'x0^4 x2^2 x3^2 x4^2', 'x0^4 x2^2 x3^2 x4 x5', 'x0^4 x2^2 x3^2 x5^2', 'x0^4 x2^2 x3 x4^3', 'x0^4 x2^2 x3 x4^2 x5', 'x0^4 x2^2 x3 x4 x5^2', 'x0^4 x2^2 x3 x5^3', 'x0^4 x2^2 x4^4', 'x0^4 x2^2 x4^3 x5', 'x0^4 x2^2 x4^2 x5^2', 'x0^4 x2^2 x4 x5^3', 'x0^4 x2^2 x5^4', 'x0^4 x2 x3^5', 'x0^4 x2 x3^4 x4', 'x0^4 x2 x3^4 x5', 'x0^4 x2 x3^3 x4^2', 'x0^4 x2 x3^3 x4 x5', 'x0^4 x2 x3^3 x5^2', 'x0^4 x2 x3^2 x4^3', 'x0^4 x2 x3^2 x4^2 x5', 'x0^4 x2 x3^2 x4 x5^2', 'x0^4 x2 x3^2 x5^3', 'x0^4 x2 x3 x4^4', 'x0^4 x2 x3 x4^3 x5', 'x0^4 x2 x3 x4^2 x5^2', 'x0^4 x2 x3 x4 x5^3', 'x0^4 x2 x3 x5^4', 'x0^4 x2 x4^5', 'x0^4 x2 x4^4 x5', 'x0^4 x2 x4^3 x5^2', 'x0^4 x2 x4^2 x5^3', 'x0^4 x2 x4 x5^4', 'x0^4 x2 x5^5', 'x0^4 x3^6', 'x0^4 x3^5 x4', 'x0^4 x3^5 x5', 'x0^4 x3^4 x4^2', 'x0^4 x3^4 x4 x5', 'x0^4 x3^4 x5^2', 'x0^4 x3^3 x4^3', 'x0^4 x3^3 x4^2 x5', 'x0^4 x3^3 x4 x5^2', 'x0^4 x3^3 x5^3', 'x0^4 x3^2 x4^4', 'x0^4 x3^2 x4^3 x5', 'x0^4 x3^2 x4^2 x5^2', 'x0^4 x3^2 x4 x5^3', 'x0^4 x3^2 x5^4', 'x0^4 x3 x4^5', 'x0^4 x3 x4^4 x5', 'x0^4 x3 x4^3 x5^2', 'x0^4 x3 x4^2 x5^3', 'x0^4 x3 x4 x5^4', 'x0^4 x3 x5^5', 'x0^4 x4^6', 'x0^4 x4^5 x5', 'x0^4 x4^4 x5^2', 'x0^4 x4^3 x5^3', 'x0^4 x4^2 x5^4', 'x0^4 x4 x5^5', 'x0^4 x5^6', 'x0^3 x1^7', 'x0^3 x1^6 x2', 'x0^3 x1^6 x3', 'x0^3 x1^6 x4', 'x0^3 x1^6 x5', 'x0^3 x1^5 x2^2', 'x0^3 x1^5 x2 x3', 'x0^3 x1^5 x2 x4', 'x0^3 x1^5 x2 x5', 'x0^3 x1^5 x3^2', 'x0^3 x1^5 x3 x4', 'x0^3 x1^5 x3 x5', 'x0^3 x1^5 x4^2', 'x0^3 x1^5 x4 x5', 'x0^3 x1^5 x5^2', 'x0^3 x1^4 x2^3', 'x0^3 x1^4 x2^2 x3', 'x0^3 x1^4 x2^2 x4', 'x0^3 x1^4 x2^2 x5', 'x0^3 x1^4 x2 x3^2', 'x0^3 x1^4 x2 x3 x4', 'x0^3 x1^4 x2 x3 x5', 'x0^3 x1^4 x2 x4^2', 'x0^3 x1^4 x2 x4 x5', 'x0^3 x1^4 x2 x5^2', 'x0^3 x1^4 x3^3', 'x0^3 x1^4 x3^2 x4', 'x0^3 x1^4 x3^2 x5', 'x0^3 x1^4 x3 x4^2', 'x0^3 x1^4 x3 x4 x5', 'x0^3 x1^4 x3 x5^2', 'x0^3 x1^4 x4^3', 'x0^3 x1^4 x4^2 x5', 'x0^3 x1^4 x4 x5^2', 'x0^3 x1^4 x5^3', 'x0^3 x1^3 x2^4', 'x0^3 x1^3 x2^3 x3', 'x0^3 x1^3 x2^3 x4', 'x0^3 x1^3 x2^3 x5', 'x0^3 x1^3 x2^2 x3^2', 'x0^3 x1^3 x2^2 x3 x4', 'x0^3 x1^3 x2^2 x3 x5', 'x0^3 x1^3 x2^2 x4^2', 'x0^3 x1^3 x2^2 x4 x5', 'x0^3 x1^3 x2^2 x5^2', 'x0^3 x1^3 x2 x3^3', 'x0^3 x1^3 x2 x3^2 x4', 'x0^3 x1^3 x2 x3^2 x5', 'x0^3 x1^3 x2 x3 x4^2', 'x0^3 x1^3 x2 x3 x4 x5', 'x0^3 x1^3 x2 x3 x5^2', 'x0^3 x1^3 x2 x4^3', 'x0^3 x1^3 x2 x4^2 x5', 'x0^3 x1^3 x2 x4 x5^2', 'x0^3 x1^3 x2 x5^3', 'x0^3 x1^3 x3^4', 'x0^3 x1^3 x3^3 x4', 'x0^3 x1^3 x3^3 x5', 'x0^3 x1^3 x3^2 x4^2', 'x0^3 x1^3 x3^2 x4 x5', 'x0^3 x1^3 x3^2 x5^2', 'x0^3 x1^3 x3 x4^3', 'x0^3 x1^3 x3 x4^2 x5', 'x0^3 x1^3 x3 x4 x5^2', 'x0^3 x1^3 x3 x5^3', 'x0^3 x1^3 x4^4', 'x0^3 x1^3 x4^3 x5', 'x0^3 x1^3 x4^2 x5^2', 'x0^3 x1^3 x4 x5^3', 'x0^3 x1^3 x5^4', 'x0^3 x1^2 x2^5', 'x0^3 x1^2 x2^4 x3', 'x0^3 x1^2 x2^4 x4', 'x0^3 x1^2 x2^4 x5', 'x0^3 x1^2 x2^3 x3^2', 'x0^3 x1^2 x2^3 x3 x4', 'x0^3 x1^2 x2^3 x3 x5', 'x0^3 x1^2 x2^3 x4^2', 'x0^3 x1^2 x2^3 x4 x5', 'x0^3 x1^2 x2^3 x5^2', 'x0^3 x1^2 x2^2 x3^3', 'x0^3 x1^2 x2^2 x3^2 x4', 'x0^3 x1^2 x2^2 x3^2 x5', 'x0^3 x1^2 x2^2 x3 x4^2', 'x0^3 x1^2 x2^2 x3 x4 x5', 'x0^3 x1^2 x2^2 x3 x5^2', 'x0^3 x1^2 x2^2 x4^3', 'x0^3 x1^2 x2^2 x4^2 x5', 'x0^3 x1^2 x2^2 x4 x5^2', 'x0^3 x1^2 x2^2 x5^3', 'x0^3 x1^2 x2 x3^4', 'x0^3 x1^2 x2 x3^3 x4', 'x0^3 x1^2 x2 x3^3 x5', 'x0^3 x1^2 x2 x3^2 x4^2', 'x0^3 x1^2 x2 x3^2 x4 x5', 'x0^3 x1^2 x2 x3^2 x5^2', 'x0^3 x1^2 x2 x3 x4^3', 'x0^3 x1^2 x2 x3 x4^2 x5', 'x0^3 x1^2 x2 x3 x4 x5^2', 'x0^3 x1^2 x2 x3 x5^3', 'x0^3 x1^2 x2 x4^4', 'x0^3 x1^2 x2 x4^3 x5', 'x0^3 x1^2 x2 x4^2 x5^2', 'x0^3 x1^2 x2 x4 x5^3', 'x0^3 x1^2 x2 x5^4', 'x0^3 x1^2 x3^5', 'x0^3 x1^2 x3^4 x4', 'x0^3 x1^2 x3^4 x5', 'x0^3 x1^2 x3^3 x4^2', 'x0^3 x1^2 x3^3 x4 x5', 'x0^3 x1^2 x3^3 x5^2', 'x0^3 x1^2 x3^2 x4^3', 'x0^3 x1^2 x3^2 x4^2 x5', 'x0^3 x1^2 x3^2 x4 x5^2', 'x0^3 x1^2 x3^2 x5^3', 'x0^3 x1^2 x3 x4^4', 'x0^3 x1^2 x3 x4^3 x5', 'x0^3 x1^2 x3 x4^2 x5^2', 'x0^3 x1^2 x3 x4 x5^3', 'x0^3 x1^2 x3 x5^4', 'x0^3 x1^2 x4^5', 'x0^3 x1^2 x4^4 x5', 'x0^3 x1^2 x4^3 x5^2', 'x0^3 x1^2 x4^2 x5^3', 'x0^3 x1^2 x4 x5^4', 'x0^3 x1^2 x5^5', 'x0^3 x1 x2^6', 'x0^3 x1 x2^5 x3', 'x0^3 x1 x2^5 x4', 'x0^3 x1 x2^5 x5', 'x0^3 x1 x2^4 x3^2', 'x0^3 x1 x2^4 x3 x4', 'x0^3 x1 x2^4 x3 x5', 'x0^3 x1 x2^4 x4^2', 'x0^3 x1 x2^4 x4 x5', 'x0^3 x1 x2^4 x5^2', 'x0^3 x1 x2^3 x3^3', 'x0^3 x1 x2^3 x3^2 x4', 'x0^3 x1 x2^3 x3^2 x5', 'x0^3 x1 x2^3 x3 x4^2', 'x0^3 x1 x2^3 x3 x4 x5', 'x0^3 x1 x2^3 x3 x5^2', 'x0^3 x1 x2^3 x4^3', 'x0^3 x1 x2^3 x4^2 x5', 'x0^3 x1 x2^3 x4 x5^2', 'x0^3 x1 x2^3 x5^3', 'x0^3 x1 x2^2 x3^4', 'x0^3 x1 x2^2 x3^3 x4', 'x0^3 x1 x2^2 x3^3 x5', 'x0^3 x1 x2^2 x3^2 x4^2', 'x0^3 x1 x2^2 x3^2 x4 x5', 'x0^3 x1 x2^2 x3^2 x5^2', 'x0^3 x1 x2^2 x3 x4^3', 'x0^3 x1 x2^2 x3 x4^2 x5', 'x0^3 x1 x2^2 x3 x4 x5^2', 'x0^3 x1 x2^2 x3 x5^3', 'x0^3 x1 x2^2 x4^4', 'x0^3 x1 x2^2 x4^3 x5', 'x0^3 x1 x2^2 x4^2 x5^2', 'x0^3 x1 x2^2 x4 x5^3', 'x0^3 x1 x2^2 x5^4', 'x0^3 x1 x2 x3^5', 'x0^3 x1 x2 x3^4 x4', 'x0^3 x1 x2 x3^4 x5', 'x0^3 x1 x2 x3^3 x4^2', 'x0^3 x1 x2 x3^3 x4 x5', 'x0^3 x1 x2 x3^3 x5^2', 'x0^3 x1 x2 x3^2 x4^3', 'x0^3 x1 x2 x3^2 x4^2 x5', 'x0^3 x1 x2 x3^2 x4 x5^2', 'x0^3 x1 x2 x3^2 x5^3', 'x0^3 x1 x2 x3 x4^4', 'x0^3 x1 x2 x3 x4^3 x5', 'x0^3 x1 x2 x3 x4^2 x5^2', 'x0^3 x1 x2 x3 x4 x5^3', 'x0^3 x1 x2 x3 x5^4', 'x0^3 x1 x2 x4^5', 'x0^3 x1 x2 x4^4 x5', 'x0^3 x1 x2 x4^3 x5^2', 'x0^3 x1 x2 x4^2 x5^3', 'x0^3 x1 x2 x4 x5^4', 'x0^3 x1 x2 x5^5', 'x0^3 x1 x3^6', 'x0^3 x1 x3^5 x4', 'x0^3 x1 x3^5 x5', 'x0^3 x1 x3^4 x4^2', 'x0^3 x1 x3^4 x4 x5', 'x0^3 x1 x3^4 x5^2', 'x0^3 x1 x3^3 x4^3', 'x0^3 x1 x3^3 x4^2 x5', 'x0^3 x1 x3^3 x4 x5^2', 'x0^3 x1 x3^3 x5^3', 'x0^3 x1 x3^2 x4^4', 'x0^3 x1 x3^2 x4^3 x5', 'x0^3 x1 x3^2 x4^2 x5^2', 'x0^3 x1 x3^2 x4 x5^3', 'x0^3 x1 x3^2 x5^4', 'x0^3 x1 x3 x4^5', 'x0^3 x1 x3 x4^4 x5', 'x0^3 x1 x3 x4^3 x5^2', 'x0^3 x1 x3 x4^2 x5^3', 'x0^3 x1 x3 x4 x5^4', 'x0^3 x1 x3 x5^5', 'x0^3 x1 x4^6', 'x0^3 x1 x4^5 x5', 'x0^3 x1 x4^4 x5^2', 'x0^3 x1 x4^3 x5^3', 'x0^3 x1 x4^2 x5^4', 'x0^3 x1 x4 x5^5', 'x0^3 x1 x5^6', 'x0^3 x2^7', 'x0^3 x2^6 x3', 'x0^3 x2^6 x4', 'x0^3 x2^6 x5', 'x0^3 x2^5 x3^2', 'x0^3 x2^5 x3 x4', 'x0^3 x2^5 x3 x5', 'x0^3 x2^5 x4^2', 'x0^3 x2^5 x4 x5', 'x0^3 x2^5 x5^2', 'x0^3 x2^4 x3^3', 'x0^3 x2^4 x3^2 x4', 'x0^3 x2^4 x3^2 x5', 'x0^3 x2^4 x3 x4^2', 'x0^3 x2^4 x3 x4 x5', 'x0^3 x2^4 x3 x5^2', 'x0^3 x2^4 x4^3', 'x0^3 x2^4 x4^2 x5', 'x0^3 x2^4 x4 x5^2', 'x0^3 x2^4 x5^3', 'x0^3 x2^3 x3^4', 'x0^3 x2^3 x3^3 x4', 'x0^3 x2^3 x3^3 x5', 'x0^3 x2^3 x3^2 x4^2', 'x0^3 x2^3 x3^2 x4 x5', 'x0^3 x2^3 x3^2 x5^2', 'x0^3 x2^3 x3 x4^3', 'x0^3 x2^3 x3 x4^2 x5', 'x0^3 x2^3 x3 x4 x5^2', 'x0^3 x2^3 x3 x5^3', 'x0^3 x2^3 x4^4', 'x0^3 x2^3 x4^3 x5', 'x0^3 x2^3 x4^2 x5^2', 'x0^3 x2^3 x4 x5^3', 'x0^3 x2^3 x5^4', 'x0^3 x2^2 x3^5', 'x0^3 x2^2 x3^4 x4', 'x0^3 x2^2 x3^4 x5', 'x0^3 x2^2 x3^3 x4^2', 'x0^3 x2^2 x3^3 x4 x5', 'x0^3 x2^2 x3^3 x5^2', 'x0^3 x2^2 x3^2 x4^3', 'x0^3 x2^2 x3^2 x4^2 x5', 'x0^3 x2^2 x3^2 x4 x5^2', 'x0^3 x2^2 x3^2 x5^3', 'x0^3 x2^2 x3 x4^4', 'x0^3 x2^2 x3 x4^3 x5', 'x0^3 x2^2 x3 x4^2 x5^2', 'x0^3 x2^2 x3 x4 x5^3', 'x0^3 x2^2 x3 x5^4', 'x0^3 x2^2 x4^5', 'x0^3 x2^2 x4^4 x5', 'x0^3 x2^2 x4^3 x5^2', 'x0^3 x2^2 x4^2 x5^3', 'x0^3 x2^2 x4 x5^4', 'x0^3 x2^2 x5^5', 'x0^3 x2 x3^6', 'x0^3 x2 x3^5 x4', 'x0^3 x2 x3^5 x5', 'x0^3 x2 x3^4 x4^2', 'x0^3 x2 x3^4 x4 x5', 'x0^3 x2 x3^4 x5^2', 'x0^3 x2 x3^3 x4^3', 'x0^3 x2 x3^3 x4^2 x5', 'x0^3 x2 x3^3 x4 x5^2', 'x0^3 x2 x3^3 x5^3', 'x0^3 x2 x3^2 x4^4', 'x0^3 x2 x3^2 x4^3 x5', 'x0^3 x2 x3^2 x4^2 x5^2', 'x0^3 x2 x3^2 x4 x5^3', 'x0^3 x2 x3^2 x5^4', 'x0^3 x2 x3 x4^5', 'x0^3 x2 x3 x4^4 x5', 'x0^3 x2 x3 x4^3 x5^2', 'x0^3 x2 x3 x4^2 x5^3', 'x0^3 x2 x3 x4 x5^4', 'x0^3 x2 x3 x5^5', 'x0^3 x2 x4^6', 'x0^3 x2 x4^5 x5', 'x0^3 x2 x4^4 x5^2', 'x0^3 x2 x4^3 x5^3', 'x0^3 x2 x4^2 x5^4', 'x0^3 x2 x4 x5^5', 'x0^3 x2 x5^6', 'x0^3 x3^7', 'x0^3 x3^6 x4', 'x0^3 x3^6 x5', 'x0^3 x3^5 x4^2', 'x0^3 x3^5 x4 x5', 'x0^3 x3^5 x5^2', 'x0^3 x3^4 x4^3', 'x0^3 x3^4 x4^2 x5', 'x0^3 x3^4 x4 x5^2', 'x0^3 x3^4 x5^3', 'x0^3 x3^3 x4^4', 'x0^3 x3^3 x4^3 x5', 'x0^3 x3^3 x4^2 x5^2', 'x0^3 x3^3 x4 x5^3', 'x0^3 x3^3 x5^4', 'x0^3 x3^2 x4^5', 'x0^3 x3^2 x4^4 x5', 'x0^3 x3^2 x4^3 x5^2', 'x0^3 x3^2 x4^2 x5^3', 'x0^3 x3^2 x4 x5^4', 'x0^3 x3^2 x5^5', 'x0^3 x3 x4^6', 'x0^3 x3 x4^5 x5', 'x0^3 x3 x4^4 x5^2', 'x0^3 x3 x4^3 x5^3', 'x0^3 x3 x4^2 x5^4', 'x0^3 x3 x4 x5^5', 'x0^3 x3 x5^6', 'x0^3 x4^7', 'x0^3 x4^6 x5', 'x0^3 x4^5 x5^2', 'x0^3 x4^4 x5^3', 'x0^3 x4^3 x5^4', 'x0^3 x4^2 x5^5', 'x0^3 x4 x5^6', 'x0^3 x5^7', 'x0^2 x1^8', 'x0^2 x1^7 x2', 'x0^2 x1^7 x3', 'x0^2 x1^7 x4', 'x0^2 x1^7 x5', 'x0^2 x1^6 x2^2', 'x0^2 x1^6 x2 x3', 'x0^2 x1^6 x2 x4', 'x0^2 x1^6 x2 x5', 'x0^2 x1^6 x3^2', 'x0^2 x1^6 x3 x4', 'x0^2 x1^6 x3 x5', 'x0^2 x1^6 x4^2', 'x0^2 x1^6 x4 x5', 'x0^2 x1^6 x5^2', 'x0^2 x1^5 x2^3', 'x0^2 x1^5 x2^2 x3', 'x0^2 x1^5 x2^2 x4', 'x0^2 x1^5 x2^2 x5', 'x0^2 x1^5 x2 x3^2', 'x0^2 x1^5 x2 x3 x4', 'x0^2 x1^5 x2 x3 x5', 'x0^2 x1^5 x2 x4^2', 'x0^2 x1^5 x2 x4 x5', 'x0^2 x1^5 x2 x5^2', 'x0^2 x1^5 x3^3', 'x0^2 x1^5 x3^2 x4', 'x0^2 x1^5 x3^2 x5', 'x0^2 x1^5 x3 x4^2', 'x0^2 x1^5 x3 x4 x5', 'x0^2 x1^5 x3 x5^2', 'x0^2 x1^5 x4^3', 'x0^2 x1^5 x4^2 x5', 'x0^2 x1^5 x4 x5^2', 'x0^2 x1^5 x5^3', 'x0^2 x1^4 x2^4', 'x0^2 x1^4 x2^3 x3', 'x0^2 x1^4 x2^3 x4', 'x0^2 x1^4 x2^3 x5', 'x0^2 x1^4 x2^2 x3^2', 'x0^2 x1^4 x2^2 x3 x4', 'x0^2 x1^4 x2^2 x3 x5', 'x0^2 x1^4 x2^2 x4^2', 'x0^2 x1^4 x2^2 x4 x5', 'x0^2 x1^4 x2^2 x5^2', 'x0^2 x1^4 x2 x3^3', 'x0^2 x1^4 x2 x3^2 x4', 'x0^2 x1^4 x2 x3^2 x5', 'x0^2 x1^4 x2 x3 x4^2', 'x0^2 x1^4 x2 x3 x4 x5', 'x0^2 x1^4 x2 x3 x5^2', 'x0^2 x1^4 x2 x4^3', 'x0^2 x1^4 x2 x4^2 x5', 'x0^2 x1^4 x2 x4 x5^2', 'x0^2 x1^4 x2 x5^3', 'x0^2 x1^4 x3^4', 'x0^2 x1^4 x3^3 x4', 'x0^2 x1^4 x3^3 x5', 'x0^2 x1^4 x3^2 x4^2', 'x0^2 x1^4 x3^2 x4 x5', 'x0^2 x1^4 x3^2 x5^2', 'x0^2 x1^4 x3 x4^3', 'x0^2 x1^4 x3 x4^2 x5', 'x0^2 x1^4 x3 x4 x5^2', 'x0^2 x1^4 x3 x5^3', 'x0^2 x1^4 x4^4', 'x0^2 x1^4 x4^3 x5', 'x0^2 x1^4 x4^2 x5^2', 'x0^2 x1^4 x4 x5^3', 'x0^2 x1^4 x5^4', 'x0^2 x1^3 x2^5', 'x0^2 x1^3 x2^4 x3', 'x0^2 x1^3 x2^4 x4', 'x0^2 x1^3 x2^4 x5', 'x0^2 x1^3 x2^3 x3^2', 'x0^2 x1^3 x2^3 x3 x4', 'x0^2 x1^3 x2^3 x3 x5', 'x0^2 x1^3 x2^3 x4^2', 'x0^2 x1^3 x2^3 x4 x5', 'x0^2 x1^3 x2^3 x5^2', 'x0^2 x1^3 x2^2 x3^3', 'x0^2 x1^3 x2^2 x3^2 x4', 'x0^2 x1^3 x2^2 x3^2 x5', 'x0^2 x1^3 x2^2 x3 x4^2', 'x0^2 x1^3 x2^2 x3 x4 x5', 'x0^2 x1^3 x2^2 x3 x5^2', 'x0^2 x1^3 x2^2 x4^3', 'x0^2 x1^3 x2^2 x4^2 x5', 'x0^2 x1^3 x2^2 x4 x5^2', 'x0^2 x1^3 x2^2 x5^3', 'x0^2 x1^3 x2 x3^4', 'x0^2 x1^3 x2 x3^3 x4', 'x0^2 x1^3 x2 x3^3 x5', 'x0^2 x1^3 x2 x3^2 x4^2', 'x0^2 x1^3 x2 x3^2 x4 x5', 'x0^2 x1^3 x2 x3^2 x5^2', 'x0^2 x1^3 x2 x3 x4^3', 'x0^2 x1^3 x2 x3 x4^2 x5', 'x0^2 x1^3 x2 x3 x4 x5^2', 'x0^2 x1^3 x2 x3 x5^3', 'x0^2 x1^3 x2 x4^4', 'x0^2 x1^3 x2 x4^3 x5', 'x0^2 x1^3 x2 x4^2 x5^2', 'x0^2 x1^3 x2 x4 x5^3', 'x0^2 x1^3 x2 x5^4', 'x0^2 x1^3 x3^5', 'x0^2 x1^3 x3^4 x4', 'x0^2 x1^3 x3^4 x5', 'x0^2 x1^3 x3^3 x4^2', 'x0^2 x1^3 x3^3 x4 x5', 'x0^2 x1^3 x3^3 x5^2', 'x0^2 x1^3 x3^2 x4^3', 'x0^2 x1^3 x3^2 x4^2 x5', 'x0^2 x1^3 x3^2 x4 x5^2', 'x0^2 x1^3 x3^2 x5^3', 'x0^2 x1^3 x3 x4^4', 'x0^2 x1^3 x3 x4^3 x5', 'x0^2 x1^3 x3 x4^2 x5^2', 'x0^2 x1^3 x3 x4 x5^3', 'x0^2 x1^3 x3 x5^4', 'x0^2 x1^3 x4^5', 'x0^2 x1^3 x4^4 x5', 'x0^2 x1^3 x4^3 x5^2', 'x0^2 x1^3 x4^2 x5^3', 'x0^2 x1^3 x4 x5^4', 'x0^2 x1^3 x5^5', 'x0^2 x1^2 x2^6', 'x0^2 x1^2 x2^5 x3', 'x0^2 x1^2 x2^5 x4', 'x0^2 x1^2 x2^5 x5', 'x0^2 x1^2 x2^4 x3^2', 'x0^2 x1^2 x2^4 x3 x4', 'x0^2 x1^2 x2^4 x3 x5', 'x0^2 x1^2 x2^4 x4^2', 'x0^2 x1^2 x2^4 x4 x5', 'x0^2 x1^2 x2^4 x5^2', 'x0^2 x1^2 x2^3 x3^3', 'x0^2 x1^2 x2^3 x3^2 x4', 'x0^2 x1^2 x2^3 x3^2 x5', 'x0^2 x1^2 x2^3 x3 x4^2', 'x0^2 x1^2 x2^3 x3 x4 x5', 'x0^2 x1^2 x2^3 x3 x5^2', 'x0^2 x1^2 x2^3 x4^3', 'x0^2 x1^2 x2^3 x4^2 x5', 'x0^2 x1^2 x2^3 x4 x5^2', 'x0^2 x1^2 x2^3 x5^3', 'x0^2 x1^2 x2^2 x3^4', 'x0^2 x1^2 x2^2 x3^3 x4', 'x0^2 x1^2 x2^2 x3^3 x5', 'x0^2 x1^2 x2^2 x3^2 x4^2', 'x0^2 x1^2 x2^2 x3^2 x4 x5', 'x0^2 x1^2 x2^2 x3^2 x5^2', 'x0^2 x1^2 x2^2 x3 x4^3', 'x0^2 x1^2 x2^2 x3 x4^2 x5', 'x0^2 x1^2 x2^2 x3 x4 x5^2', 'x0^2 x1^2 x2^2 x3 x5^3', 'x0^2 x1^2 x2^2 x4^4', 'x0^2 x1^2 x2^2 x4^3 x5', 'x0^2 x1^2 x2^2 x4^2 x5^2', 'x0^2 x1^2 x2^2 x4 x5^3', 'x0^2 x1^2 x2^2 x5^4', 'x0^2 x1^2 x2 x3^5', 'x0^2 x1^2 x2 x3^4 x4', 'x0^2 x1^2 x2 x3^4 x5', 'x0^2 x1^2 x2 x3^3 x4^2', 'x0^2 x1^2 x2 x3^3 x4 x5', 'x0^2 x1^2 x2 x3^3 x5^2', 'x0^2 x1^2 x2 x3^2 x4^3', 'x0^2 x1^2 x2 x3^2 x4^2 x5', 'x0^2 x1^2 x2 x3^2 x4 x5^2', 'x0^2 x1^2 x2 x3^2 x5^3', 'x0^2 x1^2 x2 x3 x4^4', 'x0^2 x1^2 x2 x3 x4^3 x5', 'x0^2 x1^2 x2 x3 x4^2 x5^2', 'x0^2 x1^2 x2 x3 x4 x5^3', 'x0^2 x1^2 x2 x3 x5^4', 'x0^2 x1^2 x2 x4^5', 'x0^2 x1^2 x2 x4^4 x5', 'x0^2 x1^2 x2 x4^3 x5^2', 'x0^2 x1^2 x2 x4^2 x5^3', 'x0^2 x1^2 x2 x4 x5^4', 'x0^2 x1^2 x2 x5^5', 'x0^2 x1^2 x3^6', 'x0^2 x1^2 x3^5 x4', 'x0^2 x1^2 x3^5 x5', 'x0^2 x1^2 x3^4 x4^2', 'x0^2 x1^2 x3^4 x4 x5', 'x0^2 x1^2 x3^4 x5^2', 'x0^2 x1^2 x3^3 x4^3', 'x0^2 x1^2 x3^3 x4^2 x5', 'x0^2 x1^2 x3^3 x4 x5^2', 'x0^2 x1^2 x3^3 x5^3', 'x0^2 x1^2 x3^2 x4^4', 'x0^2 x1^2 x3^2 x4^3 x5', 'x0^2 x1^2 x3^2 x4^2 x5^2', 'x0^2 x1^2 x3^2 x4 x5^3', 'x0^2 x1^2 x3^2 x5^4', 'x0^2 x1^2 x3 x4^5', 'x0^2 x1^2 x3 x4^4 x5', 'x0^2 x1^2 x3 x4^3 x5^2', 'x0^2 x1^2 x3 x4^2 x5^3', 'x0^2 x1^2 x3 x4 x5^4', 'x0^2 x1^2 x3 x5^5', 'x0^2 x1^2 x4^6', 'x0^2 x1^2 x4^5 x5', 'x0^2 x1^2 x4^4 x5^2', 'x0^2 x1^2 x4^3 x5^3', 'x0^2 x1^2 x4^2 x5^4', 'x0^2 x1^2 x4 x5^5', 'x0^2 x1^2 x5^6', 'x0^2 x1 x2^7', 'x0^2 x1 x2^6 x3', 'x0^2 x1 x2^6 x4', 'x0^2 x1 x2^6 x5', 'x0^2 x1 x2^5 x3^2', 'x0^2 x1 x2^5 x3 x4', 'x0^2 x1 x2^5 x3 x5', 'x0^2 x1 x2^5 x4^2', 'x0^2 x1 x2^5 x4 x5', 'x0^2 x1 x2^5 x5^2', 'x0^2 x1 x2^4 x3^3', 'x0^2 x1 x2^4 x3^2 x4', 'x0^2 x1 x2^4 x3^2 x5', 'x0^2 x1 x2^4 x3 x4^2', 'x0^2 x1 x2^4 x3 x4 x5', 'x0^2 x1 x2^4 x3 x5^2', 'x0^2 x1 x2^4 x4^3', 'x0^2 x1 x2^4 x4^2 x5', 'x0^2 x1 x2^4 x4 x5^2', 'x0^2 x1 x2^4 x5^3', 'x0^2 x1 x2^3 x3^4', 'x0^2 x1 x2^3 x3^3 x4', 'x0^2 x1 x2^3 x3^3 x5', 'x0^2 x1 x2^3 x3^2 x4^2', 'x0^2 x1 x2^3 x3^2 x4 x5', 'x0^2 x1 x2^3 x3^2 x5^2', 'x0^2 x1 x2^3 x3 x4^3', 'x0^2 x1 x2^3 x3 x4^2 x5', 'x0^2 x1 x2^3 x3 x4 x5^2', 'x0^2 x1 x2^3 x3 x5^3', 'x0^2 x1 x2^3 x4^4', 'x0^2 x1 x2^3 x4^3 x5', 'x0^2 x1 x2^3 x4^2 x5^2', 'x0^2 x1 x2^3 x4 x5^3', 'x0^2 x1 x2^3 x5^4', 'x0^2 x1 x2^2 x3^5', 'x0^2 x1 x2^2 x3^4 x4', 'x0^2 x1 x2^2 x3^4 x5', 'x0^2 x1 x2^2 x3^3 x4^2', 'x0^2 x1 x2^2 x3^3 x4 x5', 'x0^2 x1 x2^2 x3^3 x5^2', 'x0^2 x1 x2^2 x3^2 x4^3', 'x0^2 x1 x2^2 x3^2 x4^2 x5', 'x0^2 x1 x2^2 x3^2 x4 x5^2', 'x0^2 x1 x2^2 x3^2 x5^3', 'x0^2 x1 x2^2 x3 x4^4', 'x0^2 x1 x2^2 x3 x4^3 x5', 'x0^2 x1 x2^2 x3 x4^2 x5^2', 'x0^2 x1 x2^2 x3 x4 x5^3', 'x0^2 x1 x2^2 x3 x5^4', 'x0^2 x1 x2^2 x4^5', 'x0^2 x1 x2^2 x4^4 x5', 'x0^2 x1 x2^2 x4^3 x5^2', 'x0^2 x1 x2^2 x4^2 x5^3', 'x0^2 x1 x2^2 x4 x5^4', 'x0^2 x1 x2^2 x5^5', 'x0^2 x1 x2 x3^6', 'x0^2 x1 x2 x3^5 x4', 'x0^2 x1 x2 x3^5 x5', 'x0^2 x1 x2 x3^4 x4^2', 'x0^2 x1 x2 x3^4 x4 x5', 'x0^2 x1 x2 x3^4 x5^2', 'x0^2 x1 x2 x3^3 x4^3', 'x0^2 x1 x2 x3^3 x4^2 x5', 'x0^2 x1 x2 x3^3 x4 x5^2', 'x0^2 x1 x2 x3^3 x5^3', 'x0^2 x1 x2 x3^2 x4^4', 'x0^2 x1 x2 x3^2 x4^3 x5', 'x0^2 x1 x2 x3^2 x4^2 x5^2', 'x0^2 x1 x2 x3^2 x4 x5^3', 'x0^2 x1 x2 x3^2 x5^4', 'x0^2 x1 x2 x3 x4^5', 'x0^2 x1 x2 x3 x4^4 x5', 'x0^2 x1 x2 x3 x4^3 x5^2', 'x0^2 x1 x2 x3 x4^2 x5^3', 'x0^2 x1 x2 x3 x4 x5^4', 'x0^2 x1 x2 x3 x5^5', 'x0^2 x1 x2 x4^6', 'x0^2 x1 x2 x4^5 x5', 'x0^2 x1 x2 x4^4 x5^2', 'x0^2 x1 x2 x4^3 x5^3', 'x0^2 x1 x2 x4^2 x5^4', 'x0^2 x1 x2 x4 x5^5', 'x0^2 x1 x2 x5^6', 'x0^2 x1 x3^7', 'x0^2 x1 x3^6 x4', 'x0^2 x1 x3^6 x5', 'x0^2 x1 x3^5 x4^2', 'x0^2 x1 x3^5 x4 x5', 'x0^2 x1 x3^5 x5^2', 'x0^2 x1 x3^4 x4^3', 'x0^2 x1 x3^4 x4^2 x5', 'x0^2 x1 x3^4 x4 x5^2', 'x0^2 x1 x3^4 x5^3', 'x0^2 x1 x3^3 x4^4', 'x0^2 x1 x3^3 x4^3 x5', 'x0^2 x1 x3^3 x4^2 x5^2', 'x0^2 x1 x3^3 x4 x5^3', 'x0^2 x1 x3^3 x5^4', 'x0^2 x1 x3^2 x4^5', 'x0^2 x1 x3^2 x4^4 x5', 'x0^2 x1 x3^2 x4^3 x5^2', 'x0^2 x1 x3^2 x4^2 x5^3', 'x0^2 x1 x3^2 x4 x5^4', 'x0^2 x1 x3^2 x5^5', 'x0^2 x1 x3 x4^6', 'x0^2 x1 x3 x4^5 x5', 'x0^2 x1 x3 x4^4 x5^2', 'x0^2 x1 x3 x4^3 x5^3', 'x0^2 x1 x3 x4^2 x5^4', 'x0^2 x1 x3 x4 x5^5', 'x0^2 x1 x3 x5^6', 'x0^2 x1 x4^7', 'x0^2 x1 x4^6 x5', 'x0^2 x1 x4^5 x5^2', 'x0^2 x1 x4^4 x5^3', 'x0^2 x1 x4^3 x5^4', 'x0^2 x1 x4^2 x5^5', 'x0^2 x1 x4 x5^6', 'x0^2 x1 x5^7', 'x0^2 x2^8', 'x0^2 x2^7 x3', 'x0^2 x2^7 x4', 'x0^2 x2^7 x5', 'x0^2 x2^6 x3^2', 'x0^2 x2^6 x3 x4', 'x0^2 x2^6 x3 x5', 'x0^2 x2^6 x4^2', 'x0^2 x2^6 x4 x5', 'x0^2 x2^6 x5^2', 'x0^2 x2^5 x3^3', 'x0^2 x2^5 x3^2 x4', 'x0^2 x2^5 x3^2 x5', 'x0^2 x2^5 x3 x4^2', 'x0^2 x2^5 x3 x4 x5', 'x0^2 x2^5 x3 x5^2', 'x0^2 x2^5 x4^3', 'x0^2 x2^5 x4^2 x5', 'x0^2 x2^5 x4 x5^2', 'x0^2 x2^5 x5^3', 'x0^2 x2^4 x3^4', 'x0^2 x2^4 x3^3 x4', 'x0^2 x2^4 x3^3 x5', 'x0^2 x2^4 x3^2 x4^2', 'x0^2 x2^4 x3^2 x4 x5', 'x0^2 x2^4 x3^2 x5^2', 'x0^2 x2^4 x3 x4^3', 'x0^2 x2^4 x3 x4^2 x5', 'x0^2 x2^4 x3 x4 x5^2', 'x0^2 x2^4 x3 x5^3', 'x0^2 x2^4 x4^4', 'x0^2 x2^4 x4^3 x5', 'x0^2 x2^4 x4^2 x5^2', 'x0^2 x2^4 x4 x5^3', 'x0^2 x2^4 x5^4', 'x0^2 x2^3 x3^5', 'x0^2 x2^3 x3^4 x4', 'x0^2 x2^3 x3^4 x5', 'x0^2 x2^3 x3^3 x4^2', 'x0^2 x2^3 x3^3 x4 x5', 'x0^2 x2^3 x3^3 x5^2', 'x0^2 x2^3 x3^2 x4^3', 'x0^2 x2^3 x3^2 x4^2 x5', 'x0^2 x2^3 x3^2 x4 x5^2', 'x0^2 x2^3 x3^2 x5^3', 'x0^2 x2^3 x3 x4^4', 'x0^2 x2^3 x3 x4^3 x5', 'x0^2 x2^3 x3 x4^2 x5^2', 'x0^2 x2^3 x3 x4 x5^3', 'x0^2 x2^3 x3 x5^4', 'x0^2 x2^3 x4^5', 'x0^2 x2^3 x4^4 x5', 'x0^2 x2^3 x4^3 x5^2', 'x0^2 x2^3 x4^2 x5^3', 'x0^2 x2^3 x4 x5^4', 'x0^2 x2^3 x5^5', 'x0^2 x2^2 x3^6', 'x0^2 x2^2 x3^5 x4', 'x0^2 x2^2 x3^5 x5', 'x0^2 x2^2 x3^4 x4^2', 'x0^2 x2^2 x3^4 x4 x5', 'x0^2 x2^2 x3^4 x5^2', 'x0^2 x2^2 x3^3 x4^3', 'x0^2 x2^2 x3^3 x4^2 x5', 'x0^2 x2^2 x3^3 x4 x5^2', 'x0^2 x2^2 x3^3 x5^3', 'x0^2 x2^2 x3^2 x4^4', 'x0^2 x2^2 x3^2 x4^3 x5', 'x0^2 x2^2 x3^2 x4^2 x5^2', 'x0^2 x2^2 x3^2 x4 x5^3', 'x0^2 x2^2 x3^2 x5^4', 'x0^2 x2^2 x3 x4^5', 'x0^2 x2^2 x3 x4^4 x5', 'x0^2 x2^2 x3 x4^3 x5^2', 'x0^2 x2^2 x3 x4^2 x5^3', 'x0^2 x2^2 x3 x4 x5^4', 'x0^2 x2^2 x3 x5^5', 'x0^2 x2^2 x4^6', 'x0^2 x2^2 x4^5 x5', 'x0^2 x2^2 x4^4 x5^2', 'x0^2 x2^2 x4^3 x5^3', 'x0^2 x2^2 x4^2 x5^4', 'x0^2 x2^2 x4 x5^5', 'x0^2 x2^2 x5^6', 'x0^2 x2 x3^7', 'x0^2 x2 x3^6 x4', 'x0^2 x2 x3^6 x5', 'x0^2 x2 x3^5 x4^2', 'x0^2 x2 x3^5 x4 x5', 'x0^2 x2 x3^5 x5^2', 'x0^2 x2 x3^4 x4^3', 'x0^2 x2 x3^4 x4^2 x5', 'x0^2 x2 x3^4 x4 x5^2', 'x0^2 x2 x3^4 x5^3', 'x0^2 x2 x3^3 x4^4', 'x0^2 x2 x3^3 x4^3 x5', 'x0^2 x2 x3^3 x4^2 x5^2', 'x0^2 x2 x3^3 x4 x5^3', 'x0^2 x2 x3^3 x5^4', 'x0^2 x2 x3^2 x4^5', 'x0^2 x2 x3^2 x4^4 x5', 'x0^2 x2 x3^2 x4^3 x5^2', 'x0^2 x2 x3^2 x4^2 x5^3', 'x0^2 x2 x3^2 x4 x5^4', 'x0^2 x2 x3^2 x5^5', 'x0^2 x2 x3 x4^6', 'x0^2 x2 x3 x4^5 x5', 'x0^2 x2 x3 x4^4 x5^2', 'x0^2 x2 x3 x4^3 x5^3', 'x0^2 x2 x3 x4^2 x5^4', 'x0^2 x2 x3 x4 x5^5', 'x0^2 x2 x3 x5^6', 'x0^2 x2 x4^7', 'x0^2 x2 x4^6 x5', 'x0^2 x2 x4^5 x5^2', 'x0^2 x2 x4^4 x5^3', 'x0^2 x2 x4^3 x5^4', 'x0^2 x2 x4^2 x5^5', 'x0^2 x2 x4 x5^6', 'x0^2 x2 x5^7', 'x0^2 x3^8', 'x0^2 x3^7 x4', 'x0^2 x3^7 x5', 'x0^2 x3^6 x4^2', 'x0^2 x3^6 x4 x5', 'x0^2 x3^6 x5^2', 'x0^2 x3^5 x4^3', 'x0^2 x3^5 x4^2 x5', 'x0^2 x3^5 x4 x5^2', 'x0^2 x3^5 x5^3', 'x0^2 x3^4 x4^4', 'x0^2 x3^4 x4^3 x5', 'x0^2 x3^4 x4^2 x5^2', 'x0^2 x3^4 x4 x5^3', 'x0^2 x3^4 x5^4', 'x0^2 x3^3 x4^5', 'x0^2 x3^3 x4^4 x5', 'x0^2 x3^3 x4^3 x5^2', 'x0^2 x3^3 x4^2 x5^3', 'x0^2 x3^3 x4 x5^4', 'x0^2 x3^3 x5^5', 'x0^2 x3^2 x4^6', 'x0^2 x3^2 x4^5 x5', 'x0^2 x3^2 x4^4 x5^2', 'x0^2 x3^2 x4^3 x5^3', 'x0^2 x3^2 x4^2 x5^4', 'x0^2 x3^2 x4 x5^5', 'x0^2 x3^2 x5^6', 'x0^2 x3 x4^7', 'x0^2 x3 x4^6 x5', 'x0^2 x3 x4^5 x5^2', 'x0^2 x3 x4^4 x5^3', 'x0^2 x3 x4^3 x5^4', 'x0^2 x3 x4^2 x5^5', 'x0^2 x3 x4 x5^6', 'x0^2 x3 x5^7', 'x0^2 x4^8', 'x0^2 x4^7 x5', 'x0^2 x4^6 x5^2', 'x0^2 x4^5 x5^3', 'x0^2 x4^4 x5^4', 'x0^2 x4^3 x5^5', 'x0^2 x4^2 x5^6', 'x0^2 x4 x5^7', 'x0^2 x5^8', 'x0 x1^9', 'x0 x1^8 x2', 'x0 x1^8 x3', 'x0 x1^8 x4', 'x0 x1^8 x5', 'x0 x1^7 x2^2', 'x0 x1^7 x2 x3', 'x0 x1^7 x2 x4', 'x0 x1^7 x2 x5', 'x0 x1^7 x3^2', 'x0 x1^7 x3 x4', 'x0 x1^7 x3 x5', 'x0 x1^7 x4^2', 'x0 x1^7 x4 x5', 'x0 x1^7 x5^2', 'x0 x1^6 x2^3', 'x0 x1^6 x2^2 x3', 'x0 x1^6 x2^2 x4', 'x0 x1^6 x2^2 x5', 'x0 x1^6 x2 x3^2', 'x0 x1^6 x2 x3 x4', 'x0 x1^6 x2 x3 x5', 'x0 x1^6 x2 x4^2', 'x0 x1^6 x2 x4 x5', 'x0 x1^6 x2 x5^2', 'x0 x1^6 x3^3', 'x0 x1^6 x3^2 x4', 'x0 x1^6 x3^2 x5', 'x0 x1^6 x3 x4^2', 'x0 x1^6 x3 x4 x5', 'x0 x1^6 x3 x5^2', 'x0 x1^6 x4^3', 'x0 x1^6 x4^2 x5', 'x0 x1^6 x4 x5^2', 'x0 x1^6 x5^3', 'x0 x1^5 x2^4', 'x0 x1^5 x2^3 x3', 'x0 x1^5 x2^3 x4', 'x0 x1^5 x2^3 x5', 'x0 x1^5 x2^2 x3^2', 'x0 x1^5 x2^2 x3 x4', 'x0 x1^5 x2^2 x3 x5', 'x0 x1^5 x2^2 x4^2', 'x0 x1^5 x2^2 x4 x5', 'x0 x1^5 x2^2 x5^2', 'x0 x1^5 x2 x3^3', 'x0 x1^5 x2 x3^2 x4', 'x0 x1^5 x2 x3^2 x5', 'x0 x1^5 x2 x3 x4^2', 'x0 x1^5 x2 x3 x4 x5', 'x0 x1^5 x2 x3 x5^2', 'x0 x1^5 x2 x4^3', 'x0 x1^5 x2 x4^2 x5', 'x0 x1^5 x2 x4 x5^2', 'x0 x1^5 x2 x5^3', 'x0 x1^5 x3^4', 'x0 x1^5 x3^3 x4', 'x0 x1^5 x3^3 x5', 'x0 x1^5 x3^2 x4^2', 'x0 x1^5 x3^2 x4 x5', 'x0 x1^5 x3^2 x5^2', 'x0 x1^5 x3 x4^3', 'x0 x1^5 x3 x4^2 x5', 'x0 x1^5 x3 x4 x5^2', 'x0 x1^5 x3 x5^3', 'x0 x1^5 x4^4', 'x0 x1^5 x4^3 x5', 'x0 x1^5 x4^2 x5^2', 'x0 x1^5 x4 x5^3', 'x0 x1^5 x5^4', 'x0 x1^4 x2^5', 'x0 x1^4 x2^4 x3', 'x0 x1^4 x2^4 x4', 'x0 x1^4 x2^4 x5', 'x0 x1^4 x2^3 x3^2', 'x0 x1^4 x2^3 x3 x4', 'x0 x1^4 x2^3 x3 x5', 'x0 x1^4 x2^3 x4^2', 'x0 x1^4 x2^3 x4 x5', 'x0 x1^4 x2^3 x5^2', 'x0 x1^4 x2^2 x3^3', 'x0 x1^4 x2^2 x3^2 x4', 'x0 x1^4 x2^2 x3^2 x5', 'x0 x1^4 x2^2 x3 x4^2', 'x0 x1^4 x2^2 x3 x4 x5', 'x0 x1^4 x2^2 x3 x5^2', 'x0 x1^4 x2^2 x4^3', 'x0 x1^4 x2^2 x4^2 x5', 'x0 x1^4 x2^2 x4 x5^2', 'x0 x1^4 x2^2 x5^3', 'x0 x1^4 x2 x3^4', 'x0 x1^4 x2 x3^3 x4', 'x0 x1^4 x2 x3^3 x5', 'x0 x1^4 x2 x3^2 x4^2', 'x0 x1^4 x2 x3^2 x4 x5', 'x0 x1^4 x2 x3^2 x5^2', 'x0 x1^4 x2 x3 x4^3', 'x0 x1^4 x2 x3 x4^2 x5', 'x0 x1^4 x2 x3 x4 x5^2', 'x0 x1^4 x2 x3 x5^3', 'x0 x1^4 x2 x4^4', 'x0 x1^4 x2 x4^3 x5', 'x0 x1^4 x2 x4^2 x5^2', 'x0 x1^4 x2 x4 x5^3', 'x0 x1^4 x2 x5^4', 'x0 x1^4 x3^5', 'x0 x1^4 x3^4 x4', 'x0 x1^4 x3^4 x5', 'x0 x1^4 x3^3 x4^2', 'x0 x1^4 x3^3 x4 x5', 'x0 x1^4 x3^3 x5^2', 'x0 x1^4 x3^2 x4^3', 'x0 x1^4 x3^2 x4^2 x5', 'x0 x1^4 x3^2 x4 x5^2', 'x0 x1^4 x3^2 x5^3', 'x0 x1^4 x3 x4^4', 'x0 x1^4 x3 x4^3 x5', 'x0 x1^4 x3 x4^2 x5^2', 'x0 x1^4 x3 x4 x5^3', 'x0 x1^4 x3 x5^4', 'x0 x1^4 x4^5', 'x0 x1^4 x4^4 x5', 'x0 x1^4 x4^3 x5^2', 'x0 x1^4 x4^2 x5^3', 'x0 x1^4 x4 x5^4', 'x0 x1^4 x5^5', 'x0 x1^3 x2^6', 'x0 x1^3 x2^5 x3', 'x0 x1^3 x2^5 x4', 'x0 x1^3 x2^5 x5', 'x0 x1^3 x2^4 x3^2', 'x0 x1^3 x2^4 x3 x4', 'x0 x1^3 x2^4 x3 x5', 'x0 x1^3 x2^4 x4^2', 'x0 x1^3 x2^4 x4 x5', 'x0 x1^3 x2^4 x5^2', 'x0 x1^3 x2^3 x3^3', 'x0 x1^3 x2^3 x3^2 x4', 'x0 x1^3 x2^3 x3^2 x5', 'x0 x1^3 x2^3 x3 x4^2', 'x0 x1^3 x2^3 x3 x4 x5', 'x0 x1^3 x2^3 x3 x5^2', 'x0 x1^3 x2^3 x4^3', 'x0 x1^3 x2^3 x4^2 x5', 'x0 x1^3 x2^3 x4 x5^2', 'x0 x1^3 x2^3 x5^3', 'x0 x1^3 x2^2 x3^4', 'x0 x1^3 x2^2 x3^3 x4', 'x0 x1^3 x2^2 x3^3 x5', 'x0 x1^3 x2^2 x3^2 x4^2', 'x0 x1^3 x2^2 x3^2 x4 x5', 'x0 x1^3 x2^2 x3^2 x5^2', 'x0 x1^3 x2^2 x3 x4^3', 'x0 x1^3 x2^2 x3 x4^2 x5', 'x0 x1^3 x2^2 x3 x4 x5^2', 'x0 x1^3 x2^2 x3 x5^3', 'x0 x1^3 x2^2 x4^4', 'x0 x1^3 x2^2 x4^3 x5', 'x0 x1^3 x2^2 x4^2 x5^2', 'x0 x1^3 x2^2 x4 x5^3', 'x0 x1^3 x2^2 x5^4', 'x0 x1^3 x2 x3^5', 'x0 x1^3 x2 x3^4 x4', 'x0 x1^3 x2 x3^4 x5', 'x0 x1^3 x2 x3^3 x4^2', 'x0 x1^3 x2 x3^3 x4 x5', 'x0 x1^3 x2 x3^3 x5^2', 'x0 x1^3 x2 x3^2 x4^3', 'x0 x1^3 x2 x3^2 x4^2 x5', 'x0 x1^3 x2 x3^2 x4 x5^2', 'x0 x1^3 x2 x3^2 x5^3', 'x0 x1^3 x2 x3 x4^4', 'x0 x1^3 x2 x3 x4^3 x5', 'x0 x1^3 x2 x3 x4^2 x5^2', 'x0 x1^3 x2 x3 x4 x5^3', 'x0 x1^3 x2 x3 x5^4', 'x0 x1^3 x2 x4^5', 'x0 x1^3 x2 x4^4 x5', 'x0 x1^3 x2 x4^3 x5^2', 'x0 x1^3 x2 x4^2 x5^3', 'x0 x1^3 x2 x4 x5^4', 'x0 x1^3 x2 x5^5', 'x0 x1^3 x3^6', 'x0 x1^3 x3^5 x4', 'x0 x1^3 x3^5 x5', 'x0 x1^3 x3^4 x4^2', 'x0 x1^3 x3^4 x4 x5', 'x0 x1^3 x3^4 x5^2', 'x0 x1^3 x3^3 x4^3', 'x0 x1^3 x3^3 x4^2 x5', 'x0 x1^3 x3^3 x4 x5^2', 'x0 x1^3 x3^3 x5^3', 'x0 x1^3 x3^2 x4^4', 'x0 x1^3 x3^2 x4^3 x5', 'x0 x1^3 x3^2 x4^2 x5^2', 'x0 x1^3 x3^2 x4 x5^3', 'x0 x1^3 x3^2 x5^4', 'x0 x1^3 x3 x4^5', 'x0 x1^3 x3 x4^4 x5', 'x0 x1^3 x3 x4^3 x5^2', 'x0 x1^3 x3 x4^2 x5^3', 'x0 x1^3 x3 x4 x5^4', 'x0 x1^3 x3 x5^5', 'x0 x1^3 x4^6', 'x0 x1^3 x4^5 x5', 'x0 x1^3 x4^4 x5^2', 'x0 x1^3 x4^3 x5^3', 'x0 x1^3 x4^2 x5^4', 'x0 x1^3 x4 x5^5', 'x0 x1^3 x5^6', 'x0 x1^2 x2^7', 'x0 x1^2 x2^6 x3', 'x0 x1^2 x2^6 x4', 'x0 x1^2 x2^6 x5', 'x0 x1^2 x2^5 x3^2', 'x0 x1^2 x2^5 x3 x4', 'x0 x1^2 x2^5 x3 x5', 'x0 x1^2 x2^5 x4^2', 'x0 x1^2 x2^5 x4 x5', 'x0 x1^2 x2^5 x5^2', 'x0 x1^2 x2^4 x3^3', 'x0 x1^2 x2^4 x3^2 x4', 'x0 x1^2 x2^4 x3^2 x5', 'x0 x1^2 x2^4 x3 x4^2', 'x0 x1^2 x2^4 x3 x4 x5', 'x0 x1^2 x2^4 x3 x5^2', 'x0 x1^2 x2^4 x4^3', 'x0 x1^2 x2^4 x4^2 x5', 'x0 x1^2 x2^4 x4 x5^2', 'x0 x1^2 x2^4 x5^3', 'x0 x1^2 x2^3 x3^4', 'x0 x1^2 x2^3 x3^3 x4', 'x0 x1^2 x2^3 x3^3 x5', 'x0 x1^2 x2^3 x3^2 x4^2', 'x0 x1^2 x2^3 x3^2 x4 x5', 'x0 x1^2 x2^3 x3^2 x5^2', 'x0 x1^2 x2^3 x3 x4^3', 'x0 x1^2 x2^3 x3 x4^2 x5', 'x0 x1^2 x2^3 x3 x4 x5^2', 'x0 x1^2 x2^3 x3 x5^3', 'x0 x1^2 x2^3 x4^4', 'x0 x1^2 x2^3 x4^3 x5', 'x0 x1^2 x2^3 x4^2 x5^2', 'x0 x1^2 x2^3 x4 x5^3', 'x0 x1^2 x2^3 x5^4', 'x0 x1^2 x2^2 x3^5', 'x0 x1^2 x2^2 x3^4 x4', 'x0 x1^2 x2^2 x3^4 x5', 'x0 x1^2 x2^2 x3^3 x4^2', 'x0 x1^2 x2^2 x3^3 x4 x5', 'x0 x1^2 x2^2 x3^3 x5^2', 'x0 x1^2 x2^2 x3^2 x4^3', 'x0 x1^2 x2^2 x3^2 x4^2 x5', 'x0 x1^2 x2^2 x3^2 x4 x5^2', 'x0 x1^2 x2^2 x3^2 x5^3', 'x0 x1^2 x2^2 x3 x4^4', 'x0 x1^2 x2^2 x3 x4^3 x5', 'x0 x1^2 x2^2 x3 x4^2 x5^2', 'x0 x1^2 x2^2 x3 x4 x5^3', 'x0 x1^2 x2^2 x3 x5^4', 'x0 x1^2 x2^2 x4^5', 'x0 x1^2 x2^2 x4^4 x5', 'x0 x1^2 x2^2 x4^3 x5^2', 'x0 x1^2 x2^2 x4^2 x5^3', 'x0 x1^2 x2^2 x4 x5^4', 'x0 x1^2 x2^2 x5^5', 'x0 x1^2 x2 x3^6', 'x0 x1^2 x2 x3^5 x4', 'x0 x1^2 x2 x3^5 x5', 'x0 x1^2 x2 x3^4 x4^2', 'x0 x1^2 x2 x3^4 x4 x5', 'x0 x1^2 x2 x3^4 x5^2', 'x0 x1^2 x2 x3^3 x4^3', 'x0 x1^2 x2 x3^3 x4^2 x5', 'x0 x1^2 x2 x3^3 x4 x5^2', 'x0 x1^2 x2 x3^3 x5^3', 'x0 x1^2 x2 x3^2 x4^4', 'x0 x1^2 x2 x3^2 x4^3 x5', 'x0 x1^2 x2 x3^2 x4^2 x5^2', 'x0 x1^2 x2 x3^2 x4 x5^3', 'x0 x1^2 x2 x3^2 x5^4', 'x0 x1^2 x2 x3 x4^5', 'x0 x1^2 x2 x3 x4^4 x5', 'x0 x1^2 x2 x3 x4^3 x5^2', 'x0 x1^2 x2 x3 x4^2 x5^3', 'x0 x1^2 x2 x3 x4 x5^4', 'x0 x1^2 x2 x3 x5^5', 'x0 x1^2 x2 x4^6', 'x0 x1^2 x2 x4^5 x5', 'x0 x1^2 x2 x4^4 x5^2', 'x0 x1^2 x2 x4^3 x5^3', 'x0 x1^2 x2 x4^2 x5^4', 'x0 x1^2 x2 x4 x5^5', 'x0 x1^2 x2 x5^6', 'x0 x1^2 x3^7', 'x0 x1^2 x3^6 x4', 'x0 x1^2 x3^6 x5', 'x0 x1^2 x3^5 x4^2', 'x0 x1^2 x3^5 x4 x5', 'x0 x1^2 x3^5 x5^2', 'x0 x1^2 x3^4 x4^3', 'x0 x1^2 x3^4 x4^2 x5', 'x0 x1^2 x3^4 x4 x5^2', 'x0 x1^2 x3^4 x5^3', 'x0 x1^2 x3^3 x4^4', 'x0 x1^2 x3^3 x4^3 x5', 'x0 x1^2 x3^3 x4^2 x5^2', 'x0 x1^2 x3^3 x4 x5^3', 'x0 x1^2 x3^3 x5^4', 'x0 x1^2 x3^2 x4^5', 'x0 x1^2 x3^2 x4^4 x5', 'x0 x1^2 x3^2 x4^3 x5^2', 'x0 x1^2 x3^2 x4^2 x5^3', 'x0 x1^2 x3^2 x4 x5^4', 'x0 x1^2 x3^2 x5^5', 'x0 x1^2 x3 x4^6', 'x0 x1^2 x3 x4^5 x5', 'x0 x1^2 x3 x4^4 x5^2', 'x0 x1^2 x3 x4^3 x5^3', 'x0 x1^2 x3 x4^2 x5^4', 'x0 x1^2 x3 x4 x5^5', 'x0 x1^2 x3 x5^6', 'x0 x1^2 x4^7', 'x0 x1^2 x4^6 x5', 'x0 x1^2 x4^5 x5^2', 'x0 x1^2 x4^4 x5^3', 'x0 x1^2 x4^3 x5^4', 'x0 x1^2 x4^2 x5^5', 'x0 x1^2 x4 x5^6', 'x0 x1^2 x5^7', 'x0 x1 x2^8', 'x0 x1 x2^7 x3', 'x0 x1 x2^7 x4', 'x0 x1 x2^7 x5', 'x0 x1 x2^6 x3^2', 'x0 x1 x2^6 x3 x4', 'x0 x1 x2^6 x3 x5', 'x0 x1 x2^6 x4^2', 'x0 x1 x2^6 x4 x5', 'x0 x1 x2^6 x5^2', 'x0 x1 x2^5 x3^3', 'x0 x1 x2^5 x3^2 x4', 'x0 x1 x2^5 x3^2 x5', 'x0 x1 x2^5 x3 x4^2', 'x0 x1 x2^5 x3 x4 x5', 'x0 x1 x2^5 x3 x5^2', 'x0 x1 x2^5 x4^3', 'x0 x1 x2^5 x4^2 x5', 'x0 x1 x2^5 x4 x5^2', 'x0 x1 x2^5 x5^3', 'x0 x1 x2^4 x3^4', 'x0 x1 x2^4 x3^3 x4', 'x0 x1 x2^4 x3^3 x5', 'x0 x1 x2^4 x3^2 x4^2', 'x0 x1 x2^4 x3^2 x4 x5', 'x0 x1 x2^4 x3^2 x5^2', 'x0 x1 x2^4 x3 x4^3', 'x0 x1 x2^4 x3 x4^2 x5', 'x0 x1 x2^4 x3 x4 x5^2', 'x0 x1 x2^4 x3 x5^3', 'x0 x1 x2^4 x4^4', 'x0 x1 x2^4 x4^3 x5', 'x0 x1 x2^4 x4^2 x5^2', 'x0 x1 x2^4 x4 x5^3', 'x0 x1 x2^4 x5^4', 'x0 x1 x2^3 x3^5', 'x0 x1 x2^3 x3^4 x4', 'x0 x1 x2^3 x3^4 x5', 'x0 x1 x2^3 x3^3 x4^2', 'x0 x1 x2^3 x3^3 x4 x5', 'x0 x1 x2^3 x3^3 x5^2', 'x0 x1 x2^3 x3^2 x4^3', 'x0 x1 x2^3 x3^2 x4^2 x5', 'x0 x1 x2^3 x3^2 x4 x5^2', 'x0 x1 x2^3 x3^2 x5^3', 'x0 x1 x2^3 x3 x4^4', 'x0 x1 x2^3 x3 x4^3 x5', 'x0 x1 x2^3 x3 x4^2 x5^2', 'x0 x1 x2^3 x3 x4 x5^3', 'x0 x1 x2^3 x3 x5^4', 'x0 x1 x2^3 x4^5', 'x0 x1 x2^3 x4^4 x5', 'x0 x1 x2^3 x4^3 x5^2', 'x0 x1 x2^3 x4^2 x5^3', 'x0 x1 x2^3 x4 x5^4', 'x0 x1 x2^3 x5^5', 'x0 x1 x2^2 x3^6', 'x0 x1 x2^2 x3^5 x4', 'x0 x1 x2^2 x3^5 x5', 'x0 x1 x2^2 x3^4 x4^2', 'x0 x1 x2^2 x3^4 x4 x5', 'x0 x1 x2^2 x3^4 x5^2', 'x0 x1 x2^2 x3^3 x4^3', 'x0 x1 x2^2 x3^3 x4^2 x5', 'x0 x1 x2^2 x3^3 x4 x5^2', 'x0 x1 x2^2 x3^3 x5^3', 'x0 x1 x2^2 x3^2 x4^4', 'x0 x1 x2^2 x3^2 x4^3 x5', 'x0 x1 x2^2 x3^2 x4^2 x5^2', 'x0 x1 x2^2 x3^2 x4 x5^3', 'x0 x1 x2^2 x3^2 x5^4', 'x0 x1 x2^2 x3 x4^5', 'x0 x1 x2^2 x3 x4^4 x5', 'x0 x1 x2^2 x3 x4^3 x5^2', 'x0 x1 x2^2 x3 x4^2 x5^3', 'x0 x1 x2^2 x3 x4 x5^4', 'x0 x1 x2^2 x3 x5^5', 'x0 x1 x2^2 x4^6', 'x0 x1 x2^2 x4^5 x5', 'x0 x1 x2^2 x4^4 x5^2', 'x0 x1 x2^2 x4^3 x5^3', 'x0 x1 x2^2 x4^2 x5^4', 'x0 x1 x2^2 x4 x5^5', 'x0 x1 x2^2 x5^6', 'x0 x1 x2 x3^7', 'x0 x1 x2 x3^6 x4', 'x0 x1 x2 x3^6 x5', 'x0 x1 x2 x3^5 x4^2', 'x0 x1 x2 x3^5 x4 x5', 'x0 x1 x2 x3^5 x5^2', 'x0 x1 x2 x3^4 x4^3', 'x0 x1 x2 x3^4 x4^2 x5', 'x0 x1 x2 x3^4 x4 x5^2', 'x0 x1 x2 x3^4 x5^3', 'x0 x1 x2 x3^3 x4^4', 'x0 x1 x2 x3^3 x4^3 x5', 'x0 x1 x2 x3^3 x4^2 x5^2', 'x0 x1 x2 x3^3 x4 x5^3', 'x0 x1 x2 x3^3 x5^4', 'x0 x1 x2 x3^2 x4^5', 'x0 x1 x2 x3^2 x4^4 x5', 'x0 x1 x2 x3^2 x4^3 x5^2', 'x0 x1 x2 x3^2 x4^2 x5^3', 'x0 x1 x2 x3^2 x4 x5^4', 'x0 x1 x2 x3^2 x5^5', 'x0 x1 x2 x3 x4^6', 'x0 x1 x2 x3 x4^5 x5', 'x0 x1 x2 x3 x4^4 x5^2', 'x0 x1 x2 x3 x4^3 x5^3', 'x0 x1 x2 x3 x4^2 x5^4', 'x0 x1 x2 x3 x4 x5^5', 'x0 x1 x2 x3 x5^6', 'x0 x1 x2 x4^7', 'x0 x1 x2 x4^6 x5', 'x0 x1 x2 x4^5 x5^2', 'x0 x1 x2 x4^4 x5^3', 'x0 x1 x2 x4^3 x5^4', 'x0 x1 x2 x4^2 x5^5', 'x0 x1 x2 x4 x5^6', 'x0 x1 x2 x5^7', 'x0 x1 x3^8', 'x0 x1 x3^7 x4', 'x0 x1 x3^7 x5', 'x0 x1 x3^6 x4^2', 'x0 x1 x3^6 x4 x5', 'x0 x1 x3^6 x5^2', 'x0 x1 x3^5 x4^3', 'x0 x1 x3^5 x4^2 x5', 'x0 x1 x3^5 x4 x5^2', 'x0 x1 x3^5 x5^3', 'x0 x1 x3^4 x4^4', 'x0 x1 x3^4 x4^3 x5', 'x0 x1 x3^4 x4^2 x5^2', 'x0 x1 x3^4 x4 x5^3', 'x0 x1 x3^4 x5^4', 'x0 x1 x3^3 x4^5', 'x0 x1 x3^3 x4^4 x5', 'x0 x1 x3^3 x4^3 x5^2', 'x0 x1 x3^3 x4^2 x5^3', 'x0 x1 x3^3 x4 x5^4', 'x0 x1 x3^3 x5^5', 'x0 x1 x3^2 x4^6', 'x0 x1 x3^2 x4^5 x5', 'x0 x1 x3^2 x4^4 x5^2', 'x0 x1 x3^2 x4^3 x5^3', 'x0 x1 x3^2 x4^2 x5^4', 'x0 x1 x3^2 x4 x5^5', 'x0 x1 x3^2 x5^6', 'x0 x1 x3 x4^7', 'x0 x1 x3 x4^6 x5', 'x0 x1 x3 x4^5 x5^2', 'x0 x1 x3 x4^4 x5^3', 'x0 x1 x3 x4^3 x5^4', 'x0 x1 x3 x4^2 x5^5', 'x0 x1 x3 x4 x5^6', 'x0 x1 x3 x5^7', 'x0 x1 x4^8', 'x0 x1 x4^7 x5', 'x0 x1 x4^6 x5^2', 'x0 x1 x4^5 x5^3', 'x0 x1 x4^4 x5^4', 'x0 x1 x4^3 x5^5', 'x0 x1 x4^2 x5^6', 'x0 x1 x4 x5^7', 'x0 x1 x5^8', 'x0 x2^9', 'x0 x2^8 x3', 'x0 x2^8 x4', 'x0 x2^8 x5', 'x0 x2^7 x3^2', 'x0 x2^7 x3 x4', 'x0 x2^7 x3 x5', 'x0 x2^7 x4^2', 'x0 x2^7 x4 x5', 'x0 x2^7 x5^2', 'x0 x2^6 x3^3', 'x0 x2^6 x3^2 x4', 'x0 x2^6 x3^2 x5', 'x0 x2^6 x3 x4^2', 'x0 x2^6 x3 x4 x5', 'x0 x2^6 x3 x5^2', 'x0 x2^6 x4^3', 'x0 x2^6 x4^2 x5', 'x0 x2^6 x4 x5^2', 'x0 x2^6 x5^3', 'x0 x2^5 x3^4', 'x0 x2^5 x3^3 x4', 'x0 x2^5 x3^3 x5', 'x0 x2^5 x3^2 x4^2', 'x0 x2^5 x3^2 x4 x5', 'x0 x2^5 x3^2 x5^2', 'x0 x2^5 x3 x4^3', 'x0 x2^5 x3 x4^2 x5', 'x0 x2^5 x3 x4 x5^2', 'x0 x2^5 x3 x5^3', 'x0 x2^5 x4^4', 'x0 x2^5 x4^3 x5', 'x0 x2^5 x4^2 x5^2', 'x0 x2^5 x4 x5^3', 'x0 x2^5 x5^4', 'x0 x2^4 x3^5', 'x0 x2^4 x3^4 x4', 'x0 x2^4 x3^4 x5', 'x0 x2^4 x3^3 x4^2', 'x0 x2^4 x3^3 x4 x5', 'x0 x2^4 x3^3 x5^2', 'x0 x2^4 x3^2 x4^3', 'x0 x2^4 x3^2 x4^2 x5', 'x0 x2^4 x3^2 x4 x5^2', 'x0 x2^4 x3^2 x5^3', 'x0 x2^4 x3 x4^4', 'x0 x2^4 x3 x4^3 x5', 'x0 x2^4 x3 x4^2 x5^2', 'x0 x2^4 x3 x4 x5^3', 'x0 x2^4 x3 x5^4', 'x0 x2^4 x4^5', 'x0 x2^4 x4^4 x5', 'x0 x2^4 x4^3 x5^2', 'x0 x2^4 x4^2 x5^3', 'x0 x2^4 x4 x5^4', 'x0 x2^4 x5^5', 'x0 x2^3 x3^6', 'x0 x2^3 x3^5 x4', 'x0 x2^3 x3^5 x5', 'x0 x2^3 x3^4 x4^2', 'x0 x2^3 x3^4 x4 x5', 'x0 x2^3 x3^4 x5^2', 'x0 x2^3 x3^3 x4^3', 'x0 x2^3 x3^3 x4^2 x5', 'x0 x2^3 x3^3 x4 x5^2', 'x0 x2^3 x3^3 x5^3', 'x0 x2^3 x3^2 x4^4', 'x0 x2^3 x3^2 x4^3 x5', 'x0 x2^3 x3^2 x4^2 x5^2', 'x0 x2^3 x3^2 x4 x5^3', 'x0 x2^3 x3^2 x5^4', 'x0 x2^3 x3 x4^5', 'x0 x2^3 x3 x4^4 x5', 'x0 x2^3 x3 x4^3 x5^2', 'x0 x2^3 x3 x4^2 x5^3', 'x0 x2^3 x3 x4 x5^4', 'x0 x2^3 x3 x5^5', 'x0 x2^3 x4^6', 'x0 x2^3 x4^5 x5', 'x0 x2^3 x4^4 x5^2', 'x0 x2^3 x4^3 x5^3', 'x0 x2^3 x4^2 x5^4', 'x0 x2^3 x4 x5^5', 'x0 x2^3 x5^6', 'x0 x2^2 x3^7', 'x0 x2^2 x3^6 x4', 'x0 x2^2 x3^6 x5', 'x0 x2^2 x3^5 x4^2', 'x0 x2^2 x3^5 x4 x5', 'x0 x2^2 x3^5 x5^2', 'x0 x2^2 x3^4 x4^3', 'x0 x2^2 x3^4 x4^2 x5', 'x0 x2^2 x3^4 x4 x5^2', 'x0 x2^2 x3^4 x5^3', 'x0 x2^2 x3^3 x4^4', 'x0 x2^2 x3^3 x4^3 x5', 'x0 x2^2 x3^3 x4^2 x5^2', 'x0 x2^2 x3^3 x4 x5^3', 'x0 x2^2 x3^3 x5^4', 'x0 x2^2 x3^2 x4^5', 'x0 x2^2 x3^2 x4^4 x5', 'x0 x2^2 x3^2 x4^3 x5^2', 'x0 x2^2 x3^2 x4^2 x5^3', 'x0 x2^2 x3^2 x4 x5^4', 'x0 x2^2 x3^2 x5^5', 'x0 x2^2 x3 x4^6', 'x0 x2^2 x3 x4^5 x5', 'x0 x2^2 x3 x4^4 x5^2', 'x0 x2^2 x3 x4^3 x5^3', 'x0 x2^2 x3 x4^2 x5^4', 'x0 x2^2 x3 x4 x5^5', 'x0 x2^2 x3 x5^6', 'x0 x2^2 x4^7', 'x0 x2^2 x4^6 x5', 'x0 x2^2 x4^5 x5^2', 'x0 x2^2 x4^4 x5^3', 'x0 x2^2 x4^3 x5^4', 'x0 x2^2 x4^2 x5^5', 'x0 x2^2 x4 x5^6', 'x0 x2^2 x5^7', 'x0 x2 x3^8', 'x0 x2 x3^7 x4', 'x0 x2 x3^7 x5', 'x0 x2 x3^6 x4^2', 'x0 x2 x3^6 x4 x5', 'x0 x2 x3^6 x5^2', 'x0 x2 x3^5 x4^3', 'x0 x2 x3^5 x4^2 x5', 'x0 x2 x3^5 x4 x5^2', 'x0 x2 x3^5 x5^3', 'x0 x2 x3^4 x4^4', 'x0 x2 x3^4 x4^3 x5', 'x0 x2 x3^4 x4^2 x5^2', 'x0 x2 x3^4 x4 x5^3', 'x0 x2 x3^4 x5^4', 'x0 x2 x3^3 x4^5', 'x0 x2 x3^3 x4^4 x5', 'x0 x2 x3^3 x4^3 x5^2', 'x0 x2 x3^3 x4^2 x5^3', 'x0 x2 x3^3 x4 x5^4', 'x0 x2 x3^3 x5^5', 'x0 x2 x3^2 x4^6', 'x0 x2 x3^2 x4^5 x5', 'x0 x2 x3^2 x4^4 x5^2', 'x0 x2 x3^2 x4^3 x5^3', 'x0 x2 x3^2 x4^2 x5^4', 'x0 x2 x3^2 x4 x5^5', 'x0 x2 x3^2 x5^6', 'x0 x2 x3 x4^7', 'x0 x2 x3 x4^6 x5', 'x0 x2 x3 x4^5 x5^2', 'x0 x2 x3 x4^4 x5^3', 'x0 x2 x3 x4^3 x5^4', 'x0 x2 x3 x4^2 x5^5', 'x0 x2 x3 x4 x5^6', 'x0 x2 x3 x5^7', 'x0 x2 x4^8', 'x0 x2 x4^7 x5', 'x0 x2 x4^6 x5^2', 'x0 x2 x4^5 x5^3', 'x0 x2 x4^4 x5^4', 'x0 x2 x4^3 x5^5', 'x0 x2 x4^2 x5^6', 'x0 x2 x4 x5^7', 'x0 x2 x5^8', 'x0 x3^9', 'x0 x3^8 x4', 'x0 x3^8 x5', 'x0 x3^7 x4^2', 'x0 x3^7 x4 x5', 'x0 x3^7 x5^2', 'x0 x3^6 x4^3', 'x0 x3^6 x4^2 x5', 'x0 x3^6 x4 x5^2', 'x0 x3^6 x5^3', 'x0 x3^5 x4^4', 'x0 x3^5 x4^3 x5', 'x0 x3^5 x4^2 x5^2', 'x0 x3^5 x4 x5^3', 'x0 x3^5 x5^4', 'x0 x3^4 x4^5', 'x0 x3^4 x4^4 x5', 'x0 x3^4 x4^3 x5^2', 'x0 x3^4 x4^2 x5^3', 'x0 x3^4 x4 x5^4', 'x0 x3^4 x5^5', 'x0 x3^3 x4^6', 'x0 x3^3 x4^5 x5', 'x0 x3^3 x4^4 x5^2', 'x0 x3^3 x4^3 x5^3', 'x0 x3^3 x4^2 x5^4', 'x0 x3^3 x4 x5^5', 'x0 x3^3 x5^6', 'x0 x3^2 x4^7', 'x0 x3^2 x4^6 x5', 'x0 x3^2 x4^5 x5^2', 'x0 x3^2 x4^4 x5^3', 'x0 x3^2 x4^3 x5^4', 'x0 x3^2 x4^2 x5^5', 'x0 x3^2 x4 x5^6', 'x0 x3^2 x5^7', 'x0 x3 x4^8', 'x0 x3 x4^7 x5', 'x0 x3 x4^6 x5^2', 'x0 x3 x4^5 x5^3', 'x0 x3 x4^4 x5^4', 'x0 x3 x4^3 x5^5', 'x0 x3 x4^2 x5^6', 'x0 x3 x4 x5^7', 'x0 x3 x5^8', 'x0 x4^9', 'x0 x4^8 x5', 'x0 x4^7 x5^2', 'x0 x4^6 x5^3', 'x0 x4^5 x5^4', 'x0 x4^4 x5^5', 'x0 x4^3 x5^6', 'x0 x4^2 x5^7', 'x0 x4 x5^8', 'x0 x5^9', 'x1^10', 'x1^9 x2', 'x1^9 x3', 'x1^9 x4', 'x1^9 x5', 'x1^8 x2^2', 'x1^8 x2 x3', 'x1^8 x2 x4', 'x1^8 x2 x5', 'x1^8 x3^2', 'x1^8 x3 x4', 'x1^8 x3 x5', 'x1^8 x4^2', 'x1^8 x4 x5', 'x1^8 x5^2', 'x1^7 x2^3', 'x1^7 x2^2 x3', 'x1^7 x2^2 x4', 'x1^7 x2^2 x5', 'x1^7 x2 x3^2', 'x1^7 x2 x3 x4', 'x1^7 x2 x3 x5', 'x1^7 x2 x4^2', 'x1^7 x2 x4 x5', 'x1^7 x2 x5^2', 'x1^7 x3^3', 'x1^7 x3^2 x4', 'x1^7 x3^2 x5', 'x1^7 x3 x4^2', 'x1^7 x3 x4 x5', 'x1^7 x3 x5^2', 'x1^7 x4^3', 'x1^7 x4^2 x5', 'x1^7 x4 x5^2', 'x1^7 x5^3', 'x1^6 x2^4', 'x1^6 x2^3 x3', 'x1^6 x2^3 x4', 'x1^6 x2^3 x5', 'x1^6 x2^2 x3^2', 'x1^6 x2^2 x3 x4', 'x1^6 x2^2 x3 x5', 'x1^6 x2^2 x4^2', 'x1^6 x2^2 x4 x5', 'x1^6 x2^2 x5^2', 'x1^6 x2 x3^3', 'x1^6 x2 x3^2 x4', 'x1^6 x2 x3^2 x5', 'x1^6 x2 x3 x4^2', 'x1^6 x2 x3 x4 x5', 'x1^6 x2 x3 x5^2', 'x1^6 x2 x4^3', 'x1^6 x2 x4^2 x5', 'x1^6 x2 x4 x5^2', 'x1^6 x2 x5^3', 'x1^6 x3^4', 'x1^6 x3^3 x4', 'x1^6 x3^3 x5', 'x1^6 x3^2 x4^2', 'x1^6 x3^2 x4 x5', 'x1^6 x3^2 x5^2', 'x1^6 x3 x4^3', 'x1^6 x3 x4^2 x5', 'x1^6 x3 x4 x5^2', 'x1^6 x3 x5^3', 'x1^6 x4^4', 'x1^6 x4^3 x5', 'x1^6 x4^2 x5^2', 'x1^6 x4 x5^3', 'x1^6 x5^4', 'x1^5 x2^5', 'x1^5 x2^4 x3', 'x1^5 x2^4 x4', 'x1^5 x2^4 x5', 'x1^5 x2^3 x3^2', 'x1^5 x2^3 x3 x4', 'x1^5 x2^3 x3 x5', 'x1^5 x2^3 x4^2', 'x1^5 x2^3 x4 x5', 'x1^5 x2^3 x5^2', 'x1^5 x2^2 x3^3', 'x1^5 x2^2 x3^2 x4', 'x1^5 x2^2 x3^2 x5', 'x1^5 x2^2 x3 x4^2', 'x1^5 x2^2 x3 x4 x5', 'x1^5 x2^2 x3 x5^2', 'x1^5 x2^2 x4^3', 'x1^5 x2^2 x4^2 x5', 'x1^5 x2^2 x4 x5^2', 'x1^5 x2^2 x5^3', 'x1^5 x2 x3^4', 'x1^5 x2 x3^3 x4', 'x1^5 x2 x3^3 x5', 'x1^5 x2 x3^2 x4^2', 'x1^5 x2 x3^2 x4 x5', 'x1^5 x2 x3^2 x5^2', 'x1^5 x2 x3 x4^3', 'x1^5 x2 x3 x4^2 x5', 'x1^5 x2 x3 x4 x5^2', 'x1^5 x2 x3 x5^3', 'x1^5 x2 x4^4', 'x1^5 x2 x4^3 x5', 'x1^5 x2 x4^2 x5^2', 'x1^5 x2 x4 x5^3', 'x1^5 x2 x5^4', 'x1^5 x3^5', 'x1^5 x3^4 x4', 'x1^5 x3^4 x5', 'x1^5 x3^3 x4^2', 'x1^5 x3^3 x4 x5', 'x1^5 x3^3 x5^2', 'x1^5 x3^2 x4^3', 'x1^5 x3^2 x4^2 x5', 'x1^5 x3^2 x4 x5^2', 'x1^5 x3^2 x5^3', 'x1^5 x3 x4^4', 'x1^5 x3 x4^3 x5', 'x1^5 x3 x4^2 x5^2', 'x1^5 x3 x4 x5^3', 'x1^5 x3 x5^4', 'x1^5 x4^5', 'x1^5 x4^4 x5', 'x1^5 x4^3 x5^2', 'x1^5 x4^2 x5^3', 'x1^5 x4 x5^4', 'x1^5 x5^5', 'x1^4 x2^6', 'x1^4 x2^5 x3', 'x1^4 x2^5 x4', 'x1^4 x2^5 x5', 'x1^4 x2^4 x3^2', 'x1^4 x2^4 x3 x4', 'x1^4 x2^4 x3 x5', 'x1^4 x2^4 x4^2', 'x1^4 x2^4 x4 x5', 'x1^4 x2^4 x5^2', 'x1^4 x2^3 x3^3', 'x1^4 x2^3 x3^2 x4', 'x1^4 x2^3 x3^2 x5', 'x1^4 x2^3 x3 x4^2', 'x1^4 x2^3 x3 x4 x5', 'x1^4 x2^3 x3 x5^2', 'x1^4 x2^3 x4^3', 'x1^4 x2^3 x4^2 x5', 'x1^4 x2^3 x4 x5^2', 'x1^4 x2^3 x5^3', 'x1^4 x2^2 x3^4', 'x1^4 x2^2 x3^3 x4', 'x1^4 x2^2 x3^3 x5', 'x1^4 x2^2 x3^2 x4^2', 'x1^4 x2^2 x3^2 x4 x5', 'x1^4 x2^2 x3^2 x5^2', 'x1^4 x2^2 x3 x4^3', 'x1^4 x2^2 x3 x4^2 x5', 'x1^4 x2^2 x3 x4 x5^2', 'x1^4 x2^2 x3 x5^3', 'x1^4 x2^2 x4^4', 'x1^4 x2^2 x4^3 x5', 'x1^4 x2^2 x4^2 x5^2', 'x1^4 x2^2 x4 x5^3', 'x1^4 x2^2 x5^4', 'x1^4 x2 x3^5', 'x1^4 x2 x3^4 x4', 'x1^4 x2 x3^4 x5', 'x1^4 x2 x3^3 x4^2', 'x1^4 x2 x3^3 x4 x5', 'x1^4 x2 x3^3 x5^2', 'x1^4 x2 x3^2 x4^3', 'x1^4 x2 x3^2 x4^2 x5', 'x1^4 x2 x3^2 x4 x5^2', 'x1^4 x2 x3^2 x5^3', 'x1^4 x2 x3 x4^4', 'x1^4 x2 x3 x4^3 x5', 'x1^4 x2 x3 x4^2 x5^2', 'x1^4 x2 x3 x4 x5^3', 'x1^4 x2 x3 x5^4', 'x1^4 x2 x4^5', 'x1^4 x2 x4^4 x5', 'x1^4 x2 x4^3 x5^2', 'x1^4 x2 x4^2 x5^3', 'x1^4 x2 x4 x5^4', 'x1^4 x2 x5^5', 'x1^4 x3^6', 'x1^4 x3^5 x4', 'x1^4 x3^5 x5', 'x1^4 x3^4 x4^2', 'x1^4 x3^4 x4 x5', 'x1^4 x3^4 x5^2', 'x1^4 x3^3 x4^3', 'x1^4 x3^3 x4^2 x5', 'x1^4 x3^3 x4 x5^2', 'x1^4 x3^3 x5^3', 'x1^4 x3^2 x4^4', 'x1^4 x3^2 x4^3 x5', 'x1^4 x3^2 x4^2 x5^2', 'x1^4 x3^2 x4 x5^3', 'x1^4 x3^2 x5^4', 'x1^4 x3 x4^5', 'x1^4 x3 x4^4 x5', 'x1^4 x3 x4^3 x5^2', 'x1^4 x3 x4^2 x5^3', 'x1^4 x3 x4 x5^4', 'x1^4 x3 x5^5', 'x1^4 x4^6', 'x1^4 x4^5 x5', 'x1^4 x4^4 x5^2', 'x1^4 x4^3 x5^3', 'x1^4 x4^2 x5^4', 'x1^4 x4 x5^5', 'x1^4 x5^6', 'x1^3 x2^7', 'x1^3 x2^6 x3', 'x1^3 x2^6 x4', 'x1^3 x2^6 x5', 'x1^3 x2^5 x3^2', 'x1^3 x2^5 x3 x4', 'x1^3 x2^5 x3 x5', 'x1^3 x2^5 x4^2', 'x1^3 x2^5 x4 x5', 'x1^3 x2^5 x5^2', 'x1^3 x2^4 x3^3', 'x1^3 x2^4 x3^2 x4', 'x1^3 x2^4 x3^2 x5', 'x1^3 x2^4 x3 x4^2', 'x1^3 x2^4 x3 x4 x5', 'x1^3 x2^4 x3 x5^2', 'x1^3 x2^4 x4^3', 'x1^3 x2^4 x4^2 x5', 'x1^3 x2^4 x4 x5^2', 'x1^3 x2^4 x5^3', 'x1^3 x2^3 x3^4', 'x1^3 x2^3 x3^3 x4', 'x1^3 x2^3 x3^3 x5', 'x1^3 x2^3 x3^2 x4^2', 'x1^3 x2^3 x3^2 x4 x5', 'x1^3 x2^3 x3^2 x5^2', 'x1^3 x2^3 x3 x4^3', 'x1^3 x2^3 x3 x4^2 x5', 'x1^3 x2^3 x3 x4 x5^2', 'x1^3 x2^3 x3 x5^3', 'x1^3 x2^3 x4^4', 'x1^3 x2^3 x4^3 x5', 'x1^3 x2^3 x4^2 x5^2', 'x1^3 x2^3 x4 x5^3', 'x1^3 x2^3 x5^4', 'x1^3 x2^2 x3^5', 'x1^3 x2^2 x3^4 x4', 'x1^3 x2^2 x3^4 x5', 'x1^3 x2^2 x3^3 x4^2', 'x1^3 x2^2 x3^3 x4 x5', 'x1^3 x2^2 x3^3 x5^2', 'x1^3 x2^2 x3^2 x4^3', 'x1^3 x2^2 x3^2 x4^2 x5', 'x1^3 x2^2 x3^2 x4 x5^2', 'x1^3 x2^2 x3^2 x5^3', 'x1^3 x2^2 x3 x4^4', 'x1^3 x2^2 x3 x4^3 x5', 'x1^3 x2^2 x3 x4^2 x5^2', 'x1^3 x2^2 x3 x4 x5^3', 'x1^3 x2^2 x3 x5^4', 'x1^3 x2^2 x4^5', 'x1^3 x2^2 x4^4 x5', 'x1^3 x2^2 x4^3 x5^2', 'x1^3 x2^2 x4^2 x5^3', 'x1^3 x2^2 x4 x5^4', 'x1^3 x2^2 x5^5', 'x1^3 x2 x3^6', 'x1^3 x2 x3^5 x4', 'x1^3 x2 x3^5 x5', 'x1^3 x2 x3^4 x4^2', 'x1^3 x2 x3^4 x4 x5', 'x1^3 x2 x3^4 x5^2', 'x1^3 x2 x3^3 x4^3', 'x1^3 x2 x3^3 x4^2 x5', 'x1^3 x2 x3^3 x4 x5^2', 'x1^3 x2 x3^3 x5^3', 'x1^3 x2 x3^2 x4^4', 'x1^3 x2 x3^2 x4^3 x5', 'x1^3 x2 x3^2 x4^2 x5^2', 'x1^3 x2 x3^2 x4 x5^3', 'x1^3 x2 x3^2 x5^4', 'x1^3 x2 x3 x4^5', 'x1^3 x2 x3 x4^4 x5', 'x1^3 x2 x3 x4^3 x5^2', 'x1^3 x2 x3 x4^2 x5^3', 'x1^3 x2 x3 x4 x5^4', 'x1^3 x2 x3 x5^5', 'x1^3 x2 x4^6', 'x1^3 x2 x4^5 x5', 'x1^3 x2 x4^4 x5^2', 'x1^3 x2 x4^3 x5^3', 'x1^3 x2 x4^2 x5^4', 'x1^3 x2 x4 x5^5', 'x1^3 x2 x5^6', 'x1^3 x3^7', 'x1^3 x3^6 x4', 'x1^3 x3^6 x5', 'x1^3 x3^5 x4^2', 'x1^3 x3^5 x4 x5', 'x1^3 x3^5 x5^2', 'x1^3 x3^4 x4^3', 'x1^3 x3^4 x4^2 x5', 'x1^3 x3^4 x4 x5^2', 'x1^3 x3^4 x5^3', 'x1^3 x3^3 x4^4', 'x1^3 x3^3 x4^3 x5', 'x1^3 x3^3 x4^2 x5^2', 'x1^3 x3^3 x4 x5^3', 'x1^3 x3^3 x5^4', 'x1^3 x3^2 x4^5', 'x1^3 x3^2 x4^4 x5', 'x1^3 x3^2 x4^3 x5^2', 'x1^3 x3^2 x4^2 x5^3', 'x1^3 x3^2 x4 x5^4', 'x1^3 x3^2 x5^5', 'x1^3 x3 x4^6', 'x1^3 x3 x4^5 x5', 'x1^3 x3 x4^4 x5^2', 'x1^3 x3 x4^3 x5^3', 'x1^3 x3 x4^2 x5^4', 'x1^3 x3 x4 x5^5', 'x1^3 x3 x5^6', 'x1^3 x4^7', 'x1^3 x4^6 x5', 'x1^3 x4^5 x5^2', 'x1^3 x4^4 x5^3', 'x1^3 x4^3 x5^4', 'x1^3 x4^2 x5^5', 'x1^3 x4 x5^6', 'x1^3 x5^7', 'x1^2 x2^8', 'x1^2 x2^7 x3', 'x1^2 x2^7 x4', 'x1^2 x2^7 x5', 'x1^2 x2^6 x3^2', 'x1^2 x2^6 x3 x4', 'x1^2 x2^6 x3 x5', 'x1^2 x2^6 x4^2', 'x1^2 x2^6 x4 x5', 'x1^2 x2^6 x5^2', 'x1^2 x2^5 x3^3', 'x1^2 x2^5 x3^2 x4', 'x1^2 x2^5 x3^2 x5', 'x1^2 x2^5 x3 x4^2', 'x1^2 x2^5 x3 x4 x5', 'x1^2 x2^5 x3 x5^2', 'x1^2 x2^5 x4^3', 'x1^2 x2^5 x4^2 x5', 'x1^2 x2^5 x4 x5^2', 'x1^2 x2^5 x5^3', 'x1^2 x2^4 x3^4', 'x1^2 x2^4 x3^3 x4', 'x1^2 x2^4 x3^3 x5', 'x1^2 x2^4 x3^2 x4^2', 'x1^2 x2^4 x3^2 x4 x5', 'x1^2 x2^4 x3^2 x5^2', 'x1^2 x2^4 x3 x4^3', 'x1^2 x2^4 x3 x4^2 x5', 'x1^2 x2^4 x3 x4 x5^2', 'x1^2 x2^4 x3 x5^3', 'x1^2 x2^4 x4^4', 'x1^2 x2^4 x4^3 x5', 'x1^2 x2^4 x4^2 x5^2', 'x1^2 x2^4 x4 x5^3', 'x1^2 x2^4 x5^4', 'x1^2 x2^3 x3^5', 'x1^2 x2^3 x3^4 x4', 'x1^2 x2^3 x3^4 x5', 'x1^2 x2^3 x3^3 x4^2', 'x1^2 x2^3 x3^3 x4 x5', 'x1^2 x2^3 x3^3 x5^2', 'x1^2 x2^3 x3^2 x4^3', 'x1^2 x2^3 x3^2 x4^2 x5', 'x1^2 x2^3 x3^2 x4 x5^2', 'x1^2 x2^3 x3^2 x5^3', 'x1^2 x2^3 x3 x4^4', 'x1^2 x2^3 x3 x4^3 x5', 'x1^2 x2^3 x3 x4^2 x5^2', 'x1^2 x2^3 x3 x4 x5^3', 'x1^2 x2^3 x3 x5^4', 'x1^2 x2^3 x4^5', 'x1^2 x2^3 x4^4 x5', 'x1^2 x2^3 x4^3 x5^2', 'x1^2 x2^3 x4^2 x5^3', 'x1^2 x2^3 x4 x5^4', 'x1^2 x2^3 x5^5', 'x1^2 x2^2 x3^6', 'x1^2 x2^2 x3^5 x4', 'x1^2 x2^2 x3^5 x5', 'x1^2 x2^2 x3^4 x4^2', 'x1^2 x2^2 x3^4 x4 x5', 'x1^2 x2^2 x3^4 x5^2', 'x1^2 x2^2 x3^3 x4^3', 'x1^2 x2^2 x3^3 x4^2 x5', 'x1^2 x2^2 x3^3 x4 x5^2', 'x1^2 x2^2 x3^3 x5^3', 'x1^2 x2^2 x3^2 x4^4', 'x1^2 x2^2 x3^2 x4^3 x5', 'x1^2 x2^2 x3^2 x4^2 x5^2', 'x1^2 x2^2 x3^2 x4 x5^3', 'x1^2 x2^2 x3^2 x5^4', 'x1^2 x2^2 x3 x4^5', 'x1^2 x2^2 x3 x4^4 x5', 'x1^2 x2^2 x3 x4^3 x5^2', 'x1^2 x2^2 x3 x4^2 x5^3', 'x1^2 x2^2 x3 x4 x5^4', 'x1^2 x2^2 x3 x5^5', 'x1^2 x2^2 x4^6', 'x1^2 x2^2 x4^5 x5', 'x1^2 x2^2 x4^4 x5^2', 'x1^2 x2^2 x4^3 x5^3', 'x1^2 x2^2 x4^2 x5^4', 'x1^2 x2^2 x4 x5^5', 'x1^2 x2^2 x5^6', 'x1^2 x2 x3^7', 'x1^2 x2 x3^6 x4', 'x1^2 x2 x3^6 x5', 'x1^2 x2 x3^5 x4^2', 'x1^2 x2 x3^5 x4 x5', 'x1^2 x2 x3^5 x5^2', 'x1^2 x2 x3^4 x4^3', 'x1^2 x2 x3^4 x4^2 x5', 'x1^2 x2 x3^4 x4 x5^2', 'x1^2 x2 x3^4 x5^3', 'x1^2 x2 x3^3 x4^4', 'x1^2 x2 x3^3 x4^3 x5', 'x1^2 x2 x3^3 x4^2 x5^2', 'x1^2 x2 x3^3 x4 x5^3', 'x1^2 x2 x3^3 x5^4', 'x1^2 x2 x3^2 x4^5', 'x1^2 x2 x3^2 x4^4 x5', 'x1^2 x2 x3^2 x4^3 x5^2', 'x1^2 x2 x3^2 x4^2 x5^3', 'x1^2 x2 x3^2 x4 x5^4', 'x1^2 x2 x3^2 x5^5', 'x1^2 x2 x3 x4^6', 'x1^2 x2 x3 x4^5 x5', 'x1^2 x2 x3 x4^4 x5^2', 'x1^2 x2 x3 x4^3 x5^3', 'x1^2 x2 x3 x4^2 x5^4', 'x1^2 x2 x3 x4 x5^5', 'x1^2 x2 x3 x5^6', 'x1^2 x2 x4^7', 'x1^2 x2 x4^6 x5', 'x1^2 x2 x4^5 x5^2', 'x1^2 x2 x4^4 x5^3', 'x1^2 x2 x4^3 x5^4', 'x1^2 x2 x4^2 x5^5', 'x1^2 x2 x4 x5^6', 'x1^2 x2 x5^7', 'x1^2 x3^8', 'x1^2 x3^7 x4', 'x1^2 x3^7 x5', 'x1^2 x3^6 x4^2', 'x1^2 x3^6 x4 x5', 'x1^2 x3^6 x5^2', 'x1^2 x3^5 x4^3', 'x1^2 x3^5 x4^2 x5', 'x1^2 x3^5 x4 x5^2', 'x1^2 x3^5 x5^3', 'x1^2 x3^4 x4^4', 'x1^2 x3^4 x4^3 x5', 'x1^2 x3^4 x4^2 x5^2', 'x1^2 x3^4 x4 x5^3', 'x1^2 x3^4 x5^4', 'x1^2 x3^3 x4^5', 'x1^2 x3^3 x4^4 x5', 'x1^2 x3^3 x4^3 x5^2', 'x1^2 x3^3 x4^2 x5^3', 'x1^2 x3^3 x4 x5^4', 'x1^2 x3^3 x5^5', 'x1^2 x3^2 x4^6', 'x1^2 x3^2 x4^5 x5', 'x1^2 x3^2 x4^4 x5^2', 'x1^2 x3^2 x4^3 x5^3', 'x1^2 x3^2 x4^2 x5^4', 'x1^2 x3^2 x4 x5^5', 'x1^2 x3^2 x5^6', 'x1^2 x3 x4^7', 'x1^2 x3 x4^6 x5', 'x1^2 x3 x4^5 x5^2', 'x1^2 x3 x4^4 x5^3', 'x1^2 x3 x4^3 x5^4', 'x1^2 x3 x4^2 x5^5', 'x1^2 x3 x4 x5^6', 'x1^2 x3 x5^7', 'x1^2 x4^8', 'x1^2 x4^7 x5', 'x1^2 x4^6 x5^2', 'x1^2 x4^5 x5^3', 'x1^2 x4^4 x5^4', 'x1^2 x4^3 x5^5', 'x1^2 x4^2 x5^6', 'x1^2 x4 x5^7', 'x1^2 x5^8', 'x1 x2^9', 'x1 x2^8 x3', 'x1 x2^8 x4', 'x1 x2^8 x5', 'x1 x2^7 x3^2', 'x1 x2^7 x3 x4', 'x1 x2^7 x3 x5', 'x1 x2^7 x4^2', 'x1 x2^7 x4 x5', 'x1 x2^7 x5^2', 'x1 x2^6 x3^3', 'x1 x2^6 x3^2 x4', 'x1 x2^6 x3^2 x5', 'x1 x2^6 x3 x4^2', 'x1 x2^6 x3 x4 x5', 'x1 x2^6 x3 x5^2', 'x1 x2^6 x4^3', 'x1 x2^6 x4^2 x5', 'x1 x2^6 x4 x5^2', 'x1 x2^6 x5^3', 'x1 x2^5 x3^4', 'x1 x2^5 x3^3 x4', 'x1 x2^5 x3^3 x5', 'x1 x2^5 x3^2 x4^2', 'x1 x2^5 x3^2 x4 x5', 'x1 x2^5 x3^2 x5^2', 'x1 x2^5 x3 x4^3', 'x1 x2^5 x3 x4^2 x5', 'x1 x2^5 x3 x4 x5^2', 'x1 x2^5 x3 x5^3', 'x1 x2^5 x4^4', 'x1 x2^5 x4^3 x5', 'x1 x2^5 x4^2 x5^2', 'x1 x2^5 x4 x5^3', 'x1 x2^5 x5^4', 'x1 x2^4 x3^5', 'x1 x2^4 x3^4 x4', 'x1 x2^4 x3^4 x5', 'x1 x2^4 x3^3 x4^2', 'x1 x2^4 x3^3 x4 x5', 'x1 x2^4 x3^3 x5^2', 'x1 x2^4 x3^2 x4^3', 'x1 x2^4 x3^2 x4^2 x5', 'x1 x2^4 x3^2 x4 x5^2', 'x1 x2^4 x3^2 x5^3', 'x1 x2^4 x3 x4^4', 'x1 x2^4 x3 x4^3 x5', 'x1 x2^4 x3 x4^2 x5^2', 'x1 x2^4 x3 x4 x5^3', 'x1 x2^4 x3 x5^4', 'x1 x2^4 x4^5', 'x1 x2^4 x4^4 x5', 'x1 x2^4 x4^3 x5^2', 'x1 x2^4 x4^2 x5^3', 'x1 x2^4 x4 x5^4', 'x1 x2^4 x5^5', 'x1 x2^3 x3^6', 'x1 x2^3 x3^5 x4', 'x1 x2^3 x3^5 x5', 'x1 x2^3 x3^4 x4^2', 'x1 x2^3 x3^4 x4 x5', 'x1 x2^3 x3^4 x5^2', 'x1 x2^3 x3^3 x4^3', 'x1 x2^3 x3^3 x4^2 x5', 'x1 x2^3 x3^3 x4 x5^2', 'x1 x2^3 x3^3 x5^3', 'x1 x2^3 x3^2 x4^4', 'x1 x2^3 x3^2 x4^3 x5', 'x1 x2^3 x3^2 x4^2 x5^2', 'x1 x2^3 x3^2 x4 x5^3', 'x1 x2^3 x3^2 x5^4', 'x1 x2^3 x3 x4^5', 'x1 x2^3 x3 x4^4 x5', 'x1 x2^3 x3 x4^3 x5^2', 'x1 x2^3 x3 x4^2 x5^3', 'x1 x2^3 x3 x4 x5^4', 'x1 x2^3 x3 x5^5', 'x1 x2^3 x4^6', 'x1 x2^3 x4^5 x5', 'x1 x2^3 x4^4 x5^2', 'x1 x2^3 x4^3 x5^3', 'x1 x2^3 x4^2 x5^4', 'x1 x2^3 x4 x5^5', 'x1 x2^3 x5^6', 'x1 x2^2 x3^7', 'x1 x2^2 x3^6 x4', 'x1 x2^2 x3^6 x5', 'x1 x2^2 x3^5 x4^2', 'x1 x2^2 x3^5 x4 x5', 'x1 x2^2 x3^5 x5^2', 'x1 x2^2 x3^4 x4^3', 'x1 x2^2 x3^4 x4^2 x5', 'x1 x2^2 x3^4 x4 x5^2', 'x1 x2^2 x3^4 x5^3', 'x1 x2^2 x3^3 x4^4', 'x1 x2^2 x3^3 x4^3 x5', 'x1 x2^2 x3^3 x4^2 x5^2', 'x1 x2^2 x3^3 x4 x5^3', 'x1 x2^2 x3^3 x5^4', 'x1 x2^2 x3^2 x4^5', 'x1 x2^2 x3^2 x4^4 x5', 'x1 x2^2 x3^2 x4^3 x5^2', 'x1 x2^2 x3^2 x4^2 x5^3', 'x1 x2^2 x3^2 x4 x5^4', 'x1 x2^2 x3^2 x5^5', 'x1 x2^2 x3 x4^6', 'x1 x2^2 x3 x4^5 x5', 'x1 x2^2 x3 x4^4 x5^2', 'x1 x2^2 x3 x4^3 x5^3', 'x1 x2^2 x3 x4^2 x5^4', 'x1 x2^2 x3 x4 x5^5', 'x1 x2^2 x3 x5^6', 'x1 x2^2 x4^7', 'x1 x2^2 x4^6 x5', 'x1 x2^2 x4^5 x5^2', 'x1 x2^2 x4^4 x5^3', 'x1 x2^2 x4^3 x5^4', 'x1 x2^2 x4^2 x5^5', 'x1 x2^2 x4 x5^6', 'x1 x2^2 x5^7', 'x1 x2 x3^8', 'x1 x2 x3^7 x4', 'x1 x2 x3^7 x5', 'x1 x2 x3^6 x4^2', 'x1 x2 x3^6 x4 x5', 'x1 x2 x3^6 x5^2', 'x1 x2 x3^5 x4^3', 'x1 x2 x3^5 x4^2 x5', 'x1 x2 x3^5 x4 x5^2', 'x1 x2 x3^5 x5^3', 'x1 x2 x3^4 x4^4', 'x1 x2 x3^4 x4^3 x5', 'x1 x2 x3^4 x4^2 x5^2', 'x1 x2 x3^4 x4 x5^3', 'x1 x2 x3^4 x5^4', 'x1 x2 x3^3 x4^5', 'x1 x2 x3^3 x4^4 x5', 'x1 x2 x3^3 x4^3 x5^2', 'x1 x2 x3^3 x4^2 x5^3', 'x1 x2 x3^3 x4 x5^4', 'x1 x2 x3^3 x5^5', 'x1 x2 x3^2 x4^6', 'x1 x2 x3^2 x4^5 x5', 'x1 x2 x3^2 x4^4 x5^2', 'x1 x2 x3^2 x4^3 x5^3', 'x1 x2 x3^2 x4^2 x5^4', 'x1 x2 x3^2 x4 x5^5', 'x1 x2 x3^2 x5^6', 'x1 x2 x3 x4^7', 'x1 x2 x3 x4^6 x5', 'x1 x2 x3 x4^5 x5^2', 'x1 x2 x3 x4^4 x5^3', 'x1 x2 x3 x4^3 x5^4', 'x1 x2 x3 x4^2 x5^5', 'x1 x2 x3 x4 x5^6', 'x1 x2 x3 x5^7', 'x1 x2 x4^8', 'x1 x2 x4^7 x5', 'x1 x2 x4^6 x5^2', 'x1 x2 x4^5 x5^3', 'x1 x2 x4^4 x5^4', 'x1 x2 x4^3 x5^5', 'x1 x2 x4^2 x5^6', 'x1 x2 x4 x5^7', 'x1 x2 x5^8', 'x1 x3^9', 'x1 x3^8 x4', 'x1 x3^8 x5', 'x1 x3^7 x4^2', 'x1 x3^7 x4 x5', 'x1 x3^7 x5^2', 'x1 x3^6 x4^3', 'x1 x3^6 x4^2 x5', 'x1 x3^6 x4 x5^2', 'x1 x3^6 x5^3', 'x1 x3^5 x4^4', 'x1 x3^5 x4^3 x5', 'x1 x3^5 x4^2 x5^2', 'x1 x3^5 x4 x5^3', 'x1 x3^5 x5^4', 'x1 x3^4 x4^5', 'x1 x3^4 x4^4 x5', 'x1 x3^4 x4^3 x5^2', 'x1 x3^4 x4^2 x5^3', 'x1 x3^4 x4 x5^4', 'x1 x3^4 x5^5', 'x1 x3^3 x4^6', 'x1 x3^3 x4^5 x5', 'x1 x3^3 x4^4 x5^2', 'x1 x3^3 x4^3 x5^3', 'x1 x3^3 x4^2 x5^4', 'x1 x3^3 x4 x5^5', 'x1 x3^3 x5^6', 'x1 x3^2 x4^7', 'x1 x3^2 x4^6 x5', 'x1 x3^2 x4^5 x5^2', 'x1 x3^2 x4^4 x5^3', 'x1 x3^2 x4^3 x5^4', 'x1 x3^2 x4^2 x5^5', 'x1 x3^2 x4 x5^6', 'x1 x3^2 x5^7', 'x1 x3 x4^8', 'x1 x3 x4^7 x5', 'x1 x3 x4^6 x5^2', 'x1 x3 x4^5 x5^3', 'x1 x3 x4^4 x5^4', 'x1 x3 x4^3 x5^5', 'x1 x3 x4^2 x5^6', 'x1 x3 x4 x5^7', 'x1 x3 x5^8', 'x1 x4^9', 'x1 x4^8 x5', 'x1 x4^7 x5^2', 'x1 x4^6 x5^3', 'x1 x4^5 x5^4', 'x1 x4^4 x5^5', 'x1 x4^3 x5^6', 'x1 x4^2 x5^7', 'x1 x4 x5^8', 'x1 x5^9', 'x2^10', 'x2^9 x3', 'x2^9 x4', 'x2^9 x5', 'x2^8 x3^2', 'x2^8 x3 x4', 'x2^8 x3 x5', 'x2^8 x4^2', 'x2^8 x4 x5', 'x2^8 x5^2', 'x2^7 x3^3', 'x2^7 x3^2 x4', 'x2^7 x3^2 x5', 'x2^7 x3 x4^2', 'x2^7 x3 x4 x5', 'x2^7 x3 x5^2', 'x2^7 x4^3', 'x2^7 x4^2 x5', 'x2^7 x4 x5^2', 'x2^7 x5^3', 'x2^6 x3^4', 'x2^6 x3^3 x4', 'x2^6 x3^3 x5', 'x2^6 x3^2 x4^2', 'x2^6 x3^2 x4 x5', 'x2^6 x3^2 x5^2', 'x2^6 x3 x4^3', 'x2^6 x3 x4^2 x5', 'x2^6 x3 x4 x5^2', 'x2^6 x3 x5^3', 'x2^6 x4^4', 'x2^6 x4^3 x5', 'x2^6 x4^2 x5^2', 'x2^6 x4 x5^3', 'x2^6 x5^4', 'x2^5 x3^5', 'x2^5 x3^4 x4', 'x2^5 x3^4 x5', 'x2^5 x3^3 x4^2', 'x2^5 x3^3 x4 x5', 'x2^5 x3^3 x5^2', 'x2^5 x3^2 x4^3', 'x2^5 x3^2 x4^2 x5', 'x2^5 x3^2 x4 x5^2', 'x2^5 x3^2 x5^3', 'x2^5 x3 x4^4', 'x2^5 x3 x4^3 x5', 'x2^5 x3 x4^2 x5^2', 'x2^5 x3 x4 x5^3', 'x2^5 x3 x5^4', 'x2^5 x4^5', 'x2^5 x4^4 x5', 'x2^5 x4^3 x5^2', 'x2^5 x4^2 x5^3', 'x2^5 x4 x5^4', 'x2^5 x5^5', 'x2^4 x3^6', 'x2^4 x3^5 x4', 'x2^4 x3^5 x5', 'x2^4 x3^4 x4^2', 'x2^4 x3^4 x4 x5', 'x2^4 x3^4 x5^2', 'x2^4 x3^3 x4^3', 'x2^4 x3^3 x4^2 x5', 'x2^4 x3^3 x4 x5^2', 'x2^4 x3^3 x5^3', 'x2^4 x3^2 x4^4', 'x2^4 x3^2 x4^3 x5', 'x2^4 x3^2 x4^2 x5^2', 'x2^4 x3^2 x4 x5^3', 'x2^4 x3^2 x5^4', 'x2^4 x3 x4^5', 'x2^4 x3 x4^4 x5', 'x2^4 x3 x4^3 x5^2', 'x2^4 x3 x4^2 x5^3', 'x2^4 x3 x4 x5^4', 'x2^4 x3 x5^5', 'x2^4 x4^6', 'x2^4 x4^5 x5', 'x2^4 x4^4 x5^2', 'x2^4 x4^3 x5^3', 'x2^4 x4^2 x5^4', 'x2^4 x4 x5^5', 'x2^4 x5^6', 'x2^3 x3^7', 'x2^3 x3^6 x4', 'x2^3 x3^6 x5', 'x2^3 x3^5 x4^2', 'x2^3 x3^5 x4 x5', 'x2^3 x3^5 x5^2', 'x2^3 x3^4 x4^3', 'x2^3 x3^4 x4^2 x5', 'x2^3 x3^4 x4 x5^2', 'x2^3 x3^4 x5^3', 'x2^3 x3^3 x4^4', 'x2^3 x3^3 x4^3 x5', 'x2^3 x3^3 x4^2 x5^2', 'x2^3 x3^3 x4 x5^3', 'x2^3 x3^3 x5^4', 'x2^3 x3^2 x4^5', 'x2^3 x3^2 x4^4 x5', 'x2^3 x3^2 x4^3 x5^2', 'x2^3 x3^2 x4^2 x5^3', 'x2^3 x3^2 x4 x5^4', 'x2^3 x3^2 x5^5', 'x2^3 x3 x4^6', 'x2^3 x3 x4^5 x5', 'x2^3 x3 x4^4 x5^2', 'x2^3 x3 x4^3 x5^3', 'x2^3 x3 x4^2 x5^4', 'x2^3 x3 x4 x5^5', 'x2^3 x3 x5^6', 'x2^3 x4^7', 'x2^3 x4^6 x5', 'x2^3 x4^5 x5^2', 'x2^3 x4^4 x5^3', 'x2^3 x4^3 x5^4', 'x2^3 x4^2 x5^5', 'x2^3 x4 x5^6', 'x2^3 x5^7', 'x2^2 x3^8', 'x2^2 x3^7 x4', 'x2^2 x3^7 x5', 'x2^2 x3^6 x4^2', 'x2^2 x3^6 x4 x5', 'x2^2 x3^6 x5^2', 'x2^2 x3^5 x4^3', 'x2^2 x3^5 x4^2 x5', 'x2^2 x3^5 x4 x5^2', 'x2^2 x3^5 x5^3', 'x2^2 x3^4 x4^4', 'x2^2 x3^4 x4^3 x5', 'x2^2 x3^4 x4^2 x5^2', 'x2^2 x3^4 x4 x5^3', 'x2^2 x3^4 x5^4', 'x2^2 x3^3 x4^5', 'x2^2 x3^3 x4^4 x5', 'x2^2 x3^3 x4^3 x5^2', 'x2^2 x3^3 x4^2 x5^3', 'x2^2 x3^3 x4 x5^4', 'x2^2 x3^3 x5^5', 'x2^2 x3^2 x4^6', 'x2^2 x3^2 x4^5 x5', 'x2^2 x3^2 x4^4 x5^2', 'x2^2 x3^2 x4^3 x5^3', 'x2^2 x3^2 x4^2 x5^4', 'x2^2 x3^2 x4 x5^5', 'x2^2 x3^2 x5^6', 'x2^2 x3 x4^7', 'x2^2 x3 x4^6 x5', 'x2^2 x3 x4^5 x5^2', 'x2^2 x3 x4^4 x5^3', 'x2^2 x3 x4^3 x5^4', 'x2^2 x3 x4^2 x5^5', 'x2^2 x3 x4 x5^6', 'x2^2 x3 x5^7', 'x2^2 x4^8', 'x2^2 x4^7 x5', 'x2^2 x4^6 x5^2', 'x2^2 x4^5 x5^3', 'x2^2 x4^4 x5^4', 'x2^2 x4^3 x5^5', 'x2^2 x4^2 x5^6', 'x2^2 x4 x5^7', 'x2^2 x5^8', 'x2 x3^9', 'x2 x3^8 x4', 'x2 x3^8 x5', 'x2 x3^7 x4^2', 'x2 x3^7 x4 x5', 'x2 x3^7 x5^2', 'x2 x3^6 x4^3', 'x2 x3^6 x4^2 x5', 'x2 x3^6 x4 x5^2', 'x2 x3^6 x5^3', 'x2 x3^5 x4^4', 'x2 x3^5 x4^3 x5', 'x2 x3^5 x4^2 x5^2', 'x2 x3^5 x4 x5^3', 'x2 x3^5 x5^4', 'x2 x3^4 x4^5', 'x2 x3^4 x4^4 x5', 'x2 x3^4 x4^3 x5^2', 'x2 x3^4 x4^2 x5^3', 'x2 x3^4 x4 x5^4', 'x2 x3^4 x5^5', 'x2 x3^3 x4^6', 'x2 x3^3 x4^5 x5', 'x2 x3^3 x4^4 x5^2', 'x2 x3^3 x4^3 x5^3', 'x2 x3^3 x4^2 x5^4', 'x2 x3^3 x4 x5^5', 'x2 x3^3 x5^6', 'x2 x3^2 x4^7', 'x2 x3^2 x4^6 x5', 'x2 x3^2 x4^5 x5^2', 'x2 x3^2 x4^4 x5^3', 'x2 x3^2 x4^3 x5^4', 'x2 x3^2 x4^2 x5^5', 'x2 x3^2 x4 x5^6', 'x2 x3^2 x5^7', 'x2 x3 x4^8', 'x2 x3 x4^7 x5', 'x2 x3 x4^6 x5^2', 'x2 x3 x4^5 x5^3', 'x2 x3 x4^4 x5^4', 'x2 x3 x4^3 x5^5', 'x2 x3 x4^2 x5^6', 'x2 x3 x4 x5^7', 'x2 x3 x5^8', 'x2 x4^9', 'x2 x4^8 x5', 'x2 x4^7 x5^2', 'x2 x4^6 x5^3', 'x2 x4^5 x5^4', 'x2 x4^4 x5^5', 'x2 x4^3 x5^6', 'x2 x4^2 x5^7', 'x2 x4 x5^8', 'x2 x5^9', 'x3^10', 'x3^9 x4', 'x3^9 x5', 'x3^8 x4^2', 'x3^8 x4 x5', 'x3^8 x5^2', 'x3^7 x4^3', 'x3^7 x4^2 x5', 'x3^7 x4 x5^2', 'x3^7 x5^3', 'x3^6 x4^4', 'x3^6 x4^3 x5', 'x3^6 x4^2 x5^2', 'x3^6 x4 x5^3', 'x3^6 x5^4', 'x3^5 x4^5', 'x3^5 x4^4 x5', 'x3^5 x4^3 x5^2', 'x3^5 x4^2 x5^3', 'x3^5 x4 x5^4', 'x3^5 x5^5', 'x3^4 x4^6', 'x3^4 x4^5 x5', 'x3^4 x4^4 x5^2', 'x3^4 x4^3 x5^3', 'x3^4 x4^2 x5^4', 'x3^4 x4 x5^5', 'x3^4 x5^6', 'x3^3 x4^7', 'x3^3 x4^6 x5', 'x3^3 x4^5 x5^2', 'x3^3 x4^4 x5^3', 'x3^3 x4^3 x5^4', 'x3^3 x4^2 x5^5', 'x3^3 x4 x5^6', 'x3^3 x5^7', 'x3^2 x4^8', 'x3^2 x4^7 x5', 'x3^2 x4^6 x5^2', 'x3^2 x4^5 x5^3', 'x3^2 x4^4 x5^4', 'x3^2 x4^3 x5^5', 'x3^2 x4^2 x5^6', 'x3^2 x4 x5^7', 'x3^2 x5^8', 'x3 x4^9', 'x3 x4^8 x5', 'x3 x4^7 x5^2', 'x3 x4^6 x5^3', 'x3 x4^5 x5^4', 'x3 x4^4 x5^5', 'x3 x4^3 x5^6', 'x3 x4^2 x5^7', 'x3 x4 x5^8', 'x3 x5^9', 'x4^10', 'x4^9 x5', 'x4^8 x5^2', 'x4^7 x5^3', 'x4^6 x5^4', 'x4^5 x5^5', 'x4^4 x5^6', 'x4^3 x5^7', 'x4^2 x5^8', 'x4 x5^9', 'x5^10'] \n"
          ]
        }
      ]
    },
    {
      "cell_type": "code",
      "source": [
        "print(\"X_train shape\", X_train.shape )\n",
        "print(\"X_test shape\", X_test.shape )"
      ],
      "metadata": {
        "colab": {
          "base_uri": "https://localhost:8080/"
        },
        "id": "oK0j_qugPbL6",
        "outputId": "2ea16471-9ec0-4ca3-a476-298d44176fcc"
      },
      "execution_count": null,
      "outputs": [
        {
          "output_type": "stream",
          "name": "stdout",
          "text": [
            "X_train shape (942, 8007)\n",
            "X_test shape (405, 8007)\n"
          ]
        }
      ]
    },
    {
      "cell_type": "code",
      "source": [
        "from sklearn.preprocessing import MinMaxScaler\n",
        "scaler = MinMaxScaler()\n",
        "scaler.fit(X_train)\n",
        "X_train_scaled = scaler.transform(X_train)\n",
        "X_test_scaled = scaler.transform(X_test)"
      ],
      "metadata": {
        "id": "M0DxCqucT1ci"
      },
      "execution_count": null,
      "outputs": []
    },
    {
      "cell_type": "code",
      "source": [
        "from sklearn.decomposition import PCA\n",
        "pca_polinomial = PCA(n_components=3, whiten=True, random_state=0)\n",
        "#PCA\n",
        "pca_polinomial.fit(X_train_scaled) # Obtain the principal components\n",
        "# transform/project dataset\n",
        "X_pca_train_pca_polinomial = pca_polinomial.transform(X_train_scaled)\n",
        "X_pca_test_pca_polinomial = pca_polinomial.transform(X_test_scaled)\n",
        "\n",
        "pca_polinomial.explained_variance_ratio_.sum()"
      ],
      "metadata": {
        "colab": {
          "base_uri": "https://localhost:8080/"
        },
        "id": "x77W-obbTOaQ",
        "outputId": "2c09f01c-43eb-43e2-a421-f046fc08670d"
      },
      "execution_count": null,
      "outputs": [
        {
          "output_type": "execute_result",
          "data": {
            "text/plain": [
              "0.9166670496095807"
            ]
          },
          "metadata": {},
          "execution_count": 88
        }
      ]
    },
    {
      "cell_type": "code",
      "source": [
        "line = np.linspace(-3,3,1000, endpoint=False).reshape(-1,1)\n",
        "regLinear = svm.SVR(C=1000000, epsilon=0.2).fit(X_pca_train_pca_polinomial, y_train)\n",
        "print(\"Train set Polynomial {:.2f}\".format(regLinear.score(X_pca_train_pca_polinomial, y_train)))\n",
        "print(\"Test set Polynomial {:.2f}\".format(regLinear.score(X_pca_test_pca_polinomial, y_test)))\n",
        "#line_poly = poly.transform(line)\n",
        "plt.plot(X_pca_test_pca_polinomial[:,0], regLinear.predict(X_pca_test_pca_polinomial), label='polynomial linear regresion ')\n",
        "plt.plot(X_pca_train_pca_polinomial[:,0],y_train, 'o', c='k')\n",
        "plt.ylabel(\"Regresion output\")\n",
        "plt.xlabel(\"Input feature\")\n",
        "plt.legend(loc=\"best\")"
      ],
      "metadata": {
        "colab": {
          "base_uri": "https://localhost:8080/"
        },
        "id": "7BUTQHXfvW-3",
        "outputId": "0e9c33b9-2c9d-45cc-855d-a820268c0608"
      },
      "execution_count": null,
      "outputs": [
        {
          "output_type": "stream",
          "name": "stdout",
          "text": [
            "Train set Polynomial 0.86\n",
            "Test set Polynomial 0.80\n"
          ]
        },
        {
          "output_type": "execute_result",
          "data": {
            "text/plain": [
              "<matplotlib.legend.Legend at 0x7fa3df7fb510>"
            ]
          },
          "metadata": {},
          "execution_count": 89
        },
        {
          "output_type": "display_data",
          "data": {
            "text/plain": [
              "<Figure size 432x288 with 1 Axes>"
            ],
            "image/png": "[encoded data removed]"
          },
          "metadata": {
            "needs_background": "light"
          }
        }
      ]
    },
    {
      "cell_type": "markdown",
      "source": [
        "#GetDummies-One_Hot_Encoder - Binning"
      ],
      "metadata": {
        "id": "g7NNhz9SgDbF"
      }
    },
    {
      "cell_type": "markdown",
      "source": [
        "### A continuación se listan todas las características categóricas del dataset de valor para el proceso. Y más adelante se seleccionan cuales se utilizaran especificamente."
      ],
      "metadata": {
        "id": "9Zqt6qo2VFJ1"
      }
    },
    {
      "cell_type": "code",
      "source": [
        "colsTrainCategoricals = [ 'MSZoning',\n",
        "'Street',\n",
        "'LotShape',\n",
        "'LandContour',\n",
        "'Utilities',\n",
        "'LotConfig',\n",
        "'LandSlope',\n",
        "'Neighborhood',\n",
        "'Condition1',\n",
        "'Condition2',\n",
        "'BldgType',\n",
        "'HouseStyle',\n",
        "'RoofStyle',\n",
        "'RoofMatl',\n",
        "'Exterior1st',\n",
        "'Exterior2nd',\n",
        "'ExterQual',\n",
        "'ExterCond',\n",
        "'Foundation',\n",
        "'BsmtQual',\n",
        "'BsmtCond',\n",
        "'BsmtExposure',\n",
        "'BsmtFinType1',\n",
        "'BsmtFinType2',\n",
        "'Heating',\n",
        "'HeatingQC',\n",
        "'CentralAir',\n",
        "'Electrical',\n",
        "'KitchenQual',\n",
        "'Functional',\n",
        "'GarageType',\n",
        "'GarageFinish',\n",
        "'GarageQual',\n",
        "'GarageCond',\n",
        "'PavedDrive',\n",
        "'SaleType',\n",
        "'SaleCondition' ]\n",
        "\n",
        "colsTestCategoricals = ['MSZoning',\n",
        "'Street',\n",
        "'LotShape',\n",
        "'LandContour',\n",
        "'Utilities',\n",
        "'LotConfig',\n",
        "'LandSlope',\n",
        "'Neighborhood',\n",
        "'Condition1',\n",
        "'Condition2',\n",
        "'BldgType',\n",
        "'HouseStyle',\n",
        "'RoofStyle',\n",
        "'RoofMatl',\n",
        "'Exterior1st',\n",
        "'Exterior2nd',\n",
        "'ExterQual',\n",
        "'ExterCond',\n",
        "'Foundation',\n",
        "'BsmtQual',\n",
        "'BsmtCond',\n",
        "'BsmtExposure',\n",
        "'BsmtFinType1',\n",
        "'BsmtFinType2',\n",
        "'Heating',\n",
        "'HeatingQC',\n",
        "'CentralAir',\n",
        "'Electrical',\n",
        "'KitchenQual',\n",
        "'Functional',\n",
        "'GarageType',\n",
        "'GarageFinish',\n",
        "'GarageQual',\n",
        "'GarageCond',\n",
        "'PavedDrive',\n",
        "'SaleType',\n",
        "'SaleCondition']"
      ],
      "metadata": {
        "id": "QcljbYfLoS-N"
      },
      "execution_count": null,
      "outputs": []
    },
    {
      "cell_type": "markdown",
      "source": [
        "### Observamos primeramente las características originales después de un proceso de limpieza. Solo Para verificar"
      ],
      "metadata": {
        "id": "dqOII3fGVflV"
      }
    },
    {
      "cell_type": "code",
      "source": [
        "print(\"Keys of train_one_hot:\\n\", train_one_hot.keys())\n",
        "print(\"Keys of test_one_hot:\\n\", test_one_hot.keys())"
      ],
      "metadata": {
        "colab": {
          "base_uri": "https://localhost:8080/"
        },
        "id": "rhFU4n2oSYr_",
        "outputId": "b540b1e1-fe8d-4b12-b260-fcd103f21275"
      },
      "execution_count": null,
      "outputs": [
        {
          "output_type": "stream",
          "name": "stdout",
          "text": [
            "Keys of train_one_hot:\n",
            " Index(['Id', 'MSSubClass', 'MSZoning', 'LotArea', 'Street', 'LotShape',\n",
            "       'LandContour', 'Utilities', 'LotConfig', 'LandSlope', 'Neighborhood',\n",
            "       'Condition1', 'Condition2', 'BldgType', 'HouseStyle', 'OverallQual',\n",
            "       'OverallCond', 'YearBuilt', 'YearRemodAdd', 'RoofStyle', 'RoofMatl',\n",
            "       'Exterior1st', 'Exterior2nd', 'ExterQual', 'ExterCond', 'Foundation',\n",
            "       'BsmtQual', 'BsmtCond', 'BsmtExposure', 'BsmtFinType1', 'BsmtFinType2',\n",
            "       'BsmtUnfSF', 'TotalBsmtSF', 'Heating', 'HeatingQC', 'CentralAir',\n",
            "       'Electrical', '1stFlrSF', 'GrLivArea', 'FullBath', 'BedroomAbvGr',\n",
            "       'KitchenAbvGr', 'KitchenQual', 'TotRmsAbvGrd', 'Functional',\n",
            "       'GarageType', 'GarageYrBlt', 'GarageFinish', 'GarageCars', 'GarageArea',\n",
            "       'GarageQual', 'GarageCond', 'PavedDrive', 'MoSold', 'YrSold',\n",
            "       'SaleType', 'SaleCondition', 'SalePrice'],\n",
            "      dtype='object')\n",
            "Keys of test_one_hot:\n",
            " Index(['Id', 'MSSubClass', 'MSZoning', 'LotArea', 'Street', 'LotShape',\n",
            "       'LandContour', 'Utilities', 'LotConfig', 'LandSlope', 'Neighborhood',\n",
            "       'Condition1', 'Condition2', 'BldgType', 'HouseStyle', 'OverallQual',\n",
            "       'OverallCond', 'YearBuilt', 'YearRemodAdd', 'RoofStyle', 'RoofMatl',\n",
            "       'Exterior1st', 'Exterior2nd', 'ExterQual', 'ExterCond', 'Foundation',\n",
            "       'BsmtQual', 'BsmtCond', 'BsmtExposure', 'BsmtFinType1', 'BsmtFinType2',\n",
            "       'BsmtUnfSF', 'TotalBsmtSF', 'Heating', 'HeatingQC', 'CentralAir',\n",
            "       'Electrical', '1stFlrSF', 'GrLivArea', 'FullBath', 'BedroomAbvGr',\n",
            "       'KitchenAbvGr', 'KitchenQual', 'TotRmsAbvGrd', 'Functional',\n",
            "       'GarageType', 'GarageYrBlt', 'GarageFinish', 'GarageCars', 'GarageArea',\n",
            "       'GarageQual', 'GarageCond', 'PavedDrive', 'MoSold', 'YrSold',\n",
            "       'SaleType', 'SaleCondition'],\n",
            "      dtype='object')\n"
          ]
        }
      ]
    },
    {
      "cell_type": "markdown",
      "source": [
        "### Definimos las característics que tendrá el dataset númerico,a el cual aplicaremos transformaciones y escalamiento para luego juntarlo con el hStack"
      ],
      "metadata": {
        "id": "M_QTqI_qVugo"
      }
    },
    {
      "cell_type": "code",
      "source": [
        "colsTrain = ['OverallQual','TotalBsmtSF','1stFlrSF','GrLivArea',\n",
        "             'GarageCars','GarageArea']\n",
        "X_train_numerical = train_one_hot[colsTrain]"
      ],
      "metadata": {
        "id": "c72VyZThrk0C"
      },
      "execution_count": null,
      "outputs": []
    },
    {
      "cell_type": "markdown",
      "source": [
        "### Definiendo train y test con las características categóricas listadas en la primera celda (el test es el original pero al final utilizaremos el X_test con split para validación y dejaremos el test como de pruebas)"
      ],
      "metadata": {
        "id": "RnN1iUjCWjv4"
      }
    },
    {
      "cell_type": "code",
      "source": [
        "train_data = train_one_hot[colsTrainCategoricals]\n",
        "test_data = test_one_hot[colsTestCategoricals]\n",
        "print(\"train_data shape\",train_data.shape)\n",
        "print(\"test_data shape\",test_data.shape)"
      ],
      "metadata": {
        "colab": {
          "base_uri": "https://localhost:8080/"
        },
        "id": "bLBljZF6ghqt",
        "outputId": "96f28ab0-2cef-4389-fdc5-9c514bff4531"
      },
      "execution_count": null,
      "outputs": [
        {
          "output_type": "stream",
          "name": "stdout",
          "text": [
            "train_data shape (1347, 37)\n",
            "test_data shape (1339, 37)\n"
          ]
        }
      ]
    },
    {
      "cell_type": "code",
      "source": [
        "#Observamos los valores enteros por característica\n",
        "for feature in train_data:\n",
        "  print(train_data[feature].value_counts())\n"
      ],
      "metadata": {
        "colab": {
          "base_uri": "https://localhost:8080/"
        },
        "id": "vfIU6tAZHkSB",
        "outputId": "54a6ee76-c5d6-44f3-9f4c-b24362563642"
      },
      "execution_count": null,
      "outputs": [
        {
          "output_type": "stream",
          "name": "stdout",
          "text": [
            "RL         1072\n",
            "RM          191\n",
            "FV           65\n",
            "RH           11\n",
            "C (all)       8\n",
            "Name: MSZoning, dtype: int64\n",
            "Pave    1342\n",
            "Grvl       5\n",
            "Name: Street, dtype: int64\n",
            "Reg    836\n",
            "IR1    461\n",
            "IR2     40\n",
            "IR3     10\n",
            "Name: LotShape, dtype: int64\n",
            "Lvl    1215\n",
            "Bnk      52\n",
            "HLS      48\n",
            "Low      32\n",
            "Name: LandContour, dtype: int64\n",
            "AllPub    1346\n",
            "NoSeWa       1\n",
            "Name: Utilities, dtype: int64\n",
            "Inside     964\n",
            "Corner     245\n",
            "CulDSac     91\n",
            "FR2         43\n",
            "FR3          4\n",
            "Name: LotConfig, dtype: int64\n",
            "Gtl    1274\n",
            "Mod      61\n",
            "Sev      12\n",
            "Name: LandSlope, dtype: int64\n",
            "NAmes      209\n",
            "CollgCr    147\n",
            "OldTown    100\n",
            "Somerst     86\n",
            "Gilbert     78\n",
            "          ... \n",
            "BrDale      15\n",
            "MeadowV     12\n",
            "Veenker     11\n",
            "NPkVill      9\n",
            "Blueste      2\n",
            "Name: Neighborhood, Length: 25, dtype: int64\n",
            "Norm      1171\n",
            "Feedr       63\n",
            "Artery      43\n",
            "RRAn        26\n",
            "PosN        19\n",
            "RRAe        10\n",
            "PosA         8\n",
            "RRNn         5\n",
            "RRNe         2\n",
            "Name: Condition1, dtype: int64\n",
            "Norm      1333\n",
            "Feedr        5\n",
            "Artery       2\n",
            "RRNn         2\n",
            "PosN         2\n",
            "PosA         1\n",
            "RRAn         1\n",
            "RRAe         1\n",
            "Name: Condition2, dtype: int64\n",
            "1Fam      1146\n",
            "TwnhsE     113\n",
            "Twnhs       38\n",
            "Duplex      28\n",
            "2fmCon      22\n",
            "Name: BldgType, dtype: int64\n",
            "1Story    662\n",
            "2Story    429\n",
            "1.5Fin    134\n",
            "SLvl       65\n",
            "SFoyer     30\n",
            "1.5Unf     11\n",
            "2.5Unf     10\n",
            "2.5Fin      6\n",
            "Name: HouseStyle, dtype: int64\n",
            "Gable      1045\n",
            "Hip         273\n",
            "Flat         11\n",
            "Gambrel      10\n",
            "Mansard       6\n",
            "Shed          2\n",
            "Name: RoofStyle, dtype: int64\n",
            "CompShg    1323\n",
            "Tar&Grv       9\n",
            "WdShngl       6\n",
            "WdShake       5\n",
            "Metal         1\n",
            "Membran       1\n",
            "Roll          1\n",
            "ClyTile       1\n",
            "Name: RoofMatl, dtype: int64\n",
            "VinylSd    492\n",
            "HdBoard    211\n",
            "MetalSd    201\n",
            "Wd Sdng    184\n",
            "Plywood    100\n",
            "          ... \n",
            "AsbShng     15\n",
            "Stone        2\n",
            "BrkComm      1\n",
            "ImStucc      1\n",
            "CBlock       1\n",
            "Name: Exterior1st, Length: 14, dtype: int64\n",
            "VinylSd    481\n",
            "MetalSd    197\n",
            "HdBoard    197\n",
            "Wd Sdng    176\n",
            "Plywood    127\n",
            "          ... \n",
            "Brk Cmn      6\n",
            "Stone        3\n",
            "AsphShn      2\n",
            "Other        1\n",
            "CBlock       1\n",
            "Name: Exterior2nd, Length: 16, dtype: int64\n",
            "TA    804\n",
            "Gd    484\n",
            "Ex     52\n",
            "Fa      7\n",
            "Name: ExterQual, dtype: int64\n",
            "TA    1192\n",
            "Gd     137\n",
            "Fa      16\n",
            "Ex       2\n",
            "Name: ExterCond, dtype: int64\n",
            "PConc     629\n",
            "CBlock    580\n",
            "BrkTil    129\n",
            "Stone       6\n",
            "Wood        3\n",
            "Name: Foundation, dtype: int64\n",
            "Gd    599\n",
            "TA    595\n",
            "Ex    121\n",
            "Fa     32\n",
            "Name: BsmtQual, dtype: int64\n",
            "TA    1245\n",
            "Gd      63\n",
            "Fa      38\n",
            "Po       1\n",
            "Name: BsmtCond, dtype: int64\n",
            "No    895\n",
            "Av    213\n",
            "Gd    128\n",
            "Mn    111\n",
            "Name: BsmtExposure, dtype: int64\n",
            "GLQ    407\n",
            "Unf    395\n",
            "ALQ    209\n",
            "BLQ    141\n",
            "Rec    126\n",
            "LwQ     69\n",
            "Name: BsmtFinType1, dtype: int64\n",
            "Unf    1185\n",
            "Rec      53\n",
            "LwQ      46\n",
            "BLQ      32\n",
            "ALQ      19\n",
            "GLQ      12\n",
            "Name: BsmtFinType2, dtype: int64\n",
            "GasA    1327\n",
            "GasW      16\n",
            "Grav       3\n",
            "OthW       1\n",
            "Name: Heating, dtype: int64\n",
            "Ex    711\n",
            "TA    381\n",
            "Gd    218\n",
            "Fa     36\n",
            "Po      1\n",
            "Name: HeatingQC, dtype: int64\n",
            "Y    1286\n",
            "N      61\n",
            "Name: CentralAir, dtype: int64\n",
            "SBrkr    1250\n",
            "FuseA      76\n",
            "FuseF      17\n",
            "FuseP       2\n",
            "Mix         1\n",
            "Name: Electrical, dtype: int64\n",
            "TA    651\n",
            "Gd    575\n",
            "Ex     98\n",
            "Fa     23\n",
            "Name: KitchenQual, dtype: int64\n",
            "Typ     1262\n",
            "Min2      30\n",
            "Min1      28\n",
            "Maj1      11\n",
            "Mod       11\n",
            "Maj2       4\n",
            "Sev        1\n",
            "Name: Functional, dtype: int64\n",
            "Attchd     859\n",
            "Detchd     369\n",
            "BuiltIn     87\n",
            "Basment     19\n",
            "CarPort      7\n",
            "2Types       6\n",
            "Name: GarageType, dtype: int64\n",
            "Unf    580\n",
            "RFn    417\n",
            "Fin    350\n",
            "Name: GarageFinish, dtype: int64\n",
            "TA    1279\n",
            "Fa      48\n",
            "Gd      14\n",
            "Ex       3\n",
            "Po       3\n",
            "Name: GarageQual, dtype: int64\n",
            "TA    1296\n",
            "Fa      33\n",
            "Gd       9\n",
            "Po       7\n",
            "Ex       2\n",
            "Name: GarageCond, dtype: int64\n",
            "Y    1266\n",
            "N      54\n",
            "P      27\n",
            "Name: PavedDrive, dtype: int64\n",
            "WD       1164\n",
            "New       120\n",
            "COD        42\n",
            "ConLD       6\n",
            "ConLI       4\n",
            "CWD         4\n",
            "ConLw       4\n",
            "Con         2\n",
            "Oth         1\n",
            "Name: SaleType, dtype: int64\n",
            "Normal     1109\n",
            "Partial     123\n",
            "Abnorml      86\n",
            "Family       20\n",
            "Alloca        8\n",
            "AdjLand       1\n",
            "Name: SaleCondition, dtype: int64\n"
          ]
        }
      ]
    },
    {
      "cell_type": "markdown",
      "source": [
        "### Obteniendo Dummy Varibles"
      ],
      "metadata": {
        "id": "5wEG2retXB-n"
      }
    },
    {
      "cell_type": "code",
      "source": [
        "data_dummies = pd.get_dummies(train_data)\n",
        "display(data_dummies)"
      ],
      "metadata": {
        "colab": {
          "base_uri": "https://localhost:8080/"
        },
        "id": "gofof7ZMiSoA",
        "outputId": "7c486d4c-101f-49ab-c949-67b42e778d9f"
      },
      "execution_count": null,
      "outputs": [
        {
          "output_type": "display_data",
          "data": {
            "text/plain": [
              "      MSZoning_C (all)  MSZoning_FV  MSZoning_RH  MSZoning_RL  MSZoning_RM  \\\n",
              "0                    0            0            0            1            0   \n",
              "1                    0            0            0            1            0   \n",
              "2                    0            0            0            1            0   \n",
              "3                    0            0            0            1            0   \n",
              "4                    0            0            0            1            0   \n",
              "...                ...          ...          ...          ...          ...   \n",
              "1455                 0            0            0            1            0   \n",
              "1456                 0            0            0            1            0   \n",
              "1457                 0            0            0            1            0   \n",
              "1458                 0            0            0            1            0   \n",
              "1459                 0            0            0            1            0   \n",
              "\n",
              "      Street_Grvl  Street_Pave  LotShape_IR1  LotShape_IR2  LotShape_IR3  ...  \\\n",
              "0               0            1             0             0             0  ...   \n",
              "1               0            1             0             0             0  ...   \n",
              "2               0            1             1             0             0  ...   \n",
              "3               0            1             1             0             0  ...   \n",
              "4               0            1             1             0             0  ...   \n",
              "...           ...          ...           ...           ...           ...  ...   \n",
              "1455            0            1             0             0             0  ...   \n",
              "1456            0            1             0             0             0  ...   \n",
              "1457            0            1             0             0             0  ...   \n",
              "1458            0            1             0             0             0  ...   \n",
              "1459            0            1             0             0             0  ...   \n",
              "\n",
              "      SaleType_ConLw  SaleType_New  SaleType_Oth  SaleType_WD  \\\n",
              "0                  0             0             0            1   \n",
              "1                  0             0             0            1   \n",
              "2                  0             0             0            1   \n",
              "3                  0             0             0            1   \n",
              "4                  0             0             0            1   \n",
              "...              ...           ...           ...          ...   \n",
              "1455               0             0             0            1   \n",
              "1456               0             0             0            1   \n",
              "1457               0             0             0            1   \n",
              "1458               0             0             0            1   \n",
              "1459               0             0             0            1   \n",
              "\n",
              "      SaleCondition_Abnorml  SaleCondition_AdjLand  SaleCondition_Alloca  \\\n",
              "0                         0                      0                     0   \n",
              "1                         0                      0                     0   \n",
              "2                         0                      0                     0   \n",
              "3                         1                      0                     0   \n",
              "4                         0                      0                     0   \n",
              "...                     ...                    ...                   ...   \n",
              "1455                      0                      0                     0   \n",
              "1456                      0                      0                     0   \n",
              "1457                      0                      0                     0   \n",
              "1458                      0                      0                     0   \n",
              "1459                      0                      0                     0   \n",
              "\n",
              "      SaleCondition_Family  SaleCondition_Normal  SaleCondition_Partial  \n",
              "0                        0                     1                      0  \n",
              "1                        0                     1                      0  \n",
              "2                        0                     1                      0  \n",
              "3                        0                     0                      0  \n",
              "4                        0                     1                      0  \n",
              "...                    ...                   ...                    ...  \n",
              "1455                     0                     1                      0  \n",
              "1456                     0                     1                      0  \n",
              "1457                     0                     1                      0  \n",
              "1458                     0                     1                      0  \n",
              "1459                     0                     1                      0  \n",
              "\n",
              "[1347 rows x 225 columns]"
            ],
            "text/html": [
              "\n",
              "  <div id=\"df-854fc025-9e18-4436-89c0-28471f6462b9\">\n",
              "    <div class=\"colab-df-container\">\n",
              "      <div>\n",
              "<style scoped>\n",
              "    .dataframe tbody tr th:only-of-type {\n",
              "        vertical-align: middle;\n",
              "    }\n",
              "\n",
              "    .dataframe tbody tr th {\n",
              "        vertical-align: top;\n",
              "    }\n",
              "\n",
              "    .dataframe thead th {\n",
              "        text-align: right;\n",
              "    }\n",
              "</style>\n",
              "<table border=\"1\" class=\"dataframe\">\n",
              "  <thead>\n",
              "    <tr style=\"text-align: right;\">\n",
              "      <th></th>\n",
              "      <th>MSZoning_C (all)</th>\n",
              "      <th>MSZoning_FV</th>\n",
              "      <th>MSZoning_RH</th>\n",
              "      <th>MSZoning_RL</th>\n",
              "      <th>MSZoning_RM</th>\n",
              "      <th>Street_Grvl</th>\n",
              "      <th>Street_Pave</th>\n",
              "      <th>LotShape_IR1</th>\n",
              "      <th>LotShape_IR2</th>\n",
              "      <th>LotShape_IR3</th>\n",
              "      <th>...</th>\n",
              "      <th>SaleType_ConLw</th>\n",
              "      <th>SaleType_New</th>\n",
              "      <th>SaleType_Oth</th>\n",
              "      <th>SaleType_WD</th>\n",
              "      <th>SaleCondition_Abnorml</th>\n",
              "      <th>SaleCondition_AdjLand</th>\n",
              "      <th>SaleCondition_Alloca</th>\n",
              "      <th>SaleCondition_Family</th>\n",
              "      <th>SaleCondition_Normal</th>\n",
              "      <th>SaleCondition_Partial</th>\n",
              "    </tr>\n",
              "  </thead>\n",
              "  <tbody>\n",
              "    <tr>\n",
              "      <th>0</th>\n",
              "      <td>0</td>\n",
              "      <td>0</td>\n",
              "      <td>0</td>\n",
              "      <td>1</td>\n",
              "      <td>0</td>\n",
              "      <td>0</td>\n",
              "      <td>1</td>\n",
              "      <td>0</td>\n",
              "      <td>0</td>\n",
              "      <td>0</td>\n",
              "      <td>...</td>\n",
              "      <td>0</td>\n",
              "      <td>0</td>\n",
              "      <td>0</td>\n",
              "      <td>1</td>\n",
              "      <td>0</td>\n",
              "      <td>0</td>\n",
              "      <td>0</td>\n",
              "      <td>0</td>\n",
              "      <td>1</td>\n",
              "      <td>0</td>\n",
              "    </tr>\n",
              "    <tr>\n",
              "      <th>1</th>\n",
              "      <td>0</td>\n",
              "      <td>0</td>\n",
              "      <td>0</td>\n",
              "      <td>1</td>\n",
              "      <td>0</td>\n",
              "      <td>0</td>\n",
              "      <td>1</td>\n",
              "      <td>0</td>\n",
              "      <td>0</td>\n",
              "      <td>0</td>\n",
              "      <td>...</td>\n",
              "      <td>0</td>\n",
              "      <td>0</td>\n",
              "      <td>0</td>\n",
              "      <td>1</td>\n",
              "      <td>0</td>\n",
              "      <td>0</td>\n",
              "      <td>0</td>\n",
              "      <td>0</td>\n",
              "      <td>1</td>\n",
              "      <td>0</td>\n",
              "    </tr>\n",
              "    <tr>\n",
              "      <th>2</th>\n",
              "      <td>0</td>\n",
              "      <td>0</td>\n",
              "      <td>0</td>\n",
              "      <td>1</td>\n",
              "      <td>0</td>\n",
              "      <td>0</td>\n",
              "      <td>1</td>\n",
              "      <td>1</td>\n",
              "      <td>0</td>\n",
              "      <td>0</td>\n",
              "      <td>...</td>\n",
              "      <td>0</td>\n",
              "      <td>0</td>\n",
              "      <td>0</td>\n",
              "      <td>1</td>\n",
              "      <td>0</td>\n",
              "      <td>0</td>\n",
              "      <td>0</td>\n",
              "      <td>0</td>\n",
              "      <td>1</td>\n",
              "      <td>0</td>\n",
              "    </tr>\n",
              "    <tr>\n",
              "      <th>3</th>\n",
              "      <td>0</td>\n",
              "      <td>0</td>\n",
              "      <td>0</td>\n",
              "      <td>1</td>\n",
              "      <td>0</td>\n",
              "      <td>0</td>\n",
              "      <td>1</td>\n",
              "      <td>1</td>\n",
              "      <td>0</td>\n",
              "      <td>0</td>\n",
              "      <td>...</td>\n",
              "      <td>0</td>\n",
              "      <td>0</td>\n",
              "      <td>0</td>\n",
              "      <td>1</td>\n",
              "      <td>1</td>\n",
              "      <td>0</td>\n",
              "      <td>0</td>\n",
              "      <td>0</td>\n",
              "      <td>0</td>\n",
              "      <td>0</td>\n",
              "    </tr>\n",
              "    <tr>\n",
              "      <th>4</th>\n",
              "      <td>0</td>\n",
              "      <td>0</td>\n",
              "      <td>0</td>\n",
              "      <td>1</td>\n",
              "      <td>0</td>\n",
              "      <td>0</td>\n",
              "      <td>1</td>\n",
              "      <td>1</td>\n",
              "      <td>0</td>\n",
              "      <td>0</td>\n",
              "      <td>...</td>\n",
              "      <td>0</td>\n",
              "      <td>0</td>\n",
              "      <td>0</td>\n",
              "      <td>1</td>\n",
              "      <td>0</td>\n",
              "      <td>0</td>\n",
              "      <td>0</td>\n",
              "      <td>0</td>\n",
              "      <td>1</td>\n",
              "      <td>0</td>\n",
              "    </tr>\n",
              "    <tr>\n",
              "      <th>...</th>\n",
              "      <td>...</td>\n",
              "      <td>...</td>\n",
              "      <td>...</td>\n",
              "      <td>...</td>\n",
              "      <td>...</td>\n",
              "      <td>...</td>\n",
              "      <td>...</td>\n",
              "      <td>...</td>\n",
              "      <td>...</td>\n",
              "      <td>...</td>\n",
              "      <td>...</td>\n",
              "      <td>...</td>\n",
              "      <td>...</td>\n",
              "      <td>...</td>\n",
              "      <td>...</td>\n",
              "      <td>...</td>\n",
              "      <td>...</td>\n",
              "      <td>...</td>\n",
              "      <td>...</td>\n",
              "      <td>...</td>\n",
              "      <td>...</td>\n",
              "    </tr>\n",
              "    <tr>\n",
              "      <th>1455</th>\n",
              "      <td>0</td>\n",
              "      <td>0</td>\n",
              "      <td>0</td>\n",
              "      <td>1</td>\n",
              "      <td>0</td>\n",
              "      <td>0</td>\n",
              "      <td>1</td>\n",
              "      <td>0</td>\n",
              "      <td>0</td>\n",
              "      <td>0</td>\n",
              "      <td>...</td>\n",
              "      <td>0</td>\n",
              "      <td>0</td>\n",
              "      <td>0</td>\n",
              "      <td>1</td>\n",
              "      <td>0</td>\n",
              "      <td>0</td>\n",
              "      <td>0</td>\n",
              "      <td>0</td>\n",
              "      <td>1</td>\n",
              "      <td>0</td>\n",
              "    </tr>\n",
              "    <tr>\n",
              "      <th>1456</th>\n",
              "      <td>0</td>\n",
              "      <td>0</td>\n",
              "      <td>0</td>\n",
              "      <td>1</td>\n",
              "      <td>0</td>\n",
              "      <td>0</td>\n",
              "      <td>1</td>\n",
              "      <td>0</td>\n",
              "      <td>0</td>\n",
              "      <td>0</td>\n",
              "      <td>...</td>\n",
              "      <td>0</td>\n",
              "      <td>0</td>\n",
              "      <td>0</td>\n",
              "      <td>1</td>\n",
              "      <td>0</td>\n",
              "      <td>0</td>\n",
              "      <td>0</td>\n",
              "      <td>0</td>\n",
              "      <td>1</td>\n",
              "      <td>0</td>\n",
              "    </tr>\n",
              "    <tr>\n",
              "      <th>1457</th>\n",
              "      <td>0</td>\n",
              "      <td>0</td>\n",
              "      <td>0</td>\n",
              "      <td>1</td>\n",
              "      <td>0</td>\n",
              "      <td>0</td>\n",
              "      <td>1</td>\n",
              "      <td>0</td>\n",
              "      <td>0</td>\n",
              "      <td>0</td>\n",
              "      <td>...</td>\n",
              "      <td>0</td>\n",
              "      <td>0</td>\n",
              "      <td>0</td>\n",
              "      <td>1</td>\n",
              "      <td>0</td>\n",
              "      <td>0</td>\n",
              "      <td>0</td>\n",
              "      <td>0</td>\n",
              "      <td>1</td>\n",
              "      <td>0</td>\n",
              "    </tr>\n",
              "    <tr>\n",
              "      <th>1458</th>\n",
              "      <td>0</td>\n",
              "      <td>0</td>\n",
              "      <td>0</td>\n",
              "      <td>1</td>\n",
              "      <td>0</td>\n",
              "      <td>0</td>\n",
              "      <td>1</td>\n",
              "      <td>0</td>\n",
              "      <td>0</td>\n",
              "      <td>0</td>\n",
              "      <td>...</td>\n",
              "      <td>0</td>\n",
              "      <td>0</td>\n",
              "      <td>0</td>\n",
              "      <td>1</td>\n",
              "      <td>0</td>\n",
              "      <td>0</td>\n",
              "      <td>0</td>\n",
              "      <td>0</td>\n",
              "      <td>1</td>\n",
              "      <td>0</td>\n",
              "    </tr>\n",
              "    <tr>\n",
              "      <th>1459</th>\n",
              "      <td>0</td>\n",
              "      <td>0</td>\n",
              "      <td>0</td>\n",
              "      <td>1</td>\n",
              "      <td>0</td>\n",
              "      <td>0</td>\n",
              "      <td>1</td>\n",
              "      <td>0</td>\n",
              "      <td>0</td>\n",
              "      <td>0</td>\n",
              "      <td>...</td>\n",
              "      <td>0</td>\n",
              "      <td>0</td>\n",
              "      <td>0</td>\n",
              "      <td>1</td>\n",
              "      <td>0</td>\n",
              "      <td>0</td>\n",
              "      <td>0</td>\n",
              "      <td>0</td>\n",
              "      <td>1</td>\n",
              "      <td>0</td>\n",
              "    </tr>\n",
              "  </tbody>\n",
              "</table>\n",
              "<p>1347 rows × 225 columns</p>\n",
              "</div>\n",
              "      <button class=\"colab-df-convert\" onclick=\"convertToInteractive('df-854fc025-9e18-4436-89c0-28471f6462b9')\"\n",
              "              title=\"Convert this dataframe to an interactive table.\"\n",
              "              style=\"display:none;\">\n",
              "        \n",
              "  <svg xmlns=\"http://www.w3.org/2000/svg\" height=\"24px\"viewBox=\"0 0 24 24\"\n",
              "       width=\"24px\">\n",
              "    <path d=\"M0 0h24v24H0V0z\" fill=\"none\"/>\n",
              "    <path d=\"M18.56 5.44l.94 2.06.94-2.06 2.06-.94-2.06-.94-.94-2.06-.94 2.06-2.06.94zm-11 1L8.5 8.5l.94-2.06 2.06-.94-2.06-.94L8.5 2.5l-.94 2.06-2.06.94zm10 10l.94 2.06.94-2.06 2.06-.94-2.06-.94-.94-2.06-.94 2.06-2.06.94z\"/><path d=\"M17.41 7.96l-1.37-1.37c-.4-.4-.92-.59-1.43-.59-.52 0-1.04.2-1.43.59L10.3 9.45l-7.72 7.72c-.78.78-.78 2.05 0 2.83L4 21.41c.39.39.9.59 1.41.59.51 0 1.02-.2 1.41-.59l7.78-7.78 2.81-2.81c.8-.78.8-2.07 0-2.86zM5.41 20L4 18.59l7.72-7.72 1.47 1.35L5.41 20z\"/>\n",
              "  </svg>\n",
              "      </button>\n",
              "      \n",
              "  <style>\n",
              "    .colab-df-container {\n",
              "      display:flex;\n",
              "      flex-wrap:wrap;\n",
              "      gap: 12px;\n",
              "    }\n",
              "\n",
              "    .colab-df-convert {\n",
              "      background-color: #E8F0FE;\n",
              "      border: none;\n",
              "      border-radius: 50%;\n",
              "      cursor: pointer;\n",
              "      display: none;\n",
              "      fill: #1967D2;\n",
              "      height: 32px;\n",
              "      padding: 0 0 0 0;\n",
              "      width: 32px;\n",
              "    }\n",
              "\n",
              "    .colab-df-convert:hover {\n",
              "      background-color: #E2EBFA;\n",
              "      box-shadow: 0px 1px 2px rgba(60, 64, 67, 0.3), 0px 1px 3px 1px rgba(60, 64, 67, 0.15);\n",
              "      fill: #174EA6;\n",
              "    }\n",
              "\n",
              "    [theme=dark] .colab-df-convert {\n",
              "      background-color: #3B4455;\n",
              "      fill: #D2E3FC;\n",
              "    }\n",
              "\n",
              "    [theme=dark] .colab-df-convert:hover {\n",
              "      background-color: #434B5C;\n",
              "      box-shadow: 0px 1px 3px 1px rgba(0, 0, 0, 0.15);\n",
              "      filter: drop-shadow(0px 1px 2px rgba(0, 0, 0, 0.3));\n",
              "      fill: #FFFFFF;\n",
              "    }\n",
              "  </style>\n",
              "\n",
              "      <script>\n",
              "        const buttonEl =\n",
              "          document.querySelector('#df-854fc025-9e18-4436-89c0-28471f6462b9 button.colab-df-convert');\n",
              "        buttonEl.style.display =\n",
              "          google.colab.kernel.accessAllowed ? 'block' : 'none';\n",
              "\n",
              "        async function convertToInteractive(key) {\n",
              "          const element = document.querySelector('#df-854fc025-9e18-4436-89c0-28471f6462b9');\n",
              "          const dataTable =\n",
              "            await google.colab.kernel.invokeFunction('convertToInteractive',\n",
              "                                                     [key], {});\n",
              "          if (!dataTable) return;\n",
              "\n",
              "          const docLinkHtml = 'Like what you see? Visit the ' +\n",
              "            '<a target=\"_blank\" href=https://colab.research.google.com/notebooks/data_table.ipynb>data table notebook</a>'\n",
              "            + ' to learn more about interactive tables.';\n",
              "          element.innerHTML = '';\n",
              "          dataTable['output_type'] = 'display_data';\n",
              "          await google.colab.output.renderOutput(dataTable, element);\n",
              "          const docLink = document.createElement('div');\n",
              "          docLink.innerHTML = docLinkHtml;\n",
              "          element.appendChild(docLink);\n",
              "        }\n",
              "      </script>\n",
              "    </div>\n",
              "  </div>\n",
              "  "
            ]
          },
          "metadata": {}
        }
      ]
    },
    {
      "cell_type": "markdown",
      "source": [
        "### Definiendo X features el cuál será un dataset que tiene todas las dummy variables"
      ],
      "metadata": {
        "id": "Fow1V3v_XHXk"
      }
    },
    {
      "cell_type": "code",
      "source": [
        "features = data_dummies.loc[:, 'MSZoning_C (all)':'SaleCondition_Partial']\n",
        "# Extract NumPy arrays\n",
        "X = features.values"
      ],
      "metadata": {
        "id": "ojK5o-qEihhQ"
      },
      "execution_count": null,
      "outputs": []
    },
    {
      "cell_type": "markdown",
      "source": [
        "### Probamos el resultado con una máquina de soporte vectorial"
      ],
      "metadata": {
        "id": "yeadoNJNXPq3"
      }
    },
    {
      "cell_type": "code",
      "source": [
        "from sklearn.linear_model import LogisticRegression\n",
        "from sklearn.model_selection import train_test_split\n",
        "X_train, X_test, y_train, y_test = train_test_split(X, Y, random_state=0)\n",
        "\n",
        "svmDumies = svm.SVR(C=1000000, epsilon=0.2).fit(X_train, y_train)\n",
        "print(\"Training score: {:.2f}\".format(svmDumies.score(X_train, y_train)))\n",
        "print(\"Test score: {:.2f}\".format(svmDumies.score(X_test, y_test)))"
      ],
      "metadata": {
        "colab": {
          "base_uri": "https://localhost:8080/"
        },
        "id": "LiShXWTzncwi",
        "outputId": "42f45547-de2a-4757-8d3c-ee2987989cef"
      },
      "execution_count": null,
      "outputs": [
        {
          "output_type": "stream",
          "name": "stdout",
          "text": [
            "Training score: 0.97\n",
            "Test score: 0.80\n"
          ]
        }
      ]
    },
    {
      "cell_type": "markdown",
      "source": [
        "### One Hot Encode"
      ],
      "metadata": {
        "id": "kBmMFr9H0aaL"
      }
    },
    {
      "cell_type": "markdown",
      "source": [
        "Utilizaremos One Hot Encode para codificar nuestras variables categóricas y además, transformar los datos, esta celda mostrará un ejemplo de la tranformación sin embargo en la siguiente celda se detalla el proceso con un ColumnTransformer"
      ],
      "metadata": {
        "id": "4lBzr0HJPKjd"
      }
    },
    {
      "cell_type": "code",
      "source": [
        "from sklearn.preprocessing import OneHotEncoder\n",
        "# Setting sparse=False means OneHotEncode will return a numpy array, not a sparse matrix\n",
        "ohe = OneHotEncoder(sparse=False)\n",
        "print(ohe.fit_transform(train_data))\n"
      ],
      "metadata": {
        "colab": {
          "base_uri": "https://localhost:8080/"
        },
        "id": "Ib99MlE8zVoj",
        "outputId": "df69476c-cfb6-48ee-cdfe-2ca93d2f7ad9"
      },
      "execution_count": null,
      "outputs": [
        {
          "output_type": "stream",
          "name": "stdout",
          "text": [
            "[[0. 0. 0. ... 0. 1. 0.]\n",
            " [0. 0. 0. ... 0. 1. 0.]\n",
            " [0. 0. 0. ... 0. 1. 0.]\n",
            " ...\n",
            " [0. 0. 0. ... 0. 1. 0.]\n",
            " [0. 0. 0. ... 0. 1. 0.]\n",
            " [0. 0. 0. ... 0. 1. 0.]]\n"
          ]
        }
      ]
    },
    {
      "cell_type": "code",
      "source": [
        "print(ohe.get_feature_names())\n"
      ],
      "metadata": {
        "colab": {
          "base_uri": "https://localhost:8080/"
        },
        "id": "3lARfJQh1GPF",
        "outputId": "3d18e885-9712-45ac-c05d-c9a437cbbe85"
      },
      "execution_count": null,
      "outputs": [
        {
          "output_type": "stream",
          "name": "stdout",
          "text": [
            "['x0_C (all)' 'x0_FV' 'x0_RH' 'x0_RL' 'x0_RM' 'x1_Grvl' 'x1_Pave' 'x2_IR1'\n",
            " 'x2_IR2' 'x2_IR3' 'x2_Reg' 'x3_Bnk' 'x3_HLS' 'x3_Low' 'x3_Lvl'\n",
            " 'x4_AllPub' 'x4_NoSeWa' 'x5_Corner' 'x5_CulDSac' 'x5_FR2' 'x5_FR3'\n",
            " 'x5_Inside' 'x6_Gtl' 'x6_Mod' 'x6_Sev' 'x7_Blmngtn' 'x7_Blueste'\n",
            " 'x7_BrDale' 'x7_BrkSide' 'x7_ClearCr' 'x7_CollgCr' 'x7_Crawfor'\n",
            " 'x7_Edwards' 'x7_Gilbert' 'x7_IDOTRR' 'x7_MeadowV' 'x7_Mitchel'\n",
            " 'x7_NAmes' 'x7_NPkVill' 'x7_NWAmes' 'x7_NoRidge' 'x7_NridgHt'\n",
            " 'x7_OldTown' 'x7_SWISU' 'x7_Sawyer' 'x7_SawyerW' 'x7_Somerst'\n",
            " 'x7_StoneBr' 'x7_Timber' 'x7_Veenker' 'x8_Artery' 'x8_Feedr' 'x8_Norm'\n",
            " 'x8_PosA' 'x8_PosN' 'x8_RRAe' 'x8_RRAn' 'x8_RRNe' 'x8_RRNn' 'x9_Artery'\n",
            " 'x9_Feedr' 'x9_Norm' 'x9_PosA' 'x9_PosN' 'x9_RRAe' 'x9_RRAn' 'x9_RRNn'\n",
            " 'x10_1Fam' 'x10_2fmCon' 'x10_Duplex' 'x10_Twnhs' 'x10_TwnhsE'\n",
            " 'x11_1.5Fin' 'x11_1.5Unf' 'x11_1Story' 'x11_2.5Fin' 'x11_2.5Unf'\n",
            " 'x11_2Story' 'x11_SFoyer' 'x11_SLvl' 'x12_Flat' 'x12_Gable' 'x12_Gambrel'\n",
            " 'x12_Hip' 'x12_Mansard' 'x12_Shed' 'x13_ClyTile' 'x13_CompShg'\n",
            " 'x13_Membran' 'x13_Metal' 'x13_Roll' 'x13_Tar&Grv' 'x13_WdShake'\n",
            " 'x13_WdShngl' 'x14_AsbShng' 'x14_BrkComm' 'x14_BrkFace' 'x14_CBlock'\n",
            " 'x14_CemntBd' 'x14_HdBoard' 'x14_ImStucc' 'x14_MetalSd' 'x14_Plywood'\n",
            " 'x14_Stone' 'x14_Stucco' 'x14_VinylSd' 'x14_Wd Sdng' 'x14_WdShing'\n",
            " 'x15_AsbShng' 'x15_AsphShn' 'x15_Brk Cmn' 'x15_BrkFace' 'x15_CBlock'\n",
            " 'x15_CmentBd' 'x15_HdBoard' 'x15_ImStucc' 'x15_MetalSd' 'x15_Other'\n",
            " 'x15_Plywood' 'x15_Stone' 'x15_Stucco' 'x15_VinylSd' 'x15_Wd Sdng'\n",
            " 'x15_Wd Shng' 'x16_Ex' 'x16_Fa' 'x16_Gd' 'x16_TA' 'x17_Ex' 'x17_Fa'\n",
            " 'x17_Gd' 'x17_TA' 'x18_BrkTil' 'x18_CBlock' 'x18_PConc' 'x18_Stone'\n",
            " 'x18_Wood' 'x19_Ex' 'x19_Fa' 'x19_Gd' 'x19_TA' 'x20_Fa' 'x20_Gd' 'x20_Po'\n",
            " 'x20_TA' 'x21_Av' 'x21_Gd' 'x21_Mn' 'x21_No' 'x22_ALQ' 'x22_BLQ'\n",
            " 'x22_GLQ' 'x22_LwQ' 'x22_Rec' 'x22_Unf' 'x23_ALQ' 'x23_BLQ' 'x23_GLQ'\n",
            " 'x23_LwQ' 'x23_Rec' 'x23_Unf' 'x24_GasA' 'x24_GasW' 'x24_Grav' 'x24_OthW'\n",
            " 'x25_Ex' 'x25_Fa' 'x25_Gd' 'x25_Po' 'x25_TA' 'x26_N' 'x26_Y' 'x27_FuseA'\n",
            " 'x27_FuseF' 'x27_FuseP' 'x27_Mix' 'x27_SBrkr' 'x27_nan' 'x28_Ex' 'x28_Fa'\n",
            " 'x28_Gd' 'x28_TA' 'x29_Maj1' 'x29_Maj2' 'x29_Min1' 'x29_Min2' 'x29_Mod'\n",
            " 'x29_Sev' 'x29_Typ' 'x30_2Types' 'x30_Attchd' 'x30_Basment' 'x30_BuiltIn'\n",
            " 'x30_CarPort' 'x30_Detchd' 'x31_Fin' 'x31_RFn' 'x31_Unf' 'x32_Ex'\n",
            " 'x32_Fa' 'x32_Gd' 'x32_Po' 'x32_TA' 'x33_Ex' 'x33_Fa' 'x33_Gd' 'x33_Po'\n",
            " 'x33_TA' 'x34_N' 'x34_P' 'x34_Y' 'x35_COD' 'x35_CWD' 'x35_Con'\n",
            " 'x35_ConLD' 'x35_ConLI' 'x35_ConLw' 'x35_New' 'x35_Oth' 'x35_WD'\n",
            " 'x36_Abnorml' 'x36_AdjLand' 'x36_Alloca' 'x36_Family' 'x36_Normal'\n",
            " 'x36_Partial']\n"
          ]
        },
        {
          "output_type": "stream",
          "name": "stderr",
          "text": [
            "/usr/local/lib/python3.7/dist-packages/sklearn/utils/deprecation.py:87: FutureWarning: Function get_feature_names is deprecated; get_feature_names is deprecated in 1.0 and will be removed in 1.2. Please use get_feature_names_out instead.\n",
            "  warnings.warn(msg, category=FutureWarning)\n"
          ]
        }
      ]
    },
    {
      "cell_type": "code",
      "source": [
        "from sklearn.compose import ColumnTransformer\n",
        "from sklearn.preprocessing import MinMaxScaler\n",
        "ct = ColumnTransformer([(\"scaling\", MinMaxScaler(), ['OverallQual','TotalBsmtSF','1stFlrSF','GrLivArea','GarageCars','GarageArea']),\n",
        "     (\"onehot\", OneHotEncoder(sparse=False,handle_unknown='ignore'), [ 'MSZoning','Street','LotShape','LandContour','Utilities','LotConfig','LandSlope','Neighborhood',\n",
        "'Condition1','Condition2','BldgType','HouseStyle','RoofStyle','RoofMatl','Exterior1st','Exterior2nd','ExterQual','ExterCond','Foundation','BsmtQual',\n",
        "'BsmtCond','BsmtExposure','BsmtFinType1','BsmtFinType2','Heating','HeatingQC','CentralAir','Electrical','KitchenQual','Functional','GarageType',\n",
        "'GarageFinish','GarageQual','GarageCond','PavedDrive','SaleType','SaleCondition' ])])"
      ],
      "metadata": {
        "id": "IBuF1keP2Wck"
      },
      "execution_count": null,
      "outputs": []
    },
    {
      "cell_type": "markdown",
      "source": [
        "### Juntamos el dataset númerico con el dataset categórico y pormedio del ColumnTransformer obtenemos nuestro dataset de entrenamiento."
      ],
      "metadata": {
        "id": "JRUmaHONXbJv"
      }
    },
    {
      "cell_type": "code",
      "source": [
        "X_combined = np.hstack([X_train_numerical, train_data])\n",
        "df = pd.DataFrame(X_combined, columns = ['OverallQual','TotalBsmtSF','1stFlrSF','GrLivArea','GarageCars','GarageArea','MSZoning','Street','LotShape','LandContour','Utilities','LotConfig','LandSlope','Neighborhood',\n",
        "'Condition1','Condition2','BldgType','HouseStyle','RoofStyle','RoofMatl','Exterior1st','Exterior2nd','ExterQual','ExterCond','Foundation','BsmtQual',\n",
        "'BsmtCond','BsmtExposure','BsmtFinType1','BsmtFinType2','Heating','HeatingQC','CentralAir','Electrical','KitchenQual','Functional','GarageType',\n",
        "'GarageFinish','GarageQual','GarageCond','PavedDrive','SaleType','SaleCondition'])"
      ],
      "metadata": {
        "id": "zEKThmx-4MwO"
      },
      "execution_count": null,
      "outputs": []
    },
    {
      "cell_type": "markdown",
      "source": [
        "### Finalmente elegimos datos de trainin y test"
      ],
      "metadata": {
        "id": "V5belMr6Xo49"
      }
    },
    {
      "cell_type": "code",
      "source": [
        "from sklearn.model_selection import train_test_split\n",
        "\n",
        "X_train, X_test, y_train, y_test = train_test_split(df, Y, random_state=0)\n",
        "\n",
        "ct.fit(X_train)\n",
        "X_train_trans = ct.transform(X_train)\n",
        "X_test_trans = ct.transform(X_test)\n",
        "print(X_train.shape)\n",
        "print(X_train_trans.shape)"
      ],
      "metadata": {
        "colab": {
          "base_uri": "https://localhost:8080/"
        },
        "id": "dryN_KA65fPr",
        "outputId": "4115e4fb-91b0-4854-f5f5-d892b0567695"
      },
      "execution_count": null,
      "outputs": [
        {
          "output_type": "stream",
          "name": "stdout",
          "text": [
            "(1010, 43)\n",
            "(1010, 223)\n"
          ]
        }
      ]
    },
    {
      "cell_type": "markdown",
      "source": [
        "### Probamos los resultados con una máquina de soporte vectorial"
      ],
      "metadata": {
        "id": "NZexY760XtTE"
      }
    },
    {
      "cell_type": "code",
      "source": [
        "svmColumnTransformer = svm.SVR(C=10000, epsilon=0.2).fit(X_train_trans, y_train)\n",
        "print(\"Training score: {:.2f}\".format(svmColumnTransformer.score(X_train_trans, y_train)))\n",
        "print(\"Test score: {:.2f}\".format(svmColumnTransformer.score(X_test_trans, y_test)))"
      ],
      "metadata": {
        "colab": {
          "base_uri": "https://localhost:8080/"
        },
        "id": "0PrlJuO56Bpm",
        "outputId": "81deb84e-8f47-4696-da58-511a3a808546"
      },
      "execution_count": null,
      "outputs": [
        {
          "output_type": "stream",
          "name": "stdout",
          "text": [
            "Training score: 0.69\n",
            "Test score: 0.72\n"
          ]
        }
      ]
    },
    {
      "cell_type": "markdown",
      "source": [
        "Uno de los mayores desempeños ha sido dado por el uso de one hot code, muy cercano al desempeño de MinMaxScaler, usando máquinas de soporte vectoreal.\n",
        "Es de esperar el resultado debido a que se están utilizando mucho más datos. Se espera que depronto aumentando la regularización puedan aumentar el desempeño en los datos de test."
      ],
      "metadata": {
        "id": "mdovFiJOTn7_"
      }
    },
    {
      "cell_type": "markdown",
      "source": [
        "Para el proceso de binning, por ahora no se considera, debido a que utilizamos únicamente variables categóricas, posiblemente proximamente en otro apartado se utilizan características con menos relación lineal, a las cuales podemos aplicarle la técnica de binning."
      ],
      "metadata": {
        "id": "bLqvJbViZT_n"
      }
    },
    {
      "cell_type": "markdown",
      "source": [
        "### Binning"
      ],
      "metadata": {
        "id": "9sBYrUlgMDJ5"
      }
    },
    {
      "cell_type": "code",
      "source": [
        "print(\"Keys of iris_dataset:\\n\", train_df.keys())\n",
        "train_one_hot = train_df.copy()"
      ],
      "metadata": {
        "colab": {
          "base_uri": "https://localhost:8080/"
        },
        "id": "QJR0iHTuNGDK",
        "outputId": "49d61d13-d56d-487d-9689-f67b58df12ad"
      },
      "execution_count": null,
      "outputs": [
        {
          "output_type": "stream",
          "name": "stdout",
          "text": [
            "Keys of iris_dataset:\n",
            " Index(['Id', 'MSSubClass', 'MSZoning', 'LotArea', 'Street', 'LotShape',\n",
            "       'LandContour', 'Utilities', 'LotConfig', 'LandSlope', 'Neighborhood',\n",
            "       'Condition1', 'Condition2', 'BldgType', 'HouseStyle', 'OverallQual',\n",
            "       'OverallCond', 'YearBuilt', 'YearRemodAdd', 'RoofStyle', 'RoofMatl',\n",
            "       'Exterior1st', 'Exterior2nd', 'ExterQual', 'ExterCond', 'Foundation',\n",
            "       'BsmtQual', 'BsmtCond', 'BsmtExposure', 'BsmtFinType1', 'BsmtFinType2',\n",
            "       'BsmtUnfSF', 'TotalBsmtSF', 'Heating', 'HeatingQC', 'CentralAir',\n",
            "       'Electrical', '1stFlrSF', 'GrLivArea', 'FullBath', 'BedroomAbvGr',\n",
            "       'KitchenAbvGr', 'KitchenQual', 'TotRmsAbvGrd', 'Functional',\n",
            "       'GarageType', 'GarageYrBlt', 'GarageFinish', 'GarageCars', 'GarageArea',\n",
            "       'GarageQual', 'GarageCond', 'PavedDrive', 'MoSold', 'YrSold',\n",
            "       'SaleType', 'SaleCondition', 'SalePrice'],\n",
            "      dtype='object')\n"
          ]
        }
      ]
    },
    {
      "cell_type": "code",
      "source": [
        "print(\"Keys of iris_dataset:\\n\", test_df.keys())\n",
        "test_one_hot = test_df.copy()"
      ],
      "metadata": {
        "colab": {
          "base_uri": "https://localhost:8080/"
        },
        "id": "T9tIDDeWMFcV",
        "outputId": "5715ffb7-9a0c-4c44-97d1-4c50767c5fe1"
      },
      "execution_count": null,
      "outputs": [
        {
          "output_type": "stream",
          "name": "stdout",
          "text": [
            "Keys of iris_dataset:\n",
            " Index(['OverallQual', 'TotalBsmtSF', '1stFlrSF', 'GrLivArea', 'GarageCars',\n",
            "       'GarageArea'],\n",
            "      dtype='object')\n"
          ]
        }
      ]
    },
    {
      "cell_type": "markdown",
      "source": [
        "# Conclusión"
      ],
      "metadata": {
        "id": "cWI_vmACxlVA"
      }
    },
    {
      "cell_type": "markdown",
      "source": [
        "Se logró entrenar utilizando cada modelo lineal de machine learning, con un análisis oportuno de cada característica tanto en datos de entrenamiento como de validación\n",
        "\n",
        "Se considera que tras aplicar Facets, esta herramienta permitió realizar una búsqueda exahustiva de las características que podrían traer sesgos al modelo de aprendizaje. Adicionalmente, cada característica pudo validarse puntualmente y gráficamente, observando, si era mejor deshacerse de la característica (Borrar la columna) o limpiar el dataset de pocas filas que posían datos vacíos y/o perdidos. Lo anterior se realizo por completo en el apartado de cleaning Data.\n",
        "\n",
        "Se considera, que la visualizción (Scatter y mapa de calor) permitieron relacionar las características que poseían mayor correlación lineal con el target(Sales price). Lo anterior permitió obtener altos resultados en el desempeño del modelo con los diferentes algoritmos de aprendizaje y con muchas menos características que las iniciales, se pasaron de más de 70 características a solo 6. Y finalmente, aplicando reducción de dimensionalidad, se pudo proyectar estas seis características en 3 componentes principales. Teniendo así un X_train de únicamente 3 columnas. El proceso de escrito anteriormente se considera que fue vital para obtener un dataset que gener menos costo computacional; y que adicionalmente permitió un desempeño sobresaliente en todos los modelos de predicción lineales.\n",
        "\n",
        "Por otro lado, se observa que las máquinas de soporte vectorial y de igual forma, los modelos de regresión con knneighbors fueron de los algoritmos con mejor desempeño. A esto se le suma las tranformaciones realizadas que permitieron enmarcar mejor el rango de los datos.\n",
        "\n",
        "Finalmente, se considera un futuro escenario con el uso de one-Hot-Encoder y binning. Las cuales no fueron tomadas incialmente debido a la carga computacional que generaría la operación con un dataset de más de 70características. Sin embargo, en se considera que en un futuro el usar las variables categóricas, necesitaría del mismo proceso de análisis de correlación+ con el target, para determinar si éstas podrían unirse a X_train o definitivamente es mejor Trabajar con el modelo actual, haciendo uso de  las variables númericas que tuvieron mayor correlación."
      ],
      "metadata": {
        "id": "yLYRIDVXxpDE"
      }
    }
  ]
}